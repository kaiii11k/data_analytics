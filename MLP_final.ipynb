{
 "cells": [
  {
   "cell_type": "markdown",
   "id": "every-performer",
   "metadata": {},
   "source": [
    "# Sound classification techniques"
   ]
  },
  {
   "cell_type": "markdown",
   "id": "random-strain",
   "metadata": {},
   "source": [
    "This is the coding template for the final assessment of MTH786U/P in Semester A of 2021/2022.\n",
    "\n",
    "The goal of this assessment is to classify audio files by using different sound features and to present your results in a written report (at most $8$ pages). The assessment is formed of three parts: \n",
    "1) filling in the missing parts of this Jupyter notebook,   \n",
    "2) applying learned concepts from this notebook and the module MTH786 in general to the Audio MNIST classification problem, and   \n",
    "3) presenting your results in a written report (written in $\\LaTeX$)."
   ]
  },
  {
   "cell_type": "markdown",
   "id": "balanced-commander",
   "metadata": {
    "deletable": false,
    "editable": false,
    "nbgrader": {
     "cell_type": "markdown",
     "checksum": "d29e3ac36b36a90062dc246e05901164",
     "grade": false,
     "grade_id": "cell-Instructions",
     "locked": true,
     "schema_version": 3,
     "solution": false,
     "task": false
    }
   },
   "source": [
    "Follow the instructions in this template in order to complete the first part of your assessment. Please only modify cells where you are instructed to do so.\n",
    "Use the available cells to introduce the code. You can add additional cells if needed, without amending the template structure: don't remove, split, move existing cells.\n",
    "Failure to comply may result in unexpected errors that can lead to mark deductions. We load the Numpy and Matplotlib libraries. Please do not add any additional libraries if not instructed to do so. Save this Jupyter Notebook with the name **MTH786FinalProject.ipynb**. "
   ]
  },
  {
   "cell_type": "code",
   "execution_count": 3,
   "id": "identical-services",
   "metadata": {
    "ExecuteTime": {
     "end_time": "2021-12-24T15:19:24.812670Z",
     "start_time": "2021-12-24T15:19:22.590046Z"
    },
    "deletable": false,
    "editable": false,
    "hideCode": false,
    "hidePrompt": false,
    "nbgrader": {
     "cell_type": "code",
     "checksum": "41a9de69bde502a38c9676288f044059",
     "grade": false,
     "grade_id": "cell-LibrariesImport",
     "locked": true,
     "schema_version": 3,
     "solution": false,
     "task": false
    }
   },
   "outputs": [],
   "source": [
    "import numpy as np\n",
    "import matplotlib.pyplot as plt\n",
    "%matplotlib inline"
   ]
  },
  {
   "cell_type": "markdown",
   "id": "green-annotation",
   "metadata": {
    "deletable": false,
    "editable": false,
    "heading_collapsed": true,
    "nbgrader": {
     "cell_type": "markdown",
     "checksum": "9657f8ed793e1ce6b946afeedac7b6be",
     "grade": false,
     "grade_id": "cell-Section1Info",
     "locked": true,
     "schema_version": 3,
     "solution": false,
     "task": false
    }
   },
   "source": [
    "## Problem 1: Spotify music classification\n",
    "\n",
    "\n",
    "For the first part of your final assessment you are required to implement the logistic regression model for binary classification problems as introduced in the lectures. Following up on what you have learned in the lectures and tutorials, complete the following tasks."
   ]
  },
  {
   "cell_type": "markdown",
   "id": "breeding-entrepreneur",
   "metadata": {
    "deletable": false,
    "editable": false,
    "heading_collapsed": true,
    "hidden": true,
    "nbgrader": {
     "cell_type": "markdown",
     "checksum": "a942c7975d2e0401c5b037f695a2bf96",
     "grade": false,
     "grade_id": "cell-Q1ModelFunctionProblem",
     "locked": true,
     "schema_version": 3,
     "solution": false,
     "task": false
    }
   },
   "source": [
    "### Question 1a [7 marks]\n",
    "Write a function $\\mathtt{linear\\_model\\_function}$ that implements a linear model function for binary logistic regression defined as:\n",
    "$$\n",
    "f\\left(\\mathbf{x}, \\mathbf{w}\\right)\n",
    "= \\left\\langle \\phi\\left(\\mathbf{x}\\right),\\mathbf{w}\\right\\rangle,\n",
    "$$\n",
    "where $\\phi\\left(\\mathbf{x}\\right)$ is an augmented data vector and $\\mathbf{w}$ is a weight vector. Your function should take two arguments: \n",
    "- *data_matrix*: two-dimensional NumPy array containing augmented data row-vectors for corresponding data samples;\n",
    "- *weights*: weights column-vector.\n",
    "\n",
    "The function should output a column-vector of the model function values for corresponding data samples."
   ]
  },
  {
   "cell_type": "code",
   "execution_count": 4,
   "id": "planned-dietary",
   "metadata": {
    "ExecuteTime": {
     "end_time": "2021-12-24T15:19:24.828059Z",
     "start_time": "2021-12-24T15:19:24.818086Z"
    },
    "deletable": false,
    "hidden": true,
    "nbgrader": {
     "cell_type": "code",
     "checksum": "98afee07eb8f69e69cfaf436ddc3122b",
     "grade": false,
     "grade_id": "cell-Q1ModelFunctionSolution",
     "locked": false,
     "schema_version": 3,
     "solution": true,
     "task": false
    }
   },
   "outputs": [],
   "source": [
    "def linear_model_function(data_matrix, weights):\n",
    "    # YOUR CODE HERE\n",
    "    return data_matrix@weights"
   ]
  },
  {
   "cell_type": "markdown",
   "id": "functioning-situation",
   "metadata": {
    "deletable": false,
    "editable": false,
    "hidden": true,
    "nbgrader": {
     "cell_type": "markdown",
     "checksum": "9b196f085323eaf02a939b5f81724b56",
     "grade": false,
     "grade_id": "cell-Q1ModelFunctionMarking",
     "locked": true,
     "schema_version": 3,
     "solution": false,
     "task": false
    }
   },
   "source": [
    "Test your function with the following unit tests. Passing each test will be awarded with **1 mark**. Please note that not all unit tests are visible to you."
   ]
  },
  {
   "cell_type": "code",
   "execution_count": 5,
   "id": "above-leisure",
   "metadata": {
    "ExecuteTime": {
     "end_time": "2021-12-24T15:19:24.906416Z",
     "start_time": "2021-12-24T15:19:24.835042Z"
    },
    "deletable": false,
    "editable": false,
    "hidden": true,
    "nbgrader": {
     "cell_type": "code",
     "checksum": "c7ff09c4199e17e134e30b1b5efb9c79",
     "grade": true,
     "grade_id": "cell-Q1ModelFunctionTest1",
     "locked": true,
     "points": 1,
     "schema_version": 3,
     "solution": false,
     "task": false
    }
   },
   "outputs": [],
   "source": [
    "test_data_matrix = np.array([[1, -0.15771414, -0.75293918, -0.0130713],\\\n",
    "                             [1, -0.3521762, 0.19650084, 1.94050566],\\\n",
    "                             [1, 1.30917135,  1.69791787, -0.91502836]])\n",
    "test_weights = np.array([[0.46390948], [-1.15729779], [0.23372497],\n",
    "                         [-1.5223521]])\n",
    "test_model_function_values = np.array([[0.4903501], [-2.0367235], [0.7386495]])\n",
    "np.testing.assert_almost_equal(\n",
    "    linear_model_function(test_data_matrix, test_weights),\n",
    "    test_model_function_values)"
   ]
  },
  {
   "cell_type": "code",
   "execution_count": 6,
   "id": "97a0cafd",
   "metadata": {},
   "outputs": [
    {
     "name": "stdout",
     "output_type": "stream",
     "text": [
      "[[ 0.49035014]\n",
      " [-2.0367235 ]\n",
      " [ 0.73864952]]\n"
     ]
    }
   ],
   "source": [
    "print(linear_model_function(test_data_matrix,test_weights))"
   ]
  },
  {
   "cell_type": "code",
   "execution_count": 7,
   "id": "innocent-bacteria",
   "metadata": {
    "ExecuteTime": {
     "end_time": "2021-12-24T15:19:24.922809Z",
     "start_time": "2021-12-24T15:19:24.911836Z"
    },
    "deletable": false,
    "editable": false,
    "hidden": true,
    "nbgrader": {
     "cell_type": "code",
     "checksum": "8af66ee612b31f5d5709a09e5646bf01",
     "grade": true,
     "grade_id": "cell-Q1ModelFunctionTest2",
     "locked": true,
     "points": 1,
     "schema_version": 3,
     "solution": false,
     "task": false
    }
   },
   "outputs": [],
   "source": [
    "#HIDDEN TEST\n"
   ]
  },
  {
   "cell_type": "markdown",
   "id": "standard-pasta",
   "metadata": {
    "deletable": false,
    "editable": false,
    "hidden": true,
    "nbgrader": {
     "cell_type": "markdown",
     "checksum": "7e9b4e6f8fe8f5dc50b89b8219ba0836",
     "grade": false,
     "grade_id": "cell-Q1LogisticFunctionProblem",
     "locked": true,
     "schema_version": 3,
     "solution": false,
     "task": false
    }
   },
   "source": [
    "For the next exercise, write a function $\\mathtt{binary\\_logistic\\_activation\\_function}$ that takes an argument named *inputs* and returns the output of the sigmoid function\n",
    "$$\n",
    "\\sigma\\left(\\mathbf{x}\\right) = \\frac{1}{1+\\mathrm{e}^{-\\mathbf{x}}}.\n",
    "$$ \n",
    "applied to the NumPy array *input*. Here $\\mathbf{x}$ is the mathematical notation for the argument *input*. The function should return NumPy array of the same shape as the *input*."
   ]
  },
  {
   "cell_type": "code",
   "execution_count": 8,
   "id": "spanish-deputy",
   "metadata": {
    "ExecuteTime": {
     "end_time": "2021-12-24T15:19:24.937768Z",
     "start_time": "2021-12-24T15:19:24.925800Z"
    },
    "deletable": false,
    "hidden": true,
    "nbgrader": {
     "cell_type": "code",
     "checksum": "00f570b53bc1c8848de3f31e844a8ab6",
     "grade": false,
     "grade_id": "cell-Q1LogisticFunctionSolution",
     "locked": false,
     "schema_version": 3,
     "solution": true,
     "task": false
    }
   },
   "outputs": [],
   "source": [
    "def binary_logistic_activation_function(inputs):\n",
    "    # YOUR CODE HERE\n",
    "    return 1/(1 + np.exp(-inputs))"
   ]
  },
  {
   "cell_type": "markdown",
   "id": "several-james",
   "metadata": {
    "deletable": false,
    "editable": false,
    "hidden": true,
    "nbgrader": {
     "cell_type": "markdown",
     "checksum": "1e280d4581807d532a7ff77f19689e48",
     "grade": false,
     "grade_id": "cell-Q1LogisticFunctionMarking",
     "locked": true,
     "schema_version": 3,
     "solution": false,
     "task": false
    }
   },
   "source": [
    "Test your function with the following unit tests. Passing each test will be awarded with **1 mark**. Please note that not all unit tests are visible to you."
   ]
  },
  {
   "cell_type": "code",
   "execution_count": 9,
   "id": "fresh-passion",
   "metadata": {
    "ExecuteTime": {
     "end_time": "2021-12-24T15:19:24.953725Z",
     "start_time": "2021-12-24T15:19:24.941757Z"
    },
    "deletable": false,
    "editable": false,
    "hidden": true,
    "nbgrader": {
     "cell_type": "code",
     "checksum": "23067a238f9da030308cf4897a32bf40",
     "grade": true,
     "grade_id": "cell-Q1LogisticFunctionTest1",
     "locked": true,
     "points": 1,
     "schema_version": 3,
     "solution": false,
     "task": false
    }
   },
   "outputs": [],
   "source": [
    "test_row_inputs = np.array([0, 1, -3, np.log(2), 0.4223615])\n",
    "test_row_outputs = np.array([0.5, 0.7310586, 0.0474259, 0.6666667, 0.6040482])\n",
    "np.testing.assert_almost_equal(\n",
    "    binary_logistic_activation_function(test_row_inputs), test_row_outputs)"
   ]
  },
  {
   "cell_type": "code",
   "execution_count": 10,
   "id": "behavioral-accident",
   "metadata": {
    "ExecuteTime": {
     "end_time": "2021-12-24T15:19:24.984641Z",
     "start_time": "2021-12-24T15:19:24.963073Z"
    },
    "deletable": false,
    "editable": false,
    "hidden": true,
    "nbgrader": {
     "cell_type": "code",
     "checksum": "b0ecf46896ae90e041ca241d8b038cd6",
     "grade": true,
     "grade_id": "cell-Q1LogisticFunctionTest2",
     "locked": true,
     "points": 1,
     "schema_version": 3,
     "solution": false,
     "task": false
    }
   },
   "outputs": [],
   "source": [
    "test_column_inputs = np.array([[-2], [0.5], [np.log(1 / 3)], [0.26478703]])\n",
    "test_column_outputs = np.array([[0.1192029], [0.6224593], [0.25], [0.5658127]])\n",
    "np.testing.assert_almost_equal(\n",
    "    binary_logistic_activation_function(test_column_inputs),\n",
    "    test_column_outputs)"
   ]
  },
  {
   "cell_type": "code",
   "execution_count": 11,
   "id": "willing-peripheral",
   "metadata": {
    "ExecuteTime": {
     "end_time": "2021-12-24T15:19:25.015632Z",
     "start_time": "2021-12-24T15:19:24.990626Z"
    },
    "deletable": false,
    "editable": false,
    "hidden": true,
    "nbgrader": {
     "cell_type": "code",
     "checksum": "d4fcf8606ac5c47ba974b7b77bc32759",
     "grade": true,
     "grade_id": "cell-Q1LogisticFunctionTest3",
     "locked": true,
     "points": 1,
     "schema_version": 3,
     "solution": false,
     "task": false
    }
   },
   "outputs": [],
   "source": [
    "test_matrix_inputs = np.array([[2, np.log(1 / 2)], [0.26478703, np.sin(1)]])\n",
    "test_matrix_outputs = np.array([[0.8807971, 1 / 3], [0.5658127, 0.6987749]])\n",
    "np.testing.assert_almost_equal(\n",
    "    binary_logistic_activation_function(test_matrix_inputs),\n",
    "    test_matrix_outputs)"
   ]
  },
  {
   "cell_type": "markdown",
   "id": "crazy-strand",
   "metadata": {
    "deletable": false,
    "editable": false,
    "hidden": true,
    "nbgrader": {
     "cell_type": "markdown",
     "checksum": "c70a354027faa6afc7eb1863a7e7a24c",
     "grade": false,
     "grade_id": "cell-Q1PredictionFunctionProblem",
     "locked": true,
     "schema_version": 3,
     "solution": false,
     "task": false
    }
   },
   "source": [
    "Write two functions $\\mathtt{binary\\_logistic\\_prediction\\_function}$ and $\\mathtt{classification\\_accuracy}$ that turn your predictions into classification results and that compare how many labels have been classified correctly. The function $\\mathtt{binary\\_logistic\\_prediction\\_function}$ takes the argument *logistic_values* as inputs and returns a vector of class labels with binary values in $\\left\\{0, 1\\right\\}$ as its output. The function $\\mathtt{classification\\_accuracy}$ takes two inputs *true_labels* and *recovered_labels* and returns the percentage of\n",
    "correctly classified labels divided by $100$."
   ]
  },
  {
   "cell_type": "code",
   "execution_count": 12,
   "id": "liquid-kuwait",
   "metadata": {
    "ExecuteTime": {
     "end_time": "2021-12-24T15:19:25.031663Z",
     "start_time": "2021-12-24T15:19:25.019548Z"
    },
    "deletable": false,
    "hidden": true,
    "nbgrader": {
     "cell_type": "code",
     "checksum": "6bb4d4dff1d84b92ac594dd2309edca1",
     "grade": false,
     "grade_id": "cell-Q1PredictionFunctionSolution1",
     "locked": false,
     "schema_version": 3,
     "solution": true,
     "task": false
    }
   },
   "outputs": [],
   "source": [
    "def binary_logistic_prediction_function(logistic_values):\n",
    "    # YOUR CODE HERE\n",
    "    r,c=logistic_values.shape\n",
    "    binary_values=np.copy(logistic_values)\n",
    "    for i in range(r):\n",
    "        for j in range(c):\n",
    "            if binary_values[i][j]>0.5:\n",
    "                binary_values[i][j]=1\n",
    "            else:\n",
    "                binary_values[i][j]=0\n",
    "    \n",
    "    return binary_values\n"
   ]
  },
  {
   "cell_type": "code",
   "execution_count": 13,
   "id": "ac5019a1",
   "metadata": {},
   "outputs": [
    {
     "name": "stdout",
     "output_type": "stream",
     "text": [
      "[[0.30493025]\n",
      " [0.80419595]\n",
      " [0.56509748]\n",
      " [0.23903961]\n",
      " [0.9773376 ]\n",
      " [0.28956517]\n",
      " [0.83508464]\n",
      " [0.57761601]\n",
      " [0.41169655]\n",
      " [0.97455507]\n",
      " [0.1095421 ]\n",
      " [0.21852319]]\n",
      "[[0.]\n",
      " [1.]\n",
      " [1.]\n",
      " [0.]\n",
      " [1.]\n",
      " [0.]\n",
      " [1.]\n",
      " [1.]\n",
      " [0.]\n",
      " [1.]\n",
      " [0.]\n",
      " [0.]]\n"
     ]
    }
   ],
   "source": [
    "test_logistic_values = np.array([[0.30493025], [0.80419595], [0.56509748], [0.23903961],\\\n",
    "                                 [0.9773376],  [0.28956517], [0.83508464], [0.57761601],\\\n",
    "                                 [0.41169655], [0.97455507], [0.1095421],  [0.21852319]])\n",
    "print(test_logistic_values )\n",
    "print(binary_logistic_prediction_function(test_logistic_values))"
   ]
  },
  {
   "cell_type": "markdown",
   "id": "behind-agency",
   "metadata": {
    "deletable": false,
    "editable": false,
    "hidden": true,
    "nbgrader": {
     "cell_type": "markdown",
     "checksum": "e95b1689cbb787692276b7238d17eff5",
     "grade": false,
     "grade_id": "cell-Q1PredictionFunctionMarking1",
     "locked": true,
     "schema_version": 3,
     "solution": false,
     "task": false
    }
   },
   "source": [
    "Test your function with the following unit test. Passing the test will be awarded with **1 mark**."
   ]
  },
  {
   "cell_type": "code",
   "execution_count": 15,
   "id": "victorian-breed",
   "metadata": {
    "ExecuteTime": {
     "end_time": "2021-12-24T15:19:25.109859Z",
     "start_time": "2021-12-24T15:19:25.037799Z"
    },
    "deletable": false,
    "editable": false,
    "hidden": true,
    "nbgrader": {
     "cell_type": "code",
     "checksum": "a5e876b2831dce889018f371c3cc4a59",
     "grade": true,
     "grade_id": "cell-Q1PredictionFunctionTest1",
     "locked": true,
     "points": 1,
     "schema_version": 3,
     "solution": false,
     "task": false
    }
   },
   "outputs": [],
   "source": [
    "test_logistic_values = np.array([[0.30493025], [0.80419595], [0.56509748], [0.23903961],\\\n",
    "                                 [0.9773376],  [0.28956517], [0.83508464], [0.57761601],\\\n",
    "                                 [0.41169655], [0.97455507], [0.1095421],  [0.21852319]])\n",
    "test_class_labels = np.array([[0], [1], [1], [0],\\\n",
    "                              [1], [0], [1], [1],\\\n",
    "                              [0], [1], [0], [0]])\n",
    "np.testing.assert_array_almost_equal(\n",
    "    binary_logistic_prediction_function(test_logistic_values),\n",
    "    test_class_labels)"
   ]
  },
  {
   "cell_type": "code",
   "execution_count": 16,
   "id": "dependent-violin",
   "metadata": {
    "ExecuteTime": {
     "end_time": "2021-12-24T15:19:25.141307Z",
     "start_time": "2021-12-24T15:19:25.121309Z"
    },
    "deletable": false,
    "hidden": true,
    "nbgrader": {
     "cell_type": "code",
     "checksum": "f563f653a24da27133b8bfdc396a4566",
     "grade": false,
     "grade_id": "cell-Q1PredictionFunctionSolution2",
     "locked": false,
     "schema_version": 3,
     "solution": true,
     "task": false
    }
   },
   "outputs": [
    {
     "data": {
      "text/plain": [
       "'\" def classification_accuracy(true_labels, recovered_labels):\\n    # YOUR CODE HERE\\n    r,c=true_labels.shape\\n    match=0\\n    for i in range(r):\\n        for j in range(c):\\n            if true_labels[i][j]==recovered_labels[i][j]:\\n                match+=1\\n    acc=match/(r*c)        \\n    return acc\\n    '"
      ]
     },
     "execution_count": 16,
     "metadata": {},
     "output_type": "execute_result"
    }
   ],
   "source": [
    "\"\"\"\" def classification_accuracy(true_labels, recovered_labels):\n",
    "    # YOUR CODE HERE\n",
    "    r,c=true_labels.shape\n",
    "    match=0\n",
    "    for i in range(r):\n",
    "        for j in range(c):\n",
    "            if true_labels[i][j]==recovered_labels[i][j]:\n",
    "                match+=1\n",
    "    acc=match/(r*c)        \n",
    "    return acc\n",
    "    \"\"\"\n",
    "  "
   ]
  },
  {
   "cell_type": "code",
   "execution_count": 17,
   "id": "52b2ba7a",
   "metadata": {},
   "outputs": [],
   "source": [
    "def classification_accuracy(true_labels, recovered_labels):\n",
    "    equal_labels = recovered_labels == true_labels\n",
    "    return np.mean(equal_labels)"
   ]
  },
  {
   "cell_type": "markdown",
   "id": "scientific-giant",
   "metadata": {
    "deletable": false,
    "editable": false,
    "hidden": true,
    "nbgrader": {
     "cell_type": "markdown",
     "checksum": "ae3466d159264432c0f71a88eb5d07d6",
     "grade": false,
     "grade_id": "cell-Q1PredictionFunctionMarking2",
     "locked": true,
     "schema_version": 3,
     "solution": false,
     "task": false
    }
   },
   "source": [
    "Test your function with the following unit test. Passing the test will be awarded with **1 mark**."
   ]
  },
  {
   "cell_type": "code",
   "execution_count": 18,
   "id": "confused-corruption",
   "metadata": {
    "ExecuteTime": {
     "end_time": "2021-12-24T15:19:25.172168Z",
     "start_time": "2021-12-24T15:19:25.145241Z"
    },
    "deletable": false,
    "editable": false,
    "hidden": true,
    "nbgrader": {
     "cell_type": "code",
     "checksum": "aa141ed7b575117a637a044fa0beec28",
     "grade": true,
     "grade_id": "ell-Q1PredictionFunctionTest2",
     "locked": true,
     "points": 1,
     "schema_version": 3,
     "solution": false,
     "task": false
    }
   },
   "outputs": [],
   "source": [
    "test_true_labels = np.array([[0], [1], [1], [0], [1], [1], [0], [0], [1], [0]])\n",
    "test_recovered_labels = np.array([[1], [1], [0], [0], [0], [1], [1], [0], [1],\n",
    "                                  [1]])\n",
    "np.testing.assert_almost_equal(\n",
    "    classification_accuracy(test_true_labels, test_recovered_labels), 0.5)"
   ]
  },
  {
   "cell_type": "markdown",
   "id": "understood-possession",
   "metadata": {
    "deletable": false,
    "editable": false,
    "heading_collapsed": true,
    "hidden": true,
    "nbgrader": {
     "cell_type": "markdown",
     "checksum": "e9178d457571a76ee1f138284d5d2c8f",
     "grade": false,
     "grade_id": "cell-Q1CostGradientFunctionProblem",
     "locked": true,
     "schema_version": 3,
     "solution": false,
     "task": false
    }
   },
   "source": [
    "### Question 1b [5 marks]\n",
    "Write two functions that implement the cost function for binary logistic regression as well as its gradient, as defined below. $$\n",
    "\\mathrm{L}\\left(\\mathbf{w}\\right) = \\frac{1}{s} \\left(\\sum\\limits_{i=1}^s\n",
    "\\log\\left[1+\\exp\\left(f\\left(\\mathbf{x}^{(i)},\\mathbf{w}\\right)\\right)\\right] - y_i\\cdot f\\left(\\mathbf{x}^{(i)},\\mathbf{w}\\right)\\right),\n",
    "$$\n",
    "where $\\phi\\left(\\mathbf{x}^{(i)}\\right)$ is an augmented $i$-th data vector and $f$ is a model function. In the case of linear model function $f\\left(\\mathbf{x},\\mathbf{w}\\right) = \\left\\langle \\phi\\left(\\mathbf{x}\\right),\\mathbf{w} \\right\\rangle$ one has \n",
    "$$\n",
    "\\nabla \\mathrm{L}\\left(\\mathbf{w}\\right) = \\frac{1}{s} \\left(\n",
    "\\sum\\limits_{i=1}^s \\phi\\left(\\mathbf{x}^{(i)}\\right)\\cdot\\sigma\n",
    "  \\left(\\left\\langle \\phi\\left(\\mathbf{x}^{(i)}\\right),\\mathbf{w} \\right\\rangle \\right) - y_i\\cdot \\phi\\left(\\mathbf{x}^{(i)}\\right)\n",
    "  \\right),\n",
    "$$\n",
    "where $y_i$ are the corresponding data labels. \n",
    "\n",
    "The cost function is should be called $\\mathtt{binary\\_logistic\\_regression\\_cost\\_function}$ and should take the NumPy arrays *data_matrix*, *data_labels* and\n",
    "*weights* as arguments. Subsequently, write a method $\\mathtt{binary\\_logistic\\_regression\\_gradient}$ that takes the same inputs as $\\mathtt{binary\\_logistic\\_regression\\_cost\\_function}$ and\n",
    "computes the gradient of the binary logistic regression cost function as defined in the lecture."
   ]
  },
  {
   "cell_type": "code",
   "execution_count": 19,
   "id": "electric-greenhouse",
   "metadata": {
    "ExecuteTime": {
     "end_time": "2021-12-24T15:19:25.186956Z",
     "start_time": "2021-12-24T15:19:25.176158Z"
    },
    "deletable": false,
    "hidden": true,
    "nbgrader": {
     "cell_type": "code",
     "checksum": "530b2423dd1e9ad90002efdc9776b1a5",
     "grade": false,
     "grade_id": "cell-Q1CostGradientFunctionSolution1",
     "locked": false,
     "schema_version": 3,
     "solution": true,
     "task": false
    }
   },
   "outputs": [],
   "source": [
    "def binary_logistic_regression_cost_function(data_matrix, data_labels,\n",
    "                                             weights):\n",
    "    # YOUR CODE HERE\n",
    "    s=data_matrix.shape[0]\n",
    "    L=(1/s)*np.sum(np.log(1+np.exp(linear_model_function(data_matrix, weights)))\n",
    "                   -(data_labels*linear_model_function(data_matrix, weights)))\n",
    "    return L"
   ]
  },
  {
   "cell_type": "code",
   "execution_count": 20,
   "id": "fourth-strategy",
   "metadata": {
    "ExecuteTime": {
     "end_time": "2021-12-24T15:19:25.202140Z",
     "start_time": "2021-12-24T15:19:25.191118Z"
    },
    "deletable": false,
    "hidden": true,
    "nbgrader": {
     "cell_type": "code",
     "checksum": "7d89be4416236f66653705bdc0216cc7",
     "grade": false,
     "grade_id": "cell-Q1CostGradientFunctionSolution2",
     "locked": false,
     "schema_version": 3,
     "solution": true,
     "task": false
    }
   },
   "outputs": [],
   "source": [
    "def binary_logistic_regression_gradient(data_matrix, data_labels, weights):\n",
    "    # YOUR CODE HERE\n",
    "    s=data_matrix.shape[0]\n",
    "    gL=(1/s)*data_matrix.T@ (binary_logistic_activation_function(\n",
    "        linear_model_function(data_matrix, weights)) - data_labels)\n",
    "    return gL"
   ]
  },
  {
   "cell_type": "markdown",
   "id": "viral-association",
   "metadata": {
    "deletable": false,
    "editable": false,
    "hidden": true,
    "nbgrader": {
     "cell_type": "markdown",
     "checksum": "bcb30afcd055246727d67c33f4d0c10c",
     "grade": false,
     "grade_id": "cell-Q1CostGradientFunctionMarking",
     "locked": true,
     "schema_version": 3,
     "solution": false,
     "task": false
    }
   },
   "source": [
    "Test your functions with the following unit tests. Passing each test will be awarded with **1 mark**."
   ]
  },
  {
   "cell_type": "code",
   "execution_count": 21,
   "id": "expired-logan",
   "metadata": {
    "ExecuteTime": {
     "end_time": "2021-12-24T15:19:25.232008Z",
     "start_time": "2021-12-24T15:19:25.205081Z"
    },
    "deletable": false,
    "editable": false,
    "hidden": true,
    "nbgrader": {
     "cell_type": "code",
     "checksum": "2f5698c080c932ee8183b78ad151aae6",
     "grade": true,
     "grade_id": "cell-Q1CostGradientFunctionTest1",
     "locked": true,
     "points": 1,
     "schema_version": 3,
     "solution": false,
     "task": false
    }
   },
   "outputs": [],
   "source": [
    "test_data_matrix = np.array([[1, -0.12793802, -0.19751682, 0.15226261], [1, -0.2000033, 0.52618148, 0.8782188],\\\n",
    "                             [1, -0.8613664, 0.30565866, -0.49296481], [1, -0.84047233, 0.9252299, 0.99071071],\\\n",
    "                             [1, -0.1042736, 0.52956168, -0.47798761], [1, 0.11284415, -0.94223132, 0.65812316],\\\n",
    "                             [1, -0.24878785, 0.85320211, -0.20377839], [1, 0.86694977, -0.55784702, 0.39560232],\\\n",
    "                             [1, 0.63581885, -0.11724269, -0.0979702], [1, 0.92166492, 0.76064856, 0.20755241]])\n",
    "test_data_labels = np.array([[0], [1], [1], [1], [0], [1], [0], [0], [1], [0]])\n",
    "test_weights = np.array([[-0.10541393], [0.57801403], [0.67163957],\n",
    "                         [-0.34652194]])\n",
    "np.testing.assert_array_almost_equal(\n",
    "    binary_logistic_regression_cost_function(data_matrix=test_data_matrix,\n",
    "                                             data_labels=test_data_labels,\n",
    "                                             weights=test_weights), 0.846796)"
   ]
  },
  {
   "cell_type": "code",
   "execution_count": 22,
   "id": "graphic-strengthening",
   "metadata": {
    "ExecuteTime": {
     "end_time": "2021-12-24T15:19:25.262150Z",
     "start_time": "2021-12-24T15:19:25.235002Z"
    },
    "deletable": false,
    "editable": false,
    "hidden": true,
    "nbgrader": {
     "cell_type": "code",
     "checksum": "420ac9d6a1de0a0afa5e34744635db47",
     "grade": true,
     "grade_id": "cell-Q1CostGradientFunctionTest2",
     "locked": true,
     "points": 1,
     "schema_version": 3,
     "solution": false,
     "task": false
    }
   },
   "outputs": [],
   "source": [
    "test_data_matrix = np.array([[1, -0.12793802, -0.19751682, 0.15226261], [1, -0.2000033, 0.52618148, 0.8782188],\\\n",
    "                             [1, -0.8613664, 0.30565866, -0.49296481], [1, -0.84047233, 0.9252299, 0.99071071],\\\n",
    "                             [1, -0.1042736, 0.52956168, -0.47798761], [1, 0.11284415, -0.94223132, 0.65812316],\\\n",
    "                             [1, -0.24878785, 0.85320211, -0.20377839], [1, 0.86694977, -0.55784702, 0.39560232],\\\n",
    "                             [1, 0.63581885, -0.11724269, -0.0979702], [1, 0.92166492, 0.76064856, 0.20755241]])\n",
    "test_data_labels = np.array([[0], [1], [1], [1], [0], [1], [0], [0], [1], [0]])\n",
    "test_gradient = np.array([[-0.006401], [0.150453], [0.074496], [-0.120697]])\n",
    "test_weights = np.array([[-0.10541393], [0.57801403], [0.67163957],\n",
    "                         [-0.34652194]])\n",
    "np.testing.assert_array_almost_equal(\n",
    "    binary_logistic_regression_gradient(data_matrix=test_data_matrix,\n",
    "                                        data_labels=test_data_labels,\n",
    "                                        weights=test_weights), test_gradient)"
   ]
  },
  {
   "cell_type": "code",
   "execution_count": 23,
   "id": "1cc01182",
   "metadata": {},
   "outputs": [
    {
     "name": "stdout",
     "output_type": "stream",
     "text": [
      "[[ 1.         -0.12793802 -0.19751682  0.15226261]\n",
      " [ 1.         -0.2000033   0.52618148  0.8782188 ]\n",
      " [ 1.         -0.8613664   0.30565866 -0.49296481]\n",
      " [ 1.         -0.84047233  0.9252299   0.99071071]\n",
      " [ 1.         -0.1042736   0.52956168 -0.47798761]\n",
      " [ 1.          0.11284415 -0.94223132  0.65812316]\n",
      " [ 1.         -0.24878785  0.85320211 -0.20377839]\n",
      " [ 1.          0.86694977 -0.55784702  0.39560232]\n",
      " [ 1.          0.63581885 -0.11724269 -0.0979702 ]\n",
      " [ 1.          0.92166492  0.76064856  0.20755241]]\n"
     ]
    }
   ],
   "source": [
    "print(test_data_matrix)"
   ]
  },
  {
   "cell_type": "code",
   "execution_count": 24,
   "id": "c9f1478d",
   "metadata": {
    "scrolled": true
   },
   "outputs": [
    {
     "name": "stdout",
     "output_type": "stream",
     "text": [
      "[[-0.006401  ]\n",
      " [ 0.15045298]\n",
      " [ 0.07449562]\n",
      " [-0.12069674]]\n"
     ]
    }
   ],
   "source": [
    "print(binary_logistic_regression_gradient(data_matrix=test_data_matrix,\n",
    "                                        data_labels=test_data_labels,\n",
    "                                        weights=test_weights))"
   ]
  },
  {
   "cell_type": "markdown",
   "id": "wrong-festival",
   "metadata": {
    "deletable": false,
    "editable": false,
    "hidden": true,
    "nbgrader": {
     "cell_type": "markdown",
     "checksum": "d3eeec69714f539e4143b7385aaa3536",
     "grade": false,
     "grade_id": "cell-Q1GradientDescentFunctionProblem",
     "locked": true,
     "schema_version": 3,
     "solution": false,
     "task": false
    }
   },
   "source": [
    "After writing Python functions for the binary logistic regression cost function and its gradient, fill in the following notebook functions for the implementation of a gradient descent method. For the\n",
    "first function it is acceptable to follow the solution presented in the class assignments, or to use your own version if is consistent with function header and output. For the second gradient descent function named $\\mathtt{gradient\\_descent\\_v2}$, modify the gradient descent method to include a stopping criterion that ensures that gradient descent stops once\n",
    "$$\n",
    "\\left\\| \\nabla L\\left(\\mathbf{w}^{(k)}\\right)\\right\\|_2 \\leq \\mathrm{tolerance},\n",
    "$$\n",
    "is satisfied. Here $L$ and $\\mathbf{w}^{(k)}$ are the mathematical representations of the objective $\\mathrm{objective}$ and the weight vector *weights*, at iteration *k*. The parameter *tolerance* is a non-negative threshold\n",
    "that controls the Euclidean norm of the gradient. The function $\\mathtt{gradient\\_descent\\_v2}$ takes the arguments $\\mathtt{objective}$, $\\mathtt{gradient}$, *initial_weights*, *step_size*, *no_of_iterations*, *print_output* and\n",
    "*tolerance*. The arguments $\\mathtt{objective}$ and $\\mathtt{gradient}$ are functions that can take (weight-)arrays as arguments and return the scalar value of the objective, respectively the array representation of the corresponding gradient. The argument *initial_weights* specifies the initial value of the variable over which you iterate. The argument *step_size* is the gradient descent step-size parameter, the argument *no_of_iterations* specifies the maximum number of iterations, *print_output* determines after how many iterations the function produces a text output and *tolerance* controls the norm of the gradient as described in the equation above. Both functions should return the last value of iteration variable (*weights*) together with the values of objective function evaluated at every iteration step."
   ]
  },
  {
   "cell_type": "code",
   "execution_count": 25,
   "id": "social-furniture",
   "metadata": {
    "ExecuteTime": {
     "end_time": "2021-12-24T15:19:25.295340Z",
     "start_time": "2021-12-24T15:19:25.266917Z"
    },
    "deletable": false,
    "hidden": true,
    "nbgrader": {
     "cell_type": "code",
     "checksum": "d1be5a129d273aeeb78f66c1f22f0ca4",
     "grade": false,
     "grade_id": "cell-Q1GradientDescentFunctionSolution1",
     "locked": false,
     "schema_version": 3,
     "solution": true,
     "task": false
    }
   },
   "outputs": [],
   "source": [
    "def gradient_descent(objective,\n",
    "                     gradient,\n",
    "                     initial_weights,\n",
    "                     step_size=1,\n",
    "                     no_of_iterations=100,\n",
    "                     print_output=10):\n",
    "    # YOUR CODE HERE\n",
    "    objective_values = []\n",
    "    weights = np.copy(initial_weights)\n",
    "    objective_values.append(objective(weights))\n",
    "    for counter in range(no_of_iterations):\n",
    "        weights -= step_size * gradient(weights)\n",
    "        objective_values.append(objective(weights))\n",
    "        if (counter + 1) % print_output == 0:\n",
    "            print(\"Iteration {k}/{m}, objective = {o}.\".format(k=counter+1, \\\n",
    "                    m=no_of_iterations, o=objective_values[counter]))\n",
    "    print(\"Iteration completed after {k}/{m}, objective = {o}.\".format(k=counter+1, \\\n",
    "                m=no_of_iterations, o=objective_values[counter]))\n",
    "    return weights, objective_values"
   ]
  },
  {
   "cell_type": "code",
   "execution_count": 556,
   "id": "spatial-session",
   "metadata": {
    "ExecuteTime": {
     "end_time": "2021-12-24T15:19:25.323766Z",
     "start_time": "2021-12-24T15:19:25.299143Z"
    },
    "deletable": false,
    "hidden": true,
    "nbgrader": {
     "cell_type": "code",
     "checksum": "08e2c815a5810d591104250a5bda6e18",
     "grade": false,
     "grade_id": "cell-Q1GradientDescentFunctionSolution2",
     "locked": false,
     "schema_version": 3,
     "solution": true,
     "task": false
    }
   },
   "outputs": [],
   "source": [
    "def gradient_descent_v2(objective, gradient, initial_weights, \n",
    "                        step_size=1, no_of_iterations=100, print_output=10, tolerance=1e-6):\n",
    "    # YOUR CODE HERE\n",
    "    objective_values = []\n",
    "    weights = np.copy(initial_weights)\n",
    "    objective_values.append(objective(weights))\n",
    " \n",
    "    for counter in range(no_of_iterations):\n",
    "        if  np.linalg.norm(gradient(weights))<=tolerance:\n",
    "            print(np.linalg.norm(gradient(weights)))\n",
    "            break\n",
    "        weights -= step_size * gradient(weights)\n",
    "        objective_values.append(objective(weights))\n",
    "        if (counter + 1) % print_output == 0:\n",
    "            print(\"Iteration {k}/{m}, objective = {o}.\".format(k=counter+1, \\\n",
    "                    m=no_of_iterations, o=objective_values[counter]))\n",
    "    \n",
    "        \n",
    "    print(\"Iteration completed after {k}/{m}, objective = {o}.\".format(k=counter+ 1, \n",
    "                m=no_of_iterations, o=objective_values[counter]))\n",
    "    \n",
    "    return weights, objective_values"
   ]
  },
  {
   "cell_type": "code",
   "execution_count": 522,
   "id": "other-playlist",
   "metadata": {
    "ExecuteTime": {
     "end_time": "2021-12-24T15:19:25.355681Z",
     "start_time": "2021-12-24T15:19:25.328749Z"
    },
    "deletable": false,
    "editable": false,
    "hidden": true,
    "nbgrader": {
     "cell_type": "code",
     "checksum": "50ca1f06315677e42c9c28b44f7f8991",
     "grade": true,
     "grade_id": "cell-Q1GradientDescentFunctionTest1",
     "locked": true,
     "points": 1,
     "schema_version": 3,
     "solution": false,
     "task": false
    }
   },
   "outputs": [
    {
     "name": "stdout",
     "output_type": "stream",
     "text": [
      "Iteration 10/100, objective = -3.0256011293288547.\n",
      "Iteration 20/100, objective = -3.0256410067129824.\n",
      "Iteration 30/100, objective = -3.025641025632046.\n",
      "Iteration 40/100, objective = -3.0256410256410216.\n",
      "Iteration 50/100, objective = -3.025641025641026.\n",
      "Iteration 60/100, objective = -3.0256410256410255.\n",
      "Iteration 70/100, objective = -3.0256410256410255.\n",
      "Iteration 80/100, objective = -3.0256410256410255.\n",
      "Iteration 90/100, objective = -3.025641025641025.\n",
      "Iteration 100/100, objective = -3.0256410256410255.\n",
      "Iteration completed after 100/100, objective = -3.0256410256410255.\n"
     ]
    }
   ],
   "source": [
    "test_matrix_m = np.array([[3, 1], [2, 4]])\n",
    "test_vector_v = np.array([5, 6])\n",
    "test_objective = lambda x: x.T @ (test_matrix_m @ x) + x @ test_vector_v\n",
    "test_gradient = lambda x: (test_matrix_m + test_matrix_m.T) @ x + test_vector_v\n",
    "test_initial_weights = np.array([0.0, 0.0])\n",
    "test_step_size = 0.9 / (np.linalg.norm(test_matrix_m + test_matrix_m.T))\n",
    "test_no_of_iterations = 100\n",
    "test_print_output = 10\n",
    "np.testing.assert_array_almost_equal(gradient_descent(test_objective, test_gradient, \\\n",
    "                                           test_initial_weights,test_step_size, \\\n",
    "                                           test_no_of_iterations, test_print_output)[0],\\\n",
    "                          np.array([-0.564103, -0.538462]))"
   ]
  },
  {
   "cell_type": "code",
   "execution_count": 523,
   "id": "hawaiian-tattoo",
   "metadata": {
    "ExecuteTime": {
     "end_time": "2021-12-24T15:19:25.386254Z",
     "start_time": "2021-12-24T15:19:25.363660Z"
    },
    "deletable": false,
    "editable": false,
    "hidden": true,
    "nbgrader": {
     "cell_type": "code",
     "checksum": "474422bddaa5588e1c15cb73b8890a0b",
     "grade": true,
     "grade_id": "cell-Q1GradientDescentFunctionTest",
     "locked": true,
     "points": 2,
     "schema_version": 3,
     "solution": false,
     "task": false
    },
    "scrolled": true
   },
   "outputs": [
    {
     "name": "stdout",
     "output_type": "stream",
     "text": [
      "Iteration 10/100, objective = -3.0256011293288547.\n",
      "Iteration 20/100, objective = -3.0256410067129824.\n",
      "Iteration 30/100, objective = -3.025641025632046.\n",
      "8.356857861861452e-07\n",
      "Iteration completed after 36/100, objective = -3.025641025640935.\n"
     ]
    }
   ],
   "source": [
    "test_matrix_m = np.array([[3, 1], [2, 4]])\n",
    "test_vector_v = np.array([5, 6])\n",
    "test_objective = lambda x: x.T @ (test_matrix_m @ x) + x @ test_vector_v\n",
    "test_gradient = lambda x: (test_matrix_m + test_matrix_m.T) @ x + test_vector_v\n",
    "test_initial_weights = np.array([0.0, 0.0])\n",
    "test_step_size = 0.9 / (np.linalg.norm(test_matrix_m + test_matrix_m.T))\n",
    "test_no_of_iterations = 100\n",
    "test_print_output = 10\n",
    "np.testing.assert_array_almost_equal(len(gradient_descent_v2(test_objective, test_gradient, \\\n",
    "                                           test_initial_weights,test_step_size, \\\n",
    "                                           test_no_of_iterations, test_print_output)[1])-1,\\\n",
    "                          35) ### the iteration should stop after 35 steps"
   ]
  },
  {
   "cell_type": "markdown",
   "id": "beginning-burns",
   "metadata": {
    "deletable": false,
    "editable": false,
    "heading_collapsed": true,
    "hidden": true,
    "nbgrader": {
     "cell_type": "markdown",
     "checksum": "d5ec8cd578f597bce6ebf23f686d3cf2",
     "grade": false,
     "grade_id": "cell-Q1DataAnalysisProblem",
     "locked": true,
     "schema_version": 3,
     "solution": false,
     "task": false
    }
   },
   "source": [
    "### Question 1c [7 marks]\n",
    "We proceed by testing your implementation on the [Spotify(c)](https://www.spotify.com/) music dataset. You are asked to analyse the data collected by Brice Vergnou on [Kaggle](https://www.kaggle.com/bricevergnou/spotify-recommendation). Please take a look at the corresponding webpage in case you want to know more about the data. The dataset consists of $150$ songs (randomly selected from $195$ available on [Kaggle](https://www.kaggle.com/bricevergnou/spotify-recommendation)). The testing set consists of the rest $45$ songs. Each song is characterised by $13$ numbers representing\n",
    "- $\\mathtt{acousticness}$ : A confidence measure from $0.0$ to $1.0$ of whether the track is acoustic. $1.0$ represents high confidence the track is acoustic.\n",
    "- $\\mathtt{danceability}$ : Danceability describes how suitable a track is for dancing based on a combination of musical elements including tempo, rhythm stability, beat strength, and overall regularity. A value of $0.0$ is least danceable and $1.0$ is most danceable.\n",
    "- $\\mathtt{duration\\_ms}$ : The duration of the track in milliseconds.\n",
    "- $\\mathtt{energy}$ : Energy is a measure from $0.0$ to $1.0$ and represents a perceptual measure of intensity and activity. Typically, energetic tracks feel fast, loud, and noisy. For example, death metal has high energy, while a Bach prelude scores low on the scale. Perceptual features contributing to this attribute include dynamic range, perceived loudness, timbre, onset rate, and general entropy.\n",
    "- $\\mathtt{instrumentalness}$ : Predicts whether a track contains no vocals. \"Ooh\" and \"aah\" sounds are treated as instrumental in this context. Rap or spoken word tracks are clearly \"vocal\". The closer the instrumentalness value is to $1.0$, the greater likelihood the track contains no vocal content. Values above $0.5$ are intended to represent instrumental tracks, but confidence is higher as the value approaches $1.0$.\n",
    "- $\\mathtt{key}$ : The key the track is in. Integers map to pitches using standard Pitch Class notation . E.g. $0 = C$, $1 = C\\sharp/D\\flat$, $2 = D$, and so on.\n",
    "- $\\mathtt{liveness}$ : Detects the presence of an audience in the recording. Higher liveness values represent an increased probability that the track was performed live. A value above $0.8$ provides strong likelihood that the track is live.\n",
    "- $\\mathtt{loudness}$ : The overall loudness of a track in decibels (dB). Loudness values are averaged across the entire track and are useful for comparing relative loudness of tracks. Loudness is the quality of a sound that is the primary psychological correlate of physical strength (amplitude). Values typical range between $-60$ and $0$ db.\n",
    "- $\\mathtt{mode}$ : Mode indicates the modality (major or minor) of a track, the type of scale from which its melodic content is derived. Major is represented by $1$ and minor is $0$.\n",
    "- $\\mathtt{speechiness}$ : Speechiness detects the presence of spoken words in a track. The more exclusively speech-like the recording (e.g. talk show, audio book, poetry), the closer to $1.0$ the attribute value. Values above $0.66$ describe tracks that are probably made entirely of spoken words. Values between $0.33$ and $0.66$ describe tracks that may contain both music and speech, either in sections or layered, including such cases as rap music. Values below $0.33$ most likely represent music and other non-speech-like tracks.\n",
    "- $\\mathtt{tempo}$ : The overall estimated tempo of a track in beats per minute (BPM). In musical terminology, tempo is the speed or pace of a given piece and derives directly from the average beat duration.\n",
    "- $\\mathtt{time\\_signature}$ : An estimated overall time signature of a track. The time signature (meter) is a notational convention to specify how many beats are in each bar (or measure).\n",
    "- $\\mathtt{valence}$ : A measure from $0.0$ to $1.0$ describing the musical positiveness conveyed by a track. Tracks with high valence sound more positive (e.g. happy, cheerful, euphoric), while tracks with low valence sound more negative (e.g. sad, depressed, angry).\n",
    "\n",
    "Every song included in the training set is also assigned with the binary ($0$ or $1$) variable that provides an information on the dataset author's music preferences. \n",
    "\n",
    "The code in the following cell \n",
    "- loads and stores the training and testing dataset into corresponding NumPy arrays: *spotify_training_data_input*, *spotify_training_data_labels*, *spotify_testing_data_input*."
   ]
  },
  {
   "cell_type": "code",
   "execution_count": 246,
   "id": "australian-geometry",
   "metadata": {
    "ExecuteTime": {
     "end_time": "2021-12-24T15:19:25.417636Z",
     "start_time": "2021-12-24T15:19:25.392625Z"
    },
    "deletable": false,
    "editable": false,
    "hidden": true,
    "nbgrader": {
     "cell_type": "code",
     "checksum": "4525e8a90a10f6704667865bb67b2a63",
     "grade": false,
     "grade_id": "cell-Q1DataAnalysisSolution0",
     "locked": true,
     "schema_version": 3,
     "solution": false,
     "task": false
    }
   },
   "outputs": [],
   "source": [
    "spotify_training_data = np.genfromtxt('spotify_training.csv',\n",
    "                                      skip_header=True,\n",
    "                                      dtype=None,\n",
    "                                      delimiter=',')\n",
    "spotify_testing_data_input = np.genfromtxt('spotify_testing.csv',\n",
    "                                           skip_header=True,\n",
    "                                           dtype=None,\n",
    "                                           delimiter=',')\n",
    "spotify_training_data_input = spotify_training_data[:, :-1]\n",
    "spotify_training_data_labels = spotify_training_data[:, -1].reshape(-1, 1)"
   ]
  },
  {
   "cell_type": "markdown",
   "id": "matched-vision",
   "metadata": {
    "deletable": false,
    "editable": false,
    "hidden": true,
    "nbgrader": {
     "cell_type": "markdown",
     "checksum": "f35757c50a843be68a5c76fda8d4f4ce",
     "grade": false,
     "grade_id": "cell-Q1DataStandardisation",
     "locked": true,
     "schema_version": 3,
     "solution": false,
     "task": false
    }
   },
   "source": [
    "In the following cell, write a function $\\mathtt{standardise}$ that standardises the columns of a two-dimensional NumPy array *data_matrix*. The function should return a triple: the normalised matrix, the row of column averages and the row of column standard deviations."
   ]
  },
  {
   "cell_type": "code",
   "execution_count": 247,
   "id": "vital-sampling",
   "metadata": {
    "ExecuteTime": {
     "end_time": "2021-12-24T15:19:25.509825Z",
     "start_time": "2021-12-24T15:19:25.501828Z"
    },
    "deletable": false,
    "hidden": true,
    "nbgrader": {
     "cell_type": "code",
     "checksum": "2709ddd7bb9c57ec0c911968ea57afcd",
     "grade": false,
     "grade_id": "cell-Q1DataAnalysisSolution1",
     "locked": false,
     "schema_version": 3,
     "solution": true,
     "task": false
    }
   },
   "outputs": [],
   "source": [
    "def standardise(data_matrix):\n",
    "    # YOUR CODE HERE\n",
    "    row_of_means = np.mean(data_matrix, axis=0)\n",
    "    standardised_matrix = data_matrix - row_of_means\n",
    "    row_of_stds = np.std(standardised_matrix, axis=0)\n",
    "    return (standardised_matrix / row_of_stds), row_of_means, row_of_stds\n"
   ]
  },
  {
   "cell_type": "markdown",
   "id": "informational-output",
   "metadata": {
    "deletable": false,
    "editable": false,
    "hidden": true,
    "nbgrader": {
     "cell_type": "markdown",
     "checksum": "d169a3186bee592e74362f0e80e22115",
     "grade": false,
     "grade_id": "cell-Q1DataAnalysisMarking1",
     "locked": true,
     "schema_version": 3,
     "solution": false,
     "task": false
    }
   },
   "source": [
    "Test your function with the following unit test. Passing the test will be awarded with **1 mark**."
   ]
  },
  {
   "cell_type": "code",
   "execution_count": 248,
   "id": "attractive-manufacturer",
   "metadata": {
    "ExecuteTime": {
     "end_time": "2021-12-24T15:19:25.663155Z",
     "start_time": "2021-12-24T15:19:25.648196Z"
    },
    "deletable": false,
    "editable": false,
    "hidden": true,
    "nbgrader": {
     "cell_type": "code",
     "checksum": "c10eb026cde7f39553fec65f893c9512",
     "grade": true,
     "grade_id": "cell-Q1DataAnalysisTest1",
     "locked": true,
     "points": 1,
     "schema_version": 3,
     "solution": false,
     "task": false
    }
   },
   "outputs": [],
   "source": [
    "test_data_matrix = np.array([[1, 2], [3, 4], [5, 6]])\n",
    "np.testing.assert_array_almost_equal(\n",
    "    standardise(test_data_matrix)[0],\n",
    "    np.array([[-1.22474487, -1.22474487], [0, 0], [1.22474487, 1.22474487]]))\n",
    "np.testing.assert_array_almost_equal(\n",
    "    standardise(test_data_matrix)[1], np.array([3, 4]))\n",
    "np.testing.assert_array_almost_equal(\n",
    "    standardise(test_data_matrix)[2],\n",
    "    np.array([np.sqrt(8 / 3), np.sqrt(8 / 3)]))"
   ]
  },
  {
   "cell_type": "markdown",
   "id": "breeding-possibility",
   "metadata": {
    "deletable": false,
    "editable": false,
    "hidden": true,
    "nbgrader": {
     "cell_type": "markdown",
     "checksum": "55468778bf0ca5c8ea6f811b62d5eeaf",
     "grade": false,
     "grade_id": "cell-Q1DataDeStandardisation",
     "locked": true,
     "schema_version": 3,
     "solution": false,
     "task": false
    }
   },
   "source": [
    "Now write a function $\\mathtt{de\\_standardise}$ that de-standardises the columns of a two-dimensional NumPy array *data_matrix*. The function should take three NumPy array: *standardised_matrix*, *row_of_means*, *row_of_stds* and reconstruct the original matrix used  to obtain a standardised one."
   ]
  },
  {
   "cell_type": "code",
   "execution_count": 249,
   "id": "recent-effort",
   "metadata": {
    "ExecuteTime": {
     "end_time": "2021-12-24T15:19:25.801823Z",
     "start_time": "2021-12-24T15:19:25.790814Z"
    },
    "deletable": false,
    "hidden": true,
    "nbgrader": {
     "cell_type": "code",
     "checksum": "a89ced62e412e4820b2424a1d6166165",
     "grade": false,
     "grade_id": "cell-Q1DataAnalysisSolution2",
     "locked": false,
     "schema_version": 3,
     "solution": true,
     "task": false
    }
   },
   "outputs": [],
   "source": [
    "def de_standardise(standardised_matrix, row_of_means, row_of_stds):\n",
    "    # YOUR CODE HERE\n",
    "    return standardised_matrix*row_of_stds+row_of_means"
   ]
  },
  {
   "cell_type": "markdown",
   "id": "personalized-motivation",
   "metadata": {
    "deletable": false,
    "editable": false,
    "hidden": true,
    "nbgrader": {
     "cell_type": "markdown",
     "checksum": "a4249b93bb7a5a4bae14dc91e32c7911",
     "grade": false,
     "grade_id": "cell-Q1DataAnalysisMarking2",
     "locked": true,
     "schema_version": 3,
     "solution": false,
     "task": false
    }
   },
   "source": [
    "Test your function with the following unit test. Passing the test will be awarded with **1 mark**."
   ]
  },
  {
   "cell_type": "code",
   "execution_count": 250,
   "id": "incorporated-coach",
   "metadata": {
    "ExecuteTime": {
     "end_time": "2021-12-24T15:19:25.957443Z",
     "start_time": "2021-12-24T15:19:25.937423Z"
    },
    "deletable": false,
    "editable": false,
    "hidden": true,
    "nbgrader": {
     "cell_type": "code",
     "checksum": "c9853c4073d493f20531586d648c9c4a",
     "grade": true,
     "grade_id": "cell-Q1DataAnalysisTest2",
     "locked": true,
     "points": 1,
     "schema_version": 3,
     "solution": false,
     "task": false
    }
   },
   "outputs": [],
   "source": [
    "test_standardised_matrix = np.array([[-1.22474487, -1.22474487], [0, 0],\n",
    "                                     [1.22474487, 1.22474487]])\n",
    "test_row_of_means = np.array([3, 4])\n",
    "test_row_of_stds = np.array([np.sqrt(8 / 3), np.sqrt(8 / 3)])\n",
    "np.testing.assert_array_almost_equal(\n",
    "    de_standardise(test_standardised_matrix, test_row_of_means,\n",
    "                   test_row_of_stds), np.array([[1, 2], [3, 4], [5, 6]]))"
   ]
  },
  {
   "cell_type": "markdown",
   "id": "industrial-marking",
   "metadata": {
    "deletable": false,
    "editable": false,
    "hidden": true,
    "nbgrader": {
     "cell_type": "markdown",
     "checksum": "542ce8322071f76be2fda70d75bf427e",
     "grade": false,
     "grade_id": "cell-Q1DataAnalysisProblem2",
     "locked": true,
     "schema_version": 3,
     "solution": false,
     "task": false
    }
   },
   "source": [
    "Apply data standardisation as per above to the Spotify data, both training and testing."
   ]
  },
  {
   "cell_type": "code",
   "execution_count": 251,
   "id": "strange-guest",
   "metadata": {
    "ExecuteTime": {
     "end_time": "2021-12-24T15:19:26.095999Z",
     "start_time": "2021-12-24T15:19:26.089478Z"
    },
    "deletable": false,
    "editable": false,
    "hidden": true,
    "nbgrader": {
     "cell_type": "code",
     "checksum": "701a621af2bed64d0197aa7825ec0121",
     "grade": false,
     "grade_id": "cell-Q1DataAnalysisSolution3",
     "locked": true,
     "schema_version": 3,
     "solution": false,
     "task": false
    }
   },
   "outputs": [],
   "source": [
    "spotify_training_data_input, spotify_row_of_avgs, spotify_row_of_stds = standardise(\n",
    "    spotify_training_data_input)\n",
    "spotify_testing_data_input = (spotify_testing_data_input -\n",
    "                              spotify_row_of_avgs) / spotify_row_of_stds"
   ]
  },
  {
   "cell_type": "markdown",
   "id": "similar-mentor",
   "metadata": {
    "deletable": false,
    "editable": false,
    "hidden": true,
    "nbgrader": {
     "cell_type": "markdown",
     "checksum": "6fd3d491d01ec58645bdddf54c932ad3",
     "grade": false,
     "grade_id": "cell-Q1DataAnalysisProblem3",
     "locked": true,
     "schema_version": 3,
     "solution": false,
     "task": false
    }
   },
   "source": [
    "In order to prepare our normalised data for a data analysis we also need to build an augmented data matrix. Implement function $\\mathtt{linear\\_regression\\_data}$ that computes (and outputs) the linear regression *data_matrix* for a given *data_inputs* matrix."
   ]
  },
  {
   "cell_type": "code",
   "execution_count": 252,
   "id": "developing-silver",
   "metadata": {
    "ExecuteTime": {
     "end_time": "2021-12-24T15:19:26.235691Z",
     "start_time": "2021-12-24T15:19:26.222118Z"
    },
    "deletable": false,
    "hidden": true,
    "nbgrader": {
     "cell_type": "code",
     "checksum": "6813aae816094127e029852c8b8da8b0",
     "grade": false,
     "grade_id": "cell-Q1DataAnalysisSolution4",
     "locked": false,
     "schema_version": 3,
     "solution": true,
     "task": false
    }
   },
   "outputs": [],
   "source": [
    "def linear_regression_data(data_inputs):\n",
    "    # YOUR CODE HERE\n",
    "    first_column = np.ones((len(data_inputs), 1))\n",
    "    linear_data_matrix = np.c_[first_column, data_inputs]\n",
    "    return linear_data_matrix\n",
    "\n"
   ]
  },
  {
   "cell_type": "markdown",
   "id": "demonstrated-armenia",
   "metadata": {
    "deletable": false,
    "editable": false,
    "hidden": true,
    "nbgrader": {
     "cell_type": "markdown",
     "checksum": "3039b282a03a19795750f5ff061e952d",
     "grade": false,
     "grade_id": "cell-Q1DataAnalysisMarking3",
     "locked": true,
     "schema_version": 3,
     "solution": false,
     "task": false
    }
   },
   "source": [
    "Test your function with the following unit test. Passing the test will be awarded with **1 mark**."
   ]
  },
  {
   "cell_type": "code",
   "execution_count": 253,
   "id": "reliable-morgan",
   "metadata": {
    "ExecuteTime": {
     "end_time": "2021-12-24T15:19:26.390075Z",
     "start_time": "2021-12-24T15:19:26.372261Z"
    },
    "deletable": false,
    "editable": false,
    "hidden": true,
    "nbgrader": {
     "cell_type": "code",
     "checksum": "68d5ef0afced829bfe4a46d46bdbfb46",
     "grade": true,
     "grade_id": "cell-Q1DataAnalysisTest3",
     "locked": true,
     "points": 1,
     "schema_version": 3,
     "solution": false,
     "task": false
    }
   },
   "outputs": [],
   "source": [
    "test_data_inputs = np.array([[1, 2], [2, 3], [3, 4], [4, 5]])\n",
    "np.testing.assert_array_equal(\n",
    "    linear_regression_data(test_data_inputs),\n",
    "    np.array([[1, 1, 2], [1, 2, 3], [1, 3, 4], [1, 4, 5]]))"
   ]
  },
  {
   "cell_type": "markdown",
   "id": "isolated-amazon",
   "metadata": {
    "deletable": false,
    "editable": false,
    "hidden": true,
    "nbgrader": {
     "cell_type": "markdown",
     "checksum": "7f463290206f8b902ecb2cc47a323fa6",
     "grade": false,
     "grade_id": "cell-Q1DataAnalysisProblemInfo",
     "locked": true,
     "schema_version": 3,
     "solution": false,
     "task": false
    }
   },
   "source": [
    "You are now asked to apply the above to the Spotify dataset:\n",
    "- Define a linear regression data matrix corresponding to Spotify training data. Store the matrix as *spotify_training_data_matrix*;\n",
    "- Define an objective lambda function $\\mathtt{spotify\\_objective}$ with the argument *weights* based on the $\\mathtt{binary\\_logistic\\_regression\\_cost\\_function}$ with fixed arguments *data_matrix* (equal to *spotify_training_data_matrix*) and *data_labels* (equal to *spotify_training_data_labels*). Repeat the same exercise to create a function $\\mathtt{spotify\\_gradient}$ based on $\\mathtt{binary\\_logistic\\_regression\\_gradient}$;\n",
    "- Define the starting point of the gradient descent as a zero column-vector of appropriate length and store it as *spotify_initial_weights*;\n",
    "- Define the step-size of gradient descent as \n",
    "$$\n",
    "\\tau = \\frac{3.9\\cdot s}{\\left\\|\\mathbf{\\Phi\\left(X\\right)}\\right\\|^2},\n",
    "$$\n",
    "where $s$ is the number of data samples and $\\mathbf{\\Phi\\left(X\\right)}$ is a mathematical representation of the *spotify_training_data_matrix*. Store it as *spotify_step_size*;\n",
    "- Evaluate the optimal weights by running the gradient descent in the second variation ($\\mathtt{gradient\\_descent\\_v2}$) using the above parameters and *tolerance = 1e-2*, *no_of_iterations = 1000*;\n",
    "- Store the result of the gradient descent as *spotify_optimal_weights*, *spotify_objective_values*.\n"
   ]
  },
  {
   "cell_type": "code",
   "execution_count": 525,
   "id": "naked-partner",
   "metadata": {
    "ExecuteTime": {
     "end_time": "2021-12-24T15:19:26.637910Z",
     "start_time": "2021-12-24T15:19:26.542317Z"
    },
    "deletable": false,
    "hidden": true,
    "nbgrader": {
     "cell_type": "code",
     "checksum": "0f3b4735237afe5cb9e6045e07cfa0a1",
     "grade": false,
     "grade_id": "cell-Q1DataAnalysisSolution",
     "locked": false,
     "schema_version": 3,
     "solution": true,
     "task": false
    }
   },
   "outputs": [
    {
     "name": "stdout",
     "output_type": "stream",
     "text": [
      "Iteration 10/1000, objective = 0.36562174972555955.\n",
      "Iteration 20/1000, objective = 0.3059645152012028.\n",
      "Iteration 30/1000, objective = 0.2790582725994416.\n",
      "Iteration 40/1000, objective = 0.26279611534355557.\n",
      "Iteration 50/1000, objective = 0.2516178553755304.\n",
      "Iteration 60/1000, objective = 0.243342246725595.\n",
      "Iteration 70/1000, objective = 0.23690261321297965.\n",
      "Iteration 80/1000, objective = 0.23170531567632613.\n",
      "Iteration 90/1000, objective = 0.2273907132713435.\n",
      "Iteration 100/1000, objective = 0.22372733676269302.\n",
      "Iteration 110/1000, objective = 0.2205592210070097.\n",
      "Iteration 120/1000, objective = 0.21777738870557936.\n",
      "Iteration 130/1000, objective = 0.21530339462833417.\n",
      "Iteration 140/1000, objective = 0.21307934159732497.\n",
      "Iteration 150/1000, objective = 0.21106157176816084.\n",
      "Iteration 160/1000, objective = 0.20921654328811126.\n",
      "Iteration 170/1000, objective = 0.20751805697725523.\n",
      "Iteration 180/1000, objective = 0.20594534439896256.\n",
      "Iteration 190/1000, objective = 0.2044817210576845.\n",
      "Iteration 200/1000, objective = 0.2031136194713166.\n",
      "Iteration 210/1000, objective = 0.20182988312341008.\n",
      "Iteration 220/1000, objective = 0.20062124302753825.\n",
      "Iteration 230/1000, objective = 0.19947992432631534.\n",
      "Iteration 240/1000, objective = 0.19839934692994124.\n",
      "Iteration 250/1000, objective = 0.19737389512587242.\n",
      "Iteration 260/1000, objective = 0.19639873842677538.\n",
      "Iteration 270/1000, objective = 0.19546969093283642.\n",
      "Iteration 280/1000, objective = 0.19458309995820566.\n",
      "Iteration 290/1000, objective = 0.19373575711500632.\n",
      "Iteration 300/1000, objective = 0.19292482679017553.\n",
      "Iteration 310/1000, objective = 0.19214778820724676.\n",
      "Iteration 320/1000, objective = 0.19140238818244168.\n",
      "Iteration 330/1000, objective = 0.19068660236099944.\n",
      "Iteration 340/1000, objective = 0.1899986032236738.\n",
      "Iteration 350/1000, objective = 0.1893367335322925.\n",
      "Iteration 360/1000, objective = 0.18869948417071908.\n",
      "Iteration 370/1000, objective = 0.18808547555738594.\n",
      "Iteration 380/1000, objective = 0.18749344197498707.\n",
      "Iteration 390/1000, objective = 0.18692221829443942.\n",
      "Iteration 400/1000, objective = 0.1863707286730275.\n",
      "Iteration 410/1000, objective = 0.18583797688751488.\n",
      "Iteration 420/1000, objective = 0.18532303802700822.\n",
      "Iteration 430/1000, objective = 0.1848250513212996.\n",
      "Iteration 440/1000, objective = 0.18434321392116687.\n",
      "Iteration 450/1000, objective = 0.18387677547987788.\n",
      "Iteration 460/1000, objective = 0.18342503341161065.\n",
      "Iteration 470/1000, objective = 0.18298732872396736.\n",
      "Iteration 480/1000, objective = 0.18256304233923695.\n",
      "Iteration 490/1000, objective = 0.18215159183334703.\n",
      "Iteration 500/1000, objective = 0.1817524285331569.\n",
      "Iteration 510/1000, objective = 0.18136503492237485.\n",
      "Iteration 520/1000, objective = 0.18098892231433117.\n",
      "Iteration 530/1000, objective = 0.18062362875640717.\n",
      "Iteration 540/1000, objective = 0.18026871713637094.\n",
      "Iteration 550/1000, objective = 0.17992377346539692.\n",
      "Iteration 560/1000, objective = 0.17958840531632078.\n",
      "Iteration 570/1000, objective = 0.17926224039882854.\n",
      "Iteration 580/1000, objective = 0.1789449252559149.\n",
      "Iteration 590/1000, objective = 0.17863612406815427.\n",
      "Iteration 600/1000, objective = 0.17833551755418783.\n",
      "Iteration 610/1000, objective = 0.1780428019573889.\n",
      "Iteration 620/1000, objective = 0.17775768810999665.\n",
      "0.009995428579156935\n",
      "Iteration completed after 624/1000, objective = 0.17764570891883327.\n"
     ]
    }
   ],
   "source": [
    "# YOUR CODE HERE\n",
    "spotify_training_data_matrix=linear_regression_data(spotify_training_data_input)\n",
    "\n",
    "spotify_objective=lambda weights:binary_logistic_regression_cost_function(spotify_training_data_matrix,\n",
    "                                                                           spotify_training_data_labels,weights)\n",
    "spotify_gradient=lambda weights:binary_logistic_regression_gradient(spotify_training_data_matrix,\n",
    "                                                                       spotify_training_data_labels,weights)\n",
    "\n",
    "\n",
    "spotify_initial_weights=np.zeros((len(spotify_training_data_matrix[0]),1))\n",
    "s=len(spotify_training_data_matrix)\n",
    "\n",
    "spotify_step_size=(3.9*s)/np.linalg.norm(spotify_training_data_matrix)**2\n",
    "spotify_optimal_weights,spotify_objective_values=gradient_descent_v2(spotify_objective, spotify_gradient, \n",
    "                                                                     spotify_initial_weights, \n",
    "                        spotify_step_size, no_of_iterations=1000, print_output=10, tolerance=1e-2)\n"
   ]
  },
  {
   "cell_type": "code",
   "execution_count": 255,
   "id": "f9cb7709",
   "metadata": {},
   "outputs": [
    {
     "data": {
      "text/plain": [
       "0.01"
      ]
     },
     "execution_count": 255,
     "metadata": {},
     "output_type": "execute_result"
    }
   ],
   "source": [
    "1e-2"
   ]
  },
  {
   "cell_type": "markdown",
   "id": "hairy-journalism",
   "metadata": {
    "deletable": false,
    "editable": false,
    "hidden": true,
    "nbgrader": {
     "cell_type": "markdown",
     "checksum": "071ef13b459704d269eeca249aa90c23",
     "grade": false,
     "grade_id": "cell-Q1DataAnalysisAccuracyMarking",
     "locked": true,
     "schema_version": 3,
     "solution": false,
     "task": false
    }
   },
   "source": [
    "Let us now evaluate the classification accuracy."
   ]
  },
  {
   "cell_type": "code",
   "execution_count": 526,
   "id": "behind-advertising",
   "metadata": {
    "ExecuteTime": {
     "end_time": "2021-12-24T15:19:26.779172Z",
     "start_time": "2021-12-24T15:19:26.767284Z"
    },
    "deletable": false,
    "hidden": true,
    "nbgrader": {
     "cell_type": "code",
     "checksum": "395d45c3c90005b08e30ab50fe78be79",
     "grade": false,
     "grade_id": "cell-Q1DataAnalysisAccuracySolution",
     "locked": false,
     "schema_version": 3,
     "solution": true,
     "task": false
    }
   },
   "outputs": [
    {
     "name": "stdout",
     "output_type": "stream",
     "text": [
      "139.0\n"
     ]
    }
   ],
   "source": [
    "# YOUR CODE HERE\n",
    "\n",
    "spotify_training_regression_values = linear_model_function(\n",
    "    spotify_training_data_matrix, spotify_optimal_weights)\n",
    "\n",
    "spotify_training_predicted_labels=binary_logistic_prediction_function(\n",
    "    binary_logistic_activation_function(spotify_training_regression_values))\n",
    "\n",
    "spotify_classification_accuracy=classification_accuracy(spotify_training_data_labels,spotify_training_predicted_labels)\n",
    "print(spotify_classification_accuracy*150)"
   ]
  },
  {
   "cell_type": "markdown",
   "id": "fitting-ending",
   "metadata": {
    "deletable": false,
    "editable": false,
    "hidden": true,
    "nbgrader": {
     "cell_type": "markdown",
     "checksum": "5319134727fe29b7df7a18399c24cd5c",
     "grade": false,
     "grade_id": "cell-040416bba357ace9",
     "locked": true,
     "schema_version": 3,
     "solution": false,
     "task": false
    }
   },
   "source": [
    "The correct classification accuracy is awarded **1 mark** as well as the correct weights vector."
   ]
  },
  {
   "cell_type": "code",
   "execution_count": 527,
   "id": "strategic-crystal",
   "metadata": {
    "ExecuteTime": {
     "end_time": "2021-12-24T15:19:26.917802Z",
     "start_time": "2021-12-24T15:19:26.907829Z"
    },
    "deletable": false,
    "editable": false,
    "hidden": true,
    "nbgrader": {
     "cell_type": "code",
     "checksum": "57ab643d39af08a5c2ad901f004392f3",
     "grade": true,
     "grade_id": "cell-Q1DataAnalysisAccuracyTest",
     "locked": true,
     "points": 1,
     "schema_version": 3,
     "solution": false,
     "task": false
    }
   },
   "outputs": [],
   "source": [
    "np.testing.assert_array_almost_equal(spotify_classification_accuracy,\n",
    "                                     139 / 150)"
   ]
  },
  {
   "cell_type": "code",
   "execution_count": 528,
   "id": "asian-admission",
   "metadata": {
    "ExecuteTime": {
     "end_time": "2021-12-24T15:19:26.933152Z",
     "start_time": "2021-12-24T15:19:26.921792Z"
    },
    "deletable": false,
    "editable": false,
    "hidden": true,
    "nbgrader": {
     "cell_type": "code",
     "checksum": "a13487b4776537c4271b9d4f9e35dd5a",
     "grade": true,
     "grade_id": "cell-Q1DataAnalysisWeightsTest",
     "locked": true,
     "points": 1,
     "schema_version": 3,
     "solution": false,
     "task": false
    }
   },
   "outputs": [],
   "source": [
    "np.testing.assert_array_almost_equal(spotify_optimal_weights, np.array([[-1.29646411], [ 1.63631427], [ 0.19574476],\\\n",
    "                                                                        [-0.22493942], [ 2.55021477], [ 0.06314623],\\\n",
    "                                                                        [ 1.07931859], [ 0.28767344], [-1.44998303],\\\n",
    "                                                                        [ 0.271802  ], [-0.44153896], [ 0.75870886],\\\n",
    "                                                                        [-2.35384176], [ 0.66464042]]))"
   ]
  },
  {
   "cell_type": "markdown",
   "id": "addressed-shaft",
   "metadata": {
    "deletable": false,
    "editable": false,
    "hidden": true,
    "nbgrader": {
     "cell_type": "markdown",
     "checksum": "7b5c876ac844b3f5a7273caf0634fb96",
     "grade": false,
     "grade_id": "cell-Q1DataAnalysisTestDataInfo",
     "locked": true,
     "schema_version": 3,
     "solution": false,
     "task": false
    }
   },
   "source": [
    "In the next hidden cell your model would be tested against the training data. The correct result is awarded **2 marks**."
   ]
  },
  {
   "cell_type": "markdown",
   "id": "sorted-surprise",
   "metadata": {
    "deletable": false,
    "editable": false,
    "heading_collapsed": true,
    "hidden": true,
    "nbgrader": {
     "cell_type": "markdown",
     "checksum": "a0061823ed10346ecb3dadda5f2c01da",
     "grade": false,
     "grade_id": "cell-Q1RidgeRegressionCost",
     "locked": true,
     "schema_version": 3,
     "solution": false,
     "task": false
    }
   },
   "source": [
    "### Question 1d [7 marks]\n",
    "In this section we attempt to increase the classification accuracy by considering the ridge binary logistic regression. \n",
    "\n",
    "Define two functions $\\mathtt{ridge\\_binary\\_logistic\\_regression\\_cost\\_function}$ and $\\mathtt{ridge\\_binary\\_logistic\\_regression\\_gradient}$ that take $4$ arguments: the NumPy arrays *data_matrix*, *data_labels* and *weights*, and a positive float number *regularisation_parameter*. The modified cost function is defined as\n",
    "$$\n",
    "\\mathrm{L}_{\\alpha}\\left(\\mathbf{w}\\right) = \\mathrm{L}\\left(\\mathbf{w}\\right) + \\frac{\\alpha}{2}\\left\\|\\mathbf{w}\\right\\|^2,\n",
    "$$\n",
    "where $\\mathrm{L}\\left(\\mathbf{w}\\right)$ is a cost function for the binary logistic regression defined above, while the gradient function correspondingly is given by\n",
    "$$\n",
    "\\nabla \\mathrm{L}_{\\alpha}\\left(\\mathbf{w}\\right) = \n",
    "\\nabla \\mathrm{L}\\left(\\mathbf{w}\\right) + \\alpha \\mathbf{w},\n",
    "$$\n",
    "where $\\alpha$ is a mathematical representation of the *regularisation_parameter*."
   ]
  },
  {
   "cell_type": "code",
   "execution_count": 530,
   "id": "alternate-footwear",
   "metadata": {
    "ExecuteTime": {
     "end_time": "2021-12-24T15:19:27.244039Z",
     "start_time": "2021-12-24T15:19:27.231505Z"
    },
    "deletable": false,
    "hidden": true,
    "nbgrader": {
     "cell_type": "code",
     "checksum": "3dfaf68eb2f32a74eb87ee6a055624d5",
     "grade": false,
     "grade_id": "cell-Q1RidgeRegressionCostSolution",
     "locked": false,
     "schema_version": 3,
     "solution": true,
     "task": false
    }
   },
   "outputs": [],
   "source": [
    "def ridge_binary_logistic_regression_cost_function(data_matrix, data_labels,\n",
    "                                                   weights,\n",
    "                                                   regularisation_parameter):\n",
    "    # YOUR CODE HERE\n",
    "    rL=binary_logistic_regression_cost_function(data_matrix,data_labels,weights)+\\\n",
    "      (regularisation_parameter/2)*np.linalg.norm(weights)**2\n",
    "    \n",
    "    return rL\n"
   ]
  },
  {
   "cell_type": "code",
   "execution_count": 531,
   "id": "wrapped-lawsuit",
   "metadata": {
    "ExecuteTime": {
     "end_time": "2021-12-24T15:19:27.275712Z",
     "start_time": "2021-12-24T15:19:27.246949Z"
    },
    "deletable": false,
    "hidden": true,
    "nbgrader": {
     "cell_type": "code",
     "checksum": "a23a49b1c1cddaeff8aefb6f085a9c24",
     "grade": false,
     "grade_id": "cell-Q1RidgeRegressionGradientSolution",
     "locked": false,
     "schema_version": 3,
     "solution": true,
     "task": false
    }
   },
   "outputs": [],
   "source": [
    "def ridge_binary_logistic_regression_gradient(data_matrix, data_labels,\n",
    "                                              weights,\n",
    "                                              regularisation_parameter):\n",
    "    # YOUR CODE HERE\n",
    "    rgL=binary_logistic_regression_gradient(data_matrix,data_labels,weights)+regularisation_parameter*weights\n",
    "    \n",
    "    return rgL"
   ]
  },
  {
   "cell_type": "markdown",
   "id": "russian-saint",
   "metadata": {
    "deletable": false,
    "editable": false,
    "hidden": true,
    "nbgrader": {
     "cell_type": "markdown",
     "checksum": "adcae1b925c3487779cc98bb7f28ada4",
     "grade": false,
     "grade_id": "cell-Q1RidgeRegressionCostMarking",
     "locked": true,
     "schema_version": 3,
     "solution": false,
     "task": false
    }
   },
   "source": [
    "Test your functions with the following unit tests. Passing each test will be awarded with **1 mark**."
   ]
  },
  {
   "cell_type": "code",
   "execution_count": 532,
   "id": "harmful-powder",
   "metadata": {
    "ExecuteTime": {
     "end_time": "2021-12-24T15:19:27.446253Z",
     "start_time": "2021-12-24T15:19:27.429299Z"
    },
    "deletable": false,
    "editable": false,
    "hidden": true,
    "nbgrader": {
     "cell_type": "code",
     "checksum": "d65a17320554cf95a77b20c55205eeea",
     "grade": true,
     "grade_id": "cell-Q1RidgeRegressionCostTest",
     "locked": true,
     "points": 1,
     "schema_version": 3,
     "solution": false,
     "task": false
    }
   },
   "outputs": [],
   "source": [
    "test_data_matrix = np.array([[1, -0.12793802, -0.19751682, 0.15226261], [1, -0.2000033, 0.52618148, 0.8782188],\\\n",
    "                             [1, -0.8613664, 0.30565866, -0.49296481], [1, -0.84047233, 0.9252299, 0.99071071],\\\n",
    "                             [1, -0.1042736, 0.52956168, -0.47798761], [1, 0.11284415, -0.94223132, 0.65812316],\\\n",
    "                             [1, -0.24878785, 0.85320211, -0.20377839], [1, 0.86694977, -0.55784702, 0.39560232],\\\n",
    "                             [1, 0.63581885, -0.11724269, -0.0979702], [1, 0.92166492, 0.76064856, 0.20755241]])\n",
    "test_data_labels = np.array([[0], [1], [1], [1], [0], [1], [0], [0], [1], [0]])\n",
    "test_weights = np.array([[-0.10541393], [0.57801403], [0.67163957],\n",
    "                         [-0.34652194]])\n",
    "regularisation_parameter = 1\n",
    "np.testing.assert_array_almost_equal(\n",
    "    ridge_binary_logistic_regression_cost_function(\n",
    "        data_matrix=test_data_matrix,\n",
    "        data_labels=test_data_labels,\n",
    "        weights=test_weights,\n",
    "        regularisation_parameter=regularisation_parameter), 1.304991)"
   ]
  },
  {
   "cell_type": "code",
   "execution_count": 533,
   "id": "portuguese-active",
   "metadata": {
    "ExecuteTime": {
     "end_time": "2021-12-24T15:19:27.477170Z",
     "start_time": "2021-12-24T15:19:27.451240Z"
    },
    "deletable": false,
    "editable": false,
    "hidden": true,
    "nbgrader": {
     "cell_type": "code",
     "checksum": "7502796a08f315c604f7ec9fe0e16e89",
     "grade": true,
     "grade_id": "cell-Q1RidgeRegressionGradientTest",
     "locked": true,
     "points": 1,
     "schema_version": 3,
     "solution": false,
     "task": false
    }
   },
   "outputs": [],
   "source": [
    "test_data_matrix = np.array([[1, -0.12793802, -0.19751682, 0.15226261], [1, -0.2000033, 0.52618148, 0.8782188],\\\n",
    "                             [1, -0.8613664, 0.30565866, -0.49296481], [1, -0.84047233, 0.9252299, 0.99071071],\\\n",
    "                             [1, -0.1042736, 0.52956168, -0.47798761], [1, 0.11284415, -0.94223132, 0.65812316],\\\n",
    "                             [1, -0.24878785, 0.85320211, -0.20377839], [1, 0.86694977, -0.55784702, 0.39560232],\\\n",
    "                             [1, 0.63581885, -0.11724269, -0.0979702], [1, 0.92166492, 0.76064856, 0.20755241]])\n",
    "test_data_labels = np.array([[0], [1], [1], [1], [0], [1], [0], [0], [1], [0]])\n",
    "test_weights = np.array([[-0.10541393], [0.57801403], [0.67163957],\n",
    "                         [-0.34652194]])\n",
    "regularisation_parameter = 1\n",
    "test_gradient = np.array([[-0.111815], [0.728467], [0.746135], [-0.467219]])\n",
    "np.testing.assert_array_almost_equal(\n",
    "    ridge_binary_logistic_regression_gradient(\n",
    "        data_matrix=test_data_matrix,\n",
    "        data_labels=test_data_labels,\n",
    "        weights=test_weights,\n",
    "        regularisation_parameter=regularisation_parameter), test_gradient)"
   ]
  },
  {
   "cell_type": "markdown",
   "id": "committed-footage",
   "metadata": {
    "deletable": false,
    "editable": false,
    "hidden": true,
    "nbgrader": {
     "cell_type": "markdown",
     "checksum": "e835caef259e7e0a7108026e0e0901dc",
     "grade": false,
     "grade_id": "cell-Q1RidgeRegressionGridSearch",
     "locked": true,
     "schema_version": 3,
     "solution": false,
     "task": false
    }
   },
   "source": [
    "Write a function $\\mathtt{grid\\_search}$ that performs a search for a minimum value of a given function on a given grid points. You function should take two parameters \n",
    "- *objective* - a lambda-function to minimise taking one argument;\n",
    "- *grid* - is a list of grid points\n",
    "The function should return the grid point with the minimal value of objective function."
   ]
  },
  {
   "cell_type": "code",
   "execution_count": 534,
   "id": "domestic-spank",
   "metadata": {
    "ExecuteTime": {
     "end_time": "2021-12-24T15:19:27.617796Z",
     "start_time": "2021-12-24T15:19:27.608818Z"
    },
    "deletable": false,
    "hidden": true,
    "nbgrader": {
     "cell_type": "code",
     "checksum": "aadc188b74becc6c3324f07062e3a893",
     "grade": false,
     "grade_id": "cell-Q1RidgeRegressionGridSearchSolution",
     "locked": false,
     "schema_version": 3,
     "solution": true,
     "task": false
    }
   },
   "outputs": [],
   "source": [
    "def grid_search(objective, grid):\n",
    "    # YOUR CODE HERE\n",
    "    values = np.array([])\n",
    "    for point in grid:\n",
    "        values = np.append(values, objective(point))\n",
    "    return grid[np.argmin(values)]"
   ]
  },
  {
   "cell_type": "markdown",
   "id": "choice-ecuador",
   "metadata": {
    "deletable": false,
    "editable": false,
    "hidden": true,
    "nbgrader": {
     "cell_type": "markdown",
     "checksum": "33b9d5714d6db65b9f4de258cd67ca76",
     "grade": false,
     "grade_id": "cell-Q1RidgeRegressionGridSearchMarking",
     "locked": true,
     "schema_version": 3,
     "solution": false,
     "task": false
    }
   },
   "source": [
    "Test your functions with the following unit test. Passing the test will be awarded with **1 mark**."
   ]
  },
  {
   "cell_type": "code",
   "execution_count": 535,
   "id": "republican-latino",
   "metadata": {
    "ExecuteTime": {
     "end_time": "2021-12-24T15:19:27.789337Z",
     "start_time": "2021-12-24T15:19:27.764401Z"
    },
    "deletable": false,
    "editable": false,
    "hidden": true,
    "nbgrader": {
     "cell_type": "code",
     "checksum": "bd19420a97deb00123cf99cae8eb5cfc",
     "grade": true,
     "grade_id": "cell-Q1RidgeRegressionGridSearchTest",
     "locked": true,
     "points": 1,
     "schema_version": 3,
     "solution": false,
     "task": false
    }
   },
   "outputs": [],
   "source": [
    "test_objective = lambda x: x[0]**2 - 2 * x[0] * x[1] + 2 * x[1]**2 + x[\n",
    "    0] - 3 * x[1]\n",
    "test_grid = [(x, y) for x in range(5) for y in range(5)]\n",
    "np.testing.assert_almost_equal(grid_search(test_objective, test_grid), (0, 1))"
   ]
  },
  {
   "cell_type": "markdown",
   "id": "hourly-percentage",
   "metadata": {
    "deletable": false,
    "editable": false,
    "hidden": true,
    "nbgrader": {
     "cell_type": "markdown",
     "checksum": "49326b26863af9bba170e5e57bfbb895",
     "grade": false,
     "grade_id": "cell-Q1RidgeRegressionGridSearchApplicationInfo",
     "locked": true,
     "schema_version": 3,
     "solution": false,
     "task": false
    }
   },
   "source": [
    "You are now asked to run the below code to find the optimal value of a hyperparameter *regularisation_parameter* and then find the *spotify_optimal_weights* corresponding to the value of the hyperparameter."
   ]
  },
  {
   "cell_type": "code",
   "execution_count": 536,
   "id": "embedded-concert",
   "metadata": {
    "ExecuteTime": {
     "end_time": "2021-12-24T15:19:29.368116Z",
     "start_time": "2021-12-24T15:19:27.947954Z"
    },
    "deletable": false,
    "editable": false,
    "hidden": true,
    "nbgrader": {
     "cell_type": "code",
     "checksum": "2438693e1625032d58722cf3dc55f99f",
     "grade": false,
     "grade_id": "cell-Q1RidgeRegressionGridSearchApplication",
     "locked": true,
     "schema_version": 3,
     "solution": false,
     "task": false
    }
   },
   "outputs": [
    {
     "name": "stdout",
     "output_type": "stream",
     "text": [
      "Iteration completed after 2000/2000, objective = 0.16459394936632762.\n",
      "9.979404336002995e-06\n",
      "Iteration completed after 1637/2000, objective = 0.24916613118975584.\n",
      "9.964899283209028e-06\n",
      "Iteration completed after 953/2000, objective = 0.28121024507114634.\n",
      "9.951570915736124e-06\n",
      "Iteration completed after 677/2000, objective = 0.30325224596275335.\n",
      "9.995645430710314e-06\n",
      "Iteration completed after 526/2000, objective = 0.32046027270138944.\n",
      "9.997011893878006e-06\n",
      "Iteration completed after 431/2000, objective = 0.33471624654232496.\n",
      "9.921767315102496e-06\n",
      "Iteration completed after 366/2000, objective = 0.3469480847564081.\n",
      "9.971658731984335e-06\n",
      "Iteration completed after 318/2000, objective = 0.3576911694901299.\n",
      "9.878564074062432e-06\n",
      "Iteration completed after 282/2000, objective = 0.3672861041891093.\n",
      "9.982603219162641e-06\n",
      "Iteration completed after 253/2000, objective = 0.3759646213207154.\n",
      "9.973597642127797e-06\n",
      "Iteration completed after 859/2000, objective = 0.30325224596854944.\n",
      "The classification accuracy for the training set is 92.67 %. This is achieved for the hyperparameter value 0.03\n"
     ]
    }
   ],
   "source": [
    "spotify_regularisation_parameter_grid = np.arange(0, .1, 0.01)\n",
    "\n",
    "spotify_validation_error = lambda regularisation_parameter: 1-classification_accuracy(spotify_training_data_labels,\\\n",
    "                    binary_logistic_prediction_function(\n",
    "                    binary_logistic_activation_function(\n",
    "                    linear_model_function(spotify_training_data_matrix,\n",
    "                    gradient_descent_v2(\n",
    "                    objective = lambda weights: ridge_binary_logistic_regression_cost_function(\n",
    "                                spotify_training_data_matrix,\n",
    "                                spotify_training_data_labels,\n",
    "                                weights,\n",
    "                                regularisation_parameter),\n",
    "                    gradient = lambda weights: ridge_binary_logistic_regression_gradient(\n",
    "                                spotify_training_data_matrix,\n",
    "                                spotify_training_data_labels,\n",
    "                                weights,\n",
    "                                regularisation_parameter),\n",
    "                    initial_weights = np.zeros(shape = (spotify_training_data_matrix.shape[1], 1)),\n",
    "                    step_size = 1/(np.linalg.norm(spotify_training_data_matrix)**2/(3.9*len(spotify_training_data_matrix))+regularisation_parameter),\n",
    "                    no_of_iterations = 2000,\n",
    "                    print_output = 2001,\n",
    "                    tolerance = 1e-5\n",
    "                    )[0]))))\n",
    "\n",
    "spotify_optimal_regularisation_parameter = grid_search(\n",
    "    spotify_validation_error, spotify_regularisation_parameter_grid)\n",
    "\n",
    "spotify_optimal_weights = gradient_descent_v2(\n",
    "    objective=lambda weights: ridge_binary_logistic_regression_cost_function(\n",
    "        spotify_training_data_matrix, spotify_training_data_labels, weights,\n",
    "        spotify_optimal_regularisation_parameter),\n",
    "    gradient=lambda weights: ridge_binary_logistic_regression_gradient(\n",
    "        spotify_training_data_matrix, spotify_training_data_labels, weights,\n",
    "        spotify_optimal_regularisation_parameter),\n",
    "    initial_weights=np.zeros(shape=(spotify_training_data_matrix.shape[1], 1)),\n",
    "    step_size=1 /\n",
    "    (np.linalg.norm(spotify_training_data_matrix)**2 /\n",
    "     (3.9 * len(spotify_training_data_matrix)) + regularisation_parameter),\n",
    "    no_of_iterations=2000,\n",
    "    print_output=2001,\n",
    "    tolerance=1e-5)[0]\n",
    "\n",
    "spotify_training_regression_values = linear_model_function(\n",
    "    spotify_training_data_matrix, spotify_optimal_weights)\n",
    "spotify_training_predicted_labels = binary_logistic_prediction_function(\n",
    "    binary_logistic_activation_function(spotify_training_regression_values))\n",
    "spotify_classification_accuracy = classification_accuracy(true_labels=spotify_training_data_labels,\\\n",
    "                                                         recovered_labels=spotify_training_predicted_labels)\n",
    "print(\n",
    "    \"The classification accuracy for the training set is {p:.2f} %. This is achieved for the hyperparameter value {a}\"\n",
    "    .format(p=100 * spotify_classification_accuracy,\n",
    "            a=spotify_optimal_regularisation_parameter))"
   ]
  },
  {
   "cell_type": "markdown",
   "id": "satellite-hungarian",
   "metadata": {
    "deletable": false,
    "editable": false,
    "hidden": true,
    "nbgrader": {
     "cell_type": "markdown",
     "checksum": "562195d53d50491b832852a805a30091",
     "grade": false,
     "grade_id": "cell-Q1RidgeRegressionMarking",
     "locked": true,
     "schema_version": 3,
     "solution": false,
     "task": false
    }
   },
   "source": [
    "Test your results with the following unit tests. Correct value of the hyperparameter is awarded **1 mark** as well as the right classification accuracy for training set. In the next hidden cell your model would be tested against the training data. The correct result is awarded **2 marks**."
   ]
  },
  {
   "cell_type": "code",
   "execution_count": 267,
   "id": "republican-potter",
   "metadata": {
    "ExecuteTime": {
     "end_time": "2021-12-24T15:19:29.383081Z",
     "start_time": "2021-12-24T15:19:29.373103Z"
    },
    "deletable": false,
    "editable": false,
    "hidden": true,
    "nbgrader": {
     "cell_type": "code",
     "checksum": "b6b5b541fbc34538423909ed5b78565f",
     "grade": true,
     "grade_id": "cell-Q1RidgeRegressionGridSearchTest1",
     "locked": true,
     "points": 1,
     "schema_version": 3,
     "solution": false,
     "task": false
    }
   },
   "outputs": [],
   "source": [
    "np.testing.assert_almost_equal(spotify_optimal_regularisation_parameter, 0.03)"
   ]
  },
  {
   "cell_type": "code",
   "execution_count": 268,
   "id": "direct-technician",
   "metadata": {
    "ExecuteTime": {
     "end_time": "2021-12-24T15:19:29.399034Z",
     "start_time": "2021-12-24T15:19:29.386296Z"
    },
    "deletable": false,
    "editable": false,
    "hidden": true,
    "nbgrader": {
     "cell_type": "code",
     "checksum": "6977c2cd047fd52f74ab7ac66d659ce8",
     "grade": true,
     "grade_id": "cell-Q1RidgeRegressionGridSearchTest2",
     "locked": true,
     "points": 1,
     "schema_version": 3,
     "solution": false,
     "task": false
    }
   },
   "outputs": [],
   "source": [
    "np.testing.assert_almost_equal(spotify_classification_accuracy, 0.9266666)"
   ]
  },
  {
   "cell_type": "markdown",
   "id": "03e241cd",
   "metadata": {},
   "source": [
    "# Sound classification techniques"
   ]
  },
  {
   "cell_type": "markdown",
   "id": "random-strain",
   "metadata": {},
   "source": [
    "This is the coding template for the final assessment of MTH786U/P in Semester A of 2021/2022.\n",
    "\n",
    "The goal of this assessment is to classify audio files by using different sound features and to present your results in a written report (at most $8$ pages). The assessment is formed of three parts: \n",
    "1) filling in the missing parts of this Jupyter notebook,   \n",
    "2) applying learned concepts from this notebook and the module MTH786 in general to the Audio MNIST classification problem, and   \n",
    "3) presenting your results in a written report (written in $\\LaTeX$)."
   ]
  },
  {
   "cell_type": "markdown",
   "id": "balanced-commander",
   "metadata": {
    "deletable": false,
    "editable": false,
    "nbgrader": {
     "cell_type": "markdown",
     "checksum": "d29e3ac36b36a90062dc246e05901164",
     "grade": false,
     "grade_id": "cell-Instructions",
     "locked": true,
     "schema_version": 3,
     "solution": false,
     "task": false
    }
   },
   "source": [
    "Follow the instructions in this template in order to complete the first part of your assessment. Please only modify cells where you are instructed to do so.\n",
    "Use the available cells to introduce the code. You can add additional cells if needed, without amending the template structure: don't remove, split, move existing cells.\n",
    "Failure to comply may result in unexpected errors that can lead to mark deductions. We load the Numpy and Matplotlib libraries. Please do not add any additional libraries if not instructed to do so. Save this Jupyter Notebook with the name **MTH786FinalProject.ipynb**. "
   ]
  },
  {
   "cell_type": "code",
   "execution_count": 3,
   "id": "identical-services",
   "metadata": {
    "ExecuteTime": {
     "end_time": "2021-12-24T15:19:24.812670Z",
     "start_time": "2021-12-24T15:19:22.590046Z"
    },
    "deletable": false,
    "editable": false,
    "hideCode": false,
    "hidePrompt": false,
    "nbgrader": {
     "cell_type": "code",
     "checksum": "41a9de69bde502a38c9676288f044059",
     "grade": false,
     "grade_id": "cell-LibrariesImport",
     "locked": true,
     "schema_version": 3,
     "solution": false,
     "task": false
    }
   },
   "outputs": [],
   "source": [
    "import numpy as np\n",
    "import matplotlib.pyplot as plt\n",
    "%matplotlib inline"
   ]
  },
  {
   "cell_type": "markdown",
   "id": "green-annotation",
   "metadata": {
    "deletable": false,
    "editable": false,
    "heading_collapsed": true,
    "nbgrader": {
     "cell_type": "markdown",
     "checksum": "9657f8ed793e1ce6b946afeedac7b6be",
     "grade": false,
     "grade_id": "cell-Section1Info",
     "locked": true,
     "schema_version": 3,
     "solution": false,
     "task": false
    }
   },
   "source": [
    "## Problem 1: Spotify music classification\n",
    "\n",
    "\n",
    "For the first part of your final assessment you are required to implement the logistic regression model for binary classification problems as introduced in the lectures. Following up on what you have learned in the lectures and tutorials, complete the following tasks."
   ]
  },
  {
   "cell_type": "markdown",
   "id": "breeding-entrepreneur",
   "metadata": {
    "deletable": false,
    "editable": false,
    "heading_collapsed": true,
    "hidden": true,
    "nbgrader": {
     "cell_type": "markdown",
     "checksum": "a942c7975d2e0401c5b037f695a2bf96",
     "grade": false,
     "grade_id": "cell-Q1ModelFunctionProblem",
     "locked": true,
     "schema_version": 3,
     "solution": false,
     "task": false
    }
   },
   "source": [
    "### Question 1a [7 marks]\n",
    "Write a function $\\mathtt{linear\\_model\\_function}$ that implements a linear model function for binary logistic regression defined as:\n",
    "$$\n",
    "f\\left(\\mathbf{x}, \\mathbf{w}\\right)\n",
    "= \\left\\langle \\phi\\left(\\mathbf{x}\\right),\\mathbf{w}\\right\\rangle,\n",
    "$$\n",
    "where $\\phi\\left(\\mathbf{x}\\right)$ is an augmented data vector and $\\mathbf{w}$ is a weight vector. Your function should take two arguments: \n",
    "- *data_matrix*: two-dimensional NumPy array containing augmented data row-vectors for corresponding data samples;\n",
    "- *weights*: weights column-vector.\n",
    "\n",
    "The function should output a column-vector of the model function values for corresponding data samples."
   ]
  },
  {
   "cell_type": "code",
   "execution_count": 4,
   "id": "planned-dietary",
   "metadata": {
    "ExecuteTime": {
     "end_time": "2021-12-24T15:19:24.828059Z",
     "start_time": "2021-12-24T15:19:24.818086Z"
    },
    "deletable": false,
    "hidden": true,
    "nbgrader": {
     "cell_type": "code",
     "checksum": "98afee07eb8f69e69cfaf436ddc3122b",
     "grade": false,
     "grade_id": "cell-Q1ModelFunctionSolution",
     "locked": false,
     "schema_version": 3,
     "solution": true,
     "task": false
    }
   },
   "outputs": [],
   "source": [
    "def linear_model_function(data_matrix, weights):\n",
    "    # YOUR CODE HERE\n",
    "    return data_matrix@weights"
   ]
  },
  {
   "cell_type": "markdown",
   "id": "functioning-situation",
   "metadata": {
    "deletable": false,
    "editable": false,
    "hidden": true,
    "nbgrader": {
     "cell_type": "markdown",
     "checksum": "9b196f085323eaf02a939b5f81724b56",
     "grade": false,
     "grade_id": "cell-Q1ModelFunctionMarking",
     "locked": true,
     "schema_version": 3,
     "solution": false,
     "task": false
    }
   },
   "source": [
    "Test your function with the following unit tests. Passing each test will be awarded with **1 mark**. Please note that not all unit tests are visible to you."
   ]
  },
  {
   "cell_type": "code",
   "execution_count": 5,
   "id": "above-leisure",
   "metadata": {
    "ExecuteTime": {
     "end_time": "2021-12-24T15:19:24.906416Z",
     "start_time": "2021-12-24T15:19:24.835042Z"
    },
    "deletable": false,
    "editable": false,
    "hidden": true,
    "nbgrader": {
     "cell_type": "code",
     "checksum": "c7ff09c4199e17e134e30b1b5efb9c79",
     "grade": true,
     "grade_id": "cell-Q1ModelFunctionTest1",
     "locked": true,
     "points": 1,
     "schema_version": 3,
     "solution": false,
     "task": false
    }
   },
   "outputs": [],
   "source": [
    "test_data_matrix = np.array([[1, -0.15771414, -0.75293918, -0.0130713],\\\n",
    "                             [1, -0.3521762, 0.19650084, 1.94050566],\\\n",
    "                             [1, 1.30917135,  1.69791787, -0.91502836]])\n",
    "test_weights = np.array([[0.46390948], [-1.15729779], [0.23372497],\n",
    "                         [-1.5223521]])\n",
    "test_model_function_values = np.array([[0.4903501], [-2.0367235], [0.7386495]])\n",
    "np.testing.assert_almost_equal(\n",
    "    linear_model_function(test_data_matrix, test_weights),\n",
    "    test_model_function_values)"
   ]
  },
  {
   "cell_type": "code",
   "execution_count": 6,
   "id": "97a0cafd",
   "metadata": {},
   "outputs": [
    {
     "name": "stdout",
     "output_type": "stream",
     "text": [
      "[[ 0.49035014]\n",
      " [-2.0367235 ]\n",
      " [ 0.73864952]]\n"
     ]
    }
   ],
   "source": [
    "print(linear_model_function(test_data_matrix,test_weights))"
   ]
  },
  {
   "cell_type": "code",
   "execution_count": 7,
   "id": "innocent-bacteria",
   "metadata": {
    "ExecuteTime": {
     "end_time": "2021-12-24T15:19:24.922809Z",
     "start_time": "2021-12-24T15:19:24.911836Z"
    },
    "deletable": false,
    "editable": false,
    "hidden": true,
    "nbgrader": {
     "cell_type": "code",
     "checksum": "8af66ee612b31f5d5709a09e5646bf01",
     "grade": true,
     "grade_id": "cell-Q1ModelFunctionTest2",
     "locked": true,
     "points": 1,
     "schema_version": 3,
     "solution": false,
     "task": false
    }
   },
   "outputs": [],
   "source": [
    "#HIDDEN TEST\n"
   ]
  },
  {
   "cell_type": "markdown",
   "id": "standard-pasta",
   "metadata": {
    "deletable": false,
    "editable": false,
    "hidden": true,
    "nbgrader": {
     "cell_type": "markdown",
     "checksum": "7e9b4e6f8fe8f5dc50b89b8219ba0836",
     "grade": false,
     "grade_id": "cell-Q1LogisticFunctionProblem",
     "locked": true,
     "schema_version": 3,
     "solution": false,
     "task": false
    }
   },
   "source": [
    "For the next exercise, write a function $\\mathtt{binary\\_logistic\\_activation\\_function}$ that takes an argument named *inputs* and returns the output of the sigmoid function\n",
    "$$\n",
    "\\sigma\\left(\\mathbf{x}\\right) = \\frac{1}{1+\\mathrm{e}^{-\\mathbf{x}}}.\n",
    "$$ \n",
    "applied to the NumPy array *input*. Here $\\mathbf{x}$ is the mathematical notation for the argument *input*. The function should return NumPy array of the same shape as the *input*."
   ]
  },
  {
   "cell_type": "code",
   "execution_count": 8,
   "id": "spanish-deputy",
   "metadata": {
    "ExecuteTime": {
     "end_time": "2021-12-24T15:19:24.937768Z",
     "start_time": "2021-12-24T15:19:24.925800Z"
    },
    "deletable": false,
    "hidden": true,
    "nbgrader": {
     "cell_type": "code",
     "checksum": "00f570b53bc1c8848de3f31e844a8ab6",
     "grade": false,
     "grade_id": "cell-Q1LogisticFunctionSolution",
     "locked": false,
     "schema_version": 3,
     "solution": true,
     "task": false
    }
   },
   "outputs": [],
   "source": [
    "def binary_logistic_activation_function(inputs):\n",
    "    # YOUR CODE HERE\n",
    "    return 1/(1 + np.exp(-inputs))"
   ]
  },
  {
   "cell_type": "markdown",
   "id": "several-james",
   "metadata": {
    "deletable": false,
    "editable": false,
    "hidden": true,
    "nbgrader": {
     "cell_type": "markdown",
     "checksum": "1e280d4581807d532a7ff77f19689e48",
     "grade": false,
     "grade_id": "cell-Q1LogisticFunctionMarking",
     "locked": true,
     "schema_version": 3,
     "solution": false,
     "task": false
    }
   },
   "source": [
    "Test your function with the following unit tests. Passing each test will be awarded with **1 mark**. Please note that not all unit tests are visible to you."
   ]
  },
  {
   "cell_type": "code",
   "execution_count": 9,
   "id": "fresh-passion",
   "metadata": {
    "ExecuteTime": {
     "end_time": "2021-12-24T15:19:24.953725Z",
     "start_time": "2021-12-24T15:19:24.941757Z"
    },
    "deletable": false,
    "editable": false,
    "hidden": true,
    "nbgrader": {
     "cell_type": "code",
     "checksum": "23067a238f9da030308cf4897a32bf40",
     "grade": true,
     "grade_id": "cell-Q1LogisticFunctionTest1",
     "locked": true,
     "points": 1,
     "schema_version": 3,
     "solution": false,
     "task": false
    }
   },
   "outputs": [],
   "source": [
    "test_row_inputs = np.array([0, 1, -3, np.log(2), 0.4223615])\n",
    "test_row_outputs = np.array([0.5, 0.7310586, 0.0474259, 0.6666667, 0.6040482])\n",
    "np.testing.assert_almost_equal(\n",
    "    binary_logistic_activation_function(test_row_inputs), test_row_outputs)"
   ]
  },
  {
   "cell_type": "code",
   "execution_count": 10,
   "id": "behavioral-accident",
   "metadata": {
    "ExecuteTime": {
     "end_time": "2021-12-24T15:19:24.984641Z",
     "start_time": "2021-12-24T15:19:24.963073Z"
    },
    "deletable": false,
    "editable": false,
    "hidden": true,
    "nbgrader": {
     "cell_type": "code",
     "checksum": "b0ecf46896ae90e041ca241d8b038cd6",
     "grade": true,
     "grade_id": "cell-Q1LogisticFunctionTest2",
     "locked": true,
     "points": 1,
     "schema_version": 3,
     "solution": false,
     "task": false
    }
   },
   "outputs": [],
   "source": [
    "test_column_inputs = np.array([[-2], [0.5], [np.log(1 / 3)], [0.26478703]])\n",
    "test_column_outputs = np.array([[0.1192029], [0.6224593], [0.25], [0.5658127]])\n",
    "np.testing.assert_almost_equal(\n",
    "    binary_logistic_activation_function(test_column_inputs),\n",
    "    test_column_outputs)"
   ]
  },
  {
   "cell_type": "code",
   "execution_count": 11,
   "id": "willing-peripheral",
   "metadata": {
    "ExecuteTime": {
     "end_time": "2021-12-24T15:19:25.015632Z",
     "start_time": "2021-12-24T15:19:24.990626Z"
    },
    "deletable": false,
    "editable": false,
    "hidden": true,
    "nbgrader": {
     "cell_type": "code",
     "checksum": "d4fcf8606ac5c47ba974b7b77bc32759",
     "grade": true,
     "grade_id": "cell-Q1LogisticFunctionTest3",
     "locked": true,
     "points": 1,
     "schema_version": 3,
     "solution": false,
     "task": false
    }
   },
   "outputs": [],
   "source": [
    "test_matrix_inputs = np.array([[2, np.log(1 / 2)], [0.26478703, np.sin(1)]])\n",
    "test_matrix_outputs = np.array([[0.8807971, 1 / 3], [0.5658127, 0.6987749]])\n",
    "np.testing.assert_almost_equal(\n",
    "    binary_logistic_activation_function(test_matrix_inputs),\n",
    "    test_matrix_outputs)"
   ]
  },
  {
   "cell_type": "markdown",
   "id": "crazy-strand",
   "metadata": {
    "deletable": false,
    "editable": false,
    "hidden": true,
    "nbgrader": {
     "cell_type": "markdown",
     "checksum": "c70a354027faa6afc7eb1863a7e7a24c",
     "grade": false,
     "grade_id": "cell-Q1PredictionFunctionProblem",
     "locked": true,
     "schema_version": 3,
     "solution": false,
     "task": false
    }
   },
   "source": [
    "Write two functions $\\mathtt{binary\\_logistic\\_prediction\\_function}$ and $\\mathtt{classification\\_accuracy}$ that turn your predictions into classification results and that compare how many labels have been classified correctly. The function $\\mathtt{binary\\_logistic\\_prediction\\_function}$ takes the argument *logistic_values* as inputs and returns a vector of class labels with binary values in $\\left\\{0, 1\\right\\}$ as its output. The function $\\mathtt{classification\\_accuracy}$ takes two inputs *true_labels* and *recovered_labels* and returns the percentage of\n",
    "correctly classified labels divided by $100$."
   ]
  },
  {
   "cell_type": "code",
   "execution_count": 12,
   "id": "liquid-kuwait",
   "metadata": {
    "ExecuteTime": {
     "end_time": "2021-12-24T15:19:25.031663Z",
     "start_time": "2021-12-24T15:19:25.019548Z"
    },
    "deletable": false,
    "hidden": true,
    "nbgrader": {
     "cell_type": "code",
     "checksum": "6bb4d4dff1d84b92ac594dd2309edca1",
     "grade": false,
     "grade_id": "cell-Q1PredictionFunctionSolution1",
     "locked": false,
     "schema_version": 3,
     "solution": true,
     "task": false
    }
   },
   "outputs": [],
   "source": [
    "def binary_logistic_prediction_function(logistic_values):\n",
    "    # YOUR CODE HERE\n",
    "    r,c=logistic_values.shape\n",
    "    binary_values=np.copy(logistic_values)\n",
    "    for i in range(r):\n",
    "        for j in range(c):\n",
    "            if binary_values[i][j]>0.5:\n",
    "                binary_values[i][j]=1\n",
    "            else:\n",
    "                binary_values[i][j]=0\n",
    "    \n",
    "    return binary_values\n"
   ]
  },
  {
   "cell_type": "code",
   "execution_count": 13,
   "id": "ac5019a1",
   "metadata": {},
   "outputs": [
    {
     "name": "stdout",
     "output_type": "stream",
     "text": [
      "[[0.30493025]\n",
      " [0.80419595]\n",
      " [0.56509748]\n",
      " [0.23903961]\n",
      " [0.9773376 ]\n",
      " [0.28956517]\n",
      " [0.83508464]\n",
      " [0.57761601]\n",
      " [0.41169655]\n",
      " [0.97455507]\n",
      " [0.1095421 ]\n",
      " [0.21852319]]\n",
      "[[0.]\n",
      " [1.]\n",
      " [1.]\n",
      " [0.]\n",
      " [1.]\n",
      " [0.]\n",
      " [1.]\n",
      " [1.]\n",
      " [0.]\n",
      " [1.]\n",
      " [0.]\n",
      " [0.]]\n"
     ]
    }
   ],
   "source": [
    "test_logistic_values = np.array([[0.30493025], [0.80419595], [0.56509748], [0.23903961],\\\n",
    "                                 [0.9773376],  [0.28956517], [0.83508464], [0.57761601],\\\n",
    "                                 [0.41169655], [0.97455507], [0.1095421],  [0.21852319]])\n",
    "print(test_logistic_values )\n",
    "print(binary_logistic_prediction_function(test_logistic_values))"
   ]
  },
  {
   "cell_type": "code",
   "execution_count": 14,
   "id": "274ceb18",
   "metadata": {},
   "outputs": [],
   "source": [
    "# def binary_logistic_prediction_function(logistic_values):\n",
    "#     binary_values = binary_logistic_activation_function(logistic_values)\n",
    "    \n",
    "#     return binary_values\n",
    "\n",
    "# print(binary_logistic_prediction_function(test_logistic_values))"
   ]
  },
  {
   "cell_type": "markdown",
   "id": "behind-agency",
   "metadata": {
    "deletable": false,
    "editable": false,
    "hidden": true,
    "nbgrader": {
     "cell_type": "markdown",
     "checksum": "e95b1689cbb787692276b7238d17eff5",
     "grade": false,
     "grade_id": "cell-Q1PredictionFunctionMarking1",
     "locked": true,
     "schema_version": 3,
     "solution": false,
     "task": false
    }
   },
   "source": [
    "Test your function with the following unit test. Passing the test will be awarded with **1 mark**."
   ]
  },
  {
   "cell_type": "code",
   "execution_count": 15,
   "id": "victorian-breed",
   "metadata": {
    "ExecuteTime": {
     "end_time": "2021-12-24T15:19:25.109859Z",
     "start_time": "2021-12-24T15:19:25.037799Z"
    },
    "deletable": false,
    "editable": false,
    "hidden": true,
    "nbgrader": {
     "cell_type": "code",
     "checksum": "a5e876b2831dce889018f371c3cc4a59",
     "grade": true,
     "grade_id": "cell-Q1PredictionFunctionTest1",
     "locked": true,
     "points": 1,
     "schema_version": 3,
     "solution": false,
     "task": false
    }
   },
   "outputs": [],
   "source": [
    "test_logistic_values = np.array([[0.30493025], [0.80419595], [0.56509748], [0.23903961],\\\n",
    "                                 [0.9773376],  [0.28956517], [0.83508464], [0.57761601],\\\n",
    "                                 [0.41169655], [0.97455507], [0.1095421],  [0.21852319]])\n",
    "test_class_labels = np.array([[0], [1], [1], [0],\\\n",
    "                              [1], [0], [1], [1],\\\n",
    "                              [0], [1], [0], [0]])\n",
    "np.testing.assert_array_almost_equal(\n",
    "    binary_logistic_prediction_function(test_logistic_values),\n",
    "    test_class_labels)"
   ]
  },
  {
   "cell_type": "code",
   "execution_count": 16,
   "id": "dependent-violin",
   "metadata": {
    "ExecuteTime": {
     "end_time": "2021-12-24T15:19:25.141307Z",
     "start_time": "2021-12-24T15:19:25.121309Z"
    },
    "deletable": false,
    "hidden": true,
    "nbgrader": {
     "cell_type": "code",
     "checksum": "f563f653a24da27133b8bfdc396a4566",
     "grade": false,
     "grade_id": "cell-Q1PredictionFunctionSolution2",
     "locked": false,
     "schema_version": 3,
     "solution": true,
     "task": false
    }
   },
   "outputs": [
    {
     "data": {
      "text/plain": [
       "'\" def classification_accuracy(true_labels, recovered_labels):\\n    # YOUR CODE HERE\\n    r,c=true_labels.shape\\n    match=0\\n    for i in range(r):\\n        for j in range(c):\\n            if true_labels[i][j]==recovered_labels[i][j]:\\n                match+=1\\n    acc=match/(r*c)        \\n    return acc\\n    '"
      ]
     },
     "execution_count": 16,
     "metadata": {},
     "output_type": "execute_result"
    }
   ],
   "source": [
    "\"\"\"\" def classification_accuracy(true_labels, recovered_labels):\n",
    "    # YOUR CODE HERE\n",
    "    r,c=true_labels.shape\n",
    "    match=0\n",
    "    for i in range(r):\n",
    "        for j in range(c):\n",
    "            if true_labels[i][j]==recovered_labels[i][j]:\n",
    "                match+=1\n",
    "    acc=match/(r*c)        \n",
    "    return acc\n",
    "    \"\"\"\n",
    "  "
   ]
  },
  {
   "cell_type": "code",
   "execution_count": 17,
   "id": "52b2ba7a",
   "metadata": {},
   "outputs": [],
   "source": [
    "def classification_accuracy(true_labels, recovered_labels):\n",
    "    equal_labels = recovered_labels == true_labels\n",
    "    return np.mean(equal_labels)"
   ]
  },
  {
   "cell_type": "markdown",
   "id": "scientific-giant",
   "metadata": {
    "deletable": false,
    "editable": false,
    "hidden": true,
    "nbgrader": {
     "cell_type": "markdown",
     "checksum": "ae3466d159264432c0f71a88eb5d07d6",
     "grade": false,
     "grade_id": "cell-Q1PredictionFunctionMarking2",
     "locked": true,
     "schema_version": 3,
     "solution": false,
     "task": false
    }
   },
   "source": [
    "Test your function with the following unit test. Passing the test will be awarded with **1 mark**."
   ]
  },
  {
   "cell_type": "code",
   "execution_count": 18,
   "id": "confused-corruption",
   "metadata": {
    "ExecuteTime": {
     "end_time": "2021-12-24T15:19:25.172168Z",
     "start_time": "2021-12-24T15:19:25.145241Z"
    },
    "deletable": false,
    "editable": false,
    "hidden": true,
    "nbgrader": {
     "cell_type": "code",
     "checksum": "aa141ed7b575117a637a044fa0beec28",
     "grade": true,
     "grade_id": "ell-Q1PredictionFunctionTest2",
     "locked": true,
     "points": 1,
     "schema_version": 3,
     "solution": false,
     "task": false
    }
   },
   "outputs": [],
   "source": [
    "test_true_labels = np.array([[0], [1], [1], [0], [1], [1], [0], [0], [1], [0]])\n",
    "test_recovered_labels = np.array([[1], [1], [0], [0], [0], [1], [1], [0], [1],\n",
    "                                  [1]])\n",
    "np.testing.assert_almost_equal(\n",
    "    classification_accuracy(test_true_labels, test_recovered_labels), 0.5)"
   ]
  },
  {
   "cell_type": "markdown",
   "id": "understood-possession",
   "metadata": {
    "deletable": false,
    "editable": false,
    "heading_collapsed": true,
    "hidden": true,
    "nbgrader": {
     "cell_type": "markdown",
     "checksum": "e9178d457571a76ee1f138284d5d2c8f",
     "grade": false,
     "grade_id": "cell-Q1CostGradientFunctionProblem",
     "locked": true,
     "schema_version": 3,
     "solution": false,
     "task": false
    }
   },
   "source": [
    "### Question 1b [5 marks]\n",
    "Write two functions that implement the cost function for binary logistic regression as well as its gradient, as defined below. $$\n",
    "\\mathrm{L}\\left(\\mathbf{w}\\right) = \\frac{1}{s} \\left(\\sum\\limits_{i=1}^s\n",
    "\\log\\left[1+\\exp\\left(f\\left(\\mathbf{x}^{(i)},\\mathbf{w}\\right)\\right)\\right] - y_i\\cdot f\\left(\\mathbf{x}^{(i)},\\mathbf{w}\\right)\\right),\n",
    "$$\n",
    "where $\\phi\\left(\\mathbf{x}^{(i)}\\right)$ is an augmented $i$-th data vector and $f$ is a model function. In the case of linear model function $f\\left(\\mathbf{x},\\mathbf{w}\\right) = \\left\\langle \\phi\\left(\\mathbf{x}\\right),\\mathbf{w} \\right\\rangle$ one has \n",
    "$$\n",
    "\\nabla \\mathrm{L}\\left(\\mathbf{w}\\right) = \\frac{1}{s} \\left(\n",
    "\\sum\\limits_{i=1}^s \\phi\\left(\\mathbf{x}^{(i)}\\right)\\cdot\\sigma\n",
    "  \\left(\\left\\langle \\phi\\left(\\mathbf{x}^{(i)}\\right),\\mathbf{w} \\right\\rangle \\right) - y_i\\cdot \\phi\\left(\\mathbf{x}^{(i)}\\right)\n",
    "  \\right),\n",
    "$$\n",
    "where $y_i$ are the corresponding data labels. \n",
    "\n",
    "The cost function is should be called $\\mathtt{binary\\_logistic\\_regression\\_cost\\_function}$ and should take the NumPy arrays *data_matrix*, *data_labels* and\n",
    "*weights* as arguments. Subsequently, write a method $\\mathtt{binary\\_logistic\\_regression\\_gradient}$ that takes the same inputs as $\\mathtt{binary\\_logistic\\_regression\\_cost\\_function}$ and\n",
    "computes the gradient of the binary logistic regression cost function as defined in the lecture."
   ]
  },
  {
   "cell_type": "code",
   "execution_count": 19,
   "id": "electric-greenhouse",
   "metadata": {
    "ExecuteTime": {
     "end_time": "2021-12-24T15:19:25.186956Z",
     "start_time": "2021-12-24T15:19:25.176158Z"
    },
    "deletable": false,
    "hidden": true,
    "nbgrader": {
     "cell_type": "code",
     "checksum": "530b2423dd1e9ad90002efdc9776b1a5",
     "grade": false,
     "grade_id": "cell-Q1CostGradientFunctionSolution1",
     "locked": false,
     "schema_version": 3,
     "solution": true,
     "task": false
    }
   },
   "outputs": [],
   "source": [
    "def binary_logistic_regression_cost_function(data_matrix, data_labels,\n",
    "                                             weights):\n",
    "    # YOUR CODE HERE\n",
    "    s=data_matrix.shape[0]\n",
    "    L=(1/s)*np.sum(np.log(1+np.exp(linear_model_function(data_matrix, weights)))\n",
    "                   -(data_labels*linear_model_function(data_matrix, weights)))\n",
    "    return L"
   ]
  },
  {
   "cell_type": "code",
   "execution_count": 20,
   "id": "fourth-strategy",
   "metadata": {
    "ExecuteTime": {
     "end_time": "2021-12-24T15:19:25.202140Z",
     "start_time": "2021-12-24T15:19:25.191118Z"
    },
    "deletable": false,
    "hidden": true,
    "nbgrader": {
     "cell_type": "code",
     "checksum": "7d89be4416236f66653705bdc0216cc7",
     "grade": false,
     "grade_id": "cell-Q1CostGradientFunctionSolution2",
     "locked": false,
     "schema_version": 3,
     "solution": true,
     "task": false
    }
   },
   "outputs": [],
   "source": [
    "def binary_logistic_regression_gradient(data_matrix, data_labels, weights):\n",
    "    # YOUR CODE HERE\n",
    "    s=data_matrix.shape[0]\n",
    "    gL=(1/s)*data_matrix.T@ (binary_logistic_activation_function(\n",
    "        linear_model_function(data_matrix, weights)) - data_labels)\n",
    "    return gL"
   ]
  },
  {
   "cell_type": "markdown",
   "id": "viral-association",
   "metadata": {
    "deletable": false,
    "editable": false,
    "hidden": true,
    "nbgrader": {
     "cell_type": "markdown",
     "checksum": "bcb30afcd055246727d67c33f4d0c10c",
     "grade": false,
     "grade_id": "cell-Q1CostGradientFunctionMarking",
     "locked": true,
     "schema_version": 3,
     "solution": false,
     "task": false
    }
   },
   "source": [
    "Test your functions with the following unit tests. Passing each test will be awarded with **1 mark**."
   ]
  },
  {
   "cell_type": "code",
   "execution_count": 21,
   "id": "expired-logan",
   "metadata": {
    "ExecuteTime": {
     "end_time": "2021-12-24T15:19:25.232008Z",
     "start_time": "2021-12-24T15:19:25.205081Z"
    },
    "deletable": false,
    "editable": false,
    "hidden": true,
    "nbgrader": {
     "cell_type": "code",
     "checksum": "2f5698c080c932ee8183b78ad151aae6",
     "grade": true,
     "grade_id": "cell-Q1CostGradientFunctionTest1",
     "locked": true,
     "points": 1,
     "schema_version": 3,
     "solution": false,
     "task": false
    }
   },
   "outputs": [],
   "source": [
    "test_data_matrix = np.array([[1, -0.12793802, -0.19751682, 0.15226261], [1, -0.2000033, 0.52618148, 0.8782188],\\\n",
    "                             [1, -0.8613664, 0.30565866, -0.49296481], [1, -0.84047233, 0.9252299, 0.99071071],\\\n",
    "                             [1, -0.1042736, 0.52956168, -0.47798761], [1, 0.11284415, -0.94223132, 0.65812316],\\\n",
    "                             [1, -0.24878785, 0.85320211, -0.20377839], [1, 0.86694977, -0.55784702, 0.39560232],\\\n",
    "                             [1, 0.63581885, -0.11724269, -0.0979702], [1, 0.92166492, 0.76064856, 0.20755241]])\n",
    "test_data_labels = np.array([[0], [1], [1], [1], [0], [1], [0], [0], [1], [0]])\n",
    "test_weights = np.array([[-0.10541393], [0.57801403], [0.67163957],\n",
    "                         [-0.34652194]])\n",
    "np.testing.assert_array_almost_equal(\n",
    "    binary_logistic_regression_cost_function(data_matrix=test_data_matrix,\n",
    "                                             data_labels=test_data_labels,\n",
    "                                             weights=test_weights), 0.846796)"
   ]
  },
  {
   "cell_type": "code",
   "execution_count": 22,
   "id": "graphic-strengthening",
   "metadata": {
    "ExecuteTime": {
     "end_time": "2021-12-24T15:19:25.262150Z",
     "start_time": "2021-12-24T15:19:25.235002Z"
    },
    "deletable": false,
    "editable": false,
    "hidden": true,
    "nbgrader": {
     "cell_type": "code",
     "checksum": "420ac9d6a1de0a0afa5e34744635db47",
     "grade": true,
     "grade_id": "cell-Q1CostGradientFunctionTest2",
     "locked": true,
     "points": 1,
     "schema_version": 3,
     "solution": false,
     "task": false
    }
   },
   "outputs": [],
   "source": [
    "test_data_matrix = np.array([[1, -0.12793802, -0.19751682, 0.15226261], [1, -0.2000033, 0.52618148, 0.8782188],\\\n",
    "                             [1, -0.8613664, 0.30565866, -0.49296481], [1, -0.84047233, 0.9252299, 0.99071071],\\\n",
    "                             [1, -0.1042736, 0.52956168, -0.47798761], [1, 0.11284415, -0.94223132, 0.65812316],\\\n",
    "                             [1, -0.24878785, 0.85320211, -0.20377839], [1, 0.86694977, -0.55784702, 0.39560232],\\\n",
    "                             [1, 0.63581885, -0.11724269, -0.0979702], [1, 0.92166492, 0.76064856, 0.20755241]])\n",
    "test_data_labels = np.array([[0], [1], [1], [1], [0], [1], [0], [0], [1], [0]])\n",
    "test_gradient = np.array([[-0.006401], [0.150453], [0.074496], [-0.120697]])\n",
    "test_weights = np.array([[-0.10541393], [0.57801403], [0.67163957],\n",
    "                         [-0.34652194]])\n",
    "np.testing.assert_array_almost_equal(\n",
    "    binary_logistic_regression_gradient(data_matrix=test_data_matrix,\n",
    "                                        data_labels=test_data_labels,\n",
    "                                        weights=test_weights), test_gradient)"
   ]
  },
  {
   "cell_type": "code",
   "execution_count": 23,
   "id": "1cc01182",
   "metadata": {},
   "outputs": [
    {
     "name": "stdout",
     "output_type": "stream",
     "text": [
      "[[ 1.         -0.12793802 -0.19751682  0.15226261]\n",
      " [ 1.         -0.2000033   0.52618148  0.8782188 ]\n",
      " [ 1.         -0.8613664   0.30565866 -0.49296481]\n",
      " [ 1.         -0.84047233  0.9252299   0.99071071]\n",
      " [ 1.         -0.1042736   0.52956168 -0.47798761]\n",
      " [ 1.          0.11284415 -0.94223132  0.65812316]\n",
      " [ 1.         -0.24878785  0.85320211 -0.20377839]\n",
      " [ 1.          0.86694977 -0.55784702  0.39560232]\n",
      " [ 1.          0.63581885 -0.11724269 -0.0979702 ]\n",
      " [ 1.          0.92166492  0.76064856  0.20755241]]\n"
     ]
    }
   ],
   "source": [
    "print(test_data_matrix)"
   ]
  },
  {
   "cell_type": "code",
   "execution_count": 24,
   "id": "c9f1478d",
   "metadata": {
    "scrolled": true
   },
   "outputs": [
    {
     "name": "stdout",
     "output_type": "stream",
     "text": [
      "[[-0.006401  ]\n",
      " [ 0.15045298]\n",
      " [ 0.07449562]\n",
      " [-0.12069674]]\n"
     ]
    }
   ],
   "source": [
    "print(binary_logistic_regression_gradient(data_matrix=test_data_matrix,\n",
    "                                        data_labels=test_data_labels,\n",
    "                                        weights=test_weights))"
   ]
  },
  {
   "cell_type": "markdown",
   "id": "wrong-festival",
   "metadata": {
    "deletable": false,
    "editable": false,
    "hidden": true,
    "nbgrader": {
     "cell_type": "markdown",
     "checksum": "d3eeec69714f539e4143b7385aaa3536",
     "grade": false,
     "grade_id": "cell-Q1GradientDescentFunctionProblem",
     "locked": true,
     "schema_version": 3,
     "solution": false,
     "task": false
    }
   },
   "source": [
    "After writing Python functions for the binary logistic regression cost function and its gradient, fill in the following notebook functions for the implementation of a gradient descent method. For the\n",
    "first function it is acceptable to follow the solution presented in the class assignments, or to use your own version if is consistent with function header and output. For the second gradient descent function named $\\mathtt{gradient\\_descent\\_v2}$, modify the gradient descent method to include a stopping criterion that ensures that gradient descent stops once\n",
    "$$\n",
    "\\left\\| \\nabla L\\left(\\mathbf{w}^{(k)}\\right)\\right\\|_2 \\leq \\mathrm{tolerance},\n",
    "$$\n",
    "is satisfied. Here $L$ and $\\mathbf{w}^{(k)}$ are the mathematical representations of the objective $\\mathrm{objective}$ and the weight vector *weights*, at iteration *k*. The parameter *tolerance* is a non-negative threshold\n",
    "that controls the Euclidean norm of the gradient. The function $\\mathtt{gradient\\_descent\\_v2}$ takes the arguments $\\mathtt{objective}$, $\\mathtt{gradient}$, *initial_weights*, *step_size*, *no_of_iterations*, *print_output* and\n",
    "*tolerance*. The arguments $\\mathtt{objective}$ and $\\mathtt{gradient}$ are functions that can take (weight-)arrays as arguments and return the scalar value of the objective, respectively the array representation of the corresponding gradient. The argument *initial_weights* specifies the initial value of the variable over which you iterate. The argument *step_size* is the gradient descent step-size parameter, the argument *no_of_iterations* specifies the maximum number of iterations, *print_output* determines after how many iterations the function produces a text output and *tolerance* controls the norm of the gradient as described in the equation above. Both functions should return the last value of iteration variable (*weights*) together with the values of objective function evaluated at every iteration step."
   ]
  },
  {
   "cell_type": "code",
   "execution_count": 25,
   "id": "social-furniture",
   "metadata": {
    "ExecuteTime": {
     "end_time": "2021-12-24T15:19:25.295340Z",
     "start_time": "2021-12-24T15:19:25.266917Z"
    },
    "deletable": false,
    "hidden": true,
    "nbgrader": {
     "cell_type": "code",
     "checksum": "d1be5a129d273aeeb78f66c1f22f0ca4",
     "grade": false,
     "grade_id": "cell-Q1GradientDescentFunctionSolution1",
     "locked": false,
     "schema_version": 3,
     "solution": true,
     "task": false
    }
   },
   "outputs": [],
   "source": [
    "def gradient_descent(objective,\n",
    "                     gradient,\n",
    "                     initial_weights,\n",
    "                     step_size=1,\n",
    "                     no_of_iterations=100,\n",
    "                     print_output=10):\n",
    "    # YOUR CODE HERE\n",
    "    objective_values = []\n",
    "    weights = np.copy(initial_weights)\n",
    "    objective_values.append(objective(weights))\n",
    "    for counter in range(no_of_iterations):\n",
    "        weights -= step_size * gradient(weights)\n",
    "        objective_values.append(objective(weights))\n",
    "        if (counter + 1) % print_output == 0:\n",
    "            print(\"Iteration {k}/{m}, objective = {o}.\".format(k=counter+1, \\\n",
    "                    m=no_of_iterations, o=objective_values[counter]))\n",
    "    print(\"Iteration completed after {k}/{m}, objective = {o}.\".format(k=counter+1, \\\n",
    "                m=no_of_iterations, o=objective_values[counter]))\n",
    "    return weights, objective_values"
   ]
  },
  {
   "cell_type": "code",
   "execution_count": 556,
   "id": "spatial-session",
   "metadata": {
    "ExecuteTime": {
     "end_time": "2021-12-24T15:19:25.323766Z",
     "start_time": "2021-12-24T15:19:25.299143Z"
    },
    "deletable": false,
    "hidden": true,
    "nbgrader": {
     "cell_type": "code",
     "checksum": "08e2c815a5810d591104250a5bda6e18",
     "grade": false,
     "grade_id": "cell-Q1GradientDescentFunctionSolution2",
     "locked": false,
     "schema_version": 3,
     "solution": true,
     "task": false
    }
   },
   "outputs": [],
   "source": [
    "def gradient_descent_v2(objective, gradient, initial_weights, \n",
    "                        step_size=1, no_of_iterations=100, print_output=10, tolerance=1e-6):\n",
    "    # YOUR CODE HERE\n",
    "    objective_values = []\n",
    "    weights = np.copy(initial_weights)\n",
    "    objective_values.append(objective(weights))\n",
    " \n",
    "    for counter in range(no_of_iterations):\n",
    "        if  np.linalg.norm(gradient(weights))<=tolerance:\n",
    "            print(np.linalg.norm(gradient(weights)))\n",
    "            break\n",
    "        weights -= step_size * gradient(weights)\n",
    "        objective_values.append(objective(weights))\n",
    "        if (counter + 1) % print_output == 0:\n",
    "            print(\"Iteration {k}/{m}, objective = {o}.\".format(k=counter+1, \\\n",
    "                    m=no_of_iterations, o=objective_values[counter]))\n",
    "    \n",
    "        \n",
    "    print(\"Iteration completed after {k}/{m}, objective = {o}.\".format(k=counter+ 1, \n",
    "                m=no_of_iterations, o=objective_values[counter]))\n",
    "    \n",
    "    return weights, objective_values"
   ]
  },
  {
   "cell_type": "code",
   "execution_count": 522,
   "id": "other-playlist",
   "metadata": {
    "ExecuteTime": {
     "end_time": "2021-12-24T15:19:25.355681Z",
     "start_time": "2021-12-24T15:19:25.328749Z"
    },
    "deletable": false,
    "editable": false,
    "hidden": true,
    "nbgrader": {
     "cell_type": "code",
     "checksum": "50ca1f06315677e42c9c28b44f7f8991",
     "grade": true,
     "grade_id": "cell-Q1GradientDescentFunctionTest1",
     "locked": true,
     "points": 1,
     "schema_version": 3,
     "solution": false,
     "task": false
    }
   },
   "outputs": [
    {
     "name": "stdout",
     "output_type": "stream",
     "text": [
      "Iteration 10/100, objective = -3.0256011293288547.\n",
      "Iteration 20/100, objective = -3.0256410067129824.\n",
      "Iteration 30/100, objective = -3.025641025632046.\n",
      "Iteration 40/100, objective = -3.0256410256410216.\n",
      "Iteration 50/100, objective = -3.025641025641026.\n",
      "Iteration 60/100, objective = -3.0256410256410255.\n",
      "Iteration 70/100, objective = -3.0256410256410255.\n",
      "Iteration 80/100, objective = -3.0256410256410255.\n",
      "Iteration 90/100, objective = -3.025641025641025.\n",
      "Iteration 100/100, objective = -3.0256410256410255.\n",
      "Iteration completed after 100/100, objective = -3.0256410256410255.\n"
     ]
    }
   ],
   "source": [
    "test_matrix_m = np.array([[3, 1], [2, 4]])\n",
    "test_vector_v = np.array([5, 6])\n",
    "test_objective = lambda x: x.T @ (test_matrix_m @ x) + x @ test_vector_v\n",
    "test_gradient = lambda x: (test_matrix_m + test_matrix_m.T) @ x + test_vector_v\n",
    "test_initial_weights = np.array([0.0, 0.0])\n",
    "test_step_size = 0.9 / (np.linalg.norm(test_matrix_m + test_matrix_m.T))\n",
    "test_no_of_iterations = 100\n",
    "test_print_output = 10\n",
    "np.testing.assert_array_almost_equal(gradient_descent(test_objective, test_gradient, \\\n",
    "                                           test_initial_weights,test_step_size, \\\n",
    "                                           test_no_of_iterations, test_print_output)[0],\\\n",
    "                          np.array([-0.564103, -0.538462]))"
   ]
  },
  {
   "cell_type": "code",
   "execution_count": 523,
   "id": "hawaiian-tattoo",
   "metadata": {
    "ExecuteTime": {
     "end_time": "2021-12-24T15:19:25.386254Z",
     "start_time": "2021-12-24T15:19:25.363660Z"
    },
    "deletable": false,
    "editable": false,
    "hidden": true,
    "nbgrader": {
     "cell_type": "code",
     "checksum": "474422bddaa5588e1c15cb73b8890a0b",
     "grade": true,
     "grade_id": "cell-Q1GradientDescentFunctionTest",
     "locked": true,
     "points": 2,
     "schema_version": 3,
     "solution": false,
     "task": false
    },
    "scrolled": true
   },
   "outputs": [
    {
     "name": "stdout",
     "output_type": "stream",
     "text": [
      "Iteration 10/100, objective = -3.0256011293288547.\n",
      "Iteration 20/100, objective = -3.0256410067129824.\n",
      "Iteration 30/100, objective = -3.025641025632046.\n",
      "8.356857861861452e-07\n",
      "Iteration completed after 36/100, objective = -3.025641025640935.\n"
     ]
    }
   ],
   "source": [
    "test_matrix_m = np.array([[3, 1], [2, 4]])\n",
    "test_vector_v = np.array([5, 6])\n",
    "test_objective = lambda x: x.T @ (test_matrix_m @ x) + x @ test_vector_v\n",
    "test_gradient = lambda x: (test_matrix_m + test_matrix_m.T) @ x + test_vector_v\n",
    "test_initial_weights = np.array([0.0, 0.0])\n",
    "test_step_size = 0.9 / (np.linalg.norm(test_matrix_m + test_matrix_m.T))\n",
    "test_no_of_iterations = 100\n",
    "test_print_output = 10\n",
    "np.testing.assert_array_almost_equal(len(gradient_descent_v2(test_objective, test_gradient, \\\n",
    "                                           test_initial_weights,test_step_size, \\\n",
    "                                           test_no_of_iterations, test_print_output)[1])-1,\\\n",
    "                          35) ### the iteration should stop after 35 steps"
   ]
  },
  {
   "cell_type": "markdown",
   "id": "beginning-burns",
   "metadata": {
    "deletable": false,
    "editable": false,
    "heading_collapsed": true,
    "hidden": true,
    "nbgrader": {
     "cell_type": "markdown",
     "checksum": "d5ec8cd578f597bce6ebf23f686d3cf2",
     "grade": false,
     "grade_id": "cell-Q1DataAnalysisProblem",
     "locked": true,
     "schema_version": 3,
     "solution": false,
     "task": false
    }
   },
   "source": [
    "### Question 1c [7 marks]\n",
    "We proceed by testing your implementation on the [Spotify(c)](https://www.spotify.com/) music dataset. You are asked to analyse the data collected by Brice Vergnou on [Kaggle](https://www.kaggle.com/bricevergnou/spotify-recommendation). Please take a look at the corresponding webpage in case you want to know more about the data. The dataset consists of $150$ songs (randomly selected from $195$ available on [Kaggle](https://www.kaggle.com/bricevergnou/spotify-recommendation)). The testing set consists of the rest $45$ songs. Each song is characterised by $13$ numbers representing\n",
    "- $\\mathtt{acousticness}$ : A confidence measure from $0.0$ to $1.0$ of whether the track is acoustic. $1.0$ represents high confidence the track is acoustic.\n",
    "- $\\mathtt{danceability}$ : Danceability describes how suitable a track is for dancing based on a combination of musical elements including tempo, rhythm stability, beat strength, and overall regularity. A value of $0.0$ is least danceable and $1.0$ is most danceable.\n",
    "- $\\mathtt{duration\\_ms}$ : The duration of the track in milliseconds.\n",
    "- $\\mathtt{energy}$ : Energy is a measure from $0.0$ to $1.0$ and represents a perceptual measure of intensity and activity. Typically, energetic tracks feel fast, loud, and noisy. For example, death metal has high energy, while a Bach prelude scores low on the scale. Perceptual features contributing to this attribute include dynamic range, perceived loudness, timbre, onset rate, and general entropy.\n",
    "- $\\mathtt{instrumentalness}$ : Predicts whether a track contains no vocals. \"Ooh\" and \"aah\" sounds are treated as instrumental in this context. Rap or spoken word tracks are clearly \"vocal\". The closer the instrumentalness value is to $1.0$, the greater likelihood the track contains no vocal content. Values above $0.5$ are intended to represent instrumental tracks, but confidence is higher as the value approaches $1.0$.\n",
    "- $\\mathtt{key}$ : The key the track is in. Integers map to pitches using standard Pitch Class notation . E.g. $0 = C$, $1 = C\\sharp/D\\flat$, $2 = D$, and so on.\n",
    "- $\\mathtt{liveness}$ : Detects the presence of an audience in the recording. Higher liveness values represent an increased probability that the track was performed live. A value above $0.8$ provides strong likelihood that the track is live.\n",
    "- $\\mathtt{loudness}$ : The overall loudness of a track in decibels (dB). Loudness values are averaged across the entire track and are useful for comparing relative loudness of tracks. Loudness is the quality of a sound that is the primary psychological correlate of physical strength (amplitude). Values typical range between $-60$ and $0$ db.\n",
    "- $\\mathtt{mode}$ : Mode indicates the modality (major or minor) of a track, the type of scale from which its melodic content is derived. Major is represented by $1$ and minor is $0$.\n",
    "- $\\mathtt{speechiness}$ : Speechiness detects the presence of spoken words in a track. The more exclusively speech-like the recording (e.g. talk show, audio book, poetry), the closer to $1.0$ the attribute value. Values above $0.66$ describe tracks that are probably made entirely of spoken words. Values between $0.33$ and $0.66$ describe tracks that may contain both music and speech, either in sections or layered, including such cases as rap music. Values below $0.33$ most likely represent music and other non-speech-like tracks.\n",
    "- $\\mathtt{tempo}$ : The overall estimated tempo of a track in beats per minute (BPM). In musical terminology, tempo is the speed or pace of a given piece and derives directly from the average beat duration.\n",
    "- $\\mathtt{time\\_signature}$ : An estimated overall time signature of a track. The time signature (meter) is a notational convention to specify how many beats are in each bar (or measure).\n",
    "- $\\mathtt{valence}$ : A measure from $0.0$ to $1.0$ describing the musical positiveness conveyed by a track. Tracks with high valence sound more positive (e.g. happy, cheerful, euphoric), while tracks with low valence sound more negative (e.g. sad, depressed, angry).\n",
    "\n",
    "Every song included in the training set is also assigned with the binary ($0$ or $1$) variable that provides an information on the dataset author's music preferences. \n",
    "\n",
    "The code in the following cell \n",
    "- loads and stores the training and testing dataset into corresponding NumPy arrays: *spotify_training_data_input*, *spotify_training_data_labels*, *spotify_testing_data_input*."
   ]
  },
  {
   "cell_type": "code",
   "execution_count": 246,
   "id": "australian-geometry",
   "metadata": {
    "ExecuteTime": {
     "end_time": "2021-12-24T15:19:25.417636Z",
     "start_time": "2021-12-24T15:19:25.392625Z"
    },
    "deletable": false,
    "editable": false,
    "hidden": true,
    "nbgrader": {
     "cell_type": "code",
     "checksum": "4525e8a90a10f6704667865bb67b2a63",
     "grade": false,
     "grade_id": "cell-Q1DataAnalysisSolution0",
     "locked": true,
     "schema_version": 3,
     "solution": false,
     "task": false
    }
   },
   "outputs": [],
   "source": [
    "spotify_training_data = np.genfromtxt('spotify_training.csv',\n",
    "                                      skip_header=True,\n",
    "                                      dtype=None,\n",
    "                                      delimiter=',')\n",
    "spotify_testing_data_input = np.genfromtxt('spotify_testing.csv',\n",
    "                                           skip_header=True,\n",
    "                                           dtype=None,\n",
    "                                           delimiter=',')\n",
    "spotify_training_data_input = spotify_training_data[:, :-1]\n",
    "spotify_training_data_labels = spotify_training_data[:, -1].reshape(-1, 1)"
   ]
  },
  {
   "cell_type": "markdown",
   "id": "matched-vision",
   "metadata": {
    "deletable": false,
    "editable": false,
    "hidden": true,
    "nbgrader": {
     "cell_type": "markdown",
     "checksum": "f35757c50a843be68a5c76fda8d4f4ce",
     "grade": false,
     "grade_id": "cell-Q1DataStandardisation",
     "locked": true,
     "schema_version": 3,
     "solution": false,
     "task": false
    }
   },
   "source": [
    "In the following cell, write a function $\\mathtt{standardise}$ that standardises the columns of a two-dimensional NumPy array *data_matrix*. The function should return a triple: the normalised matrix, the row of column averages and the row of column standard deviations."
   ]
  },
  {
   "cell_type": "code",
   "execution_count": 247,
   "id": "vital-sampling",
   "metadata": {
    "ExecuteTime": {
     "end_time": "2021-12-24T15:19:25.509825Z",
     "start_time": "2021-12-24T15:19:25.501828Z"
    },
    "deletable": false,
    "hidden": true,
    "nbgrader": {
     "cell_type": "code",
     "checksum": "2709ddd7bb9c57ec0c911968ea57afcd",
     "grade": false,
     "grade_id": "cell-Q1DataAnalysisSolution1",
     "locked": false,
     "schema_version": 3,
     "solution": true,
     "task": false
    }
   },
   "outputs": [],
   "source": [
    "def standardise(data_matrix):\n",
    "    # YOUR CODE HERE\n",
    "    row_of_means = np.mean(data_matrix, axis=0)\n",
    "    standardised_matrix = data_matrix - row_of_means\n",
    "    row_of_stds = np.std(standardised_matrix, axis=0)\n",
    "    return (standardised_matrix / row_of_stds), row_of_means, row_of_stds\n"
   ]
  },
  {
   "cell_type": "markdown",
   "id": "informational-output",
   "metadata": {
    "deletable": false,
    "editable": false,
    "hidden": true,
    "nbgrader": {
     "cell_type": "markdown",
     "checksum": "d169a3186bee592e74362f0e80e22115",
     "grade": false,
     "grade_id": "cell-Q1DataAnalysisMarking1",
     "locked": true,
     "schema_version": 3,
     "solution": false,
     "task": false
    }
   },
   "source": [
    "Test your function with the following unit test. Passing the test will be awarded with **1 mark**."
   ]
  },
  {
   "cell_type": "code",
   "execution_count": 248,
   "id": "attractive-manufacturer",
   "metadata": {
    "ExecuteTime": {
     "end_time": "2021-12-24T15:19:25.663155Z",
     "start_time": "2021-12-24T15:19:25.648196Z"
    },
    "deletable": false,
    "editable": false,
    "hidden": true,
    "nbgrader": {
     "cell_type": "code",
     "checksum": "c10eb026cde7f39553fec65f893c9512",
     "grade": true,
     "grade_id": "cell-Q1DataAnalysisTest1",
     "locked": true,
     "points": 1,
     "schema_version": 3,
     "solution": false,
     "task": false
    }
   },
   "outputs": [],
   "source": [
    "test_data_matrix = np.array([[1, 2], [3, 4], [5, 6]])\n",
    "np.testing.assert_array_almost_equal(\n",
    "    standardise(test_data_matrix)[0],\n",
    "    np.array([[-1.22474487, -1.22474487], [0, 0], [1.22474487, 1.22474487]]))\n",
    "np.testing.assert_array_almost_equal(\n",
    "    standardise(test_data_matrix)[1], np.array([3, 4]))\n",
    "np.testing.assert_array_almost_equal(\n",
    "    standardise(test_data_matrix)[2],\n",
    "    np.array([np.sqrt(8 / 3), np.sqrt(8 / 3)]))"
   ]
  },
  {
   "cell_type": "markdown",
   "id": "breeding-possibility",
   "metadata": {
    "deletable": false,
    "editable": false,
    "hidden": true,
    "nbgrader": {
     "cell_type": "markdown",
     "checksum": "55468778bf0ca5c8ea6f811b62d5eeaf",
     "grade": false,
     "grade_id": "cell-Q1DataDeStandardisation",
     "locked": true,
     "schema_version": 3,
     "solution": false,
     "task": false
    }
   },
   "source": [
    "Now write a function $\\mathtt{de\\_standardise}$ that de-standardises the columns of a two-dimensional NumPy array *data_matrix*. The function should take three NumPy array: *standardised_matrix*, *row_of_means*, *row_of_stds* and reconstruct the original matrix used  to obtain a standardised one."
   ]
  },
  {
   "cell_type": "code",
   "execution_count": 249,
   "id": "recent-effort",
   "metadata": {
    "ExecuteTime": {
     "end_time": "2021-12-24T15:19:25.801823Z",
     "start_time": "2021-12-24T15:19:25.790814Z"
    },
    "deletable": false,
    "hidden": true,
    "nbgrader": {
     "cell_type": "code",
     "checksum": "a89ced62e412e4820b2424a1d6166165",
     "grade": false,
     "grade_id": "cell-Q1DataAnalysisSolution2",
     "locked": false,
     "schema_version": 3,
     "solution": true,
     "task": false
    }
   },
   "outputs": [],
   "source": [
    "def de_standardise(standardised_matrix, row_of_means, row_of_stds):\n",
    "    # YOUR CODE HERE\n",
    "    return standardised_matrix*row_of_stds+row_of_means"
   ]
  },
  {
   "cell_type": "markdown",
   "id": "personalized-motivation",
   "metadata": {
    "deletable": false,
    "editable": false,
    "hidden": true,
    "nbgrader": {
     "cell_type": "markdown",
     "checksum": "a4249b93bb7a5a4bae14dc91e32c7911",
     "grade": false,
     "grade_id": "cell-Q1DataAnalysisMarking2",
     "locked": true,
     "schema_version": 3,
     "solution": false,
     "task": false
    }
   },
   "source": [
    "Test your function with the following unit test. Passing the test will be awarded with **1 mark**."
   ]
  },
  {
   "cell_type": "code",
   "execution_count": 250,
   "id": "incorporated-coach",
   "metadata": {
    "ExecuteTime": {
     "end_time": "2021-12-24T15:19:25.957443Z",
     "start_time": "2021-12-24T15:19:25.937423Z"
    },
    "deletable": false,
    "editable": false,
    "hidden": true,
    "nbgrader": {
     "cell_type": "code",
     "checksum": "c9853c4073d493f20531586d648c9c4a",
     "grade": true,
     "grade_id": "cell-Q1DataAnalysisTest2",
     "locked": true,
     "points": 1,
     "schema_version": 3,
     "solution": false,
     "task": false
    }
   },
   "outputs": [],
   "source": [
    "test_standardised_matrix = np.array([[-1.22474487, -1.22474487], [0, 0],\n",
    "                                     [1.22474487, 1.22474487]])\n",
    "test_row_of_means = np.array([3, 4])\n",
    "test_row_of_stds = np.array([np.sqrt(8 / 3), np.sqrt(8 / 3)])\n",
    "np.testing.assert_array_almost_equal(\n",
    "    de_standardise(test_standardised_matrix, test_row_of_means,\n",
    "                   test_row_of_stds), np.array([[1, 2], [3, 4], [5, 6]]))"
   ]
  },
  {
   "cell_type": "markdown",
   "id": "industrial-marking",
   "metadata": {
    "deletable": false,
    "editable": false,
    "hidden": true,
    "nbgrader": {
     "cell_type": "markdown",
     "checksum": "542ce8322071f76be2fda70d75bf427e",
     "grade": false,
     "grade_id": "cell-Q1DataAnalysisProblem2",
     "locked": true,
     "schema_version": 3,
     "solution": false,
     "task": false
    }
   },
   "source": [
    "Apply data standardisation as per above to the Spotify data, both training and testing."
   ]
  },
  {
   "cell_type": "code",
   "execution_count": 251,
   "id": "strange-guest",
   "metadata": {
    "ExecuteTime": {
     "end_time": "2021-12-24T15:19:26.095999Z",
     "start_time": "2021-12-24T15:19:26.089478Z"
    },
    "deletable": false,
    "editable": false,
    "hidden": true,
    "nbgrader": {
     "cell_type": "code",
     "checksum": "701a621af2bed64d0197aa7825ec0121",
     "grade": false,
     "grade_id": "cell-Q1DataAnalysisSolution3",
     "locked": true,
     "schema_version": 3,
     "solution": false,
     "task": false
    }
   },
   "outputs": [],
   "source": [
    "spotify_training_data_input, spotify_row_of_avgs, spotify_row_of_stds = standardise(\n",
    "    spotify_training_data_input)\n",
    "spotify_testing_data_input = (spotify_testing_data_input -\n",
    "                              spotify_row_of_avgs) / spotify_row_of_stds"
   ]
  },
  {
   "cell_type": "markdown",
   "id": "similar-mentor",
   "metadata": {
    "deletable": false,
    "editable": false,
    "hidden": true,
    "nbgrader": {
     "cell_type": "markdown",
     "checksum": "6fd3d491d01ec58645bdddf54c932ad3",
     "grade": false,
     "grade_id": "cell-Q1DataAnalysisProblem3",
     "locked": true,
     "schema_version": 3,
     "solution": false,
     "task": false
    }
   },
   "source": [
    "In order to prepare our normalised data for a data analysis we also need to build an augmented data matrix. Implement function $\\mathtt{linear\\_regression\\_data}$ that computes (and outputs) the linear regression *data_matrix* for a given *data_inputs* matrix."
   ]
  },
  {
   "cell_type": "code",
   "execution_count": 252,
   "id": "developing-silver",
   "metadata": {
    "ExecuteTime": {
     "end_time": "2021-12-24T15:19:26.235691Z",
     "start_time": "2021-12-24T15:19:26.222118Z"
    },
    "deletable": false,
    "hidden": true,
    "nbgrader": {
     "cell_type": "code",
     "checksum": "6813aae816094127e029852c8b8da8b0",
     "grade": false,
     "grade_id": "cell-Q1DataAnalysisSolution4",
     "locked": false,
     "schema_version": 3,
     "solution": true,
     "task": false
    }
   },
   "outputs": [],
   "source": [
    "def linear_regression_data(data_inputs):\n",
    "    # YOUR CODE HERE\n",
    "    first_column = np.ones((len(data_inputs), 1))\n",
    "    linear_data_matrix = np.c_[first_column, data_inputs]\n",
    "    return linear_data_matrix\n",
    "\n"
   ]
  },
  {
   "cell_type": "markdown",
   "id": "demonstrated-armenia",
   "metadata": {
    "deletable": false,
    "editable": false,
    "hidden": true,
    "nbgrader": {
     "cell_type": "markdown",
     "checksum": "3039b282a03a19795750f5ff061e952d",
     "grade": false,
     "grade_id": "cell-Q1DataAnalysisMarking3",
     "locked": true,
     "schema_version": 3,
     "solution": false,
     "task": false
    }
   },
   "source": [
    "Test your function with the following unit test. Passing the test will be awarded with **1 mark**."
   ]
  },
  {
   "cell_type": "code",
   "execution_count": 253,
   "id": "reliable-morgan",
   "metadata": {
    "ExecuteTime": {
     "end_time": "2021-12-24T15:19:26.390075Z",
     "start_time": "2021-12-24T15:19:26.372261Z"
    },
    "deletable": false,
    "editable": false,
    "hidden": true,
    "nbgrader": {
     "cell_type": "code",
     "checksum": "68d5ef0afced829bfe4a46d46bdbfb46",
     "grade": true,
     "grade_id": "cell-Q1DataAnalysisTest3",
     "locked": true,
     "points": 1,
     "schema_version": 3,
     "solution": false,
     "task": false
    }
   },
   "outputs": [],
   "source": [
    "test_data_inputs = np.array([[1, 2], [2, 3], [3, 4], [4, 5]])\n",
    "np.testing.assert_array_equal(\n",
    "    linear_regression_data(test_data_inputs),\n",
    "    np.array([[1, 1, 2], [1, 2, 3], [1, 3, 4], [1, 4, 5]]))"
   ]
  },
  {
   "cell_type": "markdown",
   "id": "isolated-amazon",
   "metadata": {
    "deletable": false,
    "editable": false,
    "hidden": true,
    "nbgrader": {
     "cell_type": "markdown",
     "checksum": "7f463290206f8b902ecb2cc47a323fa6",
     "grade": false,
     "grade_id": "cell-Q1DataAnalysisProblemInfo",
     "locked": true,
     "schema_version": 3,
     "solution": false,
     "task": false
    }
   },
   "source": [
    "You are now asked to apply the above to the Spotify dataset:\n",
    "- Define a linear regression data matrix corresponding to Spotify training data. Store the matrix as *spotify_training_data_matrix*;\n",
    "- Define an objective lambda function $\\mathtt{spotify\\_objective}$ with the argument *weights* based on the $\\mathtt{binary\\_logistic\\_regression\\_cost\\_function}$ with fixed arguments *data_matrix* (equal to *spotify_training_data_matrix*) and *data_labels* (equal to *spotify_training_data_labels*). Repeat the same exercise to create a function $\\mathtt{spotify\\_gradient}$ based on $\\mathtt{binary\\_logistic\\_regression\\_gradient}$;\n",
    "- Define the starting point of the gradient descent as a zero column-vector of appropriate length and store it as *spotify_initial_weights*;\n",
    "- Define the step-size of gradient descent as \n",
    "$$\n",
    "\\tau = \\frac{3.9\\cdot s}{\\left\\|\\mathbf{\\Phi\\left(X\\right)}\\right\\|^2},\n",
    "$$\n",
    "where $s$ is the number of data samples and $\\mathbf{\\Phi\\left(X\\right)}$ is a mathematical representation of the *spotify_training_data_matrix*. Store it as *spotify_step_size*;\n",
    "- Evaluate the optimal weights by running the gradient descent in the second variation ($\\mathtt{gradient\\_descent\\_v2}$) using the above parameters and *tolerance = 1e-2*, *no_of_iterations = 1000*;\n",
    "- Store the result of the gradient descent as *spotify_optimal_weights*, *spotify_objective_values*.\n"
   ]
  },
  {
   "cell_type": "code",
   "execution_count": 525,
   "id": "naked-partner",
   "metadata": {
    "ExecuteTime": {
     "end_time": "2021-12-24T15:19:26.637910Z",
     "start_time": "2021-12-24T15:19:26.542317Z"
    },
    "deletable": false,
    "hidden": true,
    "nbgrader": {
     "cell_type": "code",
     "checksum": "0f3b4735237afe5cb9e6045e07cfa0a1",
     "grade": false,
     "grade_id": "cell-Q1DataAnalysisSolution",
     "locked": false,
     "schema_version": 3,
     "solution": true,
     "task": false
    }
   },
   "outputs": [
    {
     "name": "stdout",
     "output_type": "stream",
     "text": [
      "Iteration 10/1000, objective = 0.36562174972555955.\n",
      "Iteration 20/1000, objective = 0.3059645152012028.\n",
      "Iteration 30/1000, objective = 0.2790582725994416.\n",
      "Iteration 40/1000, objective = 0.26279611534355557.\n",
      "Iteration 50/1000, objective = 0.2516178553755304.\n",
      "Iteration 60/1000, objective = 0.243342246725595.\n",
      "Iteration 70/1000, objective = 0.23690261321297965.\n",
      "Iteration 80/1000, objective = 0.23170531567632613.\n",
      "Iteration 90/1000, objective = 0.2273907132713435.\n",
      "Iteration 100/1000, objective = 0.22372733676269302.\n",
      "Iteration 110/1000, objective = 0.2205592210070097.\n",
      "Iteration 120/1000, objective = 0.21777738870557936.\n",
      "Iteration 130/1000, objective = 0.21530339462833417.\n",
      "Iteration 140/1000, objective = 0.21307934159732497.\n",
      "Iteration 150/1000, objective = 0.21106157176816084.\n",
      "Iteration 160/1000, objective = 0.20921654328811126.\n",
      "Iteration 170/1000, objective = 0.20751805697725523.\n",
      "Iteration 180/1000, objective = 0.20594534439896256.\n",
      "Iteration 190/1000, objective = 0.2044817210576845.\n",
      "Iteration 200/1000, objective = 0.2031136194713166.\n",
      "Iteration 210/1000, objective = 0.20182988312341008.\n",
      "Iteration 220/1000, objective = 0.20062124302753825.\n",
      "Iteration 230/1000, objective = 0.19947992432631534.\n",
      "Iteration 240/1000, objective = 0.19839934692994124.\n",
      "Iteration 250/1000, objective = 0.19737389512587242.\n",
      "Iteration 260/1000, objective = 0.19639873842677538.\n",
      "Iteration 270/1000, objective = 0.19546969093283642.\n",
      "Iteration 280/1000, objective = 0.19458309995820566.\n",
      "Iteration 290/1000, objective = 0.19373575711500632.\n",
      "Iteration 300/1000, objective = 0.19292482679017553.\n",
      "Iteration 310/1000, objective = 0.19214778820724676.\n",
      "Iteration 320/1000, objective = 0.19140238818244168.\n",
      "Iteration 330/1000, objective = 0.19068660236099944.\n",
      "Iteration 340/1000, objective = 0.1899986032236738.\n",
      "Iteration 350/1000, objective = 0.1893367335322925.\n",
      "Iteration 360/1000, objective = 0.18869948417071908.\n",
      "Iteration 370/1000, objective = 0.18808547555738594.\n",
      "Iteration 380/1000, objective = 0.18749344197498707.\n",
      "Iteration 390/1000, objective = 0.18692221829443942.\n",
      "Iteration 400/1000, objective = 0.1863707286730275.\n",
      "Iteration 410/1000, objective = 0.18583797688751488.\n",
      "Iteration 420/1000, objective = 0.18532303802700822.\n",
      "Iteration 430/1000, objective = 0.1848250513212996.\n",
      "Iteration 440/1000, objective = 0.18434321392116687.\n",
      "Iteration 450/1000, objective = 0.18387677547987788.\n",
      "Iteration 460/1000, objective = 0.18342503341161065.\n",
      "Iteration 470/1000, objective = 0.18298732872396736.\n",
      "Iteration 480/1000, objective = 0.18256304233923695.\n",
      "Iteration 490/1000, objective = 0.18215159183334703.\n",
      "Iteration 500/1000, objective = 0.1817524285331569.\n",
      "Iteration 510/1000, objective = 0.18136503492237485.\n",
      "Iteration 520/1000, objective = 0.18098892231433117.\n",
      "Iteration 530/1000, objective = 0.18062362875640717.\n",
      "Iteration 540/1000, objective = 0.18026871713637094.\n",
      "Iteration 550/1000, objective = 0.17992377346539692.\n",
      "Iteration 560/1000, objective = 0.17958840531632078.\n",
      "Iteration 570/1000, objective = 0.17926224039882854.\n",
      "Iteration 580/1000, objective = 0.1789449252559149.\n",
      "Iteration 590/1000, objective = 0.17863612406815427.\n",
      "Iteration 600/1000, objective = 0.17833551755418783.\n",
      "Iteration 610/1000, objective = 0.1780428019573889.\n",
      "Iteration 620/1000, objective = 0.17775768810999665.\n",
      "0.009995428579156935\n",
      "Iteration completed after 624/1000, objective = 0.17764570891883327.\n"
     ]
    }
   ],
   "source": [
    "# YOUR CODE HERE\n",
    "spotify_training_data_matrix=linear_regression_data(spotify_training_data_input)\n",
    "\n",
    "spotify_objective=lambda weights:binary_logistic_regression_cost_function(spotify_training_data_matrix,\n",
    "                                                                           spotify_training_data_labels,weights)\n",
    "spotify_gradient=lambda weights:binary_logistic_regression_gradient(spotify_training_data_matrix,\n",
    "                                                                       spotify_training_data_labels,weights)\n",
    "\n",
    "\n",
    "spotify_initial_weights=np.zeros((len(spotify_training_data_matrix[0]),1))\n",
    "s=len(spotify_training_data_matrix)\n",
    "\n",
    "spotify_step_size=(3.9*s)/np.linalg.norm(spotify_training_data_matrix)**2\n",
    "spotify_optimal_weights,spotify_objective_values=gradient_descent_v2(spotify_objective, spotify_gradient, \n",
    "                                                                     spotify_initial_weights, \n",
    "                        spotify_step_size, no_of_iterations=1000, print_output=10, tolerance=1e-2)\n"
   ]
  },
  {
   "cell_type": "code",
   "execution_count": 255,
   "id": "f9cb7709",
   "metadata": {},
   "outputs": [
    {
     "data": {
      "text/plain": [
       "0.01"
      ]
     },
     "execution_count": 255,
     "metadata": {},
     "output_type": "execute_result"
    }
   ],
   "source": [
    "1e-2"
   ]
  },
  {
   "cell_type": "markdown",
   "id": "hairy-journalism",
   "metadata": {
    "deletable": false,
    "editable": false,
    "hidden": true,
    "nbgrader": {
     "cell_type": "markdown",
     "checksum": "071ef13b459704d269eeca249aa90c23",
     "grade": false,
     "grade_id": "cell-Q1DataAnalysisAccuracyMarking",
     "locked": true,
     "schema_version": 3,
     "solution": false,
     "task": false
    }
   },
   "source": [
    "Let us now evaluate the classification accuracy."
   ]
  },
  {
   "cell_type": "code",
   "execution_count": 526,
   "id": "behind-advertising",
   "metadata": {
    "ExecuteTime": {
     "end_time": "2021-12-24T15:19:26.779172Z",
     "start_time": "2021-12-24T15:19:26.767284Z"
    },
    "deletable": false,
    "hidden": true,
    "nbgrader": {
     "cell_type": "code",
     "checksum": "395d45c3c90005b08e30ab50fe78be79",
     "grade": false,
     "grade_id": "cell-Q1DataAnalysisAccuracySolution",
     "locked": false,
     "schema_version": 3,
     "solution": true,
     "task": false
    }
   },
   "outputs": [
    {
     "name": "stdout",
     "output_type": "stream",
     "text": [
      "139.0\n"
     ]
    }
   ],
   "source": [
    "# YOUR CODE HERE\n",
    "\n",
    "spotify_training_regression_values = linear_model_function(\n",
    "    spotify_training_data_matrix, spotify_optimal_weights)\n",
    "\n",
    "spotify_training_predicted_labels=binary_logistic_prediction_function(\n",
    "    binary_logistic_activation_function(spotify_training_regression_values))\n",
    "\n",
    "spotify_classification_accuracy=classification_accuracy(spotify_training_data_labels,spotify_training_predicted_labels)\n",
    "print(spotify_classification_accuracy*150)"
   ]
  },
  {
   "cell_type": "markdown",
   "id": "fitting-ending",
   "metadata": {
    "deletable": false,
    "editable": false,
    "hidden": true,
    "nbgrader": {
     "cell_type": "markdown",
     "checksum": "5319134727fe29b7df7a18399c24cd5c",
     "grade": false,
     "grade_id": "cell-040416bba357ace9",
     "locked": true,
     "schema_version": 3,
     "solution": false,
     "task": false
    }
   },
   "source": [
    "The correct classification accuracy is awarded **1 mark** as well as the correct weights vector."
   ]
  },
  {
   "cell_type": "code",
   "execution_count": 527,
   "id": "strategic-crystal",
   "metadata": {
    "ExecuteTime": {
     "end_time": "2021-12-24T15:19:26.917802Z",
     "start_time": "2021-12-24T15:19:26.907829Z"
    },
    "deletable": false,
    "editable": false,
    "hidden": true,
    "nbgrader": {
     "cell_type": "code",
     "checksum": "57ab643d39af08a5c2ad901f004392f3",
     "grade": true,
     "grade_id": "cell-Q1DataAnalysisAccuracyTest",
     "locked": true,
     "points": 1,
     "schema_version": 3,
     "solution": false,
     "task": false
    }
   },
   "outputs": [],
   "source": [
    "np.testing.assert_array_almost_equal(spotify_classification_accuracy,\n",
    "                                     139 / 150)"
   ]
  },
  {
   "cell_type": "code",
   "execution_count": 528,
   "id": "asian-admission",
   "metadata": {
    "ExecuteTime": {
     "end_time": "2021-12-24T15:19:26.933152Z",
     "start_time": "2021-12-24T15:19:26.921792Z"
    },
    "deletable": false,
    "editable": false,
    "hidden": true,
    "nbgrader": {
     "cell_type": "code",
     "checksum": "a13487b4776537c4271b9d4f9e35dd5a",
     "grade": true,
     "grade_id": "cell-Q1DataAnalysisWeightsTest",
     "locked": true,
     "points": 1,
     "schema_version": 3,
     "solution": false,
     "task": false
    }
   },
   "outputs": [],
   "source": [
    "np.testing.assert_array_almost_equal(spotify_optimal_weights, np.array([[-1.29646411], [ 1.63631427], [ 0.19574476],\\\n",
    "                                                                        [-0.22493942], [ 2.55021477], [ 0.06314623],\\\n",
    "                                                                        [ 1.07931859], [ 0.28767344], [-1.44998303],\\\n",
    "                                                                        [ 0.271802  ], [-0.44153896], [ 0.75870886],\\\n",
    "                                                                        [-2.35384176], [ 0.66464042]]))"
   ]
  },
  {
   "cell_type": "markdown",
   "id": "addressed-shaft",
   "metadata": {
    "deletable": false,
    "editable": false,
    "hidden": true,
    "nbgrader": {
     "cell_type": "markdown",
     "checksum": "7b5c876ac844b3f5a7273caf0634fb96",
     "grade": false,
     "grade_id": "cell-Q1DataAnalysisTestDataInfo",
     "locked": true,
     "schema_version": 3,
     "solution": false,
     "task": false
    }
   },
   "source": [
    "In the next hidden cell your model would be tested against the training data. The correct result is awarded **2 marks**."
   ]
  },
  {
   "cell_type": "markdown",
   "id": "dense-albuquerque",
   "metadata": {
    "deletable": false,
    "editable": false,
    "nbgrader": {
     "cell_type": "markdown",
     "checksum": "3fb426c5333d1f4268693b4663ca68e1",
     "grade": false,
     "grade_id": "cell-Section2Info",
     "locked": true,
     "schema_version": 3,
     "solution": false,
     "task": false
    }
   },
   "source": [
    "## Problem 2: Music genre classification\n",
    "This concludes the binary classification part of the final assessment. We now move on to multinomial logistic regression for multi-class classfication problems. We later apply this to another sound classification problem, namely to a classification of music by genres."
   ]
  },
  {
   "cell_type": "markdown",
   "id": "furnished-tiger",
   "metadata": {
    "deletable": false,
    "editable": false,
    "nbgrader": {
     "cell_type": "markdown",
     "checksum": "26f98420f3f99943e70d699d19e9fa80",
     "grade": false,
     "grade_id": "cell-Q2MultinomialClassificationProblem",
     "locked": true,
     "schema_version": 3,
     "solution": false,
     "task": false
    }
   },
   "source": [
    "### Question 2a [7 marks]\n",
    "As in the first exercise, implement the softmax function $\\mathtt{softmax\\_function}$ as defined in the lectures. The function takes the NumPy array argument as its main argument, but also has an optional *axis* argument to determine across which array-dimension you apply the softmax operation. If this argument is not specified (or set to None), then the softmax operation is applied to the entire array. Make sure your function works at least for NumPy arrays *argument* with arbitrary numerical values and dimension one or two."
   ]
  },
  {
   "cell_type": "code",
   "execution_count": 270,
   "id": "educational-ballet",
   "metadata": {
    "ExecuteTime": {
     "end_time": "2021-12-24T15:19:29.430950Z",
     "start_time": "2021-12-24T15:19:29.418980Z"
    },
    "deletable": false,
    "nbgrader": {
     "cell_type": "code",
     "checksum": "c83de297d074d590fa76ca49375a6ebb",
     "grade": false,
     "grade_id": "cell-Q2SoftmaxSolution",
     "locked": false,
     "schema_version": 3,
     "solution": true,
     "task": false
    }
   },
   "outputs": [],
   "source": [
    "def softmax_function(argument, axis=None):\n",
    "    # YOUR CODE HERE\n",
    "    if axis == None:\n",
    "        output = np.exp(argument - np.max(argument))\n",
    "        output = output / np.sum(output)\n",
    "    else:\n",
    "        output = np.exp(argument - np.expand_dims(np.max(argument, axis), axis))\n",
    "        output = output / np.expand_dims(np.sum(output, axis), axis)\n",
    "    return output\n"
   ]
  },
  {
   "cell_type": "markdown",
   "id": "legislative-sentence",
   "metadata": {
    "deletable": false,
    "editable": false,
    "nbgrader": {
     "cell_type": "markdown",
     "checksum": "4a50d851c5ef69b2e963d1852cb81428",
     "grade": false,
     "grade_id": "cell-Q2SoftmaxMarking",
     "locked": true,
     "schema_version": 3,
     "solution": false,
     "task": false
    }
   },
   "source": [
    "Test your function with the following unit test. Passing the test will be awarded with **1 mark**."
   ]
  },
  {
   "cell_type": "code",
   "execution_count": 271,
   "id": "level-velvet",
   "metadata": {
    "ExecuteTime": {
     "end_time": "2021-12-24T15:19:29.446913Z",
     "start_time": "2021-12-24T15:19:29.434937Z"
    },
    "deletable": false,
    "editable": false,
    "nbgrader": {
     "cell_type": "code",
     "checksum": "8f80894f74c5a0b8681a30f3c16363a5",
     "grade": true,
     "grade_id": "cell-Q2SoftmaxTest",
     "locked": true,
     "points": 1,
     "schema_version": 3,
     "solution": false,
     "task": false
    }
   },
   "outputs": [],
   "source": [
    "np.testing.assert_array_almost_equal(softmax_function(np.array([[1.5], [0.3], [-3.7]])), np.array([[0.76528029], \\\n",
    "                                                        [0.23049799], [0.00422172]]))\n",
    "np.testing.assert_array_almost_equal(softmax_function(np.array([[1.5, 3], [0.3, -0.7], [-3.7, 2]]), axis=0), \\\n",
    "                          np.array([[0.76528029, 0.71807976], [0.23049799, 0.01775346], \\\n",
    "                                    [0.00422172, 0.26416678]]))"
   ]
  },
  {
   "cell_type": "markdown",
   "id": "compressed-consistency",
   "metadata": {
    "deletable": false,
    "editable": false,
    "nbgrader": {
     "cell_type": "markdown",
     "checksum": "dae0f0862336ec0ba938e12809947e1b",
     "grade": false,
     "grade_id": "cell-Q2PredictionFunctionProblem",
     "locked": true,
     "schema_version": 3,
     "solution": false,
     "task": false
    }
   },
   "source": [
    "At the next stage write a function $\\mathtt{multinomial\\_prediction\\_function}$ that turns your predicitons into labels. The function takes the arguments *data_matrix* and *weight_matrix* as inputs and returns a column-vector of labels with values in  $\\left\\{0, K-1\\right\\}$ as its output, where $K$ is the number of classes."
   ]
  },
  {
   "cell_type": "code",
   "execution_count": 272,
   "id": "statewide-cleaner",
   "metadata": {
    "ExecuteTime": {
     "end_time": "2021-12-24T15:19:29.462865Z",
     "start_time": "2021-12-24T15:19:29.450896Z"
    },
    "deletable": false,
    "nbgrader": {
     "cell_type": "code",
     "checksum": "2aa302d27d821f6be0559ddf36edc8a6",
     "grade": false,
     "grade_id": "cell-Q2PredictionFunctionSolution",
     "locked": false,
     "schema_version": 3,
     "solution": true,
     "task": false
    }
   },
   "outputs": [],
   "source": [
    "def multinomial_prediction_function(data_matrix, weight_matrix):\n",
    "    # YOUR CODE HERE\n",
    "    return np.argmax(data_matrix@weight_matrix, axis=1)"
   ]
  },
  {
   "cell_type": "markdown",
   "id": "driven-survivor",
   "metadata": {
    "deletable": false,
    "editable": false,
    "nbgrader": {
     "cell_type": "markdown",
     "checksum": "088186fbaee8fa662483b9c37a38cbd1",
     "grade": false,
     "grade_id": "cell-Q2OHVProblem",
     "locked": true,
     "schema_version": 3,
     "solution": false,
     "task": false
    }
   },
   "source": [
    "Next, write a function $\\mathtt{one\\_hot\\_vector\\_encoding}$ that converts an NumPy array labels with values in the range of $\\left\\{0,K-1\\right\\}$  into so-called one-hot vector encodings. For example, for  $K=3$  and a label vector  $\\mathtt{labels} = (2\\,0\\,1\\,2)^\\top$, the output of $\\mathtt{one\\_hot\\_vector\\_encoding}(\\mathit{labels})$ should be a two-dimensional NumPy array of the form:\n",
    "$$\n",
    "\\begin{pmatrix}\n",
    "0 & 0 & 1 \\\\\n",
    "1 & 0 & 0 \\\\\n",
    "0 & 1 & 0 \\\\\n",
    "0 & 0 & 1 \\\\\n",
    "\\end{pmatrix}\n",
    "$$"
   ]
  },
  {
   "cell_type": "code",
   "execution_count": 273,
   "id": "fresh-future",
   "metadata": {
    "ExecuteTime": {
     "end_time": "2021-12-24T15:19:29.588528Z",
     "start_time": "2021-12-24T15:19:29.572599Z"
    },
    "deletable": false,
    "nbgrader": {
     "cell_type": "code",
     "checksum": "45795aa1e3b675a43ec4f4d5720865c3",
     "grade": false,
     "grade_id": "cell-Q2OHVSolution",
     "locked": false,
     "schema_version": 3,
     "solution": true,
     "task": false
    }
   },
   "outputs": [],
   "source": [
    "def one_hot_vector_encoding(labels):\n",
    "    # YOUR CODE HERE\n",
    "    no_of_classes = np.max(labels) + 1\n",
    "    output = np.zeros((len(labels), no_of_classes))\n",
    "    output[np.arange(len(labels)), labels] = 1\n",
    "    return output\n"
   ]
  },
  {
   "cell_type": "markdown",
   "id": "billion-organ",
   "metadata": {
    "deletable": false,
    "editable": false,
    "nbgrader": {
     "cell_type": "markdown",
     "checksum": "b019f3c01be9d2cadddb4e91588eb693",
     "grade": false,
     "grade_id": "cell-Q2OHVMarking",
     "locked": true,
     "schema_version": 3,
     "solution": false,
     "task": false
    }
   },
   "source": [
    "Test your function with the following unit test. Passing the test will be awarded with **1 mark**."
   ]
  },
  {
   "cell_type": "code",
   "execution_count": 274,
   "id": "appreciated-audio",
   "metadata": {
    "ExecuteTime": {
     "end_time": "2021-12-24T15:19:29.775030Z",
     "start_time": "2021-12-24T15:19:29.755150Z"
    },
    "deletable": false,
    "editable": false,
    "nbgrader": {
     "cell_type": "code",
     "checksum": "88cab0a4d299048335a9c302999b0566",
     "grade": true,
     "grade_id": "cell-Q2OHVTest",
     "locked": true,
     "points": 1,
     "schema_version": 3,
     "solution": false,
     "task": false
    }
   },
   "outputs": [],
   "source": [
    "np.testing.assert_array_almost_equal(one_hot_vector_encoding(np.array([1, 2, 0, 3])), \\\n",
    "                          np.array([[0,1,0,0],[0,0,1,0],[1,0,0,0],[0,0,0,1]]))\n",
    "np.testing.assert_array_almost_equal(one_hot_vector_encoding(np.array([1,0,1,0])), \\\n",
    "                          np.array([[0,1],[1,0],[0,1],[1,0]]))"
   ]
  },
  {
   "cell_type": "markdown",
   "id": "sealed-building",
   "metadata": {
    "deletable": false,
    "editable": false,
    "nbgrader": {
     "cell_type": "markdown",
     "checksum": "94d786d13729c60877470594615b8bdf",
     "grade": false,
     "grade_id": "cell-Q2CostGradientProblem",
     "locked": true,
     "schema_version": 3,
     "solution": false,
     "task": false
    }
   },
   "source": [
    "Implement the cost function and gradient for the multinomial logistic regression in terms of two functions $\\mathtt{multinomial\\_logistic\\_regression\\_cost\\_function}$ and $\\mathtt{multinomial\\_logistic\\_regression\\_gradient}$. As in the binary classification case, the arguments are the  data matrix *data_matrix* and *weights* that are now named *weight_matrix*. Instead of passing on labels as data_labels as in the binary case, you pass the one hot vector encoding representation *one_hot_vector_encodings* as your third argument. Return the cost function value, respectively the gradient, following the mathematical formulas in the lecture notes.\n",
    "\n",
    "**Remark**: both functions should include a normalisation prefactor $\\frac{1}{s}$."
   ]
  },
  {
   "cell_type": "code",
   "execution_count": 275,
   "id": "returning-tunisia",
   "metadata": {
    "ExecuteTime": {
     "end_time": "2021-12-24T15:19:29.915765Z",
     "start_time": "2021-12-24T15:19:29.905708Z"
    },
    "deletable": false,
    "nbgrader": {
     "cell_type": "code",
     "checksum": "454af5a36584a190ff960137dffbcff6",
     "grade": false,
     "grade_id": "cell-Q2CostGradientSolution1",
     "locked": false,
     "schema_version": 3,
     "solution": true,
     "task": false
    }
   },
   "outputs": [],
   "source": [
    "def multinomial_logistic_regression_cost_function(data_matrix, weight_matrix,\n",
    "                                                  one_hot_vector_encodings):\n",
    "    # YOUR CODE HERE\n",
    "    s=len(data_matrix)\n",
    "    model_evaluation =linear_model_function(data_matrix,weight_matrix)\n",
    "    return (1/s)*np.sum(np.log(np.sum(np.exp(model_evaluation),axis=1)) - np.sum(one_hot_vector_encodings * \\\n",
    "                                                                                model_evaluation,axis=1))"
   ]
  },
  {
   "cell_type": "code",
   "execution_count": 276,
   "id": "southwest-baltimore",
   "metadata": {
    "ExecuteTime": {
     "end_time": "2021-12-24T15:19:29.931612Z",
     "start_time": "2021-12-24T15:19:29.918713Z"
    },
    "deletable": false,
    "nbgrader": {
     "cell_type": "code",
     "checksum": "452ced7f2289118c77b7d5e68d9cba80",
     "grade": false,
     "grade_id": "cell-Q2CostGradientSolution2",
     "locked": false,
     "schema_version": 3,
     "solution": true,
     "task": false
    }
   },
   "outputs": [],
   "source": [
    "def multinomial_logistic_regression_gradient(data_matrix, weight_matrix,\n",
    "                                             one_hot_vector_encodings):\n",
    "    # YOUR CODE HERE\n",
    "    s=len(data_matrix)\n",
    "    model_evaluation = linear_model_function(data_matrix, weight_matrix)\n",
    "    return (1/s)*data_matrix.T @ (softmax_function(model_evaluation, axis=1) - one_hot_vector_encodings)"
   ]
  },
  {
   "cell_type": "markdown",
   "id": "emotional-secretariat",
   "metadata": {
    "deletable": false,
    "editable": false,
    "nbgrader": {
     "cell_type": "markdown",
     "checksum": "0583bd3dee91bb8657ac85eeebdd6735",
     "grade": false,
     "grade_id": "cell-Q2CostGradientMarking",
     "locked": true,
     "schema_version": 3,
     "solution": false,
     "task": false
    }
   },
   "source": [
    "Test your functions with the following unit tests. Passing each test will be awarded with **1 mark**."
   ]
  },
  {
   "cell_type": "code",
   "execution_count": 277,
   "id": "typical-pakistan",
   "metadata": {
    "ExecuteTime": {
     "end_time": "2021-12-24T15:19:29.963527Z",
     "start_time": "2021-12-24T15:19:29.934727Z"
    },
    "deletable": false,
    "editable": false,
    "nbgrader": {
     "cell_type": "code",
     "checksum": "2a87555b1294e5f0326ce6c4679311fb",
     "grade": true,
     "grade_id": "cell-0fd90c488dab48da",
     "locked": true,
     "points": 1,
     "schema_version": 3,
     "solution": false,
     "task": false
    }
   },
   "outputs": [],
   "source": [
    "test_data_matrix = np.array([[6, 4, 5], [1, 2, 8], [-3, 3, 6], [6, 5, -100],\n",
    "                             [5, 7, 2]])\n",
    "test_weight_matrix = np.array([[2, 1, -2, -4], [2, -5, 1, 4], [-2, -3, -1,\n",
    "                                                               -2]])\n",
    "test_one_hot_vector_encoding = np.array([[1., 0., 0., 0.], [0., 0., 1., 0.],\n",
    "                                         [0., 0., 0., 1.], [0., 1., 0., 0.],\n",
    "                                         [1., 0., 0., 0.]])\n",
    "np.testing.assert_array_almost_equal(\n",
    "    multinomial_logistic_regression_cost_function(\n",
    "        test_data_matrix, test_weight_matrix, test_one_hot_vector_encoding),\n",
    "    0.028611)"
   ]
  },
  {
   "cell_type": "code",
   "execution_count": 278,
   "id": "fluid-aquatic",
   "metadata": {
    "ExecuteTime": {
     "end_time": "2021-12-24T15:19:29.993525Z",
     "start_time": "2021-12-24T15:19:29.966517Z"
    },
    "deletable": false,
    "editable": false,
    "nbgrader": {
     "cell_type": "code",
     "checksum": "e83c56c6e2f7075954962fba611fea6b",
     "grade": true,
     "grade_id": "cell-84458743823bf2e7",
     "locked": true,
     "points": 1,
     "schema_version": 3,
     "solution": false,
     "task": false
    }
   },
   "outputs": [],
   "source": [
    "test_data_matrix = np.array([[6, 4, 5], [1, 2, 8], [-3, 3, 6], [6, 5, -100],\n",
    "                             [5, 7, 2]])\n",
    "test_weight_matrix = np.array([[2, 1, -2, -4], [2, -5, 1, 4], [-2, -3, -1,\n",
    "                                                               -2]])\n",
    "test_one_hot_vector_encoding = np.array([[1., 0., 0., 0.], [0., 0., 1., 0.],\n",
    "                                         [0., 0., 0., 1.], [0., 1., 0., 0.],\n",
    "                                         [1., 0., 0., 0.]])\n",
    "np.testing.assert_array_almost_equal(\n",
    "    multinomial_logistic_regression_gradient(test_data_matrix,\n",
    "                                             test_weight_matrix,\n",
    "                                             test_one_hot_vector_encoding),\n",
    "    np.array([[2.346197e-02, 2.407665e-12, -2.671137e-02, 3.249397e-03],\n",
    "              [4.692401e-02, 4.815311e-12, -5.320063e-02, 6.276617e-03],\n",
    "              [1.876966e-01, 1.926122e-11, -2.129506e-01, 2.525396e-02]]))"
   ]
  },
  {
   "cell_type": "markdown",
   "id": "brazilian-honduras",
   "metadata": {
    "deletable": false,
    "editable": false,
    "nbgrader": {
     "cell_type": "markdown",
     "checksum": "59a4c27301f2507852d18297523c00b7",
     "grade": false,
     "grade_id": "cell-Q2DataInfo",
     "locked": true,
     "schema_version": 3,
     "solution": false,
     "task": false
    }
   },
   "source": [
    "We now proceed with loading the data. The GTZAN genre collection dataset was collected in $2000-2001$. It consists of $1000$ audio files each having $30$ seconds duration. There are $10$ classes ($10$ music genres) each containing $100$ audio tracks. Each track is in **.wav** format. It contains audio files of the following 10 genres:\n",
    "\n",
    "- Blues\n",
    "- Classical\n",
    "- Country\n",
    "- Disco\n",
    "- Hip-hop\n",
    "- Jazz\n",
    "- Metal\n",
    "- Pop\n",
    "- Reggae\n",
    "- Rock\n",
    "\n",
    "The original raw dataset can be found for example at [GTZAN dataset.](https://www.kaggle.com/andradaolteanu/gtzan-dataset-music-genre-classification) Instead of working with raw audio files, we will work with the dataset containing a number, $58$ in total, of audio file features evaluated for each file of the dataset. This file is provided together with this template. In the next cell we read and then normalise the data provided."
   ]
  },
  {
   "cell_type": "code",
   "execution_count": 279,
   "id": "obvious-lingerie",
   "metadata": {
    "ExecuteTime": {
     "end_time": "2021-12-24T15:19:30.395008Z",
     "start_time": "2021-12-24T15:19:30.246310Z"
    },
    "deletable": false,
    "editable": false,
    "nbgrader": {
     "cell_type": "code",
     "checksum": "24be443c50466e81bf67fee4faf93540",
     "grade": false,
     "grade_id": "cell-Q2DataRead",
     "locked": true,
     "schema_version": 3,
     "solution": false,
     "task": false
    }
   },
   "outputs": [],
   "source": [
    "GTZAN_data = np.genfromtxt('GTZAN_features.csv',\n",
    "                           skip_header=True,\n",
    "                           dtype=float,\n",
    "                           delimiter=',',\n",
    "                           usecols=range(1, 59))\n",
    "GTZAN_data, _, _ = standardise(GTZAN_data)\n",
    "\n",
    "genres_dictionary = {b'blues':0,b'classical':1,b'country':2,\\\n",
    "                    b'disco':3,b'hiphop':4,b'jazz':5,\\\n",
    "                     b'metal':6,b'pop':7,b'reggae':8,b'rock':9}\n",
    "GTZAN_labels = np.genfromtxt('GTZAN_features.csv',\n",
    "                             skip_header=True,\n",
    "                             dtype=str,\n",
    "                             delimiter=',',\n",
    "                             usecols=[59],\n",
    "                             converters={59: lambda x: genres_dictionary[x]})"
   ]
  },
  {
   "cell_type": "markdown",
   "id": "objective-retirement",
   "metadata": {
    "deletable": false,
    "editable": false,
    "nbgrader": {
     "cell_type": "markdown",
     "checksum": "363351dcb379522bac91e787292c044a",
     "grade": false,
     "grade_id": "cell-Q2MultinomialClassificationSetup",
     "locked": true,
     "schema_version": 3,
     "solution": false,
     "task": false
    }
   },
   "source": [
    "You are now asked to apply the above to the GTZAN dataset:\n",
    "- Define a linear regression data matrix corresponding to GTZAN data. Store the matrix as *GTZAN_data_matrix*. Define a one hot vector encoding of GTZAN labels and store the result in as *GTZAN_OHV*;\n",
    "- Define an objective lambda function $\\mathtt{GTZAN\\_objective}$ with the argument *weight_matrix* based on the $\\mathtt{multinomial\\_logistic\\_regression\\_cost\\_function}$ with fixed arguments *data_matrix* (equal to *GTZAN_data_matrix*) and *data_labels* (equal to *GTZAN_OHV*). Repeat the same exercise to create a function $\\mathtt{GTZAN\\_gradient}$ based on $\\mathtt{multinomial\\_logistic\\_regression\\_gradient}$;\n",
    "- Define the starting point of the gradient descent as a zero matrix of appropriate dimensions and store it as *GTZAN_initial_weights*;\n",
    "- Define the step-size of the gradient descent as \n",
    "$$\n",
    "\\tau = \\frac{3.9\\cdot s}{\\left\\|\\mathbf{\\Phi\\left(X\\right)}\\right\\|^2},\n",
    "$$\n",
    "where $s$ is the number of data samples and $\\mathbf{\\Phi\\left(X\\right)}$ is a mathematical representation of the *GTZAN_data_matrix*. Store it as *GTZAN_step_size*;\n",
    "- Evaluate the optimal weights by running the gradient descent in the second variation ($\\mathtt{gradient\\_descent\\_v2}$) using the above parameters and *tolerance = 1e-3*, *no_of_iterations = 1000*;\n",
    "- Store the result of the gradient descent as *GTZAN_optimal_weights*, *GTZAN_objective_values*."
   ]
  },
  {
   "cell_type": "code",
   "execution_count": 281,
   "id": "raised-boost",
   "metadata": {
    "ExecuteTime": {
     "end_time": "2021-12-24T16:43:20.359832Z",
     "start_time": "2021-12-24T16:43:18.902530Z"
    },
    "deletable": false,
    "nbgrader": {
     "cell_type": "code",
     "checksum": "2de9f933648c31ebb535536484de6163",
     "grade": false,
     "grade_id": "cell-Q2MultinomialClassificationSolution",
     "locked": false,
     "schema_version": 3,
     "solution": true,
     "task": false
    }
   },
   "outputs": [
    {
     "name": "stdout",
     "output_type": "stream",
     "text": [
      "Iteration 100/1000, objective = 1.0767506389614987.\n",
      "Iteration 200/1000, objective = 0.9109814848675098.\n",
      "Iteration 300/1000, objective = 0.8244841216515572.\n",
      "Iteration 400/1000, objective = 0.7683732070923381.\n",
      "Iteration 500/1000, objective = 0.7279186772726314.\n",
      "Iteration 600/1000, objective = 0.696821183120303.\n",
      "Iteration 700/1000, objective = 0.6718623190153219.\n",
      "Iteration 800/1000, objective = 0.6512000503453522.\n",
      "Iteration 900/1000, objective = 0.6336912713100297.\n",
      "Iteration 1000/1000, objective = 0.6185821006106673.\n",
      "Iteration completed after 1000/1000, objective = 0.6185821006106673.\n"
     ]
    }
   ],
   "source": [
    "# YOUR CODE HERE\n",
    "GTZAN_data_matrix=linear_regression_data(GTZAN_data)\n",
    "GTZAN_OHV=one_hot_vector_encoding(GTZAN_labels)\n",
    "\n",
    "GTZAN_objective=lambda weight_matrix:multinomial_logistic_regression_cost_function(GTZAN_data_matrix,\n",
    "                                                                           weight_matrix,GTZAN_OHV)\n",
    "GTZAN_gradient=lambda weight_matrix:multinomial_logistic_regression_gradient(GTZAN_data_matrix,\n",
    "                                                                           weight_matrix,GTZAN_OHV)\n",
    "\n",
    "\n",
    "GTZAN_initial_weights=np.zeros((GTZAN_data_matrix.shape[1], GTZAN_OHV.shape[1]))\n",
    "\n",
    "s=len(GTZAN_data_matrix)\n",
    "GTZAN_step_size=(3.9*s)/np.linalg.norm(GTZAN_data_matrix)**2\n",
    "GTZAN_optimal_weights,GTZAN_objective_values=gradient_descent_v2(GTZAN_objective, GTZAN_gradient, \n",
    "                                                                     GTZAN_initial_weights, \n",
    "                      GTZAN_step_size, no_of_iterations=1000, print_output=100, tolerance=1e-3)\n",
    "\n"
   ]
  },
  {
   "cell_type": "markdown",
   "id": "orange-alcohol",
   "metadata": {
    "deletable": false,
    "editable": false,
    "nbgrader": {
     "cell_type": "markdown",
     "checksum": "b811f2e53e05695f7d01989952985673",
     "grade": false,
     "grade_id": "Q2MultinomialClassificationMarking",
     "locked": true,
     "schema_version": 3,
     "solution": false,
     "task": false
    }
   },
   "source": [
    "Now test your results with the following unit tests. Passing each test will be awarded with **1 mark**."
   ]
  },
  {
   "cell_type": "code",
   "execution_count": 285,
   "id": "complimentary-ministry",
   "metadata": {
    "ExecuteTime": {
     "end_time": "2021-12-24T15:19:32.609991Z",
     "start_time": "2021-12-24T15:19:32.592116Z"
    },
    "deletable": false,
    "editable": false,
    "nbgrader": {
     "cell_type": "code",
     "checksum": "aa463d6fc30b098f3e3d53f2f74a505c",
     "grade": true,
     "grade_id": "Q2MultinomialClassificationTest1",
     "locked": true,
     "points": 1,
     "schema_version": 3,
     "solution": false,
     "task": false
    }
   },
   "outputs": [],
   "source": [
    "np.testing.assert_almost_equal(np.linalg.norm(GTZAN_optimal_weights),\n",
    "                               6.581158794776621)"
   ]
  },
  {
   "cell_type": "code",
   "execution_count": 286,
   "id": "infinite-portrait",
   "metadata": {
    "ExecuteTime": {
     "end_time": "2021-12-24T15:19:32.642982Z",
     "start_time": "2021-12-24T15:19:32.619963Z"
    },
    "deletable": false,
    "editable": false,
    "nbgrader": {
     "cell_type": "code",
     "checksum": "9d00f728a1705e713edf4cd0a9ff600b",
     "grade": true,
     "grade_id": "Q2MultinomialClassificationTest2",
     "locked": true,
     "points": 1,
     "schema_version": 3,
     "solution": false,
     "task": false
    }
   },
   "outputs": [],
   "source": [
    "np.testing.assert_almost_equal(GTZAN_objective_values[-1], 0.6184412193103139)"
   ]
  },
  {
   "cell_type": "code",
   "execution_count": 287,
   "id": "blocked-blame",
   "metadata": {
    "ExecuteTime": {
     "end_time": "2021-12-24T15:19:32.684791Z",
     "start_time": "2021-12-24T15:19:32.651879Z"
    },
    "deletable": false,
    "editable": false,
    "nbgrader": {
     "cell_type": "code",
     "checksum": "eb5b37be4c37f7db3deb0fed56fac571",
     "grade": false,
     "grade_id": "Q2MultinomialClassificationSolution2",
     "locked": true,
     "schema_version": 3,
     "solution": false,
     "task": false
    }
   },
   "outputs": [
    {
     "name": "stdout",
     "output_type": "stream",
     "text": [
      "The classification accuracy for the GTZAN dataset is 81.89999999999999 %.\n"
     ]
    }
   ],
   "source": [
    "GTZAN_recovered_labels = multinomial_prediction_function(GTZAN_data_matrix, \\\n",
    "                                                         GTZAN_optimal_weights)\n",
    "GTZAN_classification_accuracy = classification_accuracy(\n",
    "    GTZAN_labels, GTZAN_recovered_labels)\n",
    "print(\"The classification accuracy for the GTZAN dataset is {p} %.\".format(\n",
    "    p=100 * GTZAN_classification_accuracy))"
   ]
  },
  {
   "cell_type": "code",
   "execution_count": 288,
   "id": "corrected-tuesday",
   "metadata": {
    "ExecuteTime": {
     "end_time": "2021-12-24T15:19:32.715785Z",
     "start_time": "2021-12-24T15:19:32.689777Z"
    },
    "deletable": false,
    "editable": false,
    "nbgrader": {
     "cell_type": "code",
     "checksum": "c13ade71349817ae9aca0d9509a62eb5",
     "grade": true,
     "grade_id": "Q2MultinomialClassificationTest3",
     "locked": true,
     "points": 1,
     "schema_version": 3,
     "solution": false,
     "task": false
    }
   },
   "outputs": [],
   "source": [
    "np.testing.assert_almost_equal(GTZAN_classification_accuracy, 0.819)"
   ]
  },
  {
   "cell_type": "markdown",
   "id": "ultimate-saturn",
   "metadata": {
    "deletable": false,
    "editable": false,
    "nbgrader": {
     "cell_type": "markdown",
     "checksum": "691be4966e31c1c69e506c5f28017571",
     "grade": false,
     "grade_id": "cell-Q2LASSO",
     "locked": true,
     "schema_version": 3,
     "solution": false,
     "task": false
    }
   },
   "source": [
    "### Question 2b [7 marks]\n",
    "As a final exercise before you are left to continue with the main part of your project of classifying\n",
    "spoken digits, implement a modification of the multinomial logistic regression problem that\n",
    "contains a positive multiple of the one-norm of the weight matrix as regularisation term, and\n",
    "approximate a solution numerically with the proximal gradient descent method as introduced in\n",
    "the lectures. "
   ]
  },
  {
   "cell_type": "markdown",
   "id": "alert-shopping",
   "metadata": {
    "deletable": false,
    "editable": false,
    "nbgrader": {
     "cell_type": "markdown",
     "checksum": "e7d8eb274d2e54854c5e74db1c22a223",
     "grade": false,
     "grade_id": "cell-Q2LASSOFunctions",
     "locked": true,
     "schema_version": 3,
     "solution": false,
     "task": false
    }
   },
   "source": [
    "Begin by completing the following three functions. \n",
    "- The function $\\mathtt{soft\\_thresholding}$ takes the\n",
    "two arguments *argument* and *threshold* and returns the solution of the soft-thresholding operation\n",
    "applied to *argument* with threshold *threshold*.\n",
    "- The function $\\mathtt{lasso\\_logistic\\_regression\\_cost\\_function}$ is supposed to implement the multinomial\n",
    "logistic regression loss with additional one-norm regularisation of weights for data\n",
    "matrix *data_matrix*, weight matrix *weight_matrix*, the one hot vector encoding of labels \n",
    "*one_hot_vector_encodings* and the regularisation parameter *regularisation_parameter*.\n",
    "- The function $\\mathtt{proximal\\_gradient\\_descent}$ takes the same arguments as the function $\\mathtt{gradient\\_descent}$, with additional argument $\\mathtt{proximal\\_map}$ in order to specify the proximal map to be used."
   ]
  },
  {
   "cell_type": "code",
   "execution_count": 289,
   "id": "native-moral",
   "metadata": {
    "ExecuteTime": {
     "end_time": "2021-12-24T15:19:32.731666Z",
     "start_time": "2021-12-24T15:19:32.719720Z"
    },
    "deletable": false,
    "nbgrader": {
     "cell_type": "code",
     "checksum": "f382d82160f1b3af201498adbf95352b",
     "grade": false,
     "grade_id": "cell-Q2LASSOSolution1",
     "locked": false,
     "schema_version": 3,
     "solution": true,
     "task": false
    }
   },
   "outputs": [],
   "source": [
    "def soft_thresholding(argument, threshold):\n",
    "    # YOUR CODE HERE\n",
    "    \n",
    "    return np.sign(argument) * np.maximum(0, np.abs(argument) - threshold)\n",
    " "
   ]
  },
  {
   "cell_type": "code",
   "execution_count": 290,
   "id": "dying-stomach",
   "metadata": {
    "ExecuteTime": {
     "end_time": "2021-12-24T15:21:00.971591Z",
     "start_time": "2021-12-24T15:21:00.962582Z"
    },
    "deletable": false,
    "nbgrader": {
     "cell_type": "code",
     "checksum": "9eb3088dfe88e92c8d79ac1bc649eede",
     "grade": false,
     "grade_id": "cell-Q2LASSOSolution2",
     "locked": false,
     "schema_version": 3,
     "solution": true,
     "task": false
    }
   },
   "outputs": [],
   "source": [
    "def lasso_logistic_regression_cost_function(data_matrix, weight_matrix,\n",
    "                                            one_hot_vector_encodings,\n",
    "                                            regularisation_parameter):\n",
    "    # YOUR CODE HERE\n",
    "    return multinomial_logistic_regression_cost_function(data_matrix, weight_matrix,\n",
    "                                            one_hot_vector_encodings)\\\n",
    "                                            +regularisation_parameter*np.sum(np.abs(weight_matrix))"
   ]
  },
  {
   "cell_type": "code",
   "execution_count": 291,
   "id": "amazing-alloy",
   "metadata": {
    "ExecuteTime": {
     "end_time": "2021-12-24T15:21:03.307447Z",
     "start_time": "2021-12-24T15:21:03.293449Z"
    },
    "deletable": false,
    "nbgrader": {
     "cell_type": "code",
     "checksum": "bb502bf713437946c1532dd9fc6c7515",
     "grade": false,
     "grade_id": "cell-Q2LASSOSolution3",
     "locked": false,
     "schema_version": 3,
     "solution": true,
     "task": false
    }
   },
   "outputs": [],
   "source": [
    "def proximal_gradient_descent(objective,\n",
    "                              gradient,\n",
    "                              proximal_map,\n",
    "                              initial_weights,\n",
    "                              step_size=1,\n",
    "                              no_of_iterations=1000,\n",
    "                              print_output=100):\n",
    "    # YOUR CODE HERE\n",
    "    objective_values = []\n",
    "    weights = initial_weights \n",
    "    objective_values.append(objective(weights)) \n",
    "    \n",
    "    for counter in range(no_of_iterations):\n",
    "        weights = proximal_map(weights - step_size * gradient(weights))\n",
    "        objective_values.append(objective(weights))\n",
    "        if (counter + 1) % print_output == 0:\n",
    "            print(\"Iteration {k}/{m}, objective = {o}.\".format(k=counter+1, \\\n",
    "                    m=no_of_iterations, o=objective_values[counter]))\n",
    "    print(\"Iteration completed after {k}/{m}, objective = {o}.\".format(k=counter + 1, \\\n",
    "                m=no_of_iterations, o=objective_values[counter]))\n",
    "    return weights, objective_values"
   ]
  },
  {
   "cell_type": "markdown",
   "id": "golden-learning",
   "metadata": {
    "deletable": false,
    "editable": false,
    "nbgrader": {
     "cell_type": "markdown",
     "checksum": "363fc6e68dc98174c0e788c2f072c431",
     "grade": false,
     "grade_id": "cell-Q2LASSOFunctionsmarking",
     "locked": true,
     "schema_version": 3,
     "solution": false,
     "task": false
    }
   },
   "source": [
    "Now test your functions with the following unit tests. Passing each test will be awarded with **1 mark**."
   ]
  },
  {
   "cell_type": "code",
   "execution_count": 292,
   "id": "difficult-cable",
   "metadata": {
    "ExecuteTime": {
     "end_time": "2021-12-24T15:21:50.171526Z",
     "start_time": "2021-12-24T15:21:50.151499Z"
    },
    "deletable": false,
    "editable": false,
    "nbgrader": {
     "cell_type": "code",
     "checksum": "972c678797560d57caa3b87d9d69b518",
     "grade": true,
     "grade_id": "cell-6ae0bed599bf57d1",
     "locked": true,
     "points": 1,
     "schema_version": 3,
     "solution": false,
     "task": false
    }
   },
   "outputs": [],
   "source": [
    "test_weight_matrix = np.array([[1, 2], [3, -4]])\n",
    "np.testing.assert_array_almost_equal(soft_thresholding(test_weight_matrix, 2),\n",
    "                                     np.array([[0, 0], [1, -2]]))"
   ]
  },
  {
   "cell_type": "code",
   "execution_count": 293,
   "id": "mature-daniel",
   "metadata": {
    "ExecuteTime": {
     "end_time": "2021-12-24T15:24:59.930177Z",
     "start_time": "2021-12-24T15:24:59.903521Z"
    },
    "deletable": false,
    "editable": false,
    "nbgrader": {
     "cell_type": "code",
     "checksum": "78936a55e6bb3fbf08d3f8c3ce6ba2a0",
     "grade": true,
     "grade_id": "cell-f1cfc764c5a776d3",
     "locked": true,
     "points": 1,
     "schema_version": 3,
     "solution": false,
     "task": false
    }
   },
   "outputs": [],
   "source": [
    "test_data_matrix = np.array([[6, 4, 5], [1, 2, 8], [-3, 3, 6], [6, 5, -100],\n",
    "                             [5, 7, 2]])\n",
    "test_weight_matrix = np.array([[2, 1, -2, -4], [2, -5, 1, 4], [-2, -3, -1,\n",
    "                                                               -2]])\n",
    "test_one_hot_vector_encoding = np.array([[1., 0., 0., 0.], [0., 0., 1., 0.],\n",
    "                                         [0., 0., 0., 1.], [0., 1., 0., 0.],\n",
    "                                         [1., 0., 0., 0.]])\n",
    "test_regularisation_parameter = 0.1\n",
    "np.testing.assert_almost_equal(\n",
    "    lasso_logistic_regression_cost_function(test_data_matrix,\n",
    "                                            test_weight_matrix,\n",
    "                                            test_one_hot_vector_encoding,\n",
    "                                            test_regularisation_parameter),\n",
    "    2.9286110286783553)"
   ]
  },
  {
   "cell_type": "code",
   "execution_count": 294,
   "id": "4f315a1f",
   "metadata": {},
   "outputs": [
    {
     "data": {
      "text/plain": [
       "True"
      ]
     },
     "execution_count": 294,
     "metadata": {},
     "output_type": "execute_result"
    }
   ],
   "source": [
    "lasso_logistic_regression_cost_function(test_data_matrix,\n",
    "                                            test_weight_matrix,\n",
    "                                            test_one_hot_vector_encoding,\n",
    "                                            test_regularisation_parameter)==2.9286110286783553"
   ]
  },
  {
   "cell_type": "markdown",
   "id": "collected-burns",
   "metadata": {
    "deletable": false,
    "editable": false,
    "nbgrader": {
     "cell_type": "markdown",
     "checksum": "c0c64d729bb9ef481d3c4c157b7196bd",
     "grade": false,
     "grade_id": "cell-Q2LASSOSetup",
     "locked": true,
     "schema_version": 3,
     "solution": false,
     "task": false
    }
   },
   "source": [
    "In the next cell, define a suitable objective function *GTZAN_LASSO_objective* and a suitable gradient function *GTZAN_LASSO_gradient*, both with argument *weight_matrix* and fixed *data_matrix* (equal to *GTZAN_data_matrix*) and *one_hot_vector_encodings* (equal to *GTZAN_OHV*) from the GTZAN dataset that you have used before, as well as a suitable proximal map function *GTZAN_proximal_map* with correctly chosen threshold. The threshold should be equal to the regularisation parameter multiplied by the gradient descent step-size. Take the step size equal to \n",
    "$$\n",
    "\\tau = \\frac{3.9\\cdot s}{\\left\\|\\mathbf{\\Phi\\left(X\\right)}\\right\\|^2},\n",
    "$$\n",
    "where $s$ is the number of data samples and $\\mathbf{\\Phi\\left(X\\right)}$ is a mathematical representation of the *GTZAN_data_matrix*. Take the regularisation parameter equal to\n",
    "$$\n",
    "\\alpha = 1e-4.\n",
    "$$"
   ]
  },
  {
   "cell_type": "code",
   "execution_count": 295,
   "id": "orange-deficit",
   "metadata": {
    "ExecuteTime": {
     "end_time": "2021-12-24T19:59:32.708827Z",
     "start_time": "2021-12-24T19:59:30.381050Z"
    },
    "deletable": false,
    "nbgrader": {
     "cell_type": "code",
     "checksum": "2db86f009e5910c1e7b6fe35004fff99",
     "grade": false,
     "grade_id": "cell-Q2LASSOSolution",
     "locked": false,
     "schema_version": 3,
     "solution": true,
     "task": false
    }
   },
   "outputs": [
    {
     "name": "stdout",
     "output_type": "stream",
     "text": [
      "Iteration 100/1000, objective = 1.0825816929822873.\n",
      "Iteration 200/1000, objective = 0.9188065638028398.\n",
      "Iteration 300/1000, objective = 0.8337438517624023.\n",
      "Iteration 400/1000, objective = 0.7787614112668056.\n",
      "Iteration 500/1000, objective = 0.7392524994112962.\n",
      "Iteration 600/1000, objective = 0.7089861854744982.\n",
      "Iteration 700/1000, objective = 0.6847639172736628.\n",
      "Iteration 800/1000, objective = 0.6647871984883271.\n",
      "Iteration 900/1000, objective = 0.6479213697436094.\n",
      "Iteration 1000/1000, objective = 0.6334014439684768.\n",
      "Iteration completed after 1000/1000, objective = 0.6334014439684768.\n"
     ]
    }
   ],
   "source": [
    "LASSO_regularisation_parameter = 1e-4\n",
    "# YOUR CODE HERE\n",
    "\n",
    "GTZAN_LASSO_objective=lambda weight_matrix:lasso_logistic_regression_cost_function(GTZAN_data_matrix,\n",
    "                                                                           weight_matrix,GTZAN_OHV,LASSO_regularisation_parameter)\n",
    "GTZAN_LASSO_gradient=lambda weight_matrix:multinomial_logistic_regression_gradient(GTZAN_data_matrix,\n",
    "                                                                           weight_matrix,GTZAN_OHV) \n",
    "                                                                           \n",
    "\n",
    "\n",
    "GTZAN_initial_weights=np.zeros((GTZAN_data_matrix.shape[1], GTZAN_OHV.shape[1]))\n",
    "\n",
    "s=GTZAN_data_matrix.shape[0]\n",
    "LASSO_step_size=(3.9*s)/np.linalg.norm(GTZAN_data_matrix)**2\n",
    "\n",
    "LASSO_threshold  = LASSO_regularisation_parameter*LASSO_step_size\n",
    "GTZAN_proximal_map =  lambda x: soft_thresholding(x, LASSO_threshold)\n",
    "\n",
    "GTZAN_LASSO_optimal_weights,GTZAN_LASSO_objective_values=proximal_gradient_descent(GTZAN_LASSO_objective, GTZAN_LASSO_gradient, \n",
    "                                                                       GTZAN_proximal_map,\n",
    "                                                                       GTZAN_initial_weights,\n",
    "                                                                       LASSO_step_size)\n",
    "\n"
   ]
  },
  {
   "cell_type": "markdown",
   "id": "whole-roller",
   "metadata": {
    "deletable": false,
    "editable": false,
    "nbgrader": {
     "cell_type": "markdown",
     "checksum": "e07b416f414cdcbaf72a1d45698158d8",
     "grade": false,
     "grade_id": "cell-Q2LASSOMarking",
     "locked": true,
     "schema_version": 3,
     "solution": false,
     "task": false
    }
   },
   "source": [
    "Now test your results with the following unit tests. Passing each test will be awarded with **1 mark**."
   ]
  },
  {
   "cell_type": "code",
   "execution_count": 296,
   "id": "latest-advertising",
   "metadata": {
    "ExecuteTime": {
     "end_time": "2021-12-24T20:01:49.524906Z",
     "start_time": "2021-12-24T20:01:49.510540Z"
    },
    "deletable": false,
    "editable": false,
    "nbgrader": {
     "cell_type": "code",
     "checksum": "141d83db401eba782f4d4d9f7218b1fe",
     "grade": true,
     "grade_id": "cell-Q2LASSOTest1",
     "locked": true,
     "points": 1,
     "schema_version": 3,
     "solution": false,
     "task": false
    }
   },
   "outputs": [],
   "source": [
    "np.testing.assert_almost_equal(GTZAN_LASSO_objective_values[-1],\n",
    "                               0.6332662161567008)"
   ]
  },
  {
   "cell_type": "code",
   "execution_count": 297,
   "id": "amino-patrick",
   "metadata": {
    "ExecuteTime": {
     "end_time": "2021-12-24T20:01:58.505215Z",
     "start_time": "2021-12-24T20:01:58.490254Z"
    },
    "deletable": false,
    "editable": false,
    "nbgrader": {
     "cell_type": "code",
     "checksum": "fa0b53edc441d909baddf5c5e2ce1e24",
     "grade": true,
     "grade_id": "cell-Q2LASSOTest2",
     "locked": true,
     "points": 1,
     "schema_version": 3,
     "solution": false,
     "task": false
    }
   },
   "outputs": [],
   "source": [
    "np.testing.assert_almost_equal(np.linalg.norm(GTZAN_LASSO_optimal_weights),\n",
    "                               6.521161728885989)"
   ]
  },
  {
   "cell_type": "code",
   "execution_count": 298,
   "id": "limited-cancellation",
   "metadata": {
    "ExecuteTime": {
     "end_time": "2021-12-24T16:54:07.143236Z",
     "start_time": "2021-12-24T16:54:07.131177Z"
    },
    "deletable": false,
    "nbgrader": {
     "cell_type": "code",
     "checksum": "5fa3cc2fd2fdb4de468ea019d2e8c614",
     "grade": false,
     "grade_id": "cell-Q2LASSOResults",
     "locked": false,
     "schema_version": 3,
     "solution": true,
     "task": false
    }
   },
   "outputs": [
    {
     "name": "stdout",
     "output_type": "stream",
     "text": [
      "The classification accuracy for the GTZAN dataset is 81.89999999999999 %.\n"
     ]
    }
   ],
   "source": [
    "# YOUR CODE HERE\n",
    "\n",
    "GTZAN_LASSO_recovered_labels = multinomial_prediction_function(GTZAN_data_matrix, GTZAN_LASSO_optimal_weights)\n",
    "GTZAN_LASSO_classification_accuracy = classification_accuracy(\n",
    "    GTZAN_labels, GTZAN_LASSO_recovered_labels)\n",
    "print(\"The classification accuracy for the GTZAN dataset is {p} %.\".format(\n",
    "    p=100 * GTZAN_LASSO_classification_accuracy))"
   ]
  },
  {
   "cell_type": "markdown",
   "id": "understood-mention",
   "metadata": {
    "deletable": false,
    "editable": false,
    "heading_collapsed": true,
    "nbgrader": {
     "cell_type": "markdown",
     "checksum": "b0361f750f04a80b0f110dd32cbbff71",
     "grade": false,
     "grade_id": "cell-ebbe47193fc775ea",
     "locked": true,
     "schema_version": 3,
     "solution": false,
     "task": false
    }
   },
   "source": [
    "## Problem 3: Spoken digit classification"
   ]
  },
  {
   "cell_type": "markdown",
   "id": "outdoor-angle",
   "metadata": {
    "deletable": false,
    "editable": false,
    "hidden": true,
    "nbgrader": {
     "cell_type": "markdown",
     "checksum": "2ad4c0b492b3b273e15f673b2cf8ce01",
     "grade": false,
     "grade_id": "cell-Q3Info",
     "locked": true,
     "schema_version": 3,
     "solution": false,
     "task": false
    }
   },
   "source": [
    "This completes the first part of the assessment. From now on, you can use all concepts that you\n",
    "have learned throughout this module in order to obtain a classifier that can determine which digit\n",
    "is heard in an audio file. While you are allowed to use different libraries for visualisation/audio files manipulations purposes, you can only use NumPy to program your classifier; tools from libraries such as **SciPy/SciKit-learn/Keras/PyTorch etc. are not allowed**. However, you may wish to use such libraries as **Librosa, python_speech_features**, etc for audio files manipulation. Please note that your classfier will be tested and compared with classifiers from other students. Experimenting with differnt model approaches, regularisation models & parameters and hyperparameter-tuning strategies such as cross validation is therefore highly recommended.\n",
    "\n",
    "**The dataset structure**: the dataset consists of recordings of spoken digits in **.wav** files at $8$kHz. The recordings are trimmed so that they have near minimal silence at the beginnings and ends. There are $6$ different speakers who pronounce each digit from $0$ to $9$ for $50$ times. Each audio file has a name of the form $\\left\\{digit\\right\\}\\_\\left\\{speaker\\,\\,name\\right\\}\\_\\left\\{attempt\\,\\,number\\right\\}.wav$. The data is split into training and validation sets with the ratio $80:20$.\n",
    "\n",
    "There are many ways of representing/visualising the audio data and here in the project we will work with a spectral characteristic known as mel-frequency cepstral coefficients (MFCC) (see [Wikipedia](https://en.wikipedia.org/wiki/Mel-frequency_cepstrum) for details). As we will see later this can be treated as an pixel image.\n",
    "\n",
    "We begin by loading the Audio MNIST training dataset that is taken from this [source](https://github.com/Jakobovski/free-spoken-digit-dataset):"
   ]
  },
  {
   "cell_type": "markdown",
   "id": "5d1b3a02",
   "metadata": {},
   "source": [
    "### training data and test data"
   ]
  },
  {
   "cell_type": "code",
   "execution_count": 566,
   "id": "regulated-medicine",
   "metadata": {
    "ExecuteTime": {
     "end_time": "2021-12-24T13:24:42.670292Z",
     "start_time": "2021-12-24T13:24:36.399243Z"
    },
    "deletable": false,
    "editable": false,
    "hidden": true,
    "nbgrader": {
     "cell_type": "code",
     "checksum": "4635a0b1bfb7deb73bb8ddaf9323bb73",
     "grade": false,
     "grade_id": "cell-Q3DataLoad",
     "locked": true,
     "schema_version": 3,
     "solution": false,
     "task": false
    }
   },
   "outputs": [],
   "source": [
    "audio_mnist_training_mfccs = np.genfromtxt(\n",
    "    'AudioMNIST/MFCC/Training/training_mfccs.txt')\n",
    "audio_mnist_training_labels = np.genfromtxt(\n",
    "    'AudioMNIST/MFCC/Training/training_labels.txt').reshape(-1, 1)"
   ]
  },
  {
   "cell_type": "code",
   "execution_count": 567,
   "id": "172f0ab8",
   "metadata": {},
   "outputs": [],
   "source": [
    "audio_mnist_test_mfccs = np.genfromtxt(\n",
    "    'AudioMNIST/MFCC/Testing/testing_mfccs.txt')\n",
    "audio_mnist_test_labels = np.genfromtxt(\n",
    "    'AudioMNIST/MFCC/Testing/testing_labels.txt').reshape(-1, 1)"
   ]
  },
  {
   "cell_type": "code",
   "execution_count": 568,
   "id": "3f5d539e",
   "metadata": {},
   "outputs": [
    {
     "data": {
      "text/plain": [
       "array([-3.88500305e+02, -4.40352600e+02, -5.02921875e+02, -5.16278870e+02,\n",
       "       -5.25682434e+02, -5.21380127e+02, -5.19283020e+02, -5.23684753e+02,\n",
       "       -5.20529175e+02, -4.78866180e+02, -4.38232605e+02, -4.29475220e+02,\n",
       "       -4.22160431e+02, -4.08310394e+02, -3.69375153e+02, -3.41955048e+02,\n",
       "       -3.29744629e+02, -3.33430176e+02, -3.36702087e+02, -3.43773834e+02,\n",
       "       -3.65312958e+02, -3.63380341e+02, -3.39307831e+02, -3.47558319e+02,\n",
       "       -3.70254822e+02, -3.91719360e+02, -4.15353149e+02, -4.44876678e+02,\n",
       "       -4.67350891e+02, -4.80924347e+02,  1.12921799e+02,  1.19328812e+02,\n",
       "        1.06354897e+02,  1.00063957e+02,  9.44168472e+01,  1.00091667e+02,\n",
       "        1.03122330e+02,  9.99677734e+01,  1.05044495e+02,  1.47940186e+02,\n",
       "        1.77775330e+02,  1.79599747e+02,  1.76493530e+02,  1.79683289e+02,\n",
       "        2.03779099e+02,  2.23200577e+02,  2.31724319e+02,  2.29555527e+02,\n",
       "        2.28969009e+02,  2.25238586e+02,  2.11134583e+02,  2.20341599e+02,\n",
       "        2.40292953e+02,  2.38693771e+02,  2.27347733e+02,  2.13671539e+02,\n",
       "        1.98285889e+02,  1.77078842e+02,  1.58565735e+02,  1.47385605e+02,\n",
       "       -6.17527657e+01, -5.75134735e+01, -2.16799431e+01, -9.77606392e+00,\n",
       "       -4.45636892e+00, -7.87095726e-01,  1.93067658e+00,  3.19707012e+00,\n",
       "        9.77476692e+00,  2.67605686e+01,  1.67079811e+01,  5.27992058e+00,\n",
       "       -1.03644552e+01, -2.81169739e+01, -5.04354630e+01, -6.00300674e+01,\n",
       "       -6.57927551e+01, -6.43510437e+01, -6.08274155e+01, -5.57700806e+01,\n",
       "       -4.59291191e+01, -3.22657852e+01, -3.28027344e+01, -2.08316975e+01,\n",
       "       -3.69100761e+00,  8.66524887e+00,  1.97322884e+01,  2.76715889e+01,\n",
       "        2.80214577e+01,  2.93904419e+01, -2.50721397e+01, -2.99314537e+01,\n",
       "       -3.74652710e+01, -2.63895073e+01, -2.13249321e+01, -2.22843952e+01,\n",
       "       -2.05035095e+01, -1.78465576e+01, -1.07210655e+01, -4.60605085e-01,\n",
       "       -1.05638113e+01, -1.71499081e+01, -1.92041855e+01, -2.97932968e+01,\n",
       "       -5.31491089e+01, -6.37594414e+01, -7.23177185e+01, -7.24829407e+01,\n",
       "       -7.30126648e+01, -6.92849121e+01, -5.94545975e+01, -5.83064651e+01,\n",
       "       -6.20838547e+01, -5.31486473e+01, -3.82741127e+01, -2.22480202e+01,\n",
       "       -1.05880680e+01, -3.42757225e+00, -2.63368654e+00,  9.43803430e-01,\n",
       "       -5.96799374e+00,  3.46480989e+00,  8.72156620e+00,  9.19347095e+00,\n",
       "        8.96208572e+00,  2.85922503e+00,  3.86325932e+00,  7.97372532e+00,\n",
       "        1.31279335e+01,  2.89062271e+01,  3.64531174e+01,  4.04785156e+01,\n",
       "        5.03189545e+01,  5.66674957e+01,  5.96206741e+01,  6.36417847e+01,\n",
       "        6.15588150e+01,  5.93534164e+01,  5.39395142e+01,  5.13211365e+01,\n",
       "        4.85639534e+01,  3.47310638e+01,  3.16725197e+01,  2.98458233e+01,\n",
       "        3.14762630e+01,  3.62286224e+01,  3.58223038e+01,  3.06606941e+01,\n",
       "        2.58635902e+01,  2.54150696e+01, -2.03769035e+01, -1.41574230e+01,\n",
       "        7.65698242e+00,  6.76355362e+00,  6.84127235e+00,  2.18229055e-01,\n",
       "        6.67109847e-01,  5.63365078e+00,  8.87225151e+00,  2.34321404e+01,\n",
       "        2.78954926e+01,  3.11244698e+01,  3.08444061e+01,  3.62498627e+01,\n",
       "        4.53065720e+01,  4.97464790e+01,  5.09183388e+01,  5.13835449e+01,\n",
       "        4.85408783e+01,  4.56956749e+01,  4.19032364e+01,  2.68368454e+01,\n",
       "        1.58386002e+01,  1.09402189e+01,  1.37007275e+01,  1.38476591e+01,\n",
       "        1.43490696e+01,  1.48012924e+01,  1.50631304e+01,  1.46567478e+01,\n",
       "       -9.50183678e+00, -4.95256853e+00, -1.12289352e+01, -9.38540554e+00,\n",
       "       -7.57401085e+00, -9.33382416e+00, -1.00860043e+01, -1.02025728e+01,\n",
       "       -5.50114250e+00,  4.05491686e+00, -1.19316447e+00, -3.10935855e+00,\n",
       "       -1.04427843e+01, -1.29030619e+01, -1.36105375e+01, -1.73000546e+01,\n",
       "       -1.75004196e+01, -1.43571920e+01, -1.25599327e+01, -1.10877190e+01,\n",
       "       -8.89677238e+00, -1.95876007e+01, -3.34964104e+01, -3.86410522e+01,\n",
       "       -3.65302849e+01, -3.59261322e+01, -2.90951691e+01, -1.75171165e+01,\n",
       "       -1.12644081e+01, -9.03413200e+00,  2.98744392e+01,  2.58675385e+01,\n",
       "        9.80695343e+00,  6.94973946e+00,  5.97385931e+00,  7.75674152e+00,\n",
       "        5.74642658e+00, -6.76793456e-01,  6.29559517e+00,  1.53767996e+01,\n",
       "        1.59291801e+01,  1.45599823e+01,  1.62652035e+01,  1.69156361e+01,\n",
       "        1.77203484e+01,  1.69387875e+01,  1.70897999e+01,  1.79246178e+01,\n",
       "        1.93094101e+01,  2.18517857e+01,  2.35271263e+01,  1.32513027e+01,\n",
       "        6.59752560e+00, -3.15577865e+00, -1.42805367e+01, -1.71198101e+01,\n",
       "       -1.41296120e+01, -5.76951790e+00, -1.96387661e+00,  5.15350699e-01,\n",
       "        2.71526909e+01,  2.55038719e+01,  2.55385818e+01,  1.80396175e+01,\n",
       "        1.50674152e+01,  1.49416142e+01,  1.35396318e+01,  9.89781189e+00,\n",
       "        1.54323406e+01,  2.19052582e+01,  2.81966591e+01,  2.83672047e+01,\n",
       "        3.41723442e+01,  3.97526817e+01,  4.60787964e+01,  5.15456009e+01,\n",
       "        5.30041389e+01,  5.06430817e+01,  4.94023743e+01,  4.99447708e+01,\n",
       "        4.92578125e+01,  4.23512726e+01,  3.92447052e+01,  2.85843353e+01,\n",
       "        1.26805573e+01,  7.90373898e+00,  4.72431421e+00,  5.32607841e+00,\n",
       "        7.38069057e+00,  9.86287403e+00, -1.62803955e+01, -1.42315159e+01,\n",
       "       -2.95739031e+00, -5.12876987e+00, -5.60764408e+00, -7.92669582e+00,\n",
       "       -6.89127445e+00, -2.68772674e+00, -2.42108822e-01, -3.10270882e+00,\n",
       "       -4.62253666e+00, -5.17989111e+00, -5.31307507e+00, -3.47292995e+00,\n",
       "       -4.51823473e+00, -4.72407961e+00, -5.25765419e+00, -6.80716228e+00,\n",
       "       -8.46214008e+00, -8.48453712e+00, -6.38800049e+00, -3.62198758e+00,\n",
       "       -7.37675047e+00, -1.02912331e+01, -1.60594101e+01, -1.75459023e+01,\n",
       "       -1.89075451e+01, -1.77303696e+01, -1.29481716e+01, -8.92594337e+00,\n",
       "       -3.25254021e+01, -2.87031059e+01, -2.35892353e+01, -1.82348614e+01,\n",
       "       -1.78534660e+01, -1.82250099e+01, -1.55358534e+01, -1.10855999e+01,\n",
       "       -8.35474205e+00, -1.81803608e+01, -2.61172867e+01, -2.59705811e+01,\n",
       "       -2.62398224e+01, -2.82240524e+01, -3.78917389e+01, -4.61077118e+01,\n",
       "       -4.90119095e+01, -4.79687691e+01, -4.85289993e+01, -4.82548027e+01,\n",
       "       -4.44078445e+01, -3.55702209e+01, -3.35406036e+01, -2.92916183e+01,\n",
       "       -2.97587719e+01, -3.09444199e+01, -2.89836044e+01, -2.50906410e+01,\n",
       "       -2.14551582e+01, -1.78447018e+01, -6.19663143e+00, -4.39437294e+00,\n",
       "       -4.54469204e+00,  2.11759567e-01, -2.84926987e+00, -1.57108283e+00,\n",
       "        2.67138183e-01, -1.29101062e+00,  4.02161932e+00, -5.44945335e+00,\n",
       "       -1.08883286e+01, -1.07324324e+01, -7.88124657e+00, -7.65532637e+00,\n",
       "       -1.30156898e+01, -1.75093117e+01, -1.85538139e+01, -1.62063408e+01,\n",
       "       -1.48927250e+01, -1.62941437e+01, -1.67958164e+01, -1.03392410e+01,\n",
       "       -2.05751014e+00,  3.82292795e+00,  1.01478481e+00, -4.44420433e+00,\n",
       "       -3.03165889e+00, -4.64754522e-01, -1.22231984e+00, -9.99499142e-01,\n",
       "        1.42759438e+01,  1.15664129e+01,  9.58845329e+00,  9.55163765e+00,\n",
       "        4.95997143e+00,  3.74724221e+00,  3.57318020e+00,  8.97089481e-01,\n",
       "        6.64003754e+00, -1.41926539e+00, -6.36160469e+00, -9.85510826e+00,\n",
       "       -1.07412205e+01, -8.66533470e+00, -7.19968367e+00, -4.76600075e+00,\n",
       "       -2.41951227e+00,  6.28157735e-01,  4.08777523e+00,  4.50936139e-01,\n",
       "       -5.14611626e+00, -4.56880665e+00, -1.15306765e-01,  7.27325487e+00,\n",
       "        9.34016228e+00,  4.09960842e+00,  6.18901968e+00,  6.84539986e+00,\n",
       "        6.21430826e+00,  3.41706872e+00,  8.45816708e+00,  5.53485298e+00,\n",
       "       -2.36230755e+00, -3.93520045e+00, -5.48864937e+00, -8.82908630e+00,\n",
       "       -9.69228935e+00, -8.68679810e+00, -4.55776691e+00, -1.25244675e+01,\n",
       "       -1.88072662e+01, -2.29628372e+01, -2.50349007e+01, -2.41760445e+01,\n",
       "       -2.41639137e+01, -2.36320038e+01, -2.10290089e+01, -1.85987358e+01,\n",
       "       -1.61584682e+01, -1.91286201e+01, -2.50893688e+01, -3.16358318e+01,\n",
       "       -3.44775925e+01, -2.63384666e+01, -1.55199909e+01, -1.51813154e+01,\n",
       "       -1.05368605e+01, -1.05059128e+01, -8.70347977e+00, -1.27907782e+01,\n",
       "       -2.62380695e+00, -3.13472939e+00, -7.76310730e+00, -8.41595268e+00,\n",
       "       -7.08043098e+00, -8.39438438e+00, -8.00471210e+00, -6.75986004e+00,\n",
       "       -3.85894060e+00, -9.33259010e+00, -1.04453096e+01, -8.61588478e+00,\n",
       "       -3.81811547e+00, -4.25067806e+00, -6.84540749e+00, -1.08003740e+01,\n",
       "       -1.06329880e+01, -1.20583363e+01, -1.37299404e+01, -1.32014523e+01,\n",
       "       -1.53150444e+01, -2.83600502e+01, -3.41243172e+01, -3.17719688e+01,\n",
       "       -2.16115303e+01, -1.81877003e+01, -1.46210175e+01, -1.40542126e+01,\n",
       "       -1.24432583e+01, -1.66116161e+01, -6.67015171e+00, -4.85643959e+00,\n",
       "       -5.78593731e-01, -5.98056316e-01,  1.06108809e+00,  2.26169014e+00,\n",
       "        3.99617290e+00,  2.52104664e+00,  3.88340807e+00,  1.27850306e+00,\n",
       "        4.81699181e+00,  1.06587610e+01,  1.66601429e+01,  1.38415327e+01,\n",
       "        1.24515190e+01,  9.54176140e+00,  7.00886869e+00,  2.13012171e+00,\n",
       "       -8.60787630e-02,  3.20952129e+00,  5.72507858e+00, -5.00868988e+00,\n",
       "       -1.25854740e+01, -1.73486843e+01, -1.28123341e+01, -9.26682949e+00,\n",
       "       -9.45711327e+00, -6.38245869e+00, -4.36408758e+00, -6.67711926e+00,\n",
       "       -6.54119968e+00, -6.92370224e+00, -4.86125183e+00, -3.89166045e+00,\n",
       "       -2.76957130e+00, -1.66679108e+00, -5.16571283e-01, -1.67932796e+00,\n",
       "       -2.82922125e+00, -7.06881237e+00, -8.07033443e+00, -5.37444878e+00,\n",
       "       -6.31152582e+00, -1.27996445e+01, -1.53094025e+01, -1.67190361e+01,\n",
       "       -2.08043003e+01, -2.32759895e+01, -2.09013481e+01, -1.81583672e+01,\n",
       "       -1.41051216e+01, -1.16182222e+01, -1.88460388e+01, -2.28744755e+01,\n",
       "       -1.99382095e+01, -1.47388372e+01, -1.59808197e+01, -1.22833624e+01,\n",
       "       -8.33918858e+00, -7.85058355e+00, -2.90032476e-01, -4.69814396e+00,\n",
       "       -1.28728075e+01, -1.08786774e+01, -1.12923508e+01, -1.07280178e+01,\n",
       "       -1.15996017e+01, -1.02752323e+01, -1.22745991e+01, -1.96134033e+01,\n",
       "       -2.53323402e+01, -2.63499680e+01, -2.85424652e+01, -3.49449005e+01,\n",
       "       -4.06981964e+01, -4.41818390e+01, -4.73254242e+01, -4.45604401e+01,\n",
       "       -4.03974380e+01, -4.04634552e+01, -3.86900101e+01, -2.42559280e+01,\n",
       "       -2.46644020e+01, -2.47025032e+01, -2.39000721e+01, -1.79003334e+01,\n",
       "       -1.74111576e+01, -1.82401352e+01, -1.53877754e+01, -1.43891354e+01,\n",
       "        8.14930153e+00,  3.97424507e+00, -4.79149151e+00, -3.45803118e+00,\n",
       "       -6.94383240e+00, -6.34676361e+00, -8.11589622e+00, -6.29841995e+00,\n",
       "       -6.71685839e+00, -1.27676573e+01, -1.53107224e+01, -1.61330414e+01,\n",
       "       -1.42156191e+01, -1.60142784e+01, -1.94837837e+01, -2.33748741e+01,\n",
       "       -2.40915337e+01, -2.08761253e+01, -2.10161686e+01, -2.32968712e+01,\n",
       "       -2.37923126e+01, -9.01865578e+00, -3.73741555e+00, -5.34706879e+00,\n",
       "       -9.96716499e+00, -7.81781578e+00, -5.91031742e+00, -9.68240261e+00,\n",
       "       -8.71478844e+00, -9.43358421e+00,  6.19647694e+00,  5.46214581e+00,\n",
       "        4.18748713e+00,  3.89977217e+00, -1.41931796e+00, -1.50482059e+00,\n",
       "       -1.77318203e+00, -8.81748080e-01, -1.16602993e+00, -3.54890537e+00,\n",
       "       -2.71618581e+00, -2.71631289e+00, -1.70614421e+00,  2.11534500e-01,\n",
       "        2.57688618e+00,  1.50857592e+00,  1.15965152e+00,  4.31684256e-01,\n",
       "       -2.79265404e+00, -5.30719852e+00, -6.18533230e+00,  1.31821740e+00,\n",
       "        4.39055061e+00,  5.34556806e-01, -5.13309669e+00, -8.18485832e+00,\n",
       "       -6.49049759e+00, -6.18407249e+00, -3.21361828e+00, -4.92888069e+00,\n",
       "       -4.60214376e+00, -2.46648121e+00, -2.25973201e+00, -3.49284434e+00,\n",
       "       -7.37253380e+00, -7.06960869e+00, -5.03750706e+00, -4.56869030e+00,\n",
       "       -8.02109241e+00, -1.05445404e+01, -1.14888935e+01, -1.15349464e+01,\n",
       "       -1.26495762e+01, -1.01316319e+01, -7.41881800e+00, -7.44779682e+00,\n",
       "       -9.42970276e+00, -1.19179230e+01, -1.26794300e+01, -1.38467340e+01,\n",
       "       -1.53678322e+01, -1.42841454e+01, -1.26721516e+01, -1.14112616e+01,\n",
       "       -1.20581894e+01, -1.75946198e+01, -1.81705399e+01, -1.36806374e+01,\n",
       "       -9.76567459e+00, -1.15236406e+01, -8.27219105e+00, -7.67138767e+00,\n",
       "       -7.85073328e+00, -9.48391533e+00, -1.05271435e+01, -7.30900955e+00,\n",
       "       -4.31927490e+00, -4.32707691e+00, -1.03439846e+01, -1.71639366e+01,\n",
       "       -1.93191795e+01, -1.86663322e+01, -1.74225845e+01, -1.61301403e+01,\n",
       "       -1.79986076e+01, -1.91456985e+01, -2.13534126e+01, -2.24525394e+01,\n",
       "       -2.03562565e+01, -1.93066940e+01, -2.07136650e+01, -2.23791237e+01,\n",
       "       -1.64525604e+01, -8.67462730e+00, -5.72669744e+00, -1.15365314e+01,\n",
       "       -1.50583134e+01, -1.22939329e+01, -1.22491198e+01, -1.40054655e+01,\n",
       "       -8.37213516e-01, -3.24646783e+00, -2.16705203e+00, -3.76178074e+00,\n",
       "       -2.52489281e+00,  1.46568227e+00,  3.78488946e+00,  3.39960098e+00,\n",
       "       -1.45640874e+00, -1.07629738e+01, -1.14484806e+01, -1.01609955e+01,\n",
       "       -9.11061287e+00, -1.05478878e+01, -1.42549267e+01, -1.52983952e+01,\n",
       "       -1.67656746e+01, -1.75729580e+01, -1.63252831e+01, -1.32830677e+01,\n",
       "       -1.07942486e+01, -1.20487919e+01, -5.39099407e+00,  8.85695994e-01,\n",
       "        3.02007246e+00, -1.58828521e+00, -5.26947451e+00, -5.80037212e+00,\n",
       "       -6.80478668e+00, -7.06928110e+00,  6.27881098e+00,  2.76153326e+00,\n",
       "        6.01294637e-03, -7.96695769e-01,  1.81582689e+00,  1.11502671e+00,\n",
       "        2.02771568e+00,  2.48378754e+00, -5.20300865e-02, -6.02623367e+00,\n",
       "       -6.03239346e+00, -5.09726906e+00, -7.96342134e+00, -1.14270172e+01,\n",
       "       -1.34346552e+01, -1.42353754e+01, -1.61299782e+01, -1.79520721e+01,\n",
       "       -1.89914417e+01, -1.57723312e+01, -9.30034351e+00, -8.41623306e+00,\n",
       "       -7.09178925e+00, -6.79255676e+00, -7.00022125e+00, -9.39197540e+00,\n",
       "       -1.05440121e+01, -1.24572849e+01, -8.66598701e+00, -6.52673197e+00,\n",
       "        4.94365501e+00,  2.88868475e+00, -4.70396423e+00, -4.97537518e+00,\n",
       "       -2.83339739e+00, -7.89100504e+00, -8.60201645e+00, -7.16128922e+00,\n",
       "       -9.47696018e+00, -1.04814262e+01, -9.72838020e+00, -8.77266884e+00,\n",
       "       -1.00862808e+01, -1.19980812e+01, -1.32040043e+01, -1.49624758e+01,\n",
       "       -1.60234909e+01, -1.70155754e+01, -1.92833481e+01, -1.80219688e+01,\n",
       "       -1.32592478e+01, -1.08513145e+01, -1.19452515e+01, -1.36199312e+01,\n",
       "       -1.53026495e+01, -1.67010155e+01, -1.68617744e+01, -1.93705864e+01,\n",
       "       -1.40710831e+01, -1.27158051e+01, -2.48270988e+00, -2.07604027e+00,\n",
       "       -3.99606276e+00, -4.24457693e+00, -4.30531979e+00, -7.73227739e+00,\n",
       "       -9.87977505e+00, -8.88948441e+00, -1.18697596e+01, -1.36658258e+01,\n",
       "       -1.13106289e+01, -1.01371489e+01, -6.32476473e+00, -6.09930372e+00,\n",
       "       -7.30219460e+00, -8.05030632e+00, -5.86088085e+00, -4.73356247e+00,\n",
       "       -6.73242664e+00, -7.95580864e+00, -7.79874229e+00, -5.14767742e+00,\n",
       "       -5.30868864e+00, -5.24239016e+00, -5.57189465e+00, -6.82104731e+00,\n",
       "       -8.42391300e+00, -9.04951477e+00, -8.13873100e+00, -1.04775209e+01,\n",
       "       -8.33411121e+00, -7.95314980e+00, -1.54663956e+00, -2.02251077e-01,\n",
       "       -1.17354035e+00, -1.15158856e+00, -3.56858253e+00, -3.82567167e+00,\n",
       "       -5.96077490e+00, -1.31562080e+01, -1.26572714e+01, -1.23979836e+01,\n",
       "       -8.71821022e+00, -9.32981873e+00, -8.93651962e+00, -6.35723877e+00,\n",
       "       -3.33318996e+00, -1.73017502e+00, -1.75982845e+00, -4.26518536e+00,\n",
       "       -5.47312975e+00, -3.04637074e+00, -4.53515816e+00, -3.62776470e+00,\n",
       "       -7.44569778e-01,  3.63226891e-01, -2.02417088e+00,  1.58626354e+00,\n",
       "        3.94725800e-01, -2.98899293e+00, -5.61360741e+00, -7.76360512e+00,\n",
       "       -7.28640699e+00, -3.04329419e+00, -2.21055651e+00, -2.42023683e+00,\n",
       "       -3.52854609e+00, -4.72371531e+00, -5.60071468e+00, -1.37039852e+01,\n",
       "       -1.76829205e+01, -1.83248043e+01, -1.64802380e+01, -1.70998783e+01,\n",
       "       -1.52325211e+01, -1.18124886e+01, -1.13975592e+01, -1.08783474e+01,\n",
       "       -9.20880699e+00, -1.10546522e+01, -1.07005301e+01, -9.39500141e+00,\n",
       "       -1.08172112e+01, -1.05693588e+01, -8.08796978e+00, -4.54569578e+00,\n",
       "       -6.34767723e+00, -2.51064587e+00, -2.62424374e+00, -3.68202782e+00,\n",
       "        3.17507482e+00, -1.31269646e+00, -1.12321453e+01, -7.16856098e+00,\n",
       "       -4.60627270e+00, -6.03812599e+00, -5.94827557e+00, -7.28596497e+00,\n",
       "       -8.62055874e+00, -1.13666534e+01, -1.49714088e+01, -1.52767715e+01,\n",
       "       -1.20737228e+01, -9.39996433e+00, -8.21267414e+00, -7.32872677e+00,\n",
       "       -7.33961630e+00, -7.70456314e+00, -7.52396107e+00, -7.04603338e+00,\n",
       "       -5.15933037e+00, -5.27752495e+00, -2.64254928e+00, -3.60448742e+00,\n",
       "       -5.41853714e+00, -4.16900969e+00, -5.29106617e+00, -5.74560356e+00,\n",
       "       -7.64463329e+00, -8.06481266e+00,  6.90597153e+00,  3.54273009e+00,\n",
       "       -3.74325085e+00, -4.37111855e+00, -1.87253642e+00, -1.79385030e+00,\n",
       "       -2.85691786e+00, -3.08908939e+00, -5.29096127e+00, -5.25493717e+00,\n",
       "       -3.66387272e+00, -3.27298594e+00, -1.51546955e+00,  1.88881814e+00,\n",
       "        2.79522085e+00,  1.99491262e+00,  3.70421743e+00,  2.87745762e+00,\n",
       "        5.87687969e-01,  3.29757214e+00,  5.85569096e+00,  6.57645321e+00,\n",
       "        9.44331169e+00,  6.76902008e+00,  3.87819767e+00,  1.09386730e+00,\n",
       "        1.11049283e+00, -4.17848557e-01, -4.56894207e+00, -6.52350664e+00])"
      ]
     },
     "execution_count": 568,
     "metadata": {},
     "output_type": "execute_result"
    }
   ],
   "source": [
    "audio_mnist_training_mfccs[0]"
   ]
  },
  {
   "cell_type": "markdown",
   "id": "sexual-kingdom",
   "metadata": {
    "deletable": false,
    "editable": false,
    "hidden": true,
    "nbgrader": {
     "cell_type": "markdown",
     "checksum": "20e06c99af6a706ea6ce6be788b7f576",
     "grade": false,
     "grade_id": "cell-Q3DataInfo",
     "locked": true,
     "schema_version": 3,
     "solution": false,
     "task": false
    }
   },
   "source": [
    "**Remark:** Please note that the corresponding data folder contains two types of data:\n",
    "- raw audio files (folder Audio)\n",
    "- audio files Mel-frequency cepstral coefficients (folder MFCC) saved in txt file\n",
    "\n",
    "In the above we use Mel-frequency cepstral coefficients as the data representation of audio. You are allowed to use alternative representations if you wish. If you do so, please comment in your report on why have you selected another model and what have you achieved by doing that."
   ]
  },
  {
   "cell_type": "markdown",
   "id": "related-couple",
   "metadata": {
    "deletable": false,
    "editable": false,
    "hidden": true,
    "nbgrader": {
     "cell_type": "markdown",
     "checksum": "e2b64ad258c73bd8f727914e630c525f",
     "grade": false,
     "grade_id": "cell-Q3Demostration",
     "locked": true,
     "schema_version": 3,
     "solution": false,
     "task": false
    }
   },
   "source": [
    "Below we take a random element of a training data and demonstrate how the MFCC can be visualised."
   ]
  },
  {
   "cell_type": "code",
   "execution_count": 569,
   "id": "systematic-humidity",
   "metadata": {
    "ExecuteTime": {
     "end_time": "2021-12-24T13:28:35.048413Z",
     "start_time": "2021-12-24T13:28:34.495690Z"
    },
    "deletable": false,
    "editable": false,
    "hidden": true,
    "nbgrader": {
     "cell_type": "code",
     "checksum": "8e95213d81c32cc8b761fccc40fc8663",
     "grade": false,
     "grade_id": "cell-Q3DemostrationPlot",
     "locked": true,
     "schema_version": 3,
     "solution": false,
     "task": false
    }
   },
   "outputs": [
    {
     "name": "stdout",
     "output_type": "stream",
     "text": [
      "The Audio MNIST training set contains 2400 samples with 900 MFC coefficients each.\n"
     ]
    },
    {
     "data": {
      "text/plain": [
       "<function matplotlib.pyplot.tight_layout(*, pad=1.08, h_pad=None, w_pad=None, rect=None)>"
      ]
     },
     "execution_count": 569,
     "metadata": {},
     "output_type": "execute_result"
    },
    {
     "data": {
      "image/png": "[encoded data removed]",
      "text/plain": [
       "<Figure size 432x288 with 1 Axes>"
      ]
     },
     "metadata": {
      "needs_background": "light"
     },
     "output_type": "display_data"
    }
   ],
   "source": [
    "print(\"The Audio MNIST training set contains {s} samples with {p} MFC coefficients each.\".format(s = audio_mnist_training_mfccs.shape[0], \\\n",
    "        p = audio_mnist_training_mfccs.shape[1]))\n",
    "\n",
    "item_number = np.random.randint(low=0, high=2400)\n",
    "\n",
    "plt.imshow(audio_mnist_training_mfccs[item_number].reshape(30, 30), cmap='hot')\n",
    "plt.title(\"This is the {n}th audio sample of the Audio MNIST training set. The corresponding label is {l}\".format( \\\n",
    "            n= item_number, l=int(audio_mnist_training_labels[item_number][0])))\n",
    "plt.tight_layout"
   ]
  },
  {
   "cell_type": "markdown",
   "id": "invisible-differential",
   "metadata": {
    "deletable": false,
    "editable": false,
    "hidden": true,
    "nbgrader": {
     "cell_type": "markdown",
     "checksum": "ccb2879e7e27d4259fc388f88a6c9e2f",
     "grade": false,
     "grade_id": "cell-Q3CodeInfo1",
     "locked": true,
     "schema_version": 3,
     "solution": false,
     "task": false
    }
   },
   "source": [
    "Use the following space to write your codes. It should be possible to reproduce results that are shown in your report with the codes that are described here. You can outsource functions into separate files if you find that this tidies up your notebook. Any additional libraries that you want to use (e.g. for visualisations etc.) can be loaded here."
   ]
  },
  {
   "cell_type": "markdown",
   "id": "c31f561f",
   "metadata": {},
   "source": [
    "### one hot vector"
   ]
  },
  {
   "cell_type": "code",
   "execution_count": 570,
   "id": "eed50236",
   "metadata": {},
   "outputs": [],
   "source": [
    "def one_hot_vector_encoding2(labels):\n",
    "    #make label integer\n",
    "    labels_int=labels.astype(int)\n",
    "    no_of_classes = np.max(labels_int) + 1\n",
    "    output = np.zeros((len(labels_int), no_of_classes))\n",
    "    \n",
    "    output[np.arange(len(labels_int)), labels_int] = 1\n",
    "    return output"
   ]
  },
  {
   "cell_type": "markdown",
   "id": "b7527817",
   "metadata": {},
   "source": [
    "### data matrix and one hot vector of training data"
   ]
  },
  {
   "cell_type": "code",
   "execution_count": 686,
   "id": "2bb6a9a4",
   "metadata": {},
   "outputs": [],
   "source": [
    "audio_mnist_training_mfccs, _, _ = standardise(audio_mnist_training_mfccs)\n",
    "MNIST_data_matrix=linear_regression_data(audio_mnist_training_mfccs)\n",
    "MNIST_OHV=one_hot_vector_encoding2(audio_mnist_training_labels.reshape(len(audio_mnist_training_labels),))\n",
    "### data matrix and one hot vector of training data"
   ]
  },
  {
   "cell_type": "markdown",
   "id": "ec3bd718",
   "metadata": {},
   "source": [
    "### data matrix and one hot vector of testing data"
   ]
  },
  {
   "cell_type": "code",
   "execution_count": 663,
   "id": "e6d838a9",
   "metadata": {},
   "outputs": [],
   "source": [
    "audio_mnist_test_mfccs, _, _ = standardise(audio_mnist_test_mfccs)\n",
    "MNIST_data_matrix_test=linear_regression_data(audio_mnist_test_mfccs)\n",
    "MNIST_OHV_test=one_hot_vector_encoding2(audio_mnist_test_labels.reshape(len(audio_mnist_test_labels),))\n",
    "\n"
   ]
  },
  {
   "cell_type": "markdown",
   "id": "c6578355",
   "metadata": {},
   "source": [
    "## multinomial linear regeression model"
   ]
  },
  {
   "cell_type": "markdown",
   "id": "e516a8e8",
   "metadata": {},
   "source": [
    "### traing model"
   ]
  },
  {
   "cell_type": "code",
   "execution_count": 576,
   "id": "1a198d3e",
   "metadata": {
    "ExecuteTime": {
     "end_time": "2021-12-24T15:19:25.323766Z",
     "start_time": "2021-12-24T15:19:25.299143Z"
    },
    "hidden": true,
    "nbgrader": {
     "cell_type": "code",
     "checksum": "08e2c815a5810d591104250a5bda6e18",
     "grade": false,
     "grade_id": "cell-Q1GradientDescentFunctionSolution2",
     "locked": false,
     "schema_version": 3,
     "solution": true,
     "task": false
    }
   },
   "outputs": [],
   "source": [
    "def gradient_descent_v2_2(objective, gradient, initial_weights, \n",
    "                        step_size=1, no_of_iterations=10000,print_output=5000, tolerance=1e-3):\n",
    "    # YOUR CODE HERE\n",
    "    objective_values = []\n",
    "    weights = np.copy(initial_weights)\n",
    "    objective_values.append(objective(weights))\n",
    " \n",
    "    for counter in range(no_of_iterations):\n",
    "        if  np.linalg.norm(gradient(weights))<=tolerance:\n",
    "            print(np.linalg.norm(gradient(weights)))\n",
    "            break\n",
    "        weights -= step_size * gradient(weights)\n",
    "        objective_values.append(objective(weights))\n",
    "        if (counter + 1) % print_output == 0:\n",
    "            print(\"Iteration {k}/{m}, objective = {o}.\".format(k=counter+1, \\\n",
    "                    m=no_of_iterations, o=objective_values[counter]))\n",
    "    print(\"Iteration completed after {k}/{m}, objective = {o}.\".format(k=counter+1, \\\n",
    "                m=no_of_iterations, o=objective_values[counter]))\n",
    "           \n",
    "    return weights, objective_values"
   ]
  },
  {
   "cell_type": "code",
   "execution_count": 577,
   "id": "c2af5524",
   "metadata": {},
   "outputs": [
    {
     "name": "stdout",
     "output_type": "stream",
     "text": [
      "Iteration 5000/500000, objective = 0.06304608628254402.\n",
      "Iteration 10000/500000, objective = 0.03731356696918496.\n",
      "Iteration 15000/500000, objective = 0.02680664015594646.\n",
      "Iteration 20000/500000, objective = 0.020933515538089132.\n",
      "Iteration 25000/500000, objective = 0.017159692821372093.\n",
      "Iteration 30000/500000, objective = 0.014535270910263586.\n",
      "Iteration 35000/500000, objective = 0.012609002924020058.\n",
      "Iteration 40000/500000, objective = 0.011136629935317414.\n",
      "Iteration 45000/500000, objective = 0.009975081506812998.\n",
      "Iteration 50000/500000, objective = 0.009035403084563843.\n",
      "Iteration 55000/500000, objective = 0.008259524766129112.\n",
      "Iteration 60000/500000, objective = 0.007607979243635446.\n",
      "Iteration 65000/500000, objective = 0.0070530246230266205.\n",
      "Iteration 70000/500000, objective = 0.006574599022048157.\n",
      "Iteration 75000/500000, objective = 0.006157838219523126.\n",
      "Iteration 80000/500000, objective = 0.00579149606923672.\n",
      "Iteration 85000/500000, objective = 0.005466907244431775.\n",
      "Iteration 90000/500000, objective = 0.005177287151244027.\n",
      "Iteration 95000/500000, objective = 0.00491724786297432.\n",
      "Iteration 100000/500000, objective = 0.004682456183226126.\n",
      "Iteration 105000/500000, objective = 0.004469387456380959.\n",
      "Iteration 110000/500000, objective = 0.004275145256916317.\n",
      "Iteration 115000/500000, objective = 0.004097327276104663.\n",
      "Iteration 120000/500000, objective = 0.00393392416581228.\n",
      "Iteration 125000/500000, objective = 0.0037832422635215154.\n",
      "Iteration 130000/500000, objective = 0.003643843870092254.\n",
      "Iteration 135000/500000, objective = 0.003514500598061935.\n",
      "Iteration 140000/500000, objective = 0.003394156570127154.\n",
      "Iteration 145000/500000, objective = 0.0032818991233467313.\n",
      "Iteration 150000/500000, objective = 0.003176935291357266.\n",
      "Iteration 155000/500000, objective = 0.003078572776952876.\n",
      "Iteration 160000/500000, objective = 0.0029862044452450957.\n",
      "Iteration 165000/500000, objective = 0.0028992955998564966.\n",
      "Iteration 170000/500000, objective = 0.0028173734760873854.\n",
      "Iteration 175000/500000, objective = 0.002740018512893867.\n",
      "Iteration 180000/500000, objective = 0.0026668570617912573.\n",
      "Iteration 185000/500000, objective = 0.0025975552639097657.\n",
      "Iteration 190000/500000, objective = 0.0025318138824071005.\n",
      "Iteration 195000/500000, objective = 0.002469363920635003.\n",
      "Iteration 200000/500000, objective = 0.0024099628900293877.\n",
      "Iteration 205000/500000, objective = 0.0023533916179682554.\n",
      "Iteration 210000/500000, objective = 0.0022994515065394064.\n",
      "Iteration 215000/500000, objective = 0.0022479621695689882.\n",
      "Iteration 220000/500000, objective = 0.002198759388342441.\n",
      "Iteration 225000/500000, objective = 0.0021516933369398914.\n",
      "Iteration 230000/500000, objective = 0.002106627036563839.\n",
      "Iteration 235000/500000, objective = 0.00206343500508763.\n",
      "Iteration 240000/500000, objective = 0.0020220020736301915.\n",
      "Iteration 245000/500000, objective = 0.0019822223465255466.\n",
      "Iteration 250000/500000, objective = 0.0019439982848012843.\n",
      "Iteration 255000/500000, objective = 0.0019072398963743192.\n",
      "Iteration 260000/500000, objective = 0.0018718640187310735.\n",
      "Iteration 265000/500000, objective = 0.0018377936819904824.\n",
      "Iteration 270000/500000, objective = 0.0018049575420255298.\n",
      "Iteration 275000/500000, objective = 0.0017732893748070807.\n",
      "Iteration 280000/500000, objective = 0.00174272762438721.\n",
      "Iteration 285000/500000, objective = 0.0017132149979930534.\n",
      "Iteration 290000/500000, objective = 0.0016846981025965219.\n",
      "Iteration 295000/500000, objective = 0.0016571271180823319.\n",
      "Iteration 300000/500000, objective = 0.0016304555027814305.\n",
      "Iteration 305000/500000, objective = 0.0016046397276897207.\n",
      "Iteration 310000/500000, objective = 0.0015796390361595412.\n",
      "Iteration 315000/500000, objective = 0.0015554152262598705.\n",
      "Iteration 320000/500000, objective = 0.0015319324533454859.\n",
      "Iteration 325000/500000, objective = 0.0015091570506787992.\n",
      "Iteration 330000/500000, objective = 0.0014870573662046694.\n",
      "0.0009999977154873105\n",
      "Iteration completed after 331006/500000, objective = 0.001482689891520586.\n"
     ]
    }
   ],
   "source": [
    "audio_mnist_training_mfccs, _, _ = standardise(audio_mnist_training_mfccs)\n",
    "MNIST_data_matrix=linear_regression_data(audio_mnist_training_mfccs)\n",
    "MNIST_OHV=one_hot_vector_encoding2(audio_mnist_training_labels.reshape(len(audio_mnist_training_labels),))\n",
    "\n",
    "\n",
    "MNIST_objective=lambda weight_matrix:multinomial_logistic_regression_cost_function(MNIST_data_matrix,\n",
    "                                                                           weight_matrix,MNIST_OHV)\n",
    "MNIST_gradient=lambda weight_matrix:multinomial_logistic_regression_gradient(MNIST_data_matrix,\n",
    "                                                                           weight_matrix,MNIST_OHV)\n",
    "\n",
    "\n",
    "MNIST_initial_weights=np.zeros((MNIST_data_matrix.shape[1], MNIST_OHV.shape[1]))\n",
    "\n",
    "s=len(MNIST_data_matrix)\n",
    "\n",
    "MNIST_step_size=(3.9*s)/np.linalg.norm(MNIST_data_matrix)**2\n",
    "MNIST_optimal_weights_multi,MNIST_objective_values_multi=gradient_descent_v2_2(MNIST_objective, MNIST_gradient, \n",
    "                                                                     MNIST_initial_weights, \n",
    "                     MNIST_step_size, no_of_iterations=500000, print_output=5000, tolerance=1e-3)\n",
    "\n"
   ]
  },
  {
   "cell_type": "markdown",
   "id": "0bf34607",
   "metadata": {},
   "source": [
    "### plot training cost"
   ]
  },
  {
   "cell_type": "code",
   "execution_count": 613,
   "id": "7ae2a4eb",
   "metadata": {},
   "outputs": [],
   "source": [
    "import matplotlib.pyplot as plt"
   ]
  },
  {
   "cell_type": "code",
   "execution_count": 630,
   "id": "4bad3b47",
   "metadata": {},
   "outputs": [
    {
     "data": {
      "image/png": "[encoded data removed]",
      "text/plain": [
       "<Figure size 432x288 with 1 Axes>"
      ]
     },
     "metadata": {
      "needs_background": "light"
     },
     "output_type": "display_data"
    }
   ],
   "source": [
    "plt.plot(MNIST_objective_values_multi)\n",
    "plt.title(\"training cost\")\n",
    "plt.xlabel(\"no of iterations\")\n",
    "plt.ylabel(\"cost\")\n",
    "plt.show()"
   ]
  },
  {
   "cell_type": "markdown",
   "id": "a892141f",
   "metadata": {},
   "source": [
    "### evaluate model for trainig data"
   ]
  },
  {
   "cell_type": "code",
   "execution_count": 580,
   "id": "ab4e9156",
   "metadata": {},
   "outputs": [
    {
     "name": "stdout",
     "output_type": "stream",
     "text": [
      "The classification accuracy for the MNIST dataset is 100.0 %.\n"
     ]
    }
   ],
   "source": [
    "MNIST_recovered_labels = multinomial_prediction_function(MNIST_data_matrix, \\\n",
    "                                                         MNIST_optimal_weights)\n",
    "MNIST_classification_accuracy = classification_accuracy(\n",
    "    audio_mnist_training_labels.reshape(len(audio_mnist_training_labels)), MNIST_recovered_labels)\n",
    "print(\"The classification accuracy for the MNIST dataset is {p} %.\".format(\n",
    "    p=100 * MNIST_classification_accuracy))"
   ]
  },
  {
   "cell_type": "markdown",
   "id": "8c6c56ee",
   "metadata": {},
   "source": [
    "### evaluate model for test data"
   ]
  },
  {
   "cell_type": "code",
   "execution_count": 684,
   "id": "997d4250",
   "metadata": {},
   "outputs": [
    {
     "data": {
      "text/plain": [
       "0.21688204906697547"
      ]
     },
     "execution_count": 684,
     "metadata": {},
     "output_type": "execute_result"
    }
   ],
   "source": [
    "test_cost_multi=multinomial_logistic_regression_cost_function(MNIST_data_matrix_test,                                                              MNIST_optimal_weights_multi,MNIST_OHV_test)\n",
    "test_cost_multi"
   ]
  },
  {
   "cell_type": "code",
   "execution_count": 685,
   "id": "28ad5f9e",
   "metadata": {},
   "outputs": [
    {
     "name": "stdout",
     "output_type": "stream",
     "text": [
      "The classification accuracy test for the MNIST dataset is 95.16666666666667 %.\n"
     ]
    }
   ],
   "source": [
    "MNIST_recovered_labels_test = multinomial_prediction_function(MNIST_data_matrix_test,MNIST_optimal_weights_multi)\n",
    "\n",
    "MNIST_classification_accuracy_test = classification_accuracy(\n",
    "    audio_mnist_test_labels.reshape(len(audio_mnist_test_labels)), MNIST_recovered_labels_test)\n",
    "\n",
    "print(\"The classification accuracy test for the MNIST dataset is {p} %.\".format(\n",
    "    p=100 * MNIST_classification_accuracy_test))"
   ]
  },
  {
   "cell_type": "markdown",
   "id": "414f5a9d",
   "metadata": {},
   "source": [
    "### K-fold split"
   ]
  },
  {
   "cell_type": "code",
   "execution_count": 584,
   "id": "8dacde92",
   "metadata": {},
   "outputs": [],
   "source": [
    "def KFold_split(data_size, K):\n",
    "    np.random.seed(StudentID)\n",
    "    #BEGIN SOLUTION\n",
    "    indexes = np.random.permutation(data_size)\n",
    "    m, r = divmod(data_size, K)\n",
    "    indexes_split = [\n",
    "        indexes[i * m + min(i, r):(i + 1) * m + min(i + 1, r)]\n",
    "        for i in range(K)\n",
    "    ]\n",
    "    return indexes_split"
   ]
  },
  {
   "cell_type": "markdown",
   "id": "35446a77",
   "metadata": {},
   "source": [
    "## Ridge"
   ]
  },
  {
   "cell_type": "code",
   "execution_count": 681,
   "id": "98d39e4a",
   "metadata": {},
   "outputs": [],
   "source": [
    "def ridge_multinomial_logistic_regression_cost_function(data_matrix,\n",
    "                                                        weight_matrix,OHV,regularisation_parameter):\n",
    "    # YOUR CODE HERE\n",
    "    rL=multinomial_logistic_regression_cost_function(data_matrix,weight_matrix,OHV)+\\\n",
    "      (regularisation_parameter/2)*(np.linalg.norm(weight_matrix)**2)\n",
    "    \n",
    "    return rL"
   ]
  },
  {
   "cell_type": "code",
   "execution_count": 586,
   "id": "9c2d0eb6",
   "metadata": {},
   "outputs": [],
   "source": [
    "def ridge_multinomial_logistic_regression_gradient(data_matrix,\n",
    "                                                        weight_matrix,OHV,regularisation_parameter):\n",
    "    # YOUR CODE HERE\n",
    "    rgL=multinomial_logistic_regression_gradient(data_matrix,weight_matrix,OHV)+regularisation_parameter*weight_matrix\n",
    "    \n",
    "    return rgL"
   ]
  },
  {
   "cell_type": "code",
   "execution_count": 587,
   "id": "d74e1cc5",
   "metadata": {
    "scrolled": true
   },
   "outputs": [
    {
     "name": "stdout",
     "output_type": "stream",
     "text": [
      "Iteration 5000/500000, objective = 0.06982101801182208.\n",
      "Iteration 10000/500000, objective = 0.04683988104574291.\n",
      "Iteration 15000/500000, objective = 0.03826084517079045.\n",
      "Iteration 20000/500000, objective = 0.03387938983600853.\n",
      "Iteration 25000/500000, objective = 0.031311232569378344.\n",
      "Iteration 30000/500000, objective = 0.02968589144408997.\n",
      "Iteration 35000/500000, objective = 0.028603297533546762.\n",
      "Iteration 40000/500000, objective = 0.027854077070845897.\n",
      "Iteration 45000/500000, objective = 0.02731969304064427.\n",
      "Iteration 50000/500000, objective = 0.026929087696600643.\n",
      "Iteration 55000/500000, objective = 0.02663768160183789.\n",
      "Iteration 60000/500000, objective = 0.02641644956761384.\n",
      "Iteration 65000/500000, objective = 0.026245906121312945.\n",
      "Iteration 70000/500000, objective = 0.0261126316619777.\n",
      "Iteration 75000/500000, objective = 0.026007182723031267.\n",
      "Iteration 80000/500000, objective = 0.025922790412791795.\n",
      "Iteration 85000/500000, objective = 0.025854525197775854.\n",
      "Iteration 90000/500000, objective = 0.025798746929556117.\n",
      "Iteration 95000/500000, objective = 0.0257527344761274.\n",
      "Iteration 100000/500000, objective = 0.02571443135580517.\n",
      "Iteration 105000/500000, objective = 0.025682267995174587.\n",
      "Iteration 110000/500000, objective = 0.025655035617154577.\n",
      "0.000999996061353823\n",
      "Iteration completed after 114786/500000, objective = 0.025632718854390956.\n"
     ]
    }
   ],
   "source": [
    "MNIST_ridge_regularisation_parameter = 1e-3\n",
    "\n",
    "\n",
    "MNIST_ridge_objective=lambda weight_matrix:ridge_multinomial_logistic_regression_cost_function(MNIST_data_matrix,\n",
    "                                                                           weight_matrix,MNIST_OHV,MNIST_ridge_regularisation_parameter)\n",
    "MNIST_ridge_gradient=lambda weight_matrix:ridge_multinomial_logistic_regression_gradient(MNIST_data_matrix,\n",
    "                                                                           weight_matrix,MNIST_OHV,MNIST_ridge_regularisation_parameter) \n",
    "                                                                           \n",
    "\n",
    "\n",
    "MNIST_initial_weights=np.zeros((MNIST_data_matrix.shape[1], MNIST_OHV.shape[1]))\n",
    "\n",
    "s=MNIST_data_matrix.shape[0]\n",
    "MNIST_ridge_step_size=(3.9*s)/np.linalg.norm(MNIST_data_matrix)**2\n",
    "\n",
    "MNIST_ridge_optimal_weights,MNIST_ridge_objective_values=gradient_descent_v2_2(MNIST_ridge_objective, MNIST_ridge_gradient, \n",
    "                                                                       MNIST_initial_weights, \n",
    "                     MNIST_ridge_step_size, no_of_iterations=500000, tolerance=1e-3)\n",
    "\n",
    "\n",
    "\n"
   ]
  },
  {
   "cell_type": "markdown",
   "id": "9a9aa9a8",
   "metadata": {},
   "source": [
    "### plot training cost"
   ]
  },
  {
   "cell_type": "code",
   "execution_count": 632,
   "id": "9e1fdf54",
   "metadata": {
    "scrolled": true
   },
   "outputs": [
    {
     "data": {
      "image/png": "[encoded data removed]",
      "text/plain": [
       "<Figure size 432x288 with 1 Axes>"
      ]
     },
     "metadata": {
      "needs_background": "light"
     },
     "output_type": "display_data"
    }
   ],
   "source": [
    "plt.plot(MNIST_ridge_objective_values)\n",
    "plt.title(\"training cost\")\n",
    "plt.xlabel(\"no of iterations\")\n",
    "plt.ylabel(\"cost\")\n",
    "plt.show()"
   ]
  },
  {
   "cell_type": "markdown",
   "id": "9cdf680a",
   "metadata": {},
   "source": [
    "### evaluate model for trainig data"
   ]
  },
  {
   "cell_type": "code",
   "execution_count": 588,
   "id": "439281d4",
   "metadata": {},
   "outputs": [
    {
     "name": "stdout",
     "output_type": "stream",
     "text": [
      "The classification accuracy for the MNIST dataset is 100.0 %.\n"
     ]
    }
   ],
   "source": [
    "ridge_recovered_labels = multinomial_prediction_function(MNIST_data_matrix, \\\n",
    "                                                         MNIST_ridge_optimal_weights)\n",
    "ridge_classification_accuracy = classification_accuracy(\n",
    "    audio_mnist_training_labels.reshape(len(audio_mnist_training_labels)), ridge_recovered_labels)\n",
    "\n",
    "print(\"The classification accuracy for the MNIST dataset is {p} %.\".format(\n",
    "    p=100 * ridge_classification_accuracy))"
   ]
  },
  {
   "cell_type": "markdown",
   "id": "cdc7061b",
   "metadata": {},
   "source": [
    "### evaluate model for test data"
   ]
  },
  {
   "cell_type": "code",
   "execution_count": 689,
   "id": "3ed65778",
   "metadata": {},
   "outputs": [
    {
     "data": {
      "text/plain": [
       "0.19568978118425745"
      ]
     },
     "execution_count": 689,
     "metadata": {},
     "output_type": "execute_result"
    }
   ],
   "source": [
    "test_cost_ridge=ridge_multinomial_logistic_regression_cost_function(MNIST_data_matrix_test,\n",
    "                                                              MNIST_ridge_optimal_weights,MNIST_OHV_test,1e-3)\n",
    "test_cost_ridge"
   ]
  },
  {
   "cell_type": "code",
   "execution_count": 699,
   "id": "df4a28f8",
   "metadata": {},
   "outputs": [
    {
     "name": "stdout",
     "output_type": "stream",
     "text": [
      "The ridge classification accuracy test for the MNIST dataset is 94.83333333333334 %.\n"
     ]
    }
   ],
   "source": [
    "ridge_recovered_labels_test = multinomial_prediction_function(MNIST_data_matrix_test,MNIST_ridge_optimal_weights)\n",
    "\n",
    "ridge_classification_accuracy_test = classification_accuracy(\n",
    "    audio_mnist_test_labels.reshape(len(audio_mnist_test_labels)), ridge_recovered_labels_test)\n",
    "\n",
    "print(\"The ridge classification accuracy test for the MNIST dataset is {p} %.\".format(\n",
    "    p= 100*ridge_classification_accuracy_test))"
   ]
  },
  {
   "cell_type": "markdown",
   "id": "d19acae7",
   "metadata": {},
   "source": [
    "### hyper-paremeter tuning"
   ]
  },
  {
   "cell_type": "code",
   "execution_count": 601,
   "id": "ecfe7ac3",
   "metadata": {},
   "outputs": [],
   "source": [
    "def KFold_cross_validation_ridge(data_matrix, data_outputs, K, r_parameter):\n",
    "    \n",
    "    data_size = len(data_matrix)\n",
    "    indexes_split = KFold_split(data_size, K)\n",
    "    obj_value = []\n",
    "    \n",
    "    \n",
    "    for i in range(K):\n",
    "        indexes = np.concatenate(\n",
    "            [indexes_split[j] for j in range(K) if (j != i)])  \n",
    "        \n",
    "        data_train=data_matrix[indexes]\n",
    "        label_train=data_outputs[indexes]\n",
    "        \n",
    "        data_val=data_matrix[indexes_split[i]]\n",
    "        label_val=data_outputs[indexes_split[i]]\n",
    "\n",
    "\n",
    "        ridge_objective_t=lambda weight_matrix:ridge_multinomial_logistic_regression_cost_function(data_train,\n",
    "                                                                           weight_matrix,label_train,r_parameter)\n",
    "        ridge_gradient_t=lambda weight_matrix:ridge_multinomial_logistic_regression_gradient(data_train,\n",
    "                                                                           weight_matrix,label_train,r_parameter) \n",
    "    \n",
    "        ridge_objective_v=lambda weight_matrix:ridge_multinomial_logistic_regression_cost_function(data_val,\n",
    "                                                                           weight_matrix,label_val,r_parameter)\n",
    "        ridge_gradient_v=lambda weight_matrix:ridge_multinomial_logistic_regression_gradient(data_val,\n",
    "                                                                           weight_matrix,label_val,r_parameter) \n",
    "   \n",
    "\n",
    "        initial_weights=np.zeros((data_train.shape[1], label_train.shape[1]))\n",
    "\n",
    "        s_t=data_train.shape[0]\n",
    "        ridge_step_size_t=(3.9*s_t)/np.linalg.norm(data_train)**2 \n",
    "        \n",
    "   \n",
    "        weights_train=gradient_descent_v2_2(ridge_objective_t, ridge_gradient_t, \n",
    "                                                                initial_weights, \n",
    "                     ridge_step_size_t, no_of_iterations=30000, tolerance=1e-2)[0]\n",
    "    \n",
    "        value_val=ridge_objective_v(weights_train)\n",
    "        \n",
    "        obj_value.append(value_val)\n",
    "        print(value_val)\n",
    "    objective_value=np.mean(obj_value)\n",
    "    return objective_value"
   ]
  },
  {
   "cell_type": "code",
   "execution_count": 602,
   "id": "244be32b",
   "metadata": {},
   "outputs": [],
   "source": [
    "K_objective_function_ridge=lambda alpha: KFold_cross_validation_ridge(data_matrix=MNIST_data_matrix, \n",
    "                                                                      data_outputs=MNIST_OHV, K=5, r_parameter=alpha)"
   ]
  },
  {
   "cell_type": "code",
   "execution_count": 603,
   "id": "3c4533f7",
   "metadata": {},
   "outputs": [
    {
     "name": "stdout",
     "output_type": "stream",
     "text": [
      "Iteration 5000/400000, objective = 0.059425555327051224.\n",
      "Iteration 10000/400000, objective = 0.034350398133151404.\n",
      "Iteration 15000/400000, objective = 0.024246335099418884.\n",
      "Iteration 20000/400000, objective = 0.018719221630080957.\n",
      "Iteration 25000/400000, objective = 0.015245911096277898.\n",
      "0.009999740823157487\n",
      "Iteration completed after 28616/400000, objective = 0.01344641515619636.\n",
      "0.10274608409452728\n",
      "Iteration 5000/400000, objective = 0.060327341470849526.\n",
      "Iteration 10000/400000, objective = 0.03483231873456846.\n",
      "Iteration 15000/400000, objective = 0.0245642049991064.\n",
      "Iteration 20000/400000, objective = 0.018938020651079045.\n",
      "Iteration 25000/400000, objective = 0.01540078366214364.\n",
      "0.009999811813370833\n",
      "Iteration completed after 29205/400000, objective = 0.013312078938844183.\n",
      "0.13063781316271644\n",
      "Iteration 5000/400000, objective = 0.05583790990152494.\n",
      "Iteration 10000/400000, objective = 0.03153412930752386.\n",
      "Iteration 15000/400000, objective = 0.021957074393189724.\n",
      "Iteration 20000/400000, objective = 0.016785190967663302.\n",
      "Iteration 25000/400000, objective = 0.013572593343309746.\n",
      "0.009999736989312327\n",
      "Iteration completed after 27359/400000, objective = 0.01244925840110983.\n",
      "0.17185629107189826\n",
      "Iteration 5000/400000, objective = 0.05536234293059933.\n",
      "Iteration 10000/400000, objective = 0.031500418184391636.\n",
      "Iteration 15000/400000, objective = 0.022221104602283274.\n",
      "Iteration 20000/400000, objective = 0.01719549052777695.\n",
      "Iteration 25000/400000, objective = 0.01403113395251066.\n",
      "0.009999975088348254\n",
      "Iteration completed after 27419/400000, objective = 0.012886133928874976.\n",
      "0.1404034891474626\n",
      "Iteration 5000/400000, objective = 0.060629224400442334.\n",
      "Iteration 10000/400000, objective = 0.035170687644549566.\n",
      "Iteration 15000/400000, objective = 0.024922969109486093.\n",
      "Iteration 20000/400000, objective = 0.01928346322459777.\n",
      "Iteration 25000/400000, objective = 0.015721731433396665.\n",
      "0.00999985421219391\n",
      "Iteration completed after 29485/400000, objective = 0.013490789156283075.\n",
      "0.09263691556048873\n",
      "Iteration 5000/400000, objective = 0.06010839522773503.\n",
      "Iteration 10000/400000, objective = 0.03532057525217119.\n",
      "Iteration 15000/400000, objective = 0.02542486729493061.\n",
      "Iteration 20000/400000, objective = 0.020063740123307826.\n",
      "Iteration 25000/400000, objective = 0.016728928278914243.\n",
      "0.00999997547924354\n",
      "Iteration completed after 27830/400000, objective = 0.015352639826252481.\n",
      "0.1044259710888057\n",
      "Iteration 5000/400000, objective = 0.06100343784167735.\n",
      "Iteration 10000/400000, objective = 0.03579303354578195.\n",
      "Iteration 15000/400000, objective = 0.025731262993386426.\n",
      "Iteration 20000/400000, objective = 0.020269732127202015.\n",
      "Iteration 25000/400000, objective = 0.016869957935075678.\n",
      "0.009999862549651727\n",
      "Iteration completed after 28409/400000, objective = 0.015214178609999464.\n",
      "0.13175519263762686\n",
      "Iteration 5000/400000, objective = 0.05652638765505682.\n",
      "Iteration 10000/400000, objective = 0.03250577190610771.\n",
      "Iteration 15000/400000, objective = 0.023131076025559832.\n",
      "Iteration 20000/400000, objective = 0.01811898765552349.\n",
      "Iteration 25000/400000, objective = 0.015038670082126936.\n",
      "0.00999963669897178\n",
      "Iteration completed after 26637/400000, objective = 0.014277612593598818.\n",
      "0.1725267398192296\n",
      "Iteration 5000/400000, objective = 0.05604587278148819.\n",
      "Iteration 10000/400000, objective = 0.03246259469294815.\n",
      "Iteration 15000/400000, objective = 0.023381012834019083.\n",
      "Iteration 20000/400000, objective = 0.018512021351962088.\n",
      "Iteration 25000/400000, objective = 0.015478357362124575.\n",
      "0.0099997655620138\n",
      "Iteration completed after 26671/400000, objective = 0.014706125500357013.\n",
      "0.14151407764013024\n",
      "Iteration 5000/400000, objective = 0.06130907874361232.\n",
      "Iteration 10000/400000, objective = 0.03613587025531494.\n",
      "Iteration 15000/400000, objective = 0.026095109021933915.\n",
      "Iteration 20000/400000, objective = 0.02062105092069395.\n",
      "Iteration 25000/400000, objective = 0.017197640595802022.\n",
      "0.009999662456884892\n",
      "Iteration completed after 28670/400000, objective = 0.015412467456477917.\n",
      "0.09419840786998265\n",
      "Iteration 5000/400000, objective = 0.06616450054066288.\n",
      "Iteration 10000/400000, objective = 0.04379847926672105.\n",
      "Iteration 15000/400000, objective = 0.0355742990979975.\n",
      "Iteration 20000/400000, objective = 0.031478371370177435.\n",
      "0.00999976321549876\n",
      "Iteration completed after 22979/400000, objective = 0.029947493911929433.\n",
      "0.11753219121324221\n",
      "Iteration 5000/400000, objective = 0.06700168636053816.\n",
      "Iteration 10000/400000, objective = 0.0441940101949997.\n",
      "Iteration 15000/400000, objective = 0.035792151176045034.\n",
      "Iteration 20000/400000, objective = 0.03159070967471935.\n",
      "0.009999999075075495\n",
      "Iteration completed after 23484/400000, objective = 0.02979413282871577.\n",
      "0.1410875015872075\n",
      "Iteration 5000/400000, objective = 0.06263252822322402.\n",
      "Iteration 10000/400000, objective = 0.04099661329964697.\n",
      "Iteration 15000/400000, objective = 0.033241681675696556.\n",
      "Iteration 20000/400000, objective = 0.02944284303039767.\n",
      "0.009999674755054673\n",
      "Iteration completed after 22130/400000, objective = 0.028396095264044845.\n",
      "0.17882091807680303\n",
      "Iteration 5000/400000, objective = 0.06210847380452732.\n",
      "Iteration 10000/400000, objective = 0.04087140854599632.\n",
      "Iteration 15000/400000, objective = 0.03337122187139144.\n",
      "Iteration 20000/400000, objective = 0.029690232196703872.\n",
      "0.009999816680568025\n",
      "Iteration completed after 22009/400000, objective = 0.028717715168326063.\n",
      "0.15078895524644942\n",
      "Iteration 5000/400000, objective = 0.06734109515755468.\n",
      "Iteration 10000/400000, objective = 0.04457676154437155.\n",
      "Iteration 15000/400000, objective = 0.03620097964916818.\n",
      "Iteration 20000/400000, objective = 0.0319935292350354.\n",
      "0.009999854832395082\n",
      "Iteration completed after 23631/400000, objective = 0.030122677249569987.\n",
      "0.10648945109404406\n",
      "Iteration 5000/400000, objective = 0.11920940097211546.\n",
      "Iteration 10000/400000, objective = 0.11036744662202225.\n",
      "0.009999111774760207\n",
      "Iteration completed after 11379/400000, objective = 0.10962788357974312.\n",
      "0.19241828053085816\n",
      "Iteration 5000/400000, objective = 0.11967833237513785.\n",
      "Iteration 10000/400000, objective = 0.11046209043610902.\n",
      "0.009999247093998525\n",
      "Iteration completed after 11656/400000, objective = 0.10955976019263491.\n",
      "0.20409494246893778\n",
      "Iteration 5000/400000, objective = 0.11611579326854332.\n",
      "Iteration 10000/400000, objective = 0.1076881538714838.\n",
      "0.009999708256469264\n",
      "Iteration completed after 11099/400000, objective = 0.10712255196420342.\n",
      "0.2313516949916391\n",
      "Iteration 5000/400000, objective = 0.11523573298625103.\n",
      "Iteration 10000/400000, objective = 0.10697159505877388.\n",
      "0.009998919363432146\n",
      "Iteration completed after 10976/400000, objective = 0.10647989147446335.\n",
      "0.2133419295847866\n",
      "Iteration 5000/400000, objective = 0.12034349044055886.\n",
      "Iteration 10000/400000, objective = 0.11119843880817185.\n",
      "0.009999217120346496\n",
      "Iteration completed after 11615/400000, objective = 0.11032872748438231.\n",
      "0.1781875263715662\n"
     ]
    },
    {
     "data": {
      "text/plain": [
       "0.0"
      ]
     },
     "execution_count": 603,
     "metadata": {},
     "output_type": "execute_result"
    }
   ],
   "source": [
    "#grid search with 5-fold cross validation\n",
    "alpha_grid=np.array([0,1e-4,1e-3,1e-2])\n",
    "grid_search(K_objective_function_ridge, alpha_grid) "
   ]
  },
  {
   "cell_type": "markdown",
   "id": "c98502d7",
   "metadata": {},
   "source": [
    "## LASSO"
   ]
  },
  {
   "cell_type": "code",
   "execution_count": 604,
   "id": "945dd24c",
   "metadata": {},
   "outputs": [],
   "source": [
    "def proximal_gradient_descent2(objective,\n",
    "                              gradient,\n",
    "                              proximal_map,\n",
    "                              initial_weights,\n",
    "                              step_size=1,\n",
    "                              no_of_iterations=500000,\n",
    "                              print_output=5000,\n",
    "                              tolerance=1e-3):\n",
    "    # YOUR CODE HERE\n",
    "    objective_values = []\n",
    "    weights = initial_weights \n",
    "    objective_values.append(objective(weights)) \n",
    "    \n",
    "    for counter in range(no_of_iterations):\n",
    "        if  np.linalg.norm(gradient(weights))<=tolerance:\n",
    "            print(np.linalg.norm(gradient(weights)))\n",
    "            break\n",
    "        weights = proximal_map(weights - step_size * gradient(weights))\n",
    "        objective_values.append(objective(weights))\n",
    "        if (counter + 1) % print_output == 0:\n",
    "            print(\"Iteration {k}/{m}, objective = {o}.\".format(k=counter+1, \\\n",
    "                    m=no_of_iterations, o=objective_values[counter]))\n",
    "    print(\"Iteration completed after {k}/{m}, objective = {o}.\".format(k=counter + 1, \\\n",
    "                m=no_of_iterations, o=objective_values[counter]))\n",
    "    return weights, objective_values"
   ]
  },
  {
   "cell_type": "code",
   "execution_count": 605,
   "id": "76bc94f4",
   "metadata": {
    "scrolled": false
   },
   "outputs": [
    {
     "name": "stdout",
     "output_type": "stream",
     "text": [
      "Iteration 5000/500000, objective = 0.25341855969882293.\n",
      "Iteration 10000/500000, objective = 0.23651276861627007.\n",
      "Iteration 15000/500000, objective = 0.2287818485646457.\n",
      "Iteration 20000/500000, objective = 0.22395633895531278.\n",
      "Iteration 25000/500000, objective = 0.22064037864562236.\n",
      "Iteration 30000/500000, objective = 0.2181775891906802.\n",
      "Iteration 35000/500000, objective = 0.21626636879458164.\n",
      "Iteration 40000/500000, objective = 0.21471442674041336.\n",
      "Iteration 45000/500000, objective = 0.2134277174717109.\n",
      "Iteration 50000/500000, objective = 0.21234449701042085.\n",
      "Iteration 55000/500000, objective = 0.21142956415445052.\n",
      "Iteration 60000/500000, objective = 0.21064021096205082.\n",
      "Iteration 65000/500000, objective = 0.20995014390167255.\n",
      "Iteration 70000/500000, objective = 0.2093440174618259.\n",
      "Iteration 75000/500000, objective = 0.20880204144810346.\n",
      "Iteration 80000/500000, objective = 0.20831811742496154.\n",
      "Iteration 85000/500000, objective = 0.20788170269210154.\n",
      "Iteration 90000/500000, objective = 0.20748723673335137.\n",
      "Iteration 95000/500000, objective = 0.20713092188299015.\n",
      "Iteration 100000/500000, objective = 0.2068076555674388.\n",
      "Iteration 105000/500000, objective = 0.20651194385559762.\n",
      "Iteration 110000/500000, objective = 0.2062416566718128.\n",
      "Iteration 115000/500000, objective = 0.20599259524733063.\n",
      "Iteration 120000/500000, objective = 0.20576039771530144.\n",
      "Iteration 125000/500000, objective = 0.20554323216698092.\n",
      "Iteration 130000/500000, objective = 0.20534241021312097.\n",
      "Iteration 135000/500000, objective = 0.20515319840933685.\n",
      "Iteration 140000/500000, objective = 0.2049757086208704.\n",
      "Iteration 145000/500000, objective = 0.20480998631812752.\n",
      "Iteration 150000/500000, objective = 0.2046553482007159.\n",
      "Iteration 155000/500000, objective = 0.20450931597206815.\n",
      "Iteration 160000/500000, objective = 0.20437109807550005.\n",
      "Iteration 165000/500000, objective = 0.20424213577195505.\n",
      "Iteration 170000/500000, objective = 0.20412000930819849.\n",
      "Iteration 175000/500000, objective = 0.20400457270551114.\n",
      "Iteration 180000/500000, objective = 0.2038953221478457.\n",
      "Iteration 185000/500000, objective = 0.20379094243676876.\n",
      "Iteration 190000/500000, objective = 0.20369060007835915.\n",
      "Iteration 195000/500000, objective = 0.20359362027433203.\n",
      "Iteration 200000/500000, objective = 0.2035020048565771.\n",
      "Iteration 205000/500000, objective = 0.2034143430135003.\n",
      "Iteration 210000/500000, objective = 0.2033306277351515.\n",
      "Iteration 215000/500000, objective = 0.203251349049218.\n",
      "Iteration 220000/500000, objective = 0.203174951953117.\n",
      "Iteration 225000/500000, objective = 0.2031011173711192.\n",
      "Iteration 230000/500000, objective = 0.20302966748109905.\n",
      "Iteration 235000/500000, objective = 0.20296052306556586.\n",
      "Iteration 240000/500000, objective = 0.20289360627848038.\n",
      "Iteration 245000/500000, objective = 0.20282921157974468.\n",
      "Iteration 250000/500000, objective = 0.20276793930679238.\n",
      "Iteration 255000/500000, objective = 0.20270860984306985.\n",
      "Iteration 260000/500000, objective = 0.2026512865887959.\n",
      "Iteration 265000/500000, objective = 0.2025963296909698.\n",
      "Iteration 270000/500000, objective = 0.20254360955450185.\n",
      "Iteration 275000/500000, objective = 0.20249250100181734.\n",
      "Iteration 280000/500000, objective = 0.20244284491395115.\n",
      "Iteration 285000/500000, objective = 0.20239481255338104.\n",
      "Iteration 290000/500000, objective = 0.20234846573461748.\n",
      "Iteration 295000/500000, objective = 0.20230349142032833.\n",
      "Iteration 300000/500000, objective = 0.20225973440669104.\n",
      "Iteration 305000/500000, objective = 0.20221717890610638.\n",
      "Iteration 310000/500000, objective = 0.20217559424525497.\n",
      "Iteration 315000/500000, objective = 0.20213487305869238.\n",
      "Iteration 320000/500000, objective = 0.20209532849058648.\n",
      "Iteration 325000/500000, objective = 0.20205688559571797.\n",
      "Iteration 330000/500000, objective = 0.20201962209876034.\n",
      "Iteration 335000/500000, objective = 0.20198315517671928.\n",
      "Iteration 340000/500000, objective = 0.20194733374312335.\n",
      "Iteration 345000/500000, objective = 0.20191235732718926.\n",
      "Iteration 350000/500000, objective = 0.2018781626700843.\n",
      "Iteration 355000/500000, objective = 0.20184473798035396.\n",
      "Iteration 360000/500000, objective = 0.20181201700414148.\n",
      "Iteration 365000/500000, objective = 0.2017801488563527.\n",
      "Iteration 370000/500000, objective = 0.20174904559501014.\n",
      "Iteration 375000/500000, objective = 0.2017186380150143.\n",
      "Iteration 380000/500000, objective = 0.2016888045093846.\n",
      "Iteration 385000/500000, objective = 0.20165977764564522.\n",
      "Iteration 390000/500000, objective = 0.20163153352683888.\n",
      "Iteration 395000/500000, objective = 0.20160397226125742.\n",
      "Iteration 400000/500000, objective = 0.20157690497379274.\n",
      "Iteration 405000/500000, objective = 0.20155037361440564.\n",
      "Iteration 410000/500000, objective = 0.20152437239139748.\n",
      "Iteration 415000/500000, objective = 0.20149886768166347.\n",
      "Iteration 420000/500000, objective = 0.20147385171388593.\n",
      "Iteration 425000/500000, objective = 0.20144935050790722.\n",
      "Iteration 430000/500000, objective = 0.2014254928427095.\n",
      "Iteration 435000/500000, objective = 0.20140232964806992.\n",
      "Iteration 440000/500000, objective = 0.2013795973365164.\n",
      "Iteration 445000/500000, objective = 0.20135737411815785.\n",
      "Iteration 450000/500000, objective = 0.20133548855776975.\n",
      "Iteration 455000/500000, objective = 0.20131398555599817.\n",
      "Iteration 460000/500000, objective = 0.2012928981705893.\n",
      "Iteration 465000/500000, objective = 0.20127246931199005.\n",
      "Iteration 470000/500000, objective = 0.2012524570872461.\n",
      "Iteration 475000/500000, objective = 0.20123281565954854.\n",
      "Iteration 480000/500000, objective = 0.2012136191817033.\n",
      "Iteration 485000/500000, objective = 0.2011947017125519.\n",
      "Iteration 490000/500000, objective = 0.20117604269305717.\n",
      "Iteration 495000/500000, objective = 0.20115767881175328.\n",
      "Iteration 500000/500000, objective = 0.20113961634637856.\n",
      "Iteration completed after 500000/500000, objective = 0.20113961634637856.\n"
     ]
    }
   ],
   "source": [
    "MNIST_LASSO_regularisation_parameter = 1e-3\n",
    "\n",
    "\n",
    "MNIST_LASSO_objective=lambda weight_matrix:lasso_logistic_regression_cost_function(MNIST_data_matrix,\n",
    "                                                                           weight_matrix,MNIST_OHV,MNIST_LASSO_regularisation_parameter)\n",
    "MNIST_LASSO_gradient=lambda weight_matrix:multinomial_logistic_regression_gradient(MNIST_data_matrix,\n",
    "                                                                           weight_matrix,MNIST_OHV) \n",
    "                                                                           \n",
    "\n",
    "\n",
    "MNIST_initial_weights=np.zeros((MNIST_data_matrix.shape[1], MNIST_OHV.shape[1]))\n",
    "\n",
    "s=MNIST_data_matrix.shape[0]\n",
    "MNIST_LASSO_step_size=(3.9*s)/np.linalg.norm(MNIST_data_matrix)**2\n",
    "\n",
    "MNIST_LASSO_threshold  = MNIST_LASSO_regularisation_parameter * MNIST_LASSO_step_size\n",
    "MNIST_proximal_map =  lambda x: soft_thresholding(x, MNIST_LASSO_threshold)\n",
    "\n",
    "MNIST_LASSO_optimal_weights,MNIST_LASSO_objective_values=proximal_gradient_descent2(MNIST_LASSO_objective, MNIST_LASSO_gradient, \n",
    "                                                                       MNIST_proximal_map,\n",
    "                                                                       MNIST_initial_weights,\n",
    "                                                                       MNIST_LASSO_step_size,\n",
    "                                                                       no_of_iterations=500000, print_output=5000, \n",
    "                                                                       tolerance=1e-3)\n",
    "\n"
   ]
  },
  {
   "cell_type": "markdown",
   "id": "61853ccd",
   "metadata": {},
   "source": [
    "### plot training cost"
   ]
  },
  {
   "cell_type": "markdown",
   "id": "f02935cf",
   "metadata": {},
   "source": [
    "evaluate by trainig data "
   ]
  },
  {
   "cell_type": "code",
   "execution_count": 631,
   "id": "a5c9836f",
   "metadata": {
    "scrolled": true
   },
   "outputs": [
    {
     "data": {
      "image/png": "[encoded data removed]",
      "text/plain": [
       "<Figure size 432x288 with 1 Axes>"
      ]
     },
     "metadata": {
      "needs_background": "light"
     },
     "output_type": "display_data"
    }
   ],
   "source": [
    "plt.plot(MNIST_LASSO_objective_values)\n",
    "plt.title(\"training cost\")\n",
    "plt.xlabel(\"no of iterations\")\n",
    "plt.ylabel(\"cost\")\n",
    "plt.show()"
   ]
  },
  {
   "cell_type": "markdown",
   "id": "bab08999",
   "metadata": {},
   "source": [
    "### evaluate model for trainig data"
   ]
  },
  {
   "cell_type": "code",
   "execution_count": 606,
   "id": "890a2e57",
   "metadata": {},
   "outputs": [
    {
     "name": "stdout",
     "output_type": "stream",
     "text": [
      "The classification accuracy for the MNIST dataset is 100.0 %.\n"
     ]
    }
   ],
   "source": [
    "LASSO_recovered_labels = multinomial_prediction_function(MNIST_data_matrix, \\\n",
    "                                                         MNIST_LASSO_optimal_weights)\n",
    "LASSO_classification_accuracy = classification_accuracy(\n",
    "    audio_mnist_training_labels.reshape(len(audio_mnist_training_labels)), MNIST_recovered_labels)\n",
    "\n",
    "print(\"The classification accuracy for the MNIST dataset is {p} %.\".format(\n",
    "    p=100 * LASSO_classification_accuracy))"
   ]
  },
  {
   "cell_type": "code",
   "execution_count": 675,
   "id": "a9688f0f",
   "metadata": {},
   "outputs": [
    {
     "data": {
      "text/plain": [
       "0.40028758027352385"
      ]
     },
     "execution_count": 675,
     "metadata": {},
     "output_type": "execute_result"
    }
   ],
   "source": [
    "test_cost_lasso=lasso_logistic_regression_cost_function(MNIST_data_matrix_test,\n",
    "                                                              MNIST_LASSO_optimal_weights,MNIST_OHV_test,1e-3)\n",
    "test_cost_lasso"
   ]
  },
  {
   "cell_type": "code",
   "execution_count": 676,
   "id": "e608afa7",
   "metadata": {},
   "outputs": [
    {
     "name": "stdout",
     "output_type": "stream",
     "text": [
      "The LASSO classification accuracy test for the MNIST dataset is 93.5 %.\n"
     ]
    }
   ],
   "source": [
    "LASSO_recovered_labels_test = multinomial_prediction_function(MNIST_data_matrix_test,MNIST_LASSO_optimal_weights)\n",
    "\n",
    "LASSO_classification_accuracy_test = classification_accuracy(\n",
    "    audio_mnist_test_labels.reshape(len(audio_mnist_test_labels)), LASSO_recovered_labels_test)\n",
    "\n",
    "print(\"The LASSO classification accuracy test for the MNIST dataset is {p} %.\".format(\n",
    "    p=100 * LASSO_classification_accuracy_test))"
   ]
  },
  {
   "cell_type": "markdown",
   "id": "88e328f3",
   "metadata": {},
   "source": [
    "### hyper-paremeter tuning"
   ]
  },
  {
   "cell_type": "code",
   "execution_count": 636,
   "id": "c58ba27a",
   "metadata": {},
   "outputs": [],
   "source": [
    "def KFold_cross_validation_LASSO(data_matrix, data_outputs, K, r_parameter):\n",
    "    \n",
    "    data_size = len(data_matrix)\n",
    "    indexes_split = KFold_split(data_size, K)\n",
    "    \n",
    "    \n",
    "    obj_value = []\n",
    "\n",
    "    \n",
    "    for i in range(K):\n",
    "        indexes = np.concatenate(\n",
    "            [indexes_split[j] for j in range(K) if (j != i)])  \n",
    "        \n",
    "        data_train=data_matrix[indexes]\n",
    "        label_train=data_outputs[indexes]\n",
    "        \n",
    "        data_val=data_matrix[indexes_split[i]]\n",
    "        label_val=data_outputs[indexes_split[i]]\n",
    "\n",
    "\n",
    "        LASSO_objective_t=lambda weight_matrix:lasso_logistic_regression_cost_function(data_train,\n",
    "                                                                           weight_matrix,label_train,r_parameter)\n",
    "        LASSO_gradient_t=lambda weight_matrix:multinomial_logistic_regression_gradient(data_train,\n",
    "                                                                           weight_matrix,label_train) \n",
    "    \n",
    "        LASSO_objective_v=lambda weight_matrix:lasso_logistic_regression_cost_function(data_val,\n",
    "                                                                           weight_matrix,label_val,r_parameter)\n",
    "        LASSO_gradient_v=lambda weight_matrix:multinomial_logistic_regression_gradient(data_val,\n",
    "                                                                           weight_matrix,label_val) \n",
    "   \n",
    "\n",
    "        initial_weights=np.zeros((data_train.shape[1], label_train.shape[1]))\n",
    "\n",
    "        s_t=data_train.shape[0]\n",
    "        LASSO_step_size_t=(3.9*s_t)/np.linalg.norm(data_train)**2\n",
    "\n",
    "        LASSO_threshold_t  = r_parameter * LASSO_step_size_t\n",
    "        proximal_map_t =  lambda x: soft_thresholding(x, LASSO_threshold_t)\n",
    "\n",
    "    \n",
    "        s_v=data_val.shape[0]\n",
    "        LASSO_step_size_v=(3.9*s_v)/np.linalg.norm(data_val)**2\n",
    "\n",
    "        LASSO_threshold_v  = r_parameter * LASSO_step_size_v\n",
    "        proximal_map_v =  lambda x: soft_thresholding(x, LASSO_threshold_v)\n",
    "   \n",
    "        weights_train=proximal_gradient_descent2(LASSO_objective_t, LASSO_gradient_t, \n",
    "                                                    proximal_map_t,\n",
    "                                                    initial_weights,\n",
    "                                                    LASSO_step_size_t,\n",
    "                                                    no_of_iterations=30000, \n",
    "                                                    tolerance=1e-2)[0]\n",
    "        \n",
    "        #weights_val = proximal_map_v(weights_train - LASSO_step_size_v* LASSO_gradient_v(weights_train))\n",
    "        value_val=LASSO_objective_v(weights_train)\n",
    "   \n",
    "        #optimal_weights += weights_val / K\n",
    "        obj_value.append(value_val)\\\n",
    "        print(value_val)\n",
    "    objective_value=np.mean(obj_value)\n",
    "    return objective_value\n",
    "                                 "
   ]
  },
  {
   "cell_type": "code",
   "execution_count": 637,
   "id": "1f933b9c",
   "metadata": {},
   "outputs": [],
   "source": [
    "K_objective_function_LASSO=lambda alpha: KFold_cross_validation_LASSO(data_matrix=MNIST_data_matrix, data_outputs=MNIST_OHV,\n",
    "                                                                      K=5, r_parameter=alpha)"
   ]
  },
  {
   "cell_type": "code",
   "execution_count": 638,
   "id": "52bdaa19",
   "metadata": {
    "scrolled": false
   },
   "outputs": [
    {
     "name": "stdout",
     "output_type": "stream",
     "text": [
      "Iteration 5000/30000, objective = 0.059425555327051224.\n",
      "Iteration 10000/30000, objective = 0.034350398133151404.\n",
      "Iteration 15000/30000, objective = 0.024246335099418884.\n",
      "Iteration 20000/30000, objective = 0.018719221630080957.\n",
      "Iteration 25000/30000, objective = 0.015245911096277898.\n",
      "0.009999740823157487\n",
      "Iteration completed after 28616/30000, objective = 0.01344641515619636.\n",
      "0.10274608409452728\n",
      "Iteration 5000/30000, objective = 0.060327341470849526.\n",
      "Iteration 10000/30000, objective = 0.03483231873456846.\n",
      "Iteration 15000/30000, objective = 0.0245642049991064.\n",
      "Iteration 20000/30000, objective = 0.018938020651079045.\n",
      "Iteration 25000/30000, objective = 0.01540078366214364.\n",
      "0.009999811813370833\n",
      "Iteration completed after 29205/30000, objective = 0.013312078938844183.\n",
      "0.13063781316271644\n",
      "Iteration 5000/30000, objective = 0.05583790990152494.\n",
      "Iteration 10000/30000, objective = 0.03153412930752386.\n",
      "Iteration 15000/30000, objective = 0.021957074393189724.\n",
      "Iteration 20000/30000, objective = 0.016785190967663302.\n",
      "Iteration 25000/30000, objective = 0.013572593343309746.\n",
      "0.009999736989312327\n",
      "Iteration completed after 27359/30000, objective = 0.01244925840110983.\n",
      "0.17185629107189826\n",
      "Iteration 5000/30000, objective = 0.05536234293059933.\n",
      "Iteration 10000/30000, objective = 0.031500418184391636.\n",
      "Iteration 15000/30000, objective = 0.022221104602283274.\n",
      "Iteration 20000/30000, objective = 0.01719549052777695.\n",
      "Iteration 25000/30000, objective = 0.01403113395251066.\n",
      "0.009999975088348254\n",
      "Iteration completed after 27419/30000, objective = 0.012886133928874976.\n",
      "0.1404034891474626\n",
      "Iteration 5000/30000, objective = 0.060629224400442334.\n",
      "Iteration 10000/30000, objective = 0.035170687644549566.\n",
      "Iteration 15000/30000, objective = 0.024922969109486093.\n",
      "Iteration 20000/30000, objective = 0.01928346322459777.\n",
      "Iteration 25000/30000, objective = 0.015721731433396665.\n",
      "0.00999985421219391\n",
      "Iteration completed after 29485/30000, objective = 0.013490789156283075.\n",
      "0.09263691556048873\n",
      "Iteration 5000/30000, objective = 0.08437297387367979.\n",
      "Iteration 10000/30000, objective = 0.06319763609453857.\n",
      "Iteration 15000/30000, objective = 0.055224006325041694.\n",
      "Iteration 20000/30000, objective = 0.051055735988023945.\n",
      "Iteration 25000/30000, objective = 0.04851972016383305.\n",
      "Iteration 30000/30000, objective = 0.04681063980313567.\n",
      "Iteration completed after 30000/30000, objective = 0.04681063980313567.\n",
      "0.13240909097952736\n",
      "Iteration 5000/30000, objective = 0.08522226950713309.\n",
      "Iteration 10000/30000, objective = 0.0636219763219981.\n",
      "Iteration 15000/30000, objective = 0.055487490971027925.\n",
      "Iteration 20000/30000, objective = 0.051231641517823445.\n",
      "Iteration 25000/30000, objective = 0.04863643508597768.\n",
      "Iteration 30000/30000, objective = 0.04689014707983917.\n",
      "Iteration completed after 30000/30000, objective = 0.04689014707983917.\n",
      "0.1514994298940166\n",
      "Iteration 5000/30000, objective = 0.08088616041352603.\n",
      "Iteration 10000/30000, objective = 0.060347037458836406.\n",
      "Iteration 15000/30000, objective = 0.052799485276161684.\n",
      "Iteration 20000/30000, objective = 0.048897468354229104.\n",
      "Iteration 25000/30000, objective = 0.04654283867931365.\n",
      "Iteration 30000/30000, objective = 0.044965399227700514.\n",
      "Iteration completed after 30000/30000, objective = 0.044965399227700514.\n",
      "0.19344477718728764\n",
      "Iteration 5000/30000, objective = 0.08037458714884015.\n",
      "Iteration 10000/30000, objective = 0.06026001639597318.\n",
      "Iteration 15000/30000, objective = 0.052984930681965824.\n",
      "Iteration 20000/30000, objective = 0.049235139023709504.\n",
      "Iteration 25000/30000, objective = 0.04694006145150823.\n",
      "Iteration 30000/30000, objective = 0.04538407547121031.\n",
      "Iteration completed after 30000/30000, objective = 0.04538407547121031.\n",
      "0.17001711421645133\n",
      "Iteration 5000/30000, objective = 0.08558458366003449.\n",
      "Iteration 10000/30000, objective = 0.06401055326723004.\n",
      "Iteration 15000/30000, objective = 0.055914076711792146.\n",
      "Iteration 20000/30000, objective = 0.05166519600591654.\n",
      "Iteration 25000/30000, objective = 0.049066303511482806.\n",
      "Iteration 30000/30000, objective = 0.04731292288366276.\n",
      "Iteration completed after 30000/30000, objective = 0.04731292288366276.\n",
      "0.1210805951766629\n",
      "Iteration 5000/30000, objective = 0.2481908328692875.\n",
      "Iteration 10000/30000, objective = 0.2313749344831857.\n",
      "Iteration 15000/30000, objective = 0.22370916913427613.\n",
      "Iteration 20000/30000, objective = 0.21900594194156103.\n",
      "Iteration 25000/30000, objective = 0.2157084224026229.\n",
      "Iteration 30000/30000, objective = 0.2132403688843477.\n",
      "Iteration completed after 30000/30000, objective = 0.2132403688843477.\n",
      "0.2987990051300197\n",
      "Iteration 5000/30000, objective = 0.24920994210077768.\n",
      "Iteration 10000/30000, objective = 0.23193225988075494.\n",
      "Iteration 15000/30000, objective = 0.22394951893210735.\n",
      "Iteration 20000/30000, objective = 0.21900183740491713.\n",
      "Iteration 25000/30000, objective = 0.21559420352768666.\n",
      "Iteration 30000/30000, objective = 0.21302033968247464.\n",
      "Iteration completed after 30000/30000, objective = 0.21302033968247464.\n",
      "0.30796518986586485\n",
      "Iteration 5000/30000, objective = 0.24555745456203884.\n",
      "Iteration 10000/30000, objective = 0.22882894178588198.\n",
      "Iteration 15000/30000, objective = 0.22111850807781833.\n",
      "Iteration 20000/30000, objective = 0.2163928350038124.\n",
      "Iteration 25000/30000, objective = 0.213099587031997.\n",
      "Iteration 30000/30000, objective = 0.2106351887701716.\n",
      "Iteration completed after 30000/30000, objective = 0.2106351887701716.\n",
      "0.32809911072061854\n",
      "Iteration 5000/30000, objective = 0.2448174139802134.\n",
      "Iteration 10000/30000, objective = 0.22835604413401128.\n",
      "Iteration 15000/30000, objective = 0.22094422607907177.\n",
      "Iteration 20000/30000, objective = 0.2163142010096042.\n",
      "Iteration 25000/30000, objective = 0.2130618742370754.\n",
      "Iteration 30000/30000, objective = 0.2106270094615097.\n",
      "Iteration completed after 30000/30000, objective = 0.2106270094615097.\n",
      "0.327247990574838\n",
      "Iteration 5000/30000, objective = 0.2505271999702451.\n",
      "Iteration 10000/30000, objective = 0.23334040496855613.\n",
      "Iteration 15000/30000, objective = 0.2254271237027202.\n",
      "Iteration 20000/30000, objective = 0.22051171444562487.\n",
      "Iteration 25000/30000, objective = 0.2170480050192432.\n",
      "Iteration 30000/30000, objective = 0.21445205189452404.\n",
      "Iteration completed after 30000/30000, objective = 0.21445205189452404.\n",
      "0.2875664528422682\n",
      "Iteration 5000/30000, objective = 0.9442137340709476.\n",
      "Iteration 10000/30000, objective = 0.9295066996930463.\n",
      "Iteration 15000/30000, objective = 0.9238285327136493.\n",
      "Iteration 20000/30000, objective = 0.9208496685195167.\n",
      "Iteration 25000/30000, objective = 0.9190263383420205.\n",
      "Iteration 30000/30000, objective = 0.9177512077421466.\n",
      "Iteration completed after 30000/30000, objective = 0.9177512077421466.\n",
      "0.9962569884325025\n",
      "Iteration 5000/30000, objective = 0.9437544153350292.\n",
      "Iteration 10000/30000, objective = 0.9289619720369598.\n",
      "Iteration 15000/30000, objective = 0.9228689520413651.\n",
      "Iteration 20000/30000, objective = 0.91956360662009.\n",
      "Iteration 25000/30000, objective = 0.91757617953273.\n",
      "Iteration 30000/30000, objective = 0.916237830796172.\n",
      "Iteration completed after 30000/30000, objective = 0.916237830796172.\n",
      "0.9964909533863253\n",
      "Iteration 5000/30000, objective = 0.9433236999156327.\n",
      "Iteration 10000/30000, objective = 0.9281050610711643.\n",
      "Iteration 15000/30000, objective = 0.9224091102941381.\n",
      "Iteration 20000/30000, objective = 0.919378333957489.\n",
      "Iteration 25000/30000, objective = 0.9174484758373647.\n",
      "Iteration 30000/30000, objective = 0.916137434453447.\n",
      "Iteration completed after 30000/30000, objective = 0.916137434453447.\n",
      "1.0042966802263784\n",
      "Iteration 5000/30000, objective = 0.941899981190109.\n",
      "Iteration 10000/30000, objective = 0.927291751334083.\n",
      "Iteration 15000/30000, objective = 0.9213622049319437.\n",
      "Iteration 20000/30000, objective = 0.9181993147996903.\n",
      "Iteration 25000/30000, objective = 0.9162164691023456.\n",
      "Iteration 30000/30000, objective = 0.9148911586809354.\n",
      "Iteration completed after 30000/30000, objective = 0.9148911586809354.\n",
      "1.001303050403034\n",
      "Iteration 5000/30000, objective = 0.949709029050473.\n",
      "Iteration 10000/30000, objective = 0.934327162806308.\n",
      "Iteration 15000/30000, objective = 0.9285082700246327.\n",
      "Iteration 20000/30000, objective = 0.925361839780789.\n",
      "Iteration 25000/30000, objective = 0.9233307277013785.\n",
      "Iteration 30000/30000, objective = 0.9218623360166494.\n",
      "Iteration completed after 30000/30000, objective = 0.9218623360166494.\n",
      "0.9760829470829548\n"
     ]
    },
    {
     "data": {
      "text/plain": [
       "0.0"
      ]
     },
     "execution_count": 638,
     "metadata": {},
     "output_type": "execute_result"
    }
   ],
   "source": [
    "#grid search with 5-cross validation\n",
    "#it takes about 1.5 hour\n",
    "alpha_grid=np.array([0,1e-4,1e-3,1e-2])\n",
    "grid_search(K_objective_function_LASSO, alpha_grid) "
   ]
  },
  {
   "cell_type": "code",
   "execution_count": 623,
   "id": "5ffcd252",
   "metadata": {},
   "outputs": [
    {
     "name": "stdout",
     "output_type": "stream",
     "text": [
      "Iteration 5000/400000, objective = 0.059425555327051224.\n",
      "Iteration 10000/400000, objective = 0.034350398133151404.\n",
      "Iteration 15000/400000, objective = 0.024246335099418884.\n",
      "Iteration 20000/400000, objective = 0.018719221630080957.\n",
      "Iteration 25000/400000, objective = 0.015245911096277898.\n",
      "0.009999740823157487\n",
      "Iteration completed after 28616/400000, objective = 0.01344641515619636.\n",
      "0.10274608409452728\n",
      "Iteration 5000/400000, objective = 0.060327341470849526.\n",
      "Iteration 10000/400000, objective = 0.03483231873456846.\n",
      "Iteration 15000/400000, objective = 0.0245642049991064.\n",
      "Iteration 20000/400000, objective = 0.018938020651079045.\n",
      "Iteration 25000/400000, objective = 0.01540078366214364.\n",
      "0.009999811813370833\n",
      "Iteration completed after 29205/400000, objective = 0.013312078938844183.\n",
      "0.13063781316271644\n",
      "Iteration 5000/400000, objective = 0.05583790990152494.\n",
      "Iteration 10000/400000, objective = 0.03153412930752386.\n",
      "Iteration 15000/400000, objective = 0.021957074393189724.\n",
      "Iteration 20000/400000, objective = 0.016785190967663302.\n",
      "Iteration 25000/400000, objective = 0.013572593343309746.\n",
      "0.009999736989312327\n",
      "Iteration completed after 27359/400000, objective = 0.01244925840110983.\n",
      "0.17185629107189826\n",
      "Iteration 5000/400000, objective = 0.05536234293059933.\n",
      "Iteration 10000/400000, objective = 0.031500418184391636.\n",
      "Iteration 15000/400000, objective = 0.022221104602283274.\n",
      "Iteration 20000/400000, objective = 0.01719549052777695.\n",
      "Iteration 25000/400000, objective = 0.01403113395251066.\n",
      "0.009999975088348254\n",
      "Iteration completed after 27419/400000, objective = 0.012886133928874976.\n",
      "0.1404034891474626\n",
      "Iteration 5000/400000, objective = 0.060629224400442334.\n",
      "Iteration 10000/400000, objective = 0.035170687644549566.\n",
      "Iteration 15000/400000, objective = 0.024922969109486093.\n",
      "Iteration 20000/400000, objective = 0.01928346322459777.\n",
      "Iteration 25000/400000, objective = 0.015721731433396665.\n",
      "0.00999985421219391\n",
      "Iteration completed after 29485/400000, objective = 0.013490789156283075.\n",
      "0.09263691556048873\n",
      "Iteration 5000/400000, objective = 0.08437297387367979.\n",
      "Iteration 10000/400000, objective = 0.06319763609453857.\n",
      "Iteration 15000/400000, objective = 0.055224006325041694.\n",
      "Iteration 20000/400000, objective = 0.051055735988023945.\n",
      "Iteration 25000/400000, objective = 0.04851972016383305.\n",
      "Iteration 30000/400000, objective = 0.04681063980313567.\n",
      "Iteration 35000/400000, objective = 0.04557234875510947.\n",
      "Iteration 40000/400000, objective = 0.04462444751958122.\n",
      "Iteration 45000/400000, objective = 0.0438708780294835.\n",
      "Iteration 50000/400000, objective = 0.043251196228477264.\n",
      "0.0099999180957321\n",
      "Iteration completed after 51484/400000, objective = 0.04308742345223158.\n",
      "0.12865788356906455\n",
      "Iteration 5000/400000, objective = 0.08522226950713309.\n",
      "Iteration 10000/400000, objective = 0.0636219763219981.\n",
      "Iteration 15000/400000, objective = 0.055487490971027925.\n",
      "Iteration 20000/400000, objective = 0.051231641517823445.\n",
      "Iteration 25000/400000, objective = 0.04863643508597768.\n",
      "Iteration 30000/400000, objective = 0.04689014707983917.\n",
      "Iteration 35000/400000, objective = 0.04563021489698875.\n",
      "Iteration 40000/400000, objective = 0.044672489468108076.\n",
      "Iteration 45000/400000, objective = 0.0439132425325256.\n",
      "Iteration 50000/400000, objective = 0.043291096680831545.\n",
      "0.009999916245908094\n",
      "Iteration completed after 52481/400000, objective = 0.04302100030974996.\n",
      "0.15104378806173085\n",
      "Iteration 5000/400000, objective = 0.08088616041352603.\n",
      "Iteration 10000/400000, objective = 0.060347037458836406.\n",
      "Iteration 15000/400000, objective = 0.052799485276161684.\n",
      "Iteration 20000/400000, objective = 0.048897468354229104.\n",
      "Iteration 25000/400000, objective = 0.04654283867931365.\n",
      "Iteration 30000/400000, objective = 0.044965399227700514.\n",
      "Iteration 35000/400000, objective = 0.04383012603349553.\n",
      "Iteration 40000/400000, objective = 0.04296766231116094.\n",
      "Iteration 45000/400000, objective = 0.0422818349969737.\n",
      "0.009999914016324801\n",
      "Iteration completed after 48852/400000, objective = 0.041838143102231405.\n",
      "0.19576555925173827\n",
      "Iteration 5000/400000, objective = 0.08037458714884015.\n",
      "Iteration 10000/400000, objective = 0.06026001639597318.\n",
      "Iteration 15000/400000, objective = 0.052984930681965824.\n",
      "Iteration 20000/400000, objective = 0.049235139023709504.\n",
      "Iteration 25000/400000, objective = 0.04694006145150823.\n",
      "Iteration 30000/400000, objective = 0.04538407547121031.\n",
      "Iteration 35000/400000, objective = 0.044254045180996265.\n",
      "Iteration 40000/400000, objective = 0.04338768569212678.\n",
      "Iteration 45000/400000, objective = 0.04269389313926739.\n",
      "0.009999997458938797\n",
      "Iteration completed after 49540/400000, objective = 0.042171098303399726.\n",
      "0.17223075883659222\n",
      "Iteration 5000/400000, objective = 0.08558458366003449.\n",
      "Iteration 10000/400000, objective = 0.06401055326723004.\n",
      "Iteration 15000/400000, objective = 0.055914076711792146.\n",
      "Iteration 20000/400000, objective = 0.05166519600591654.\n",
      "Iteration 25000/400000, objective = 0.049066303511482806.\n",
      "Iteration 30000/400000, objective = 0.04731292288366276.\n",
      "Iteration 35000/400000, objective = 0.046044188889912595.\n",
      "Iteration 40000/400000, objective = 0.045072956489268394.\n",
      "Iteration 45000/400000, objective = 0.04430109027289068.\n",
      "Iteration 50000/400000, objective = 0.04366740340267368.\n",
      "0.009999991568445712\n",
      "Iteration completed after 53291/400000, objective = 0.04330675505657351.\n",
      "0.11937962031266944\n",
      "Iteration 5000/400000, objective = 0.2481908328692875.\n",
      "Iteration 10000/400000, objective = 0.2313749344831857.\n",
      "Iteration 15000/400000, objective = 0.22370916913427613.\n",
      "Iteration 20000/400000, objective = 0.21900594194156103.\n",
      "Iteration 25000/400000, objective = 0.2157084224026229.\n",
      "Iteration 30000/400000, objective = 0.2132403688843477.\n",
      "Iteration 35000/400000, objective = 0.21132034584949833.\n",
      "Iteration 40000/400000, objective = 0.20974322325877312.\n",
      "Iteration 45000/400000, objective = 0.20843139008582653.\n",
      "Iteration 50000/400000, objective = 0.20731983846433522.\n",
      "Iteration 55000/400000, objective = 0.2063645707518239.\n",
      "Iteration 60000/400000, objective = 0.20554007304276506.\n",
      "Iteration 65000/400000, objective = 0.20483115295291962.\n",
      "Iteration 70000/400000, objective = 0.2042064277533765.\n",
      "Iteration 75000/400000, objective = 0.2036513195554703.\n",
      "Iteration 80000/400000, objective = 0.2031546304885328.\n",
      "Iteration 85000/400000, objective = 0.20270439554484565.\n",
      "Iteration 90000/400000, objective = 0.20229282054433448.\n",
      "Iteration 95000/400000, objective = 0.20191788343894718.\n",
      "Iteration 100000/400000, objective = 0.20157792760451287.\n",
      "Iteration 105000/400000, objective = 0.20126468454354135.\n",
      "Iteration 110000/400000, objective = 0.20098773272691003.\n",
      "Iteration 115000/400000, objective = 0.20073632361151578.\n",
      "Iteration 120000/400000, objective = 0.2005032970454769.\n",
      "Iteration 125000/400000, objective = 0.2002840075796774.\n",
      "Iteration 130000/400000, objective = 0.2000786391951781.\n",
      "Iteration 135000/400000, objective = 0.1998850304355259.\n",
      "Iteration 140000/400000, objective = 0.1997035817686097.\n",
      "Iteration 145000/400000, objective = 0.19953260787787253.\n",
      "Iteration 150000/400000, objective = 0.1993713130477393.\n",
      "Iteration 155000/400000, objective = 0.19921912635173397.\n",
      "Iteration 160000/400000, objective = 0.19907498109349894.\n",
      "Iteration 165000/400000, objective = 0.1989381297268843.\n",
      "Iteration 170000/400000, objective = 0.1988067631354438.\n",
      "Iteration 175000/400000, objective = 0.19868163485587925.\n",
      "Iteration 180000/400000, objective = 0.1985623140055997.\n",
      "Iteration 185000/400000, objective = 0.19844895106177918.\n",
      "Iteration 190000/400000, objective = 0.19834107313261498.\n",
      "Iteration 195000/400000, objective = 0.19823849867162932.\n",
      "Iteration 200000/400000, objective = 0.19813965501278138.\n",
      "Iteration 205000/400000, objective = 0.19804637636650774.\n",
      "Iteration 210000/400000, objective = 0.19795663854197246.\n",
      "Iteration 215000/400000, objective = 0.1978707219407816.\n",
      "Iteration 220000/400000, objective = 0.19778878408979544.\n",
      "Iteration 225000/400000, objective = 0.1977094717280319.\n",
      "Iteration 230000/400000, objective = 0.1976324351526473.\n",
      "Iteration 235000/400000, objective = 0.19755800226927211.\n",
      "Iteration 240000/400000, objective = 0.19748646995225647.\n",
      "Iteration 245000/400000, objective = 0.19741783668162294.\n",
      "Iteration 250000/400000, objective = 0.19735128317438835.\n",
      "Iteration 255000/400000, objective = 0.19728738743734076.\n"
     ]
    },
    {
     "name": "stdout",
     "output_type": "stream",
     "text": [
      "Iteration 260000/400000, objective = 0.1972260950835002.\n",
      "Iteration 265000/400000, objective = 0.1971671091814113.\n",
      "Iteration 270000/400000, objective = 0.19711023911642067.\n",
      "Iteration 275000/400000, objective = 0.19705521650016378.\n",
      "Iteration 280000/400000, objective = 0.19700202151756882.\n",
      "Iteration 285000/400000, objective = 0.19695036638876093.\n",
      "Iteration 290000/400000, objective = 0.19690022046523678.\n",
      "Iteration 295000/400000, objective = 0.19685177441046414.\n",
      "Iteration 300000/400000, objective = 0.1968044889466894.\n",
      "Iteration 305000/400000, objective = 0.1967585042580535.\n",
      "Iteration 310000/400000, objective = 0.19671419674593438.\n",
      "Iteration 315000/400000, objective = 0.19667088718581305.\n",
      "Iteration 320000/400000, objective = 0.19662865750151626.\n",
      "Iteration 325000/400000, objective = 0.196587615048825.\n",
      "Iteration 330000/400000, objective = 0.1965477544747777.\n",
      "Iteration 335000/400000, objective = 0.19650934328331496.\n",
      "Iteration 340000/400000, objective = 0.19647205149648186.\n",
      "Iteration 345000/400000, objective = 0.19643598070710058.\n",
      "Iteration 350000/400000, objective = 0.19640130937420894.\n",
      "Iteration 355000/400000, objective = 0.19636753992397554.\n",
      "Iteration 360000/400000, objective = 0.19633442432759105.\n",
      "Iteration 365000/400000, objective = 0.19630211803647593.\n",
      "Iteration 370000/400000, objective = 0.1962706057790655.\n",
      "Iteration 375000/400000, objective = 0.19623990153401946.\n",
      "Iteration 380000/400000, objective = 0.19620977251297764.\n",
      "Iteration 385000/400000, objective = 0.19618026508250716.\n",
      "Iteration 390000/400000, objective = 0.19615157284358098.\n",
      "Iteration 395000/400000, objective = 0.1961235873896955.\n",
      "Iteration 400000/400000, objective = 0.19609632258444967.\n",
      "Iteration completed after 400000/400000, objective = 0.19609632258444967.\n",
      "0.3014975589787845\n",
      "Iteration 5000/400000, objective = 0.24920994210077768.\n",
      "Iteration 10000/400000, objective = 0.23193225988075494.\n",
      "Iteration 15000/400000, objective = 0.22394951893210735.\n",
      "Iteration 20000/400000, objective = 0.21900183740491713.\n",
      "Iteration 25000/400000, objective = 0.21559420352768666.\n",
      "Iteration 30000/400000, objective = 0.21302033968247464.\n",
      "Iteration 35000/400000, objective = 0.2109793919554358.\n",
      "Iteration 40000/400000, objective = 0.20931994650117822.\n",
      "Iteration 45000/400000, objective = 0.2079480171951267.\n",
      "Iteration 50000/400000, objective = 0.20678690663922522.\n",
      "Iteration 55000/400000, objective = 0.20580076772102018.\n",
      "Iteration 60000/400000, objective = 0.2049478592575042.\n",
      "Iteration 65000/400000, objective = 0.2041978952988486.\n",
      "Iteration 70000/400000, objective = 0.2035434886138103.\n",
      "Iteration 75000/400000, objective = 0.20295887132153342.\n",
      "Iteration 80000/400000, objective = 0.20243158790341412.\n",
      "Iteration 85000/400000, objective = 0.20195700284644602.\n",
      "Iteration 90000/400000, objective = 0.2015338970487492.\n",
      "Iteration 95000/400000, objective = 0.20115718053973802.\n",
      "Iteration 100000/400000, objective = 0.20081765658252707.\n",
      "Iteration 105000/400000, objective = 0.2005046075344617.\n",
      "Iteration 110000/400000, objective = 0.20021561584190267.\n",
      "Iteration 115000/400000, objective = 0.19994779967070894.\n",
      "Iteration 120000/400000, objective = 0.199699515445682.\n",
      "Iteration 125000/400000, objective = 0.19946986844198503.\n",
      "Iteration 130000/400000, objective = 0.19925584333910662.\n",
      "Iteration 135000/400000, objective = 0.19905453069398502.\n",
      "Iteration 140000/400000, objective = 0.19886514396464006.\n",
      "Iteration 145000/400000, objective = 0.19868634546156494.\n",
      "Iteration 150000/400000, objective = 0.19851825310665158.\n",
      "Iteration 155000/400000, objective = 0.19835844685710075.\n",
      "Iteration 160000/400000, objective = 0.19820523211752675.\n",
      "Iteration 165000/400000, objective = 0.1980602294039903.\n",
      "Iteration 170000/400000, objective = 0.1979227078522444.\n",
      "Iteration 175000/400000, objective = 0.19779245718730126.\n",
      "Iteration 180000/400000, objective = 0.19766746864390916.\n",
      "Iteration 185000/400000, objective = 0.19754886611643788.\n",
      "Iteration 190000/400000, objective = 0.19743604203677706.\n",
      "Iteration 195000/400000, objective = 0.1973286404290362.\n",
      "Iteration 200000/400000, objective = 0.19722735840075759.\n",
      "Iteration 205000/400000, objective = 0.197130374564213.\n",
      "Iteration 210000/400000, objective = 0.19703675818853134.\n",
      "Iteration 215000/400000, objective = 0.19694635219464607.\n",
      "Iteration 220000/400000, objective = 0.1968592778204063.\n",
      "Iteration 225000/400000, objective = 0.19677540729191625.\n",
      "Iteration 230000/400000, objective = 0.19669505379183475.\n",
      "Iteration 235000/400000, objective = 0.1966172696075158.\n",
      "Iteration 240000/400000, objective = 0.19654219940661707.\n",
      "Iteration 245000/400000, objective = 0.19647133715889437.\n",
      "Iteration 250000/400000, objective = 0.1964028310105331.\n",
      "Iteration 255000/400000, objective = 0.19633719220186094.\n",
      "Iteration 260000/400000, objective = 0.19627417859132615.\n",
      "Iteration 265000/400000, objective = 0.1962132294034945.\n",
      "Iteration 270000/400000, objective = 0.19615408406233972.\n",
      "Iteration 275000/400000, objective = 0.19609672838596198.\n",
      "Iteration 280000/400000, objective = 0.1960411836238335.\n",
      "Iteration 285000/400000, objective = 0.1959876393524414.\n",
      "Iteration 290000/400000, objective = 0.19593576925761547.\n",
      "Iteration 295000/400000, objective = 0.19588623096566818.\n",
      "Iteration 300000/400000, objective = 0.19583841468586113.\n",
      "Iteration 305000/400000, objective = 0.19579197918561056.\n",
      "Iteration 310000/400000, objective = 0.19574702521611592.\n",
      "Iteration 315000/400000, objective = 0.19570410060477506.\n",
      "Iteration 320000/400000, objective = 0.1956629624050483.\n",
      "Iteration 325000/400000, objective = 0.1956234767777065.\n",
      "Iteration 330000/400000, objective = 0.1955852883853589.\n",
      "Iteration 335000/400000, objective = 0.19554801577011655.\n",
      "Iteration 340000/400000, objective = 0.1955120681231765.\n",
      "Iteration 345000/400000, objective = 0.1954773959366166.\n",
      "Iteration 350000/400000, objective = 0.19544356534295337.\n",
      "Iteration 355000/400000, objective = 0.19541073350009766.\n",
      "Iteration 360000/400000, objective = 0.1953786119761366.\n",
      "Iteration 365000/400000, objective = 0.19534737004160363.\n",
      "Iteration 370000/400000, objective = 0.19531712511946822.\n",
      "Iteration 375000/400000, objective = 0.1952878830589165.\n",
      "Iteration 380000/400000, objective = 0.19525928631260275.\n",
      "Iteration 385000/400000, objective = 0.1952314073389042.\n",
      "Iteration 390000/400000, objective = 0.19520427423681577.\n",
      "Iteration 395000/400000, objective = 0.19517758274232105.\n",
      "Iteration 400000/400000, objective = 0.19515137802365956.\n",
      "Iteration completed after 400000/400000, objective = 0.19515137802365956.\n",
      "0.3270361345595082\n",
      "Iteration 5000/400000, objective = 0.24555745456203884.\n",
      "Iteration 10000/400000, objective = 0.22882894178588198.\n",
      "Iteration 15000/400000, objective = 0.22111850807781833.\n",
      "Iteration 20000/400000, objective = 0.2163928350038124.\n",
      "Iteration 25000/400000, objective = 0.213099587031997.\n",
      "Iteration 30000/400000, objective = 0.2106351887701716.\n",
      "Iteration 35000/400000, objective = 0.20869777790712185.\n",
      "Iteration 40000/400000, objective = 0.2071241513753132.\n",
      "Iteration 45000/400000, objective = 0.20582845271050493.\n",
      "Iteration 50000/400000, objective = 0.204736239884918.\n",
      "Iteration 55000/400000, objective = 0.20381235229716232.\n",
      "Iteration 60000/400000, objective = 0.20303149878872562.\n",
      "Iteration 65000/400000, objective = 0.20235518193393287.\n",
      "Iteration 70000/400000, objective = 0.20175925006097778.\n",
      "Iteration 75000/400000, objective = 0.201230012925862.\n",
      "Iteration 80000/400000, objective = 0.20075420176951767.\n",
      "Iteration 85000/400000, objective = 0.20032030229862335.\n",
      "Iteration 90000/400000, objective = 0.19992665926562989.\n",
      "Iteration 95000/400000, objective = 0.19956835718349356.\n",
      "Iteration 100000/400000, objective = 0.1992384839767838.\n",
      "Iteration 105000/400000, objective = 0.1989311732156842.\n",
      "Iteration 110000/400000, objective = 0.19864634592597102.\n",
      "Iteration 115000/400000, objective = 0.19838108821049313.\n",
      "Iteration 120000/400000, objective = 0.19813753427254333.\n",
      "Iteration 125000/400000, objective = 0.19791607639580855.\n",
      "Iteration 130000/400000, objective = 0.1977077804442923.\n",
      "Iteration 135000/400000, objective = 0.19751390126747811.\n",
      "Iteration 140000/400000, objective = 0.1973321672912931.\n",
      "Iteration 145000/400000, objective = 0.19716112070879763.\n",
      "Iteration 150000/400000, objective = 0.19699961413950848.\n",
      "Iteration 155000/400000, objective = 0.1968475587957536.\n"
     ]
    },
    {
     "name": "stdout",
     "output_type": "stream",
     "text": [
      "Iteration 160000/400000, objective = 0.1967045999364131.\n",
      "Iteration 165000/400000, objective = 0.19656956813441878.\n",
      "Iteration 170000/400000, objective = 0.19644120683886493.\n",
      "Iteration 175000/400000, objective = 0.19631889337901784.\n",
      "Iteration 180000/400000, objective = 0.19620190504012763.\n",
      "Iteration 185000/400000, objective = 0.19608955774227055.\n",
      "Iteration 190000/400000, objective = 0.19598318774864534.\n",
      "Iteration 195000/400000, objective = 0.19588159830257873.\n",
      "Iteration 200000/400000, objective = 0.1957835781301679.\n",
      "Iteration 205000/400000, objective = 0.19568935840338886.\n",
      "Iteration 210000/400000, objective = 0.19559855010321384.\n",
      "Iteration 215000/400000, objective = 0.19551057707935365.\n",
      "Iteration 220000/400000, objective = 0.1954261554937129.\n",
      "Iteration 225000/400000, objective = 0.19534569876353983.\n",
      "Iteration 230000/400000, objective = 0.19526756187549527.\n",
      "Iteration 235000/400000, objective = 0.1951930343861267.\n",
      "Iteration 240000/400000, objective = 0.19512074944904612.\n",
      "Iteration 245000/400000, objective = 0.19505106373287123.\n",
      "Iteration 250000/400000, objective = 0.19498428482989252.\n",
      "Iteration 255000/400000, objective = 0.19491958409250346.\n",
      "Iteration 260000/400000, objective = 0.1948572961856278.\n",
      "Iteration 265000/400000, objective = 0.1947973099127356.\n",
      "Iteration 270000/400000, objective = 0.1947393707121416.\n",
      "Iteration 275000/400000, objective = 0.1946828680213315.\n",
      "Iteration 280000/400000, objective = 0.19462835872429696.\n",
      "Iteration 285000/400000, objective = 0.1945758375485647.\n",
      "Iteration 290000/400000, objective = 0.19452492467229432.\n",
      "Iteration 295000/400000, objective = 0.1944756186015615.\n",
      "Iteration 300000/400000, objective = 0.1944275941827703.\n",
      "Iteration 305000/400000, objective = 0.19438108991194106.\n",
      "Iteration 310000/400000, objective = 0.19433634687349075.\n",
      "Iteration 315000/400000, objective = 0.19429386824481626.\n",
      "Iteration 320000/400000, objective = 0.19425290031184375.\n",
      "Iteration 325000/400000, objective = 0.19421339390164316.\n",
      "Iteration 330000/400000, objective = 0.19417486951776405.\n",
      "Iteration 335000/400000, objective = 0.19413733691515617.\n",
      "Iteration 340000/400000, objective = 0.19410066435791082.\n",
      "Iteration 345000/400000, objective = 0.19406503453895346.\n",
      "Iteration 350000/400000, objective = 0.1940306893790194.\n",
      "Iteration 355000/400000, objective = 0.19399708531975934.\n",
      "Iteration 360000/400000, objective = 0.19396431124121707.\n",
      "Iteration 365000/400000, objective = 0.19393263691092644.\n",
      "Iteration 370000/400000, objective = 0.19390199806587993.\n",
      "Iteration 375000/400000, objective = 0.193872055073248.\n",
      "Iteration 380000/400000, objective = 0.19384273703689306.\n",
      "Iteration 385000/400000, objective = 0.1938140953132059.\n",
      "Iteration 390000/400000, objective = 0.19378608717800652.\n",
      "Iteration 395000/400000, objective = 0.19375882004179534.\n",
      "Iteration 400000/400000, objective = 0.19373209584919485.\n",
      "Iteration completed after 400000/400000, objective = 0.19373209584919485.\n",
      "0.3395092269453598\n",
      "Iteration 5000/400000, objective = 0.2448174139802134.\n",
      "Iteration 10000/400000, objective = 0.22835604413401128.\n",
      "Iteration 15000/400000, objective = 0.22094422607907177.\n",
      "Iteration 20000/400000, objective = 0.2163142010096042.\n",
      "Iteration 25000/400000, objective = 0.2130618742370754.\n",
      "Iteration 30000/400000, objective = 0.2106270094615097.\n",
      "Iteration 35000/400000, objective = 0.20871548399623485.\n",
      "Iteration 40000/400000, objective = 0.2071614207425636.\n",
      "Iteration 45000/400000, objective = 0.20588206489908653.\n",
      "Iteration 50000/400000, objective = 0.20479331154820082.\n",
      "Iteration 55000/400000, objective = 0.20385768450815017.\n",
      "Iteration 60000/400000, objective = 0.2030579724480498.\n",
      "Iteration 65000/400000, objective = 0.2023639260283525.\n",
      "Iteration 70000/400000, objective = 0.20175727953683073.\n",
      "Iteration 75000/400000, objective = 0.20121814533423246.\n",
      "Iteration 80000/400000, objective = 0.20073602228622922.\n",
      "Iteration 85000/400000, objective = 0.200296724306289.\n",
      "Iteration 90000/400000, objective = 0.19989873403203529.\n",
      "Iteration 95000/400000, objective = 0.1995284216780262.\n",
      "Iteration 100000/400000, objective = 0.19918526634738531.\n",
      "Iteration 105000/400000, objective = 0.19886979330090282.\n",
      "Iteration 110000/400000, objective = 0.19858020961451284.\n",
      "Iteration 115000/400000, objective = 0.19831170290174846.\n",
      "Iteration 120000/400000, objective = 0.1980613816335463.\n",
      "Iteration 125000/400000, objective = 0.19782949953691498.\n",
      "Iteration 130000/400000, objective = 0.19760961881706549.\n",
      "Iteration 135000/400000, objective = 0.19740093752904425.\n",
      "Iteration 140000/400000, objective = 0.1972038230314233.\n",
      "Iteration 145000/400000, objective = 0.1970182962850628.\n",
      "Iteration 150000/400000, objective = 0.1968418628525722.\n",
      "Iteration 155000/400000, objective = 0.19667594038910363.\n",
      "Iteration 160000/400000, objective = 0.1965225917796899.\n",
      "Iteration 165000/400000, objective = 0.19638001477991238.\n",
      "Iteration 170000/400000, objective = 0.196244898162156.\n",
      "Iteration 175000/400000, objective = 0.19611684199144125.\n",
      "Iteration 180000/400000, objective = 0.19599528361644875.\n",
      "Iteration 185000/400000, objective = 0.19587887833154133.\n",
      "Iteration 190000/400000, objective = 0.19576752057388513.\n",
      "Iteration 195000/400000, objective = 0.19566226445713147.\n",
      "Iteration 200000/400000, objective = 0.19556157050494244.\n",
      "Iteration 205000/400000, objective = 0.19546428914391029.\n",
      "Iteration 210000/400000, objective = 0.1953706224427472.\n",
      "Iteration 215000/400000, objective = 0.19528049803629316.\n",
      "Iteration 220000/400000, objective = 0.19519393683228617.\n",
      "Iteration 225000/400000, objective = 0.19511074963869796.\n",
      "Iteration 230000/400000, objective = 0.19503088349494407.\n",
      "Iteration 235000/400000, objective = 0.19495395986315833.\n",
      "Iteration 240000/400000, objective = 0.1948804687915955.\n",
      "Iteration 245000/400000, objective = 0.19480959247917418.\n",
      "Iteration 250000/400000, objective = 0.1947414335941945.\n",
      "Iteration 255000/400000, objective = 0.19467612800796183.\n",
      "Iteration 260000/400000, objective = 0.19461279701949113.\n",
      "Iteration 265000/400000, objective = 0.19455149935045155.\n",
      "Iteration 270000/400000, objective = 0.19449212047631914.\n",
      "Iteration 275000/400000, objective = 0.19443436340000067.\n",
      "Iteration 280000/400000, objective = 0.19437886465005424.\n",
      "Iteration 285000/400000, objective = 0.19432551875176257.\n",
      "Iteration 290000/400000, objective = 0.1942740982021482.\n",
      "Iteration 295000/400000, objective = 0.1942242872057925.\n",
      "Iteration 300000/400000, objective = 0.19417626318613068.\n",
      "Iteration 305000/400000, objective = 0.19412978523210905.\n",
      "Iteration 310000/400000, objective = 0.19408451312736985.\n",
      "Iteration 315000/400000, objective = 0.1940404387682607.\n",
      "Iteration 320000/400000, objective = 0.19399773908308718.\n",
      "Iteration 325000/400000, objective = 0.19395654677207255.\n",
      "Iteration 330000/400000, objective = 0.19391634944208927.\n",
      "Iteration 335000/400000, objective = 0.1938772698977394.\n",
      "Iteration 340000/400000, objective = 0.19383947797651985.\n",
      "Iteration 345000/400000, objective = 0.19380279338827688.\n",
      "Iteration 350000/400000, objective = 0.19376735926644312.\n",
      "Iteration 355000/400000, objective = 0.19373301352717665.\n",
      "Iteration 360000/400000, objective = 0.19369955563992883.\n",
      "Iteration 365000/400000, objective = 0.19366677224526513.\n",
      "Iteration 370000/400000, objective = 0.1936347110499316.\n",
      "Iteration 375000/400000, objective = 0.19360337741896178.\n",
      "Iteration 380000/400000, objective = 0.19357263013279624.\n",
      "Iteration 385000/400000, objective = 0.19354259426386985.\n",
      "Iteration 390000/400000, objective = 0.19351324432781594.\n",
      "Iteration 395000/400000, objective = 0.1934845319122439.\n",
      "Iteration 400000/400000, objective = 0.19345635211226989.\n",
      "Iteration completed after 400000/400000, objective = 0.19345635211226989.\n",
      "0.3426485685922793\n",
      "Iteration 5000/400000, objective = 0.2505271999702451.\n",
      "Iteration 10000/400000, objective = 0.23334040496855613.\n",
      "Iteration 15000/400000, objective = 0.2254271237027202.\n",
      "Iteration 20000/400000, objective = 0.22051171444562487.\n",
      "Iteration 25000/400000, objective = 0.2170480050192432.\n",
      "Iteration 30000/400000, objective = 0.21445205189452404.\n",
      "Iteration 35000/400000, objective = 0.21240563949267927.\n",
      "Iteration 40000/400000, objective = 0.2107485861542372.\n",
      "Iteration 45000/400000, objective = 0.20939011843396832.\n",
      "Iteration 50000/400000, objective = 0.20826165537239133.\n",
      "Iteration 55000/400000, objective = 0.20729987534921812.\n"
     ]
    },
    {
     "name": "stdout",
     "output_type": "stream",
     "text": [
      "Iteration 60000/400000, objective = 0.20647489906853905.\n",
      "Iteration 65000/400000, objective = 0.205751712457157.\n",
      "Iteration 70000/400000, objective = 0.20510485542735477.\n",
      "Iteration 75000/400000, objective = 0.20453431637647213.\n",
      "Iteration 80000/400000, objective = 0.2040257756582212.\n",
      "Iteration 85000/400000, objective = 0.20356840611545463.\n",
      "Iteration 90000/400000, objective = 0.20315227233256425.\n",
      "Iteration 95000/400000, objective = 0.20277724415553278.\n",
      "Iteration 100000/400000, objective = 0.20243435420193118.\n",
      "Iteration 105000/400000, objective = 0.20211855124873193.\n",
      "Iteration 110000/400000, objective = 0.2018262359247276.\n",
      "Iteration 115000/400000, objective = 0.2015528031800542.\n",
      "Iteration 120000/400000, objective = 0.20129664696457306.\n",
      "Iteration 125000/400000, objective = 0.20105697954117083.\n",
      "Iteration 130000/400000, objective = 0.20083437180754515.\n",
      "Iteration 135000/400000, objective = 0.20062908181325428.\n",
      "Iteration 140000/400000, objective = 0.20043617441551353.\n",
      "Iteration 145000/400000, objective = 0.20025718421914518.\n",
      "Iteration 150000/400000, objective = 0.20008874482262606.\n",
      "Iteration 155000/400000, objective = 0.1999296896028705.\n",
      "Iteration 160000/400000, objective = 0.1997800348979364.\n",
      "Iteration 165000/400000, objective = 0.19963887971065117.\n",
      "Iteration 170000/400000, objective = 0.1995065134751629.\n",
      "Iteration 175000/400000, objective = 0.19938060253755047.\n",
      "Iteration 180000/400000, objective = 0.19926121405762887.\n",
      "Iteration 185000/400000, objective = 0.19914603896699717.\n",
      "Iteration 190000/400000, objective = 0.19903567242140968.\n",
      "Iteration 195000/400000, objective = 0.1989299307950402.\n",
      "Iteration 200000/400000, objective = 0.19882859391920088.\n",
      "Iteration 205000/400000, objective = 0.1987322755043524.\n",
      "Iteration 210000/400000, objective = 0.19864062997988235.\n",
      "Iteration 215000/400000, objective = 0.19855243698179348.\n",
      "Iteration 220000/400000, objective = 0.1984670713622632.\n",
      "Iteration 225000/400000, objective = 0.19838533914488846.\n",
      "Iteration 230000/400000, objective = 0.1983076039186688.\n",
      "Iteration 235000/400000, objective = 0.19823269983822892.\n",
      "Iteration 240000/400000, objective = 0.19816031797420292.\n",
      "Iteration 245000/400000, objective = 0.19809071127382916.\n",
      "Iteration 250000/400000, objective = 0.19802336291904743.\n",
      "Iteration 255000/400000, objective = 0.19795935375419949.\n",
      "Iteration 260000/400000, objective = 0.1978980170584319.\n",
      "Iteration 265000/400000, objective = 0.19783876236291614.\n",
      "Iteration 270000/400000, objective = 0.19778129713557874.\n",
      "Iteration 275000/400000, objective = 0.19772554030374973.\n",
      "Iteration 280000/400000, objective = 0.1976714638929569.\n",
      "Iteration 285000/400000, objective = 0.19761868031931487.\n",
      "Iteration 290000/400000, objective = 0.19756784892142748.\n",
      "Iteration 295000/400000, objective = 0.197518587766135.\n",
      "Iteration 300000/400000, objective = 0.1974709454643645.\n",
      "Iteration 305000/400000, objective = 0.19742448635984092.\n",
      "Iteration 310000/400000, objective = 0.19737904558209177.\n",
      "Iteration 315000/400000, objective = 0.19733485215509233.\n",
      "Iteration 320000/400000, objective = 0.19729213510816815.\n",
      "Iteration 325000/400000, objective = 0.19725061151776993.\n",
      "Iteration 330000/400000, objective = 0.19721011547363224.\n",
      "Iteration 335000/400000, objective = 0.19717070994614347.\n",
      "Iteration 340000/400000, objective = 0.19713228583221498.\n",
      "Iteration 345000/400000, objective = 0.19709489883233947.\n",
      "Iteration 350000/400000, objective = 0.19705832198262757.\n",
      "Iteration 355000/400000, objective = 0.1970225198593885.\n",
      "Iteration 360000/400000, objective = 0.19698752223021765.\n",
      "Iteration 365000/400000, objective = 0.1969531891310972.\n",
      "Iteration 370000/400000, objective = 0.19691942276858626.\n",
      "Iteration 375000/400000, objective = 0.19688646307632554.\n",
      "Iteration 380000/400000, objective = 0.19685416611543366.\n",
      "Iteration 385000/400000, objective = 0.19682267569915932.\n",
      "Iteration 390000/400000, objective = 0.1967920463417073.\n",
      "Iteration 395000/400000, objective = 0.1967620897200303.\n",
      "Iteration 400000/400000, objective = 0.19673283475623554.\n",
      "Iteration completed after 400000/400000, objective = 0.19673283475623554.\n",
      "0.301135077271391\n",
      "Iteration 5000/400000, objective = 0.9442137340709476.\n",
      "Iteration 10000/400000, objective = 0.9295066996930463.\n",
      "Iteration 15000/400000, objective = 0.9238285327136493.\n",
      "Iteration 20000/400000, objective = 0.9208496685195167.\n",
      "Iteration 25000/400000, objective = 0.9190263383420205.\n",
      "Iteration 30000/400000, objective = 0.9177512077421466.\n",
      "Iteration 35000/400000, objective = 0.9168462770404326.\n",
      "Iteration 40000/400000, objective = 0.9161833729031297.\n",
      "Iteration 45000/400000, objective = 0.9156747318371874.\n",
      "Iteration 50000/400000, objective = 0.9152661610006257.\n",
      "Iteration 55000/400000, objective = 0.9149249211511978.\n",
      "Iteration 60000/400000, objective = 0.9146405421846809.\n",
      "Iteration 65000/400000, objective = 0.9143997756589933.\n",
      "Iteration 70000/400000, objective = 0.9141954522268263.\n",
      "Iteration 75000/400000, objective = 0.9140162720544526.\n",
      "Iteration 80000/400000, objective = 0.9138574866011848.\n",
      "Iteration 85000/400000, objective = 0.9137151138274083.\n",
      "Iteration 90000/400000, objective = 0.913586637986324.\n",
      "Iteration 95000/400000, objective = 0.9134681612087545.\n",
      "Iteration 100000/400000, objective = 0.9133596314460131.\n",
      "Iteration 105000/400000, objective = 0.9132731929726052.\n",
      "Iteration 110000/400000, objective = 0.9132020904208074.\n",
      "Iteration 115000/400000, objective = 0.913139083762846.\n",
      "Iteration 120000/400000, objective = 0.9130825798008494.\n",
      "Iteration 125000/400000, objective = 0.9130330979373297.\n",
      "Iteration 130000/400000, objective = 0.9129884153303582.\n",
      "Iteration 135000/400000, objective = 0.9129498689505126.\n",
      "Iteration 140000/400000, objective = 0.9129152224977859.\n",
      "Iteration 145000/400000, objective = 0.9128833414716649.\n",
      "Iteration 150000/400000, objective = 0.9128538313421353.\n",
      "Iteration 155000/400000, objective = 0.9128263994861494.\n",
      "Iteration 160000/400000, objective = 0.9128018642737044.\n",
      "Iteration 165000/400000, objective = 0.9127795433642116.\n",
      "Iteration 170000/400000, objective = 0.9127587758843898.\n",
      "Iteration 175000/400000, objective = 0.9127394031275302.\n",
      "Iteration 180000/400000, objective = 0.9127213062724129.\n",
      "Iteration 185000/400000, objective = 0.9127043588802997.\n",
      "Iteration 190000/400000, objective = 0.9126884118413472.\n",
      "Iteration 195000/400000, objective = 0.912673399975687.\n",
      "Iteration 200000/400000, objective = 0.9126593357447803.\n",
      "Iteration 205000/400000, objective = 0.9126460399502457.\n",
      "Iteration 210000/400000, objective = 0.9126337053033217.\n",
      "Iteration 215000/400000, objective = 0.9126222626034481.\n",
      "Iteration 220000/400000, objective = 0.9126116996373168.\n",
      "Iteration 225000/400000, objective = 0.9126017177061042.\n",
      "Iteration 230000/400000, objective = 0.9125923016139348.\n",
      "Iteration 235000/400000, objective = 0.9125835529210459.\n",
      "Iteration 240000/400000, objective = 0.9125755111402489.\n",
      "Iteration 245000/400000, objective = 0.9125678967824877.\n",
      "Iteration 250000/400000, objective = 0.9125607301391108.\n",
      "Iteration 255000/400000, objective = 0.9125539580329487.\n",
      "Iteration 260000/400000, objective = 0.9125475116632337.\n",
      "Iteration 265000/400000, objective = 0.9125413632758059.\n",
      "Iteration 270000/400000, objective = 0.9125355065347456.\n",
      "Iteration 275000/400000, objective = 0.9125299788201962.\n",
      "Iteration 280000/400000, objective = 0.9125247136542652.\n",
      "Iteration 285000/400000, objective = 0.9125196887723312.\n",
      "Iteration 290000/400000, objective = 0.9125149672306867.\n",
      "Iteration 295000/400000, objective = 0.9125104803183326.\n",
      "Iteration 300000/400000, objective = 0.9125062002164606.\n",
      "Iteration 305000/400000, objective = 0.9125021160825431.\n",
      "Iteration 310000/400000, objective = 0.9124982367862386.\n",
      "Iteration 315000/400000, objective = 0.9124945257071424.\n",
      "Iteration 320000/400000, objective = 0.9124910957954857.\n",
      "Iteration 325000/400000, objective = 0.912487866618173.\n",
      "Iteration 330000/400000, objective = 0.9124847930325511.\n",
      "Iteration 335000/400000, objective = 0.9124818968367028.\n",
      "Iteration 340000/400000, objective = 0.9124791966200649.\n",
      "Iteration 345000/400000, objective = 0.912476629931193.\n",
      "Iteration 350000/400000, objective = 0.9124741789669495.\n",
      "Iteration 355000/400000, objective = 0.9124718347258312.\n",
      "Iteration 360000/400000, objective = 0.9124695905828549.\n",
      "Iteration 365000/400000, objective = 0.912467436664381.\n"
     ]
    },
    {
     "name": "stdout",
     "output_type": "stream",
     "text": [
      "Iteration 370000/400000, objective = 0.9124653666684632.\n",
      "Iteration 375000/400000, objective = 0.9124633751239144.\n",
      "Iteration 380000/400000, objective = 0.9124614571730625.\n",
      "Iteration 385000/400000, objective = 0.9124596312278344.\n",
      "Iteration 390000/400000, objective = 0.9124579257422993.\n",
      "Iteration 395000/400000, objective = 0.912456285861088.\n",
      "Iteration 400000/400000, objective = 0.9124547238765383.\n",
      "Iteration completed after 400000/400000, objective = 0.9124547238765383.\n",
      "0.997312237512917\n",
      "Iteration 5000/400000, objective = 0.9437544153350292.\n",
      "Iteration 10000/400000, objective = 0.9289619720369598.\n",
      "Iteration 15000/400000, objective = 0.9228689520413651.\n",
      "Iteration 20000/400000, objective = 0.91956360662009.\n",
      "Iteration 25000/400000, objective = 0.91757617953273.\n",
      "Iteration 30000/400000, objective = 0.916237830796172.\n",
      "Iteration 35000/400000, objective = 0.9152741957372632.\n",
      "Iteration 40000/400000, objective = 0.9145245451554007.\n",
      "Iteration 45000/400000, objective = 0.9139242382403745.\n",
      "Iteration 50000/400000, objective = 0.9134487685595549.\n",
      "Iteration 55000/400000, objective = 0.9130541493462547.\n",
      "Iteration 60000/400000, objective = 0.912720343452575.\n",
      "Iteration 65000/400000, objective = 0.912441744070942.\n",
      "Iteration 70000/400000, objective = 0.9122049884078829.\n",
      "Iteration 75000/400000, objective = 0.9119995199764696.\n",
      "Iteration 80000/400000, objective = 0.9118196788942361.\n",
      "Iteration 85000/400000, objective = 0.911659646389859.\n",
      "Iteration 90000/400000, objective = 0.9115160114977927.\n",
      "Iteration 95000/400000, objective = 0.9113852780041303.\n",
      "Iteration 100000/400000, objective = 0.9112674783191712.\n",
      "Iteration 105000/400000, objective = 0.9111603467306059.\n",
      "Iteration 110000/400000, objective = 0.911061440838321.\n",
      "Iteration 115000/400000, objective = 0.9109709819345029.\n",
      "Iteration 120000/400000, objective = 0.9108900447120021.\n",
      "Iteration 125000/400000, objective = 0.9108151622885281.\n",
      "Iteration 130000/400000, objective = 0.9107486520793332.\n",
      "Iteration 135000/400000, objective = 0.9106881259069213.\n",
      "Iteration 140000/400000, objective = 0.9106326779645755.\n",
      "Iteration 145000/400000, objective = 0.9105821419684432.\n",
      "Iteration 150000/400000, objective = 0.9105349838552076.\n",
      "Iteration 155000/400000, objective = 0.9104906112257329.\n",
      "Iteration 160000/400000, objective = 0.9104500503456515.\n",
      "Iteration 165000/400000, objective = 0.9104131884621515.\n",
      "Iteration 170000/400000, objective = 0.9103791443093209.\n",
      "Iteration 175000/400000, objective = 0.9103480070047565.\n",
      "Iteration 180000/400000, objective = 0.910319516841585.\n",
      "Iteration 185000/400000, objective = 0.9102929094784697.\n",
      "Iteration 190000/400000, objective = 0.9102679977354482.\n",
      "Iteration 195000/400000, objective = 0.9102450248032966.\n",
      "Iteration 200000/400000, objective = 0.9102233255837735.\n"
     ]
    },
    {
     "ename": "KeyboardInterrupt",
     "evalue": "",
     "output_type": "error",
     "traceback": [
      "\u001b[0;31m---------------------------------------------------------------------------\u001b[0m",
      "\u001b[0;31mKeyboardInterrupt\u001b[0m                         Traceback (most recent call last)",
      "\u001b[0;32m<ipython-input-623-1432b7fad481>\u001b[0m in \u001b[0;36m<module>\u001b[0;34m\u001b[0m\n\u001b[1;32m      1\u001b[0m \u001b[0malpha_grid\u001b[0m\u001b[0;34m=\u001b[0m\u001b[0mnp\u001b[0m\u001b[0;34m.\u001b[0m\u001b[0marray\u001b[0m\u001b[0;34m(\u001b[0m\u001b[0;34m[\u001b[0m\u001b[0;36m0\u001b[0m\u001b[0;34m,\u001b[0m\u001b[0;36m1e-4\u001b[0m\u001b[0;34m,\u001b[0m\u001b[0;36m1e-3\u001b[0m\u001b[0;34m,\u001b[0m\u001b[0;36m1e-2\u001b[0m\u001b[0;34m]\u001b[0m\u001b[0;34m)\u001b[0m\u001b[0;34m\u001b[0m\u001b[0;34m\u001b[0m\u001b[0m\n\u001b[0;32m----> 2\u001b[0;31m \u001b[0mgrid_search\u001b[0m\u001b[0;34m(\u001b[0m\u001b[0mK_objective_function_LASSO\u001b[0m\u001b[0;34m,\u001b[0m \u001b[0malpha_grid\u001b[0m\u001b[0;34m)\u001b[0m\u001b[0;34m\u001b[0m\u001b[0;34m\u001b[0m\u001b[0m\n\u001b[0m",
      "\u001b[0;32m<ipython-input-534-79052b292524>\u001b[0m in \u001b[0;36mgrid_search\u001b[0;34m(objective, grid)\u001b[0m\n\u001b[1;32m      3\u001b[0m     \u001b[0mvalues\u001b[0m \u001b[0;34m=\u001b[0m \u001b[0mnp\u001b[0m\u001b[0;34m.\u001b[0m\u001b[0marray\u001b[0m\u001b[0;34m(\u001b[0m\u001b[0;34m[\u001b[0m\u001b[0;34m]\u001b[0m\u001b[0;34m)\u001b[0m\u001b[0;34m\u001b[0m\u001b[0;34m\u001b[0m\u001b[0m\n\u001b[1;32m      4\u001b[0m     \u001b[0;32mfor\u001b[0m \u001b[0mpoint\u001b[0m \u001b[0;32min\u001b[0m \u001b[0mgrid\u001b[0m\u001b[0;34m:\u001b[0m\u001b[0;34m\u001b[0m\u001b[0;34m\u001b[0m\u001b[0m\n\u001b[0;32m----> 5\u001b[0;31m         \u001b[0mvalues\u001b[0m \u001b[0;34m=\u001b[0m \u001b[0mnp\u001b[0m\u001b[0;34m.\u001b[0m\u001b[0mappend\u001b[0m\u001b[0;34m(\u001b[0m\u001b[0mvalues\u001b[0m\u001b[0;34m,\u001b[0m \u001b[0mobjective\u001b[0m\u001b[0;34m(\u001b[0m\u001b[0mpoint\u001b[0m\u001b[0;34m)\u001b[0m\u001b[0;34m)\u001b[0m\u001b[0;34m\u001b[0m\u001b[0;34m\u001b[0m\u001b[0m\n\u001b[0m\u001b[1;32m      6\u001b[0m     \u001b[0;32mreturn\u001b[0m \u001b[0mgrid\u001b[0m\u001b[0;34m[\u001b[0m\u001b[0mnp\u001b[0m\u001b[0;34m.\u001b[0m\u001b[0margmin\u001b[0m\u001b[0;34m(\u001b[0m\u001b[0mvalues\u001b[0m\u001b[0;34m)\u001b[0m\u001b[0;34m]\u001b[0m\u001b[0;34m\u001b[0m\u001b[0;34m\u001b[0m\u001b[0m\n",
      "\u001b[0;32m<ipython-input-622-adef24c28523>\u001b[0m in \u001b[0;36m<lambda>\u001b[0;34m(alpha)\u001b[0m\n\u001b[0;32m----> 1\u001b[0;31m K_objective_function_LASSO=lambda alpha: KFold_cross_validation_LASSO(data_matrix=MNIST_data_matrix, data_outputs=MNIST_OHV,\n\u001b[0m\u001b[1;32m      2\u001b[0m                                                                       K=5, r_parameter=alpha)\n",
      "\u001b[0;32m<ipython-input-621-e43816636f23>\u001b[0m in \u001b[0;36mKFold_cross_validation_LASSO\u001b[0;34m(data_matrix, data_outputs, K, r_parameter)\u001b[0m\n\u001b[1;32m     45\u001b[0m         \u001b[0mproximal_map_v\u001b[0m \u001b[0;34m=\u001b[0m  \u001b[0;32mlambda\u001b[0m \u001b[0mx\u001b[0m\u001b[0;34m:\u001b[0m \u001b[0msoft_thresholding\u001b[0m\u001b[0;34m(\u001b[0m\u001b[0mx\u001b[0m\u001b[0;34m,\u001b[0m \u001b[0mLASSO_threshold_v\u001b[0m\u001b[0;34m)\u001b[0m\u001b[0;34m\u001b[0m\u001b[0;34m\u001b[0m\u001b[0m\n\u001b[1;32m     46\u001b[0m \u001b[0;34m\u001b[0m\u001b[0m\n\u001b[0;32m---> 47\u001b[0;31m         weights_train=proximal_gradient_descent2(LASSO_objective_t, LASSO_gradient_t, \n\u001b[0m\u001b[1;32m     48\u001b[0m                                                     \u001b[0mproximal_map_t\u001b[0m\u001b[0;34m,\u001b[0m\u001b[0;34m\u001b[0m\u001b[0;34m\u001b[0m\u001b[0m\n\u001b[1;32m     49\u001b[0m                                                     \u001b[0minitial_weights\u001b[0m\u001b[0;34m,\u001b[0m\u001b[0;34m\u001b[0m\u001b[0;34m\u001b[0m\u001b[0m\n",
      "\u001b[0;32m<ipython-input-604-b804a2f4e089>\u001b[0m in \u001b[0;36mproximal_gradient_descent2\u001b[0;34m(objective, gradient, proximal_map, initial_weights, step_size, no_of_iterations, print_output, tolerance)\u001b[0m\n\u001b[1;32m     17\u001b[0m             \u001b[0;32mbreak\u001b[0m\u001b[0;34m\u001b[0m\u001b[0;34m\u001b[0m\u001b[0m\n\u001b[1;32m     18\u001b[0m         \u001b[0mweights\u001b[0m \u001b[0;34m=\u001b[0m \u001b[0mproximal_map\u001b[0m\u001b[0;34m(\u001b[0m\u001b[0mweights\u001b[0m \u001b[0;34m-\u001b[0m \u001b[0mstep_size\u001b[0m \u001b[0;34m*\u001b[0m \u001b[0mgradient\u001b[0m\u001b[0;34m(\u001b[0m\u001b[0mweights\u001b[0m\u001b[0;34m)\u001b[0m\u001b[0;34m)\u001b[0m\u001b[0;34m\u001b[0m\u001b[0;34m\u001b[0m\u001b[0m\n\u001b[0;32m---> 19\u001b[0;31m         \u001b[0mobjective_values\u001b[0m\u001b[0;34m.\u001b[0m\u001b[0mappend\u001b[0m\u001b[0;34m(\u001b[0m\u001b[0mobjective\u001b[0m\u001b[0;34m(\u001b[0m\u001b[0mweights\u001b[0m\u001b[0;34m)\u001b[0m\u001b[0;34m)\u001b[0m\u001b[0;34m\u001b[0m\u001b[0;34m\u001b[0m\u001b[0m\n\u001b[0m\u001b[1;32m     20\u001b[0m         \u001b[0;32mif\u001b[0m \u001b[0;34m(\u001b[0m\u001b[0mcounter\u001b[0m \u001b[0;34m+\u001b[0m \u001b[0;36m1\u001b[0m\u001b[0;34m)\u001b[0m \u001b[0;34m%\u001b[0m \u001b[0mprint_output\u001b[0m \u001b[0;34m==\u001b[0m \u001b[0;36m0\u001b[0m\u001b[0;34m:\u001b[0m\u001b[0;34m\u001b[0m\u001b[0;34m\u001b[0m\u001b[0m\n\u001b[1;32m     21\u001b[0m             print(\"Iteration {k}/{m}, objective = {o}.\".format(k=counter+1, \\\n",
      "\u001b[0;32m<ipython-input-621-e43816636f23>\u001b[0m in \u001b[0;36m<lambda>\u001b[0;34m(weight_matrix)\u001b[0m\n\u001b[1;32m     19\u001b[0m \u001b[0;34m\u001b[0m\u001b[0m\n\u001b[1;32m     20\u001b[0m \u001b[0;34m\u001b[0m\u001b[0m\n\u001b[0;32m---> 21\u001b[0;31m         LASSO_objective_t=lambda weight_matrix:lasso_logistic_regression_cost_function(data_train,\n\u001b[0m\u001b[1;32m     22\u001b[0m                                                                            weight_matrix,label_train,r_parameter)\n\u001b[1;32m     23\u001b[0m         LASSO_gradient_t=lambda weight_matrix:multinomial_logistic_regression_gradient(data_train,\n",
      "\u001b[0;32m<ipython-input-290-e3da8dc97ad1>\u001b[0m in \u001b[0;36mlasso_logistic_regression_cost_function\u001b[0;34m(data_matrix, weight_matrix, one_hot_vector_encodings, regularisation_parameter)\u001b[0m\n\u001b[1;32m      3\u001b[0m                                             regularisation_parameter):\n\u001b[1;32m      4\u001b[0m     \u001b[0;31m# YOUR CODE HERE\u001b[0m\u001b[0;34m\u001b[0m\u001b[0;34m\u001b[0m\u001b[0;34m\u001b[0m\u001b[0m\n\u001b[0;32m----> 5\u001b[0;31m     return multinomial_logistic_regression_cost_function(data_matrix, weight_matrix,\n\u001b[0m\u001b[1;32m      6\u001b[0m                                             one_hot_vector_encodings)\\\n\u001b[1;32m      7\u001b[0m                                             \u001b[0;34m+\u001b[0m\u001b[0mregularisation_parameter\u001b[0m\u001b[0;34m*\u001b[0m\u001b[0mnp\u001b[0m\u001b[0;34m.\u001b[0m\u001b[0msum\u001b[0m\u001b[0;34m(\u001b[0m\u001b[0mnp\u001b[0m\u001b[0;34m.\u001b[0m\u001b[0mabs\u001b[0m\u001b[0;34m(\u001b[0m\u001b[0mweight_matrix\u001b[0m\u001b[0;34m)\u001b[0m\u001b[0;34m)\u001b[0m\u001b[0;34m\u001b[0m\u001b[0;34m\u001b[0m\u001b[0m\n",
      "\u001b[0;32m<ipython-input-275-45b7050a5ccf>\u001b[0m in \u001b[0;36mmultinomial_logistic_regression_cost_function\u001b[0;34m(data_matrix, weight_matrix, one_hot_vector_encodings)\u001b[0m\n\u001b[1;32m      4\u001b[0m     \u001b[0ms\u001b[0m\u001b[0;34m=\u001b[0m\u001b[0mlen\u001b[0m\u001b[0;34m(\u001b[0m\u001b[0mdata_matrix\u001b[0m\u001b[0;34m)\u001b[0m\u001b[0;34m\u001b[0m\u001b[0;34m\u001b[0m\u001b[0m\n\u001b[1;32m      5\u001b[0m     \u001b[0mmodel_evaluation\u001b[0m \u001b[0;34m=\u001b[0m\u001b[0mlinear_model_function\u001b[0m\u001b[0;34m(\u001b[0m\u001b[0mdata_matrix\u001b[0m\u001b[0;34m,\u001b[0m\u001b[0mweight_matrix\u001b[0m\u001b[0;34m)\u001b[0m\u001b[0;34m\u001b[0m\u001b[0;34m\u001b[0m\u001b[0m\n\u001b[0;32m----> 6\u001b[0;31m     return (1/s)*np.sum(np.log(np.sum(np.exp(model_evaluation),axis=1)) - np.sum(one_hot_vector_encodings * \\\n\u001b[0m\u001b[1;32m      7\u001b[0m                                                                                 model_evaluation,axis=1))\n",
      "\u001b[0;31mKeyboardInterrupt\u001b[0m: "
     ]
    }
   ],
   "source": [
    "#it took over 10 hours for 400000 iterations"
   ]
  },
  {
   "cell_type": "markdown",
   "id": "atmospheric-nursing",
   "metadata": {
    "deletable": false,
    "editable": false,
    "hidden": true,
    "nbgrader": {
     "cell_type": "markdown",
     "checksum": "82c3807d111e6f50c87b7ae4cb90f853",
     "grade": false,
     "grade_id": "cell-Q3CodeInfo2",
     "locked": true,
     "schema_version": 3,
     "solution": false,
     "task": false
    }
   },
   "source": [
    "Specify the code for your best data model (linear, polynomial or else) applied to your best weights\n",
    "and assign the result to the output of the function $\\mathtt{MNIST\\_model\\_function}$. The data model has to be created from the argument *inputs*, which is a two-dimensional array where the first dimension equals the number of samples and the second dimension the dimension of the data (900 in case of Audio MNIST). If, for example, your model is a linear basis model applied to a weight matrix *best_weight_matrix*, then your code could look like:\n",
    "\n",
    "```\n",
    "def MNIST_model_function(inputs):\n",
    "    return linear_regression_data(inputs) @ best_weight_matrix\n",
    "```\n"
   ]
  },
  {
   "cell_type": "code",
   "execution_count": 661,
   "id": "armed-pepper",
   "metadata": {
    "ExecuteTime": {
     "end_time": "2021-12-24T13:27:08.413652Z",
     "start_time": "2021-12-24T13:27:08.378603Z"
    },
    "deletable": false,
    "hidden": true,
    "nbgrader": {
     "cell_type": "code",
     "checksum": "37b8be7793e9f0fe5f6f4348846589e0",
     "grade": false,
     "grade_id": "cell-Q3ModelFunctionSolution",
     "locked": false,
     "schema_version": 3,
     "solution": true,
     "task": false
    }
   },
   "outputs": [],
   "source": [
    "'''Specify your model function. The output has to be a two-dimensional array of size sx1\n",
    "You are not allowed to include additional input arguments.'''\n",
    "\n",
    "#multinomial logistic regression is the best\n",
    "\n",
    "def MNIST_model_function(inputs):\n",
    "    # YOUR CODE HERE\n",
    "    standard_data, _, _ = standardise(inputs)\n",
    "    standard_data_matrix=linear_regression_data(standard_data)\n",
    "    best_weight_matrix=MNIST_optimal_weights_multi\n",
    "    labels=multinomial_prediction_function(standard_data_matrix,best_weight_matrix)\n",
    "    return labels\n",
    "\n"
   ]
  },
  {
   "cell_type": "markdown",
   "id": "complete-dining",
   "metadata": {
    "deletable": false,
    "editable": false,
    "hidden": true,
    "nbgrader": {
     "cell_type": "markdown",
     "checksum": "c8a641a777832e10d4e6e037eb6c72ff",
     "grade": false,
     "grade_id": "cell-Q3ModelFunctionMarking",
     "locked": true,
     "schema_version": 3,
     "solution": false,
     "task": false
    }
   },
   "source": [
    "The code in the next cell will then evaluate the classification performance of your best classifier\n",
    "when applied to hidden data that is similar (but different) to the MNIST training dataset."
   ]
  },
  {
   "cell_type": "code",
   "execution_count": 662,
   "id": "sticky-scroll",
   "metadata": {
    "ExecuteTime": {
     "end_time": "2021-12-24T13:27:11.545320Z",
     "start_time": "2021-12-24T13:27:10.638217Z"
    },
    "deletable": false,
    "hidden": true,
    "nbgrader": {
     "cell_type": "code",
     "checksum": "3427e04558ed2a38294c8b6e054b696f",
     "grade": true,
     "grade_id": "cell-Q3ModelFunctionTesting",
     "locked": false,
     "points": 0,
     "schema_version": 3,
     "solution": true,
     "task": false
    }
   },
   "outputs": [
    {
     "name": "stdout",
     "output_type": "stream",
     "text": [
      "The best accuracy is 95.16666666666667%\n"
     ]
    }
   ],
   "source": [
    "# YOUR CODE HERE\n",
    "audio_mnist_test_mfccs = np.genfromtxt(\n",
    "    'AudioMNIST/MFCC/Testing/testing_mfccs.txt')\n",
    "predicted_label=MNIST_model_function(audio_mnist_test_mfccs)\n",
    "\n",
    "classification_accuracy_test = classification_accuracy(\n",
    "    audio_mnist_test_labels.reshape(len(audio_mnist_test_labels)), predicted_label)\n",
    "\n",
    "print(\"The best accuracy is \"+str(classification_accuracy_test*100)+\"%\")"
   ]
  },
  {
   "cell_type": "markdown",
   "id": "dense-albuquerque",
   "metadata": {
    "deletable": false,
    "editable": false,
    "nbgrader": {
     "cell_type": "markdown",
     "checksum": "3fb426c5333d1f4268693b4663ca68e1",
     "grade": false,
     "grade_id": "cell-Section2Info",
     "locked": true,
     "schema_version": 3,
     "solution": false,
     "task": false
    }
   },
   "source": [
    "## Problem 2: Music genre classification\n",
    "This concludes the binary classification part of the final assessment. We now move on to multinomial logistic regression for multi-class classfication problems. We later apply this to another sound classification problem, namely to a classification of music by genres."
   ]
  },
  {
   "cell_type": "markdown",
   "id": "furnished-tiger",
   "metadata": {
    "deletable": false,
    "editable": false,
    "nbgrader": {
     "cell_type": "markdown",
     "checksum": "26f98420f3f99943e70d699d19e9fa80",
     "grade": false,
     "grade_id": "cell-Q2MultinomialClassificationProblem",
     "locked": true,
     "schema_version": 3,
     "solution": false,
     "task": false
    }
   },
   "source": [
    "### Question 2a [7 marks]\n",
    "As in the first exercise, implement the softmax function $\\mathtt{softmax\\_function}$ as defined in the lectures. The function takes the NumPy array argument as its main argument, but also has an optional *axis* argument to determine across which array-dimension you apply the softmax operation. If this argument is not specified (or set to None), then the softmax operation is applied to the entire array. Make sure your function works at least for NumPy arrays *argument* with arbitrary numerical values and dimension one or two."
   ]
  },
  {
   "cell_type": "code",
   "execution_count": 270,
   "id": "educational-ballet",
   "metadata": {
    "ExecuteTime": {
     "end_time": "2021-12-24T15:19:29.430950Z",
     "start_time": "2021-12-24T15:19:29.418980Z"
    },
    "deletable": false,
    "nbgrader": {
     "cell_type": "code",
     "checksum": "c83de297d074d590fa76ca49375a6ebb",
     "grade": false,
     "grade_id": "cell-Q2SoftmaxSolution",
     "locked": false,
     "schema_version": 3,
     "solution": true,
     "task": false
    }
   },
   "outputs": [],
   "source": [
    "def softmax_function(argument, axis=None):\n",
    "    # YOUR CODE HERE\n",
    "    if axis == None:\n",
    "        output = np.exp(argument - np.max(argument))\n",
    "        output = output / np.sum(output)\n",
    "    else:\n",
    "        output = np.exp(argument - np.expand_dims(np.max(argument, axis), axis))\n",
    "        output = output / np.expand_dims(np.sum(output, axis), axis)\n",
    "    return output\n"
   ]
  },
  {
   "cell_type": "markdown",
   "id": "legislative-sentence",
   "metadata": {
    "deletable": false,
    "editable": false,
    "nbgrader": {
     "cell_type": "markdown",
     "checksum": "4a50d851c5ef69b2e963d1852cb81428",
     "grade": false,
     "grade_id": "cell-Q2SoftmaxMarking",
     "locked": true,
     "schema_version": 3,
     "solution": false,
     "task": false
    }
   },
   "source": [
    "Test your function with the following unit test. Passing the test will be awarded with **1 mark**."
   ]
  },
  {
   "cell_type": "code",
   "execution_count": 271,
   "id": "level-velvet",
   "metadata": {
    "ExecuteTime": {
     "end_time": "2021-12-24T15:19:29.446913Z",
     "start_time": "2021-12-24T15:19:29.434937Z"
    },
    "deletable": false,
    "editable": false,
    "nbgrader": {
     "cell_type": "code",
     "checksum": "8f80894f74c5a0b8681a30f3c16363a5",
     "grade": true,
     "grade_id": "cell-Q2SoftmaxTest",
     "locked": true,
     "points": 1,
     "schema_version": 3,
     "solution": false,
     "task": false
    }
   },
   "outputs": [],
   "source": [
    "np.testing.assert_array_almost_equal(softmax_function(np.array([[1.5], [0.3], [-3.7]])), np.array([[0.76528029], \\\n",
    "                                                        [0.23049799], [0.00422172]]))\n",
    "np.testing.assert_array_almost_equal(softmax_function(np.array([[1.5, 3], [0.3, -0.7], [-3.7, 2]]), axis=0), \\\n",
    "                          np.array([[0.76528029, 0.71807976], [0.23049799, 0.01775346], \\\n",
    "                                    [0.00422172, 0.26416678]]))"
   ]
  },
  {
   "cell_type": "markdown",
   "id": "compressed-consistency",
   "metadata": {
    "deletable": false,
    "editable": false,
    "nbgrader": {
     "cell_type": "markdown",
     "checksum": "dae0f0862336ec0ba938e12809947e1b",
     "grade": false,
     "grade_id": "cell-Q2PredictionFunctionProblem",
     "locked": true,
     "schema_version": 3,
     "solution": false,
     "task": false
    }
   },
   "source": [
    "At the next stage write a function $\\mathtt{multinomial\\_prediction\\_function}$ that turns your predicitons into labels. The function takes the arguments *data_matrix* and *weight_matrix* as inputs and returns a column-vector of labels with values in  $\\left\\{0, K-1\\right\\}$ as its output, where $K$ is the number of classes."
   ]
  },
  {
   "cell_type": "code",
   "execution_count": 272,
   "id": "statewide-cleaner",
   "metadata": {
    "ExecuteTime": {
     "end_time": "2021-12-24T15:19:29.462865Z",
     "start_time": "2021-12-24T15:19:29.450896Z"
    },
    "deletable": false,
    "nbgrader": {
     "cell_type": "code",
     "checksum": "2aa302d27d821f6be0559ddf36edc8a6",
     "grade": false,
     "grade_id": "cell-Q2PredictionFunctionSolution",
     "locked": false,
     "schema_version": 3,
     "solution": true,
     "task": false
    }
   },
   "outputs": [],
   "source": [
    "def multinomial_prediction_function(data_matrix, weight_matrix):\n",
    "    # YOUR CODE HERE\n",
    "    return np.argmax(data_matrix@weight_matrix, axis=1)"
   ]
  },
  {
   "cell_type": "markdown",
   "id": "driven-survivor",
   "metadata": {
    "deletable": false,
    "editable": false,
    "nbgrader": {
     "cell_type": "markdown",
     "checksum": "088186fbaee8fa662483b9c37a38cbd1",
     "grade": false,
     "grade_id": "cell-Q2OHVProblem",
     "locked": true,
     "schema_version": 3,
     "solution": false,
     "task": false
    }
   },
   "source": [
    "Next, write a function $\\mathtt{one\\_hot\\_vector\\_encoding}$ that converts an NumPy array labels with values in the range of $\\left\\{0,K-1\\right\\}$  into so-called one-hot vector encodings. For example, for  $K=3$  and a label vector  $\\mathtt{labels} = (2\\,0\\,1\\,2)^\\top$, the output of $\\mathtt{one\\_hot\\_vector\\_encoding}(\\mathit{labels})$ should be a two-dimensional NumPy array of the form:\n",
    "$$\n",
    "\\begin{pmatrix}\n",
    "0 & 0 & 1 \\\\\n",
    "1 & 0 & 0 \\\\\n",
    "0 & 1 & 0 \\\\\n",
    "0 & 0 & 1 \\\\\n",
    "\\end{pmatrix}\n",
    "$$"
   ]
  },
  {
   "cell_type": "code",
   "execution_count": 273,
   "id": "fresh-future",
   "metadata": {
    "ExecuteTime": {
     "end_time": "2021-12-24T15:19:29.588528Z",
     "start_time": "2021-12-24T15:19:29.572599Z"
    },
    "deletable": false,
    "nbgrader": {
     "cell_type": "code",
     "checksum": "45795aa1e3b675a43ec4f4d5720865c3",
     "grade": false,
     "grade_id": "cell-Q2OHVSolution",
     "locked": false,
     "schema_version": 3,
     "solution": true,
     "task": false
    }
   },
   "outputs": [],
   "source": [
    "def one_hot_vector_encoding(labels):\n",
    "    # YOUR CODE HERE\n",
    "    no_of_classes = np.max(labels) + 1\n",
    "    output = np.zeros((len(labels), no_of_classes))\n",
    "    output[np.arange(len(labels)), labels] = 1\n",
    "    return output\n"
   ]
  },
  {
   "cell_type": "markdown",
   "id": "billion-organ",
   "metadata": {
    "deletable": false,
    "editable": false,
    "nbgrader": {
     "cell_type": "markdown",
     "checksum": "b019f3c01be9d2cadddb4e91588eb693",
     "grade": false,
     "grade_id": "cell-Q2OHVMarking",
     "locked": true,
     "schema_version": 3,
     "solution": false,
     "task": false
    }
   },
   "source": [
    "Test your function with the following unit test. Passing the test will be awarded with **1 mark**."
   ]
  },
  {
   "cell_type": "code",
   "execution_count": 274,
   "id": "appreciated-audio",
   "metadata": {
    "ExecuteTime": {
     "end_time": "2021-12-24T15:19:29.775030Z",
     "start_time": "2021-12-24T15:19:29.755150Z"
    },
    "deletable": false,
    "editable": false,
    "nbgrader": {
     "cell_type": "code",
     "checksum": "88cab0a4d299048335a9c302999b0566",
     "grade": true,
     "grade_id": "cell-Q2OHVTest",
     "locked": true,
     "points": 1,
     "schema_version": 3,
     "solution": false,
     "task": false
    }
   },
   "outputs": [],
   "source": [
    "np.testing.assert_array_almost_equal(one_hot_vector_encoding(np.array([1, 2, 0, 3])), \\\n",
    "                          np.array([[0,1,0,0],[0,0,1,0],[1,0,0,0],[0,0,0,1]]))\n",
    "np.testing.assert_array_almost_equal(one_hot_vector_encoding(np.array([1,0,1,0])), \\\n",
    "                          np.array([[0,1],[1,0],[0,1],[1,0]]))"
   ]
  },
  {
   "cell_type": "markdown",
   "id": "sealed-building",
   "metadata": {
    "deletable": false,
    "editable": false,
    "nbgrader": {
     "cell_type": "markdown",
     "checksum": "94d786d13729c60877470594615b8bdf",
     "grade": false,
     "grade_id": "cell-Q2CostGradientProblem",
     "locked": true,
     "schema_version": 3,
     "solution": false,
     "task": false
    }
   },
   "source": [
    "Implement the cost function and gradient for the multinomial logistic regression in terms of two functions $\\mathtt{multinomial\\_logistic\\_regression\\_cost\\_function}$ and $\\mathtt{multinomial\\_logistic\\_regression\\_gradient}$. As in the binary classification case, the arguments are the  data matrix *data_matrix* and *weights* that are now named *weight_matrix*. Instead of passing on labels as data_labels as in the binary case, you pass the one hot vector encoding representation *one_hot_vector_encodings* as your third argument. Return the cost function value, respectively the gradient, following the mathematical formulas in the lecture notes.\n",
    "\n",
    "**Remark**: both functions should include a normalisation prefactor $\\frac{1}{s}$."
   ]
  },
  {
   "cell_type": "code",
   "execution_count": 275,
   "id": "returning-tunisia",
   "metadata": {
    "ExecuteTime": {
     "end_time": "2021-12-24T15:19:29.915765Z",
     "start_time": "2021-12-24T15:19:29.905708Z"
    },
    "deletable": false,
    "nbgrader": {
     "cell_type": "code",
     "checksum": "454af5a36584a190ff960137dffbcff6",
     "grade": false,
     "grade_id": "cell-Q2CostGradientSolution1",
     "locked": false,
     "schema_version": 3,
     "solution": true,
     "task": false
    }
   },
   "outputs": [],
   "source": [
    "def multinomial_logistic_regression_cost_function(data_matrix, weight_matrix,\n",
    "                                                  one_hot_vector_encodings):\n",
    "    # YOUR CODE HERE\n",
    "    s=len(data_matrix)\n",
    "    model_evaluation =linear_model_function(data_matrix,weight_matrix)\n",
    "    return (1/s)*np.sum(np.log(np.sum(np.exp(model_evaluation),axis=1)) - np.sum(one_hot_vector_encodings * \\\n",
    "                                                                                model_evaluation,axis=1))"
   ]
  },
  {
   "cell_type": "code",
   "execution_count": 276,
   "id": "southwest-baltimore",
   "metadata": {
    "ExecuteTime": {
     "end_time": "2021-12-24T15:19:29.931612Z",
     "start_time": "2021-12-24T15:19:29.918713Z"
    },
    "deletable": false,
    "nbgrader": {
     "cell_type": "code",
     "checksum": "452ced7f2289118c77b7d5e68d9cba80",
     "grade": false,
     "grade_id": "cell-Q2CostGradientSolution2",
     "locked": false,
     "schema_version": 3,
     "solution": true,
     "task": false
    }
   },
   "outputs": [],
   "source": [
    "def multinomial_logistic_regression_gradient(data_matrix, weight_matrix,\n",
    "                                             one_hot_vector_encodings):\n",
    "    # YOUR CODE HERE\n",
    "    s=len(data_matrix)\n",
    "    model_evaluation = linear_model_function(data_matrix, weight_matrix)\n",
    "    return (1/s)*data_matrix.T @ (softmax_function(model_evaluation, axis=1) - one_hot_vector_encodings)"
   ]
  },
  {
   "cell_type": "markdown",
   "id": "emotional-secretariat",
   "metadata": {
    "deletable": false,
    "editable": false,
    "nbgrader": {
     "cell_type": "markdown",
     "checksum": "0583bd3dee91bb8657ac85eeebdd6735",
     "grade": false,
     "grade_id": "cell-Q2CostGradientMarking",
     "locked": true,
     "schema_version": 3,
     "solution": false,
     "task": false
    }
   },
   "source": [
    "Test your functions with the following unit tests. Passing each test will be awarded with **1 mark**."
   ]
  },
  {
   "cell_type": "code",
   "execution_count": 277,
   "id": "typical-pakistan",
   "metadata": {
    "ExecuteTime": {
     "end_time": "2021-12-24T15:19:29.963527Z",
     "start_time": "2021-12-24T15:19:29.934727Z"
    },
    "deletable": false,
    "editable": false,
    "nbgrader": {
     "cell_type": "code",
     "checksum": "2a87555b1294e5f0326ce6c4679311fb",
     "grade": true,
     "grade_id": "cell-0fd90c488dab48da",
     "locked": true,
     "points": 1,
     "schema_version": 3,
     "solution": false,
     "task": false
    }
   },
   "outputs": [],
   "source": [
    "test_data_matrix = np.array([[6, 4, 5], [1, 2, 8], [-3, 3, 6], [6, 5, -100],\n",
    "                             [5, 7, 2]])\n",
    "test_weight_matrix = np.array([[2, 1, -2, -4], [2, -5, 1, 4], [-2, -3, -1,\n",
    "                                                               -2]])\n",
    "test_one_hot_vector_encoding = np.array([[1., 0., 0., 0.], [0., 0., 1., 0.],\n",
    "                                         [0., 0., 0., 1.], [0., 1., 0., 0.],\n",
    "                                         [1., 0., 0., 0.]])\n",
    "np.testing.assert_array_almost_equal(\n",
    "    multinomial_logistic_regression_cost_function(\n",
    "        test_data_matrix, test_weight_matrix, test_one_hot_vector_encoding),\n",
    "    0.028611)"
   ]
  },
  {
   "cell_type": "code",
   "execution_count": 278,
   "id": "fluid-aquatic",
   "metadata": {
    "ExecuteTime": {
     "end_time": "2021-12-24T15:19:29.993525Z",
     "start_time": "2021-12-24T15:19:29.966517Z"
    },
    "deletable": false,
    "editable": false,
    "nbgrader": {
     "cell_type": "code",
     "checksum": "e83c56c6e2f7075954962fba611fea6b",
     "grade": true,
     "grade_id": "cell-84458743823bf2e7",
     "locked": true,
     "points": 1,
     "schema_version": 3,
     "solution": false,
     "task": false
    }
   },
   "outputs": [],
   "source": [
    "test_data_matrix = np.array([[6, 4, 5], [1, 2, 8], [-3, 3, 6], [6, 5, -100],\n",
    "                             [5, 7, 2]])\n",
    "test_weight_matrix = np.array([[2, 1, -2, -4], [2, -5, 1, 4], [-2, -3, -1,\n",
    "                                                               -2]])\n",
    "test_one_hot_vector_encoding = np.array([[1., 0., 0., 0.], [0., 0., 1., 0.],\n",
    "                                         [0., 0., 0., 1.], [0., 1., 0., 0.],\n",
    "                                         [1., 0., 0., 0.]])\n",
    "np.testing.assert_array_almost_equal(\n",
    "    multinomial_logistic_regression_gradient(test_data_matrix,\n",
    "                                             test_weight_matrix,\n",
    "                                             test_one_hot_vector_encoding),\n",
    "    np.array([[2.346197e-02, 2.407665e-12, -2.671137e-02, 3.249397e-03],\n",
    "              [4.692401e-02, 4.815311e-12, -5.320063e-02, 6.276617e-03],\n",
    "              [1.876966e-01, 1.926122e-11, -2.129506e-01, 2.525396e-02]]))"
   ]
  },
  {
   "cell_type": "markdown",
   "id": "brazilian-honduras",
   "metadata": {
    "deletable": false,
    "editable": false,
    "nbgrader": {
     "cell_type": "markdown",
     "checksum": "59a4c27301f2507852d18297523c00b7",
     "grade": false,
     "grade_id": "cell-Q2DataInfo",
     "locked": true,
     "schema_version": 3,
     "solution": false,
     "task": false
    }
   },
   "source": [
    "We now proceed with loading the data. The GTZAN genre collection dataset was collected in $2000-2001$. It consists of $1000$ audio files each having $30$ seconds duration. There are $10$ classes ($10$ music genres) each containing $100$ audio tracks. Each track is in **.wav** format. It contains audio files of the following 10 genres:\n",
    "\n",
    "- Blues\n",
    "- Classical\n",
    "- Country\n",
    "- Disco\n",
    "- Hip-hop\n",
    "- Jazz\n",
    "- Metal\n",
    "- Pop\n",
    "- Reggae\n",
    "- Rock\n",
    "\n",
    "The original raw dataset can be found for example at [GTZAN dataset.](https://www.kaggle.com/andradaolteanu/gtzan-dataset-music-genre-classification) Instead of working with raw audio files, we will work with the dataset containing a number, $58$ in total, of audio file features evaluated for each file of the dataset. This file is provided together with this template. In the next cell we read and then normalise the data provided."
   ]
  },
  {
   "cell_type": "code",
   "execution_count": 279,
   "id": "obvious-lingerie",
   "metadata": {
    "ExecuteTime": {
     "end_time": "2021-12-24T15:19:30.395008Z",
     "start_time": "2021-12-24T15:19:30.246310Z"
    },
    "deletable": false,
    "editable": false,
    "nbgrader": {
     "cell_type": "code",
     "checksum": "24be443c50466e81bf67fee4faf93540",
     "grade": false,
     "grade_id": "cell-Q2DataRead",
     "locked": true,
     "schema_version": 3,
     "solution": false,
     "task": false
    }
   },
   "outputs": [],
   "source": [
    "GTZAN_data = np.genfromtxt('GTZAN_features.csv',\n",
    "                           skip_header=True,\n",
    "                           dtype=float,\n",
    "                           delimiter=',',\n",
    "                           usecols=range(1, 59))\n",
    "GTZAN_data, _, _ = standardise(GTZAN_data)\n",
    "\n",
    "genres_dictionary = {b'blues':0,b'classical':1,b'country':2,\\\n",
    "                    b'disco':3,b'hiphop':4,b'jazz':5,\\\n",
    "                     b'metal':6,b'pop':7,b'reggae':8,b'rock':9}\n",
    "GTZAN_labels = np.genfromtxt('GTZAN_features.csv',\n",
    "                             skip_header=True,\n",
    "                             dtype=str,\n",
    "                             delimiter=',',\n",
    "                             usecols=[59],\n",
    "                             converters={59: lambda x: genres_dictionary[x]})"
   ]
  },
  {
   "cell_type": "markdown",
   "id": "objective-retirement",
   "metadata": {
    "deletable": false,
    "editable": false,
    "nbgrader": {
     "cell_type": "markdown",
     "checksum": "363351dcb379522bac91e787292c044a",
     "grade": false,
     "grade_id": "cell-Q2MultinomialClassificationSetup",
     "locked": true,
     "schema_version": 3,
     "solution": false,
     "task": false
    }
   },
   "source": [
    "You are now asked to apply the above to the GTZAN dataset:\n",
    "- Define a linear regression data matrix corresponding to GTZAN data. Store the matrix as *GTZAN_data_matrix*. Define a one hot vector encoding of GTZAN labels and store the result in as *GTZAN_OHV*;\n",
    "- Define an objective lambda function $\\mathtt{GTZAN\\_objective}$ with the argument *weight_matrix* based on the $\\mathtt{multinomial\\_logistic\\_regression\\_cost\\_function}$ with fixed arguments *data_matrix* (equal to *GTZAN_data_matrix*) and *data_labels* (equal to *GTZAN_OHV*). Repeat the same exercise to create a function $\\mathtt{GTZAN\\_gradient}$ based on $\\mathtt{multinomial\\_logistic\\_regression\\_gradient}$;\n",
    "- Define the starting point of the gradient descent as a zero matrix of appropriate dimensions and store it as *GTZAN_initial_weights*;\n",
    "- Define the step-size of the gradient descent as \n",
    "$$\n",
    "\\tau = \\frac{3.9\\cdot s}{\\left\\|\\mathbf{\\Phi\\left(X\\right)}\\right\\|^2},\n",
    "$$\n",
    "where $s$ is the number of data samples and $\\mathbf{\\Phi\\left(X\\right)}$ is a mathematical representation of the *GTZAN_data_matrix*. Store it as *GTZAN_step_size*;\n",
    "- Evaluate the optimal weights by running the gradient descent in the second variation ($\\mathtt{gradient\\_descent\\_v2}$) using the above parameters and *tolerance = 1e-3*, *no_of_iterations = 1000*;\n",
    "- Store the result of the gradient descent as *GTZAN_optimal_weights*, *GTZAN_objective_values*."
   ]
  },
  {
   "cell_type": "code",
   "execution_count": 281,
   "id": "raised-boost",
   "metadata": {
    "ExecuteTime": {
     "end_time": "2021-12-24T16:43:20.359832Z",
     "start_time": "2021-12-24T16:43:18.902530Z"
    },
    "deletable": false,
    "nbgrader": {
     "cell_type": "code",
     "checksum": "2de9f933648c31ebb535536484de6163",
     "grade": false,
     "grade_id": "cell-Q2MultinomialClassificationSolution",
     "locked": false,
     "schema_version": 3,
     "solution": true,
     "task": false
    }
   },
   "outputs": [
    {
     "name": "stdout",
     "output_type": "stream",
     "text": [
      "Iteration 100/1000, objective = 1.0767506389614987.\n",
      "Iteration 200/1000, objective = 0.9109814848675098.\n",
      "Iteration 300/1000, objective = 0.8244841216515572.\n",
      "Iteration 400/1000, objective = 0.7683732070923381.\n",
      "Iteration 500/1000, objective = 0.7279186772726314.\n",
      "Iteration 600/1000, objective = 0.696821183120303.\n",
      "Iteration 700/1000, objective = 0.6718623190153219.\n",
      "Iteration 800/1000, objective = 0.6512000503453522.\n",
      "Iteration 900/1000, objective = 0.6336912713100297.\n",
      "Iteration 1000/1000, objective = 0.6185821006106673.\n",
      "Iteration completed after 1000/1000, objective = 0.6185821006106673.\n"
     ]
    }
   ],
   "source": [
    "# YOUR CODE HERE\n",
    "GTZAN_data_matrix=linear_regression_data(GTZAN_data)\n",
    "GTZAN_OHV=one_hot_vector_encoding(GTZAN_labels)\n",
    "\n",
    "GTZAN_objective=lambda weight_matrix:multinomial_logistic_regression_cost_function(GTZAN_data_matrix,\n",
    "                                                                           weight_matrix,GTZAN_OHV)\n",
    "GTZAN_gradient=lambda weight_matrix:multinomial_logistic_regression_gradient(GTZAN_data_matrix,\n",
    "                                                                           weight_matrix,GTZAN_OHV)\n",
    "\n",
    "\n",
    "GTZAN_initial_weights=np.zeros((GTZAN_data_matrix.shape[1], GTZAN_OHV.shape[1]))\n",
    "\n",
    "s=len(GTZAN_data_matrix)\n",
    "GTZAN_step_size=(3.9*s)/np.linalg.norm(GTZAN_data_matrix)**2\n",
    "GTZAN_optimal_weights,GTZAN_objective_values=gradient_descent_v2(GTZAN_objective, GTZAN_gradient, \n",
    "                                                                     GTZAN_initial_weights, \n",
    "                      GTZAN_step_size, no_of_iterations=1000, print_output=100, tolerance=1e-3)\n",
    "\n"
   ]
  },
  {
   "cell_type": "markdown",
   "id": "orange-alcohol",
   "metadata": {
    "deletable": false,
    "editable": false,
    "nbgrader": {
     "cell_type": "markdown",
     "checksum": "b811f2e53e05695f7d01989952985673",
     "grade": false,
     "grade_id": "Q2MultinomialClassificationMarking",
     "locked": true,
     "schema_version": 3,
     "solution": false,
     "task": false
    }
   },
   "source": [
    "Now test your results with the following unit tests. Passing each test will be awarded with **1 mark**."
   ]
  },
  {
   "cell_type": "code",
   "execution_count": 285,
   "id": "complimentary-ministry",
   "metadata": {
    "ExecuteTime": {
     "end_time": "2021-12-24T15:19:32.609991Z",
     "start_time": "2021-12-24T15:19:32.592116Z"
    },
    "deletable": false,
    "editable": false,
    "nbgrader": {
     "cell_type": "code",
     "checksum": "aa463d6fc30b098f3e3d53f2f74a505c",
     "grade": true,
     "grade_id": "Q2MultinomialClassificationTest1",
     "locked": true,
     "points": 1,
     "schema_version": 3,
     "solution": false,
     "task": false
    }
   },
   "outputs": [],
   "source": [
    "np.testing.assert_almost_equal(np.linalg.norm(GTZAN_optimal_weights),\n",
    "                               6.581158794776621)"
   ]
  },
  {
   "cell_type": "code",
   "execution_count": 286,
   "id": "infinite-portrait",
   "metadata": {
    "ExecuteTime": {
     "end_time": "2021-12-24T15:19:32.642982Z",
     "start_time": "2021-12-24T15:19:32.619963Z"
    },
    "deletable": false,
    "editable": false,
    "nbgrader": {
     "cell_type": "code",
     "checksum": "9d00f728a1705e713edf4cd0a9ff600b",
     "grade": true,
     "grade_id": "Q2MultinomialClassificationTest2",
     "locked": true,
     "points": 1,
     "schema_version": 3,
     "solution": false,
     "task": false
    }
   },
   "outputs": [],
   "source": [
    "np.testing.assert_almost_equal(GTZAN_objective_values[-1], 0.6184412193103139)"
   ]
  },
  {
   "cell_type": "code",
   "execution_count": 287,
   "id": "blocked-blame",
   "metadata": {
    "ExecuteTime": {
     "end_time": "2021-12-24T15:19:32.684791Z",
     "start_time": "2021-12-24T15:19:32.651879Z"
    },
    "deletable": false,
    "editable": false,
    "nbgrader": {
     "cell_type": "code",
     "checksum": "eb5b37be4c37f7db3deb0fed56fac571",
     "grade": false,
     "grade_id": "Q2MultinomialClassificationSolution2",
     "locked": true,
     "schema_version": 3,
     "solution": false,
     "task": false
    }
   },
   "outputs": [
    {
     "name": "stdout",
     "output_type": "stream",
     "text": [
      "The classification accuracy for the GTZAN dataset is 81.89999999999999 %.\n"
     ]
    }
   ],
   "source": [
    "GTZAN_recovered_labels = multinomial_prediction_function(GTZAN_data_matrix, \\\n",
    "                                                         GTZAN_optimal_weights)\n",
    "GTZAN_classification_accuracy = classification_accuracy(\n",
    "    GTZAN_labels, GTZAN_recovered_labels)\n",
    "print(\"The classification accuracy for the GTZAN dataset is {p} %.\".format(\n",
    "    p=100 * GTZAN_classification_accuracy))"
   ]
  },
  {
   "cell_type": "code",
   "execution_count": 288,
   "id": "corrected-tuesday",
   "metadata": {
    "ExecuteTime": {
     "end_time": "2021-12-24T15:19:32.715785Z",
     "start_time": "2021-12-24T15:19:32.689777Z"
    },
    "deletable": false,
    "editable": false,
    "nbgrader": {
     "cell_type": "code",
     "checksum": "c13ade71349817ae9aca0d9509a62eb5",
     "grade": true,
     "grade_id": "Q2MultinomialClassificationTest3",
     "locked": true,
     "points": 1,
     "schema_version": 3,
     "solution": false,
     "task": false
    }
   },
   "outputs": [],
   "source": [
    "np.testing.assert_almost_equal(GTZAN_classification_accuracy, 0.819)"
   ]
  },
  {
   "cell_type": "markdown",
   "id": "ultimate-saturn",
   "metadata": {
    "deletable": false,
    "editable": false,
    "nbgrader": {
     "cell_type": "markdown",
     "checksum": "691be4966e31c1c69e506c5f28017571",
     "grade": false,
     "grade_id": "cell-Q2LASSO",
     "locked": true,
     "schema_version": 3,
     "solution": false,
     "task": false
    }
   },
   "source": [
    "### Question 2b [7 marks]\n",
    "As a final exercise before you are left to continue with the main part of your project of classifying\n",
    "spoken digits, implement a modification of the multinomial logistic regression problem that\n",
    "contains a positive multiple of the one-norm of the weight matrix as regularisation term, and\n",
    "approximate a solution numerically with the proximal gradient descent method as introduced in\n",
    "the lectures. "
   ]
  },
  {
   "cell_type": "markdown",
   "id": "alert-shopping",
   "metadata": {
    "deletable": false,
    "editable": false,
    "nbgrader": {
     "cell_type": "markdown",
     "checksum": "e7d8eb274d2e54854c5e74db1c22a223",
     "grade": false,
     "grade_id": "cell-Q2LASSOFunctions",
     "locked": true,
     "schema_version": 3,
     "solution": false,
     "task": false
    }
   },
   "source": [
    "Begin by completing the following three functions. \n",
    "- The function $\\mathtt{soft\\_thresholding}$ takes the\n",
    "two arguments *argument* and *threshold* and returns the solution of the soft-thresholding operation\n",
    "applied to *argument* with threshold *threshold*.\n",
    "- The function $\\mathtt{lasso\\_logistic\\_regression\\_cost\\_function}$ is supposed to implement the multinomial\n",
    "logistic regression loss with additional one-norm regularisation of weights for data\n",
    "matrix *data_matrix*, weight matrix *weight_matrix*, the one hot vector encoding of labels \n",
    "*one_hot_vector_encodings* and the regularisation parameter *regularisation_parameter*.\n",
    "- The function $\\mathtt{proximal\\_gradient\\_descent}$ takes the same arguments as the function $\\mathtt{gradient\\_descent}$, with additional argument $\\mathtt{proximal\\_map}$ in order to specify the proximal map to be used."
   ]
  },
  {
   "cell_type": "code",
   "execution_count": 289,
   "id": "native-moral",
   "metadata": {
    "ExecuteTime": {
     "end_time": "2021-12-24T15:19:32.731666Z",
     "start_time": "2021-12-24T15:19:32.719720Z"
    },
    "deletable": false,
    "nbgrader": {
     "cell_type": "code",
     "checksum": "f382d82160f1b3af201498adbf95352b",
     "grade": false,
     "grade_id": "cell-Q2LASSOSolution1",
     "locked": false,
     "schema_version": 3,
     "solution": true,
     "task": false
    }
   },
   "outputs": [],
   "source": [
    "def soft_thresholding(argument, threshold):\n",
    "    # YOUR CODE HERE\n",
    "    \n",
    "    return np.sign(argument) * np.maximum(0, np.abs(argument) - threshold)\n",
    " "
   ]
  },
  {
   "cell_type": "code",
   "execution_count": 290,
   "id": "dying-stomach",
   "metadata": {
    "ExecuteTime": {
     "end_time": "2021-12-24T15:21:00.971591Z",
     "start_time": "2021-12-24T15:21:00.962582Z"
    },
    "deletable": false,
    "nbgrader": {
     "cell_type": "code",
     "checksum": "9eb3088dfe88e92c8d79ac1bc649eede",
     "grade": false,
     "grade_id": "cell-Q2LASSOSolution2",
     "locked": false,
     "schema_version": 3,
     "solution": true,
     "task": false
    }
   },
   "outputs": [],
   "source": [
    "def lasso_logistic_regression_cost_function(data_matrix, weight_matrix,\n",
    "                                            one_hot_vector_encodings,\n",
    "                                            regularisation_parameter):\n",
    "    # YOUR CODE HERE\n",
    "    return multinomial_logistic_regression_cost_function(data_matrix, weight_matrix,\n",
    "                                            one_hot_vector_encodings)\\\n",
    "                                            +regularisation_parameter*np.sum(np.abs(weight_matrix))"
   ]
  },
  {
   "cell_type": "code",
   "execution_count": 291,
   "id": "amazing-alloy",
   "metadata": {
    "ExecuteTime": {
     "end_time": "2021-12-24T15:21:03.307447Z",
     "start_time": "2021-12-24T15:21:03.293449Z"
    },
    "deletable": false,
    "nbgrader": {
     "cell_type": "code",
     "checksum": "bb502bf713437946c1532dd9fc6c7515",
     "grade": false,
     "grade_id": "cell-Q2LASSOSolution3",
     "locked": false,
     "schema_version": 3,
     "solution": true,
     "task": false
    }
   },
   "outputs": [],
   "source": [
    "def proximal_gradient_descent(objective,\n",
    "                              gradient,\n",
    "                              proximal_map,\n",
    "                              initial_weights,\n",
    "                              step_size=1,\n",
    "                              no_of_iterations=1000,\n",
    "                              print_output=100):\n",
    "    # YOUR CODE HERE\n",
    "    objective_values = []\n",
    "    weights = initial_weights \n",
    "    objective_values.append(objective(weights)) \n",
    "    \n",
    "    for counter in range(no_of_iterations):\n",
    "        weights = proximal_map(weights - step_size * gradient(weights))\n",
    "        objective_values.append(objective(weights))\n",
    "        if (counter + 1) % print_output == 0:\n",
    "            print(\"Iteration {k}/{m}, objective = {o}.\".format(k=counter+1, \\\n",
    "                    m=no_of_iterations, o=objective_values[counter]))\n",
    "    print(\"Iteration completed after {k}/{m}, objective = {o}.\".format(k=counter + 1, \\\n",
    "                m=no_of_iterations, o=objective_values[counter]))\n",
    "    return weights, objective_values"
   ]
  },
  {
   "cell_type": "markdown",
   "id": "golden-learning",
   "metadata": {
    "deletable": false,
    "editable": false,
    "nbgrader": {
     "cell_type": "markdown",
     "checksum": "363fc6e68dc98174c0e788c2f072c431",
     "grade": false,
     "grade_id": "cell-Q2LASSOFunctionsmarking",
     "locked": true,
     "schema_version": 3,
     "solution": false,
     "task": false
    }
   },
   "source": [
    "Now test your functions with the following unit tests. Passing each test will be awarded with **1 mark**."
   ]
  },
  {
   "cell_type": "code",
   "execution_count": 292,
   "id": "difficult-cable",
   "metadata": {
    "ExecuteTime": {
     "end_time": "2021-12-24T15:21:50.171526Z",
     "start_time": "2021-12-24T15:21:50.151499Z"
    },
    "deletable": false,
    "editable": false,
    "nbgrader": {
     "cell_type": "code",
     "checksum": "972c678797560d57caa3b87d9d69b518",
     "grade": true,
     "grade_id": "cell-6ae0bed599bf57d1",
     "locked": true,
     "points": 1,
     "schema_version": 3,
     "solution": false,
     "task": false
    }
   },
   "outputs": [],
   "source": [
    "test_weight_matrix = np.array([[1, 2], [3, -4]])\n",
    "np.testing.assert_array_almost_equal(soft_thresholding(test_weight_matrix, 2),\n",
    "                                     np.array([[0, 0], [1, -2]]))"
   ]
  },
  {
   "cell_type": "code",
   "execution_count": 293,
   "id": "mature-daniel",
   "metadata": {
    "ExecuteTime": {
     "end_time": "2021-12-24T15:24:59.930177Z",
     "start_time": "2021-12-24T15:24:59.903521Z"
    },
    "deletable": false,
    "editable": false,
    "nbgrader": {
     "cell_type": "code",
     "checksum": "78936a55e6bb3fbf08d3f8c3ce6ba2a0",
     "grade": true,
     "grade_id": "cell-f1cfc764c5a776d3",
     "locked": true,
     "points": 1,
     "schema_version": 3,
     "solution": false,
     "task": false
    }
   },
   "outputs": [],
   "source": [
    "test_data_matrix = np.array([[6, 4, 5], [1, 2, 8], [-3, 3, 6], [6, 5, -100],\n",
    "                             [5, 7, 2]])\n",
    "test_weight_matrix = np.array([[2, 1, -2, -4], [2, -5, 1, 4], [-2, -3, -1,\n",
    "                                                               -2]])\n",
    "test_one_hot_vector_encoding = np.array([[1., 0., 0., 0.], [0., 0., 1., 0.],\n",
    "                                         [0., 0., 0., 1.], [0., 1., 0., 0.],\n",
    "                                         [1., 0., 0., 0.]])\n",
    "test_regularisation_parameter = 0.1\n",
    "np.testing.assert_almost_equal(\n",
    "    lasso_logistic_regression_cost_function(test_data_matrix,\n",
    "                                            test_weight_matrix,\n",
    "                                            test_one_hot_vector_encoding,\n",
    "                                            test_regularisation_parameter),\n",
    "    2.9286110286783553)"
   ]
  },
  {
   "cell_type": "code",
   "execution_count": 294,
   "id": "4f315a1f",
   "metadata": {},
   "outputs": [
    {
     "data": {
      "text/plain": [
       "True"
      ]
     },
     "execution_count": 294,
     "metadata": {},
     "output_type": "execute_result"
    }
   ],
   "source": [
    "lasso_logistic_regression_cost_function(test_data_matrix,\n",
    "                                            test_weight_matrix,\n",
    "                                            test_one_hot_vector_encoding,\n",
    "                                            test_regularisation_parameter)==2.9286110286783553"
   ]
  },
  {
   "cell_type": "markdown",
   "id": "collected-burns",
   "metadata": {
    "deletable": false,
    "editable": false,
    "nbgrader": {
     "cell_type": "markdown",
     "checksum": "c0c64d729bb9ef481d3c4c157b7196bd",
     "grade": false,
     "grade_id": "cell-Q2LASSOSetup",
     "locked": true,
     "schema_version": 3,
     "solution": false,
     "task": false
    }
   },
   "source": [
    "In the next cell, define a suitable objective function *GTZAN_LASSO_objective* and a suitable gradient function *GTZAN_LASSO_gradient*, both with argument *weight_matrix* and fixed *data_matrix* (equal to *GTZAN_data_matrix*) and *one_hot_vector_encodings* (equal to *GTZAN_OHV*) from the GTZAN dataset that you have used before, as well as a suitable proximal map function *GTZAN_proximal_map* with correctly chosen threshold. The threshold should be equal to the regularisation parameter multiplied by the gradient descent step-size. Take the step size equal to \n",
    "$$\n",
    "\\tau = \\frac{3.9\\cdot s}{\\left\\|\\mathbf{\\Phi\\left(X\\right)}\\right\\|^2},\n",
    "$$\n",
    "where $s$ is the number of data samples and $\\mathbf{\\Phi\\left(X\\right)}$ is a mathematical representation of the *GTZAN_data_matrix*. Take the regularisation parameter equal to\n",
    "$$\n",
    "\\alpha = 1e-4.\n",
    "$$"
   ]
  },
  {
   "cell_type": "code",
   "execution_count": 295,
   "id": "orange-deficit",
   "metadata": {
    "ExecuteTime": {
     "end_time": "2021-12-24T19:59:32.708827Z",
     "start_time": "2021-12-24T19:59:30.381050Z"
    },
    "deletable": false,
    "nbgrader": {
     "cell_type": "code",
     "checksum": "2db86f009e5910c1e7b6fe35004fff99",
     "grade": false,
     "grade_id": "cell-Q2LASSOSolution",
     "locked": false,
     "schema_version": 3,
     "solution": true,
     "task": false
    }
   },
   "outputs": [
    {
     "name": "stdout",
     "output_type": "stream",
     "text": [
      "Iteration 100/1000, objective = 1.0825816929822873.\n",
      "Iteration 200/1000, objective = 0.9188065638028398.\n",
      "Iteration 300/1000, objective = 0.8337438517624023.\n",
      "Iteration 400/1000, objective = 0.7787614112668056.\n",
      "Iteration 500/1000, objective = 0.7392524994112962.\n",
      "Iteration 600/1000, objective = 0.7089861854744982.\n",
      "Iteration 700/1000, objective = 0.6847639172736628.\n",
      "Iteration 800/1000, objective = 0.6647871984883271.\n",
      "Iteration 900/1000, objective = 0.6479213697436094.\n",
      "Iteration 1000/1000, objective = 0.6334014439684768.\n",
      "Iteration completed after 1000/1000, objective = 0.6334014439684768.\n"
     ]
    }
   ],
   "source": [
    "LASSO_regularisation_parameter = 1e-4\n",
    "# YOUR CODE HERE\n",
    "\n",
    "GTZAN_LASSO_objective=lambda weight_matrix:lasso_logistic_regression_cost_function(GTZAN_data_matrix,\n",
    "                                                                           weight_matrix,GTZAN_OHV,LASSO_regularisation_parameter)\n",
    "GTZAN_LASSO_gradient=lambda weight_matrix:multinomial_logistic_regression_gradient(GTZAN_data_matrix,\n",
    "                                                                           weight_matrix,GTZAN_OHV) \n",
    "                                                                           \n",
    "\n",
    "\n",
    "GTZAN_initial_weights=np.zeros((GTZAN_data_matrix.shape[1], GTZAN_OHV.shape[1]))\n",
    "\n",
    "s=GTZAN_data_matrix.shape[0]\n",
    "LASSO_step_size=(3.9*s)/np.linalg.norm(GTZAN_data_matrix)**2\n",
    "\n",
    "LASSO_threshold  = LASSO_regularisation_parameter*LASSO_step_size\n",
    "GTZAN_proximal_map =  lambda x: soft_thresholding(x, LASSO_threshold)\n",
    "\n",
    "GTZAN_LASSO_optimal_weights,GTZAN_LASSO_objective_values=proximal_gradient_descent(GTZAN_LASSO_objective, GTZAN_LASSO_gradient, \n",
    "                                                                       GTZAN_proximal_map,\n",
    "                                                                       GTZAN_initial_weights,\n",
    "                                                                       LASSO_step_size)\n",
    "\n"
   ]
  },
  {
   "cell_type": "markdown",
   "id": "whole-roller",
   "metadata": {
    "deletable": false,
    "editable": false,
    "nbgrader": {
     "cell_type": "markdown",
     "checksum": "e07b416f414cdcbaf72a1d45698158d8",
     "grade": false,
     "grade_id": "cell-Q2LASSOMarking",
     "locked": true,
     "schema_version": 3,
     "solution": false,
     "task": false
    }
   },
   "source": [
    "Now test your results with the following unit tests. Passing each test will be awarded with **1 mark**."
   ]
  },
  {
   "cell_type": "code",
   "execution_count": 296,
   "id": "latest-advertising",
   "metadata": {
    "ExecuteTime": {
     "end_time": "2021-12-24T20:01:49.524906Z",
     "start_time": "2021-12-24T20:01:49.510540Z"
    },
    "deletable": false,
    "editable": false,
    "nbgrader": {
     "cell_type": "code",
     "checksum": "141d83db401eba782f4d4d9f7218b1fe",
     "grade": true,
     "grade_id": "cell-Q2LASSOTest1",
     "locked": true,
     "points": 1,
     "schema_version": 3,
     "solution": false,
     "task": false
    }
   },
   "outputs": [],
   "source": [
    "np.testing.assert_almost_equal(GTZAN_LASSO_objective_values[-1],\n",
    "                               0.6332662161567008)"
   ]
  },
  {
   "cell_type": "code",
   "execution_count": 297,
   "id": "amino-patrick",
   "metadata": {
    "ExecuteTime": {
     "end_time": "2021-12-24T20:01:58.505215Z",
     "start_time": "2021-12-24T20:01:58.490254Z"
    },
    "deletable": false,
    "editable": false,
    "nbgrader": {
     "cell_type": "code",
     "checksum": "fa0b53edc441d909baddf5c5e2ce1e24",
     "grade": true,
     "grade_id": "cell-Q2LASSOTest2",
     "locked": true,
     "points": 1,
     "schema_version": 3,
     "solution": false,
     "task": false
    }
   },
   "outputs": [],
   "source": [
    "np.testing.assert_almost_equal(np.linalg.norm(GTZAN_LASSO_optimal_weights),\n",
    "                               6.521161728885989)"
   ]
  },
  {
   "cell_type": "code",
   "execution_count": 298,
   "id": "limited-cancellation",
   "metadata": {
    "ExecuteTime": {
     "end_time": "2021-12-24T16:54:07.143236Z",
     "start_time": "2021-12-24T16:54:07.131177Z"
    },
    "deletable": false,
    "nbgrader": {
     "cell_type": "code",
     "checksum": "5fa3cc2fd2fdb4de468ea019d2e8c614",
     "grade": false,
     "grade_id": "cell-Q2LASSOResults",
     "locked": false,
     "schema_version": 3,
     "solution": true,
     "task": false
    }
   },
   "outputs": [
    {
     "name": "stdout",
     "output_type": "stream",
     "text": [
      "The classification accuracy for the GTZAN dataset is 81.89999999999999 %.\n"
     ]
    }
   ],
   "source": [
    "# YOUR CODE HERE\n",
    "\n",
    "GTZAN_LASSO_recovered_labels = multinomial_prediction_function(GTZAN_data_matrix, GTZAN_LASSO_optimal_weights)\n",
    "GTZAN_LASSO_classification_accuracy = classification_accuracy(\n",
    "    GTZAN_labels, GTZAN_LASSO_recovered_labels)\n",
    "print(\"The classification accuracy for the GTZAN dataset is {p} %.\".format(\n",
    "    p=100 * GTZAN_LASSO_classification_accuracy))"
   ]
  },
  {
   "cell_type": "code",
   "execution_count": null,
   "id": "c6995e41",
   "metadata": {},
   "outputs": [],
   "source": []
  }
 ],
 "metadata": {
  "kernelspec": {
   "display_name": "Python 3",
   "language": "python",
   "name": "python3"
  },
  "language_info": {
   "codemirror_mode": {
    "name": "ipython",
    "version": 3
   },
   "file_extension": ".py",
   "mimetype": "text/x-python",
   "name": "python",
   "nbconvert_exporter": "python",
   "pygments_lexer": "ipython3",
   "version": "3.9.4"
  }
 },
 "nbformat": 4,
 "nbformat_minor": 5
}
